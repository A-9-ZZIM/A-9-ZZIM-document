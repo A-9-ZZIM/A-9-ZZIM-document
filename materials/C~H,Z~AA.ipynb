{
 "cells": [
  {
   "cell_type": "code",
   "execution_count": 3,
   "metadata": {},
   "outputs": [],
   "source": [
    "import pandas as pd"
   ]
  },
  {
   "cell_type": "code",
   "execution_count": 4,
   "metadata": {},
   "outputs": [],
   "source": [
    "df_17 = pd.read_csv('../PBL/dataset/NHIS_2017_2018_100m/NHIS_OPEN_GJ_2017_100.csv', encoding='euc-kr')\n",
    "\n",
    "df_18 = pd.read_csv('../PBL/dataset/NHIS_2017_2018_100m/NHIS_OPEN_GJ_2018_100.csv')"
   ]
  },
  {
   "cell_type": "code",
   "execution_count": 6,
   "metadata": {},
   "outputs": [
    {
     "name": "stdout",
     "output_type": "stream",
     "text": [
      "1    530410\n",
      "2    469590\n",
      "Name: 성별코드, dtype: int64\n",
      "1000000\n",
      "1    535600\n",
      "2    464400\n",
      "Name: 성별코드, dtype: int64\n",
      "1000000\n"
     ]
    }
   ],
   "source": [
    "vc_gender_17 = df_17['성별코드'].value_counts()\n",
    "print(vc_gender_17)\n",
    "print(sum(vc_gender_17))\n",
    "\n",
    "vc_gender_18 = df_18['성별코드'].value_counts()\n",
    "print(vc_gender_18)\n",
    "print(sum(vc_gender_18))\n",
    "\n",
    "# 성별코드 값 이탈 체크"
   ]
  },
  {
   "cell_type": "code",
   "execution_count": 7,
   "metadata": {},
   "outputs": [
    {
     "name": "stdout",
     "output_type": "stream",
     "text": [
      "5      22152\n",
      "6      64888\n",
      "7      78332\n",
      "8      85398\n",
      "9     131548\n",
      "10    119294\n",
      "11    130342\n",
      "12    111964\n",
      "13    106827\n",
      "14     53392\n",
      "15     51205\n",
      "16     25762\n",
      "17     15391\n",
      "18      3505\n",
      "Name: 연령대코드(5세단위), dtype: int64\n",
      "1000000\n",
      "5      21351\n",
      "6      65400\n",
      "7      77543\n",
      "8      87065\n",
      "9     122442\n",
      "10    115355\n",
      "11    131524\n",
      "12    111391\n",
      "13    107438\n",
      "14     58370\n",
      "15     53083\n",
      "16     28252\n",
      "17     16990\n",
      "18      3796\n",
      "Name: 연령대코드(5세단위), dtype: int64\n",
      "1000000\n"
     ]
    }
   ],
   "source": [
    "vc_age_17 = df_17['연령대코드(5세단위)'].value_counts()\n",
    "print(vc_age_17.sort_index())\n",
    "print(sum(vc_age_17))\n",
    "\n",
    "vc_age_18 = df_18['연령대코드(5세단위)'].value_counts()\n",
    "print(vc_age_18.sort_index())\n",
    "print(sum(vc_age_18))\n",
    "\n",
    "# 연령대코드 값 이탈 체크"
   ]
  },
  {
   "cell_type": "code",
   "execution_count": 36,
   "metadata": {},
   "outputs": [],
   "source": [
    "# vc_height_17 = df_17['신장(5Cm단위)'].value_counts()\n",
    "# print(vc_height_17.sort_index())\n",
    "# print(sum(vc_height_17))\n",
    "\n",
    "# vc_height_18 = df_18['신장(5Cm단위)'].value_counts()\n",
    "# print(vc_height_18.sort_index())\n",
    "# print(sum(vc_height_18))\n",
    "\n",
    "\n",
    "# 신장 값 이탈 체크"
   ]
  },
  {
   "cell_type": "code",
   "execution_count": 114,
   "metadata": {},
   "outputs": [
    {
     "name": "stdout",
     "output_type": "stream",
     "text": [
      "30        162\n",
      "35       2134\n",
      "40      16795\n",
      "45      62351\n",
      "50     123769\n",
      "55     148999\n",
      "60     150199\n",
      "65     141073\n",
      "70     123890\n",
      "75      92573\n",
      "80      60983\n",
      "85      35546\n",
      "90      19771\n",
      "95      10705\n",
      "100      5636\n",
      "105      2763\n",
      "110      1449\n",
      "115       681\n",
      "120       329\n",
      "125       123\n",
      "130        50\n",
      "135        19\n",
      "Name: 체중(5Kg단위), dtype: int64\n",
      "1000000\n"
     ]
    }
   ],
   "source": [
    "vc_weight = df['체중(5Kg단위)'].value_counts()\n",
    "print(vc_weight.sort_index())\n",
    "print(sum(vc_weight))\n",
    "\n",
    "# 체중 값 이탈 체크"
   ]
  },
  {
   "cell_type": "code",
   "execution_count": 115,
   "metadata": {},
   "outputs": [
    {
     "name": "stdout",
     "output_type": "stream",
     "text": [
      "1.0       1\n",
      "7.4       1\n",
      "8.6       1\n",
      "24.0      1\n",
      "26.5      1\n",
      "         ..\n",
      "135.0     4\n",
      "136.0     1\n",
      "139.0     1\n",
      "140.0     1\n",
      "999.0    13\n",
      "Name: 허리둘레, Length: 742, dtype: int64\n",
      "999586\n"
     ]
    }
   ],
   "source": [
    "vc_waist = df['허리둘레'].value_counts()\n",
    "print(vc_waist.sort_index())\n",
    "print(sum(vc_waist))\n",
    "\n",
    "# 허리둘레 값 이탈 체크\n",
    "# 2017.\n",
    "# 266개 누락\n",
    "# 입력된 값 중 57개의 값은 999.0 으로 invalid한 값을 가짐.\n",
    "# 입력되지 않은 값은 체중은 모든 Row에 입력되어있으니 체중에 따른 평균 허리둘레로 대체하는 것이 좋아보임\n",
    "\n",
    "# 2018.\n",
    "# 414개 누락\n",
    "# 13개의 999.0 invalid 값"
   ]
  },
  {
   "cell_type": "code",
   "execution_count": 116,
   "metadata": {},
   "outputs": [
    {
     "name": "stdout",
     "output_type": "stream",
     "text": [
      "1.0    607352\n",
      "2.0    178209\n",
      "3.0    214205\n",
      "Name: 흡연상태, dtype: int64\n",
      "999766\n"
     ]
    }
   ],
   "source": [
    "vc_smoke = df['흡연상태'].value_counts()\n",
    "print(vc_smoke.sort_index())\n",
    "print(sum(vc_smoke))\n",
    "\n",
    "# 흡연상태 값 이탈 체크\n",
    "# 2017) 144개의 값 누락\n",
    "# 2018) 234개의 값 누락"
   ]
  },
  {
   "cell_type": "code",
   "execution_count": 120,
   "metadata": {},
   "outputs": [
    {
     "name": "stdout",
     "output_type": "stream",
     "text": [
      "0.0    500439\n",
      "1.0    499025\n",
      "Name: 음주여부, dtype: int64\n",
      "999464\n"
     ]
    }
   ],
   "source": [
    "vc_drink = df['음주여부'].value_counts()\n",
    "print(vc_drink.sort_index())\n",
    "print(sum(vc_drink))\n",
    "\n",
    "# 음주여부 값 이탈 체크\n",
    "# 2017) 536개의 값이 입력되지 않았음\n",
    "# 2018) 354943개 누락(?) 이정도 누락이면 0 값을 가지는 것이 다 누락되었다고 봐도 될 정도"
   ]
  }
 ],
 "metadata": {
  "kernelspec": {
   "display_name": "Python 3",
   "language": "python",
   "name": "python3"
  },
  "language_info": {
   "codemirror_mode": {
    "name": "ipython",
    "version": 3
   },
   "file_extension": ".py",
   "mimetype": "text/x-python",
   "name": "python",
   "nbconvert_exporter": "python",
   "pygments_lexer": "ipython3",
   "version": "3.8.5"
  }
 },
 "nbformat": 4,
 "nbformat_minor": 4
}
