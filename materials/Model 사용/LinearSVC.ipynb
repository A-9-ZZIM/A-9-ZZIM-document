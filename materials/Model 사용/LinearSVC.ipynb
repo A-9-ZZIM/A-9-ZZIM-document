{
 "cells": [
  {
   "cell_type": "code",
   "execution_count": 1,
   "id": "aedf8bd6",
   "metadata": {},
   "outputs": [],
   "source": [
    "import pandas as pd\n",
    "import numpy as np\n",
    "from scipy import stats\n",
    "from sklearn import metrics\n",
    "import mglearn\n",
    "import math\n",
    "\n",
    "# matplotlit and seaborn for visualizations\n",
    "import matplotlib.pyplot as plt\n",
    "# plt.rcParams['font.size'] = 22\n",
    "import seaborn as sns\n",
    "\n",
    "# Suppress warnings from pandas\n",
    "import warnings\n",
    "warnings.filterwarnings('ignore')\n",
    "\n",
    "# utilities\n",
    "from sklearn.model_selection import train_test_split\n",
    "from sklearn.preprocessing import LabelEncoder\n",
    "sns.set_style(\"darkgrid\")\n",
    "# memory management\n",
    "import gc"
   ]
  },
  {
   "cell_type": "code",
   "execution_count": 2,
   "id": "77008bb0",
   "metadata": {},
   "outputs": [],
   "source": [
    "import os\n",
    "# 운영체제별 한글 폰트 설정\n",
    "if os.name == 'posix': # Mac 환경 폰트 설정\n",
    "    plt.rc('font', family='AppleGothic')\n",
    "elif os.name == 'nt': # Windows 환경 폰트 설정\n",
    "    plt.rc('font', family='Malgun Gothic')\n",
    "\n",
    "plt.rc('axes', unicode_minus=False) # 마이너스 폰트 설정\n",
    "\n",
    "\n",
    "# 글씨 선명하게 출력하는 설정\n",
    "%config InlineBackend.figure_format = 'retina'"
   ]
  },
  {
   "cell_type": "code",
   "execution_count": 28,
   "id": "d873c44a",
   "metadata": {},
   "outputs": [
    {
     "data": {
      "text/html": [
       "<div>\n",
       "<style scoped>\n",
       "    .dataframe tbody tr th:only-of-type {\n",
       "        vertical-align: middle;\n",
       "    }\n",
       "\n",
       "    .dataframe tbody tr th {\n",
       "        vertical-align: top;\n",
       "    }\n",
       "\n",
       "    .dataframe thead th {\n",
       "        text-align: right;\n",
       "    }\n",
       "</style>\n",
       "<table border=\"1\" class=\"dataframe\">\n",
       "  <thead>\n",
       "    <tr style=\"text-align: right;\">\n",
       "      <th></th>\n",
       "      <th>성별코드</th>\n",
       "      <th>연령대코드(5세단위)</th>\n",
       "      <th>신장(5Cm단위)</th>\n",
       "      <th>체중(5Kg단위)</th>\n",
       "      <th>허리둘레</th>\n",
       "      <th>시력(좌)</th>\n",
       "      <th>시력(우)</th>\n",
       "      <th>청력(좌)</th>\n",
       "      <th>청력(우)</th>\n",
       "      <th>수축기혈압</th>\n",
       "      <th>...</th>\n",
       "      <th>혈색소</th>\n",
       "      <th>요단백</th>\n",
       "      <th>혈청크레아티닌</th>\n",
       "      <th>(혈청지오티)AST</th>\n",
       "      <th>(혈청지오티)ALT</th>\n",
       "      <th>감마지티피</th>\n",
       "      <th>흡연상태</th>\n",
       "      <th>음주여부</th>\n",
       "      <th>당뇨여부</th>\n",
       "      <th>BMI</th>\n",
       "    </tr>\n",
       "  </thead>\n",
       "  <tbody>\n",
       "    <tr>\n",
       "      <th>0</th>\n",
       "      <td>1</td>\n",
       "      <td>8</td>\n",
       "      <td>170</td>\n",
       "      <td>75</td>\n",
       "      <td>90.0</td>\n",
       "      <td>1.0</td>\n",
       "      <td>1.0</td>\n",
       "      <td>1.0</td>\n",
       "      <td>1.0</td>\n",
       "      <td>120.0</td>\n",
       "      <td>...</td>\n",
       "      <td>17.1</td>\n",
       "      <td>1.0</td>\n",
       "      <td>1.0</td>\n",
       "      <td>21.0</td>\n",
       "      <td>35.0</td>\n",
       "      <td>40.0</td>\n",
       "      <td>1.0</td>\n",
       "      <td>1.0</td>\n",
       "      <td>0.0</td>\n",
       "      <td>26.0</td>\n",
       "    </tr>\n",
       "    <tr>\n",
       "      <th>1</th>\n",
       "      <td>1</td>\n",
       "      <td>7</td>\n",
       "      <td>180</td>\n",
       "      <td>80</td>\n",
       "      <td>89.0</td>\n",
       "      <td>0.9</td>\n",
       "      <td>1.2</td>\n",
       "      <td>1.0</td>\n",
       "      <td>1.0</td>\n",
       "      <td>130.0</td>\n",
       "      <td>...</td>\n",
       "      <td>15.8</td>\n",
       "      <td>1.0</td>\n",
       "      <td>0.9</td>\n",
       "      <td>20.0</td>\n",
       "      <td>36.0</td>\n",
       "      <td>27.0</td>\n",
       "      <td>3.0</td>\n",
       "      <td>0.0</td>\n",
       "      <td>0.0</td>\n",
       "      <td>25.0</td>\n",
       "    </tr>\n",
       "    <tr>\n",
       "      <th>2</th>\n",
       "      <td>1</td>\n",
       "      <td>9</td>\n",
       "      <td>165</td>\n",
       "      <td>75</td>\n",
       "      <td>91.0</td>\n",
       "      <td>1.2</td>\n",
       "      <td>1.5</td>\n",
       "      <td>1.0</td>\n",
       "      <td>1.0</td>\n",
       "      <td>120.0</td>\n",
       "      <td>...</td>\n",
       "      <td>15.8</td>\n",
       "      <td>1.0</td>\n",
       "      <td>0.9</td>\n",
       "      <td>47.0</td>\n",
       "      <td>32.0</td>\n",
       "      <td>68.0</td>\n",
       "      <td>1.0</td>\n",
       "      <td>0.0</td>\n",
       "      <td>0.0</td>\n",
       "      <td>28.0</td>\n",
       "    </tr>\n",
       "    <tr>\n",
       "      <th>3</th>\n",
       "      <td>1</td>\n",
       "      <td>11</td>\n",
       "      <td>175</td>\n",
       "      <td>80</td>\n",
       "      <td>91.0</td>\n",
       "      <td>1.5</td>\n",
       "      <td>1.2</td>\n",
       "      <td>1.0</td>\n",
       "      <td>1.0</td>\n",
       "      <td>145.0</td>\n",
       "      <td>...</td>\n",
       "      <td>17.6</td>\n",
       "      <td>1.0</td>\n",
       "      <td>1.1</td>\n",
       "      <td>29.0</td>\n",
       "      <td>34.0</td>\n",
       "      <td>18.0</td>\n",
       "      <td>1.0</td>\n",
       "      <td>0.0</td>\n",
       "      <td>0.0</td>\n",
       "      <td>26.0</td>\n",
       "    </tr>\n",
       "    <tr>\n",
       "      <th>4</th>\n",
       "      <td>1</td>\n",
       "      <td>11</td>\n",
       "      <td>165</td>\n",
       "      <td>60</td>\n",
       "      <td>80.0</td>\n",
       "      <td>1.0</td>\n",
       "      <td>1.2</td>\n",
       "      <td>1.0</td>\n",
       "      <td>1.0</td>\n",
       "      <td>138.0</td>\n",
       "      <td>...</td>\n",
       "      <td>13.8</td>\n",
       "      <td>1.0</td>\n",
       "      <td>0.8</td>\n",
       "      <td>19.0</td>\n",
       "      <td>12.0</td>\n",
       "      <td>25.0</td>\n",
       "      <td>1.0</td>\n",
       "      <td>0.0</td>\n",
       "      <td>0.0</td>\n",
       "      <td>22.0</td>\n",
       "    </tr>\n",
       "    <tr>\n",
       "      <th>...</th>\n",
       "      <td>...</td>\n",
       "      <td>...</td>\n",
       "      <td>...</td>\n",
       "      <td>...</td>\n",
       "      <td>...</td>\n",
       "      <td>...</td>\n",
       "      <td>...</td>\n",
       "      <td>...</td>\n",
       "      <td>...</td>\n",
       "      <td>...</td>\n",
       "      <td>...</td>\n",
       "      <td>...</td>\n",
       "      <td>...</td>\n",
       "      <td>...</td>\n",
       "      <td>...</td>\n",
       "      <td>...</td>\n",
       "      <td>...</td>\n",
       "      <td>...</td>\n",
       "      <td>...</td>\n",
       "      <td>...</td>\n",
       "      <td>...</td>\n",
       "    </tr>\n",
       "    <tr>\n",
       "      <th>1180115</th>\n",
       "      <td>1</td>\n",
       "      <td>13</td>\n",
       "      <td>165</td>\n",
       "      <td>65</td>\n",
       "      <td>84.0</td>\n",
       "      <td>0.9</td>\n",
       "      <td>1.2</td>\n",
       "      <td>1.0</td>\n",
       "      <td>1.0</td>\n",
       "      <td>160.0</td>\n",
       "      <td>...</td>\n",
       "      <td>15.2</td>\n",
       "      <td>1.0</td>\n",
       "      <td>1.0</td>\n",
       "      <td>34.0</td>\n",
       "      <td>12.0</td>\n",
       "      <td>78.0</td>\n",
       "      <td>1.0</td>\n",
       "      <td>1.0</td>\n",
       "      <td>0.0</td>\n",
       "      <td>24.0</td>\n",
       "    </tr>\n",
       "    <tr>\n",
       "      <th>1180116</th>\n",
       "      <td>1</td>\n",
       "      <td>8</td>\n",
       "      <td>180</td>\n",
       "      <td>65</td>\n",
       "      <td>77.0</td>\n",
       "      <td>1.2</td>\n",
       "      <td>1.2</td>\n",
       "      <td>1.0</td>\n",
       "      <td>1.0</td>\n",
       "      <td>123.0</td>\n",
       "      <td>...</td>\n",
       "      <td>15.9</td>\n",
       "      <td>1.0</td>\n",
       "      <td>1.0</td>\n",
       "      <td>11.0</td>\n",
       "      <td>8.0</td>\n",
       "      <td>15.0</td>\n",
       "      <td>3.0</td>\n",
       "      <td>1.0</td>\n",
       "      <td>0.0</td>\n",
       "      <td>20.0</td>\n",
       "    </tr>\n",
       "    <tr>\n",
       "      <th>1180117</th>\n",
       "      <td>2</td>\n",
       "      <td>14</td>\n",
       "      <td>155</td>\n",
       "      <td>55</td>\n",
       "      <td>83.0</td>\n",
       "      <td>0.2</td>\n",
       "      <td>0.6</td>\n",
       "      <td>1.0</td>\n",
       "      <td>1.0</td>\n",
       "      <td>146.0</td>\n",
       "      <td>...</td>\n",
       "      <td>12.4</td>\n",
       "      <td>1.0</td>\n",
       "      <td>0.7</td>\n",
       "      <td>21.0</td>\n",
       "      <td>15.0</td>\n",
       "      <td>23.0</td>\n",
       "      <td>1.0</td>\n",
       "      <td>0.0</td>\n",
       "      <td>0.0</td>\n",
       "      <td>23.0</td>\n",
       "    </tr>\n",
       "    <tr>\n",
       "      <th>1180118</th>\n",
       "      <td>2</td>\n",
       "      <td>14</td>\n",
       "      <td>155</td>\n",
       "      <td>55</td>\n",
       "      <td>84.0</td>\n",
       "      <td>0.9</td>\n",
       "      <td>1.2</td>\n",
       "      <td>1.0</td>\n",
       "      <td>1.0</td>\n",
       "      <td>130.0</td>\n",
       "      <td>...</td>\n",
       "      <td>12.9</td>\n",
       "      <td>1.0</td>\n",
       "      <td>0.8</td>\n",
       "      <td>29.0</td>\n",
       "      <td>14.0</td>\n",
       "      <td>19.0</td>\n",
       "      <td>1.0</td>\n",
       "      <td>0.0</td>\n",
       "      <td>0.0</td>\n",
       "      <td>23.0</td>\n",
       "    </tr>\n",
       "    <tr>\n",
       "      <th>1180119</th>\n",
       "      <td>1</td>\n",
       "      <td>13</td>\n",
       "      <td>160</td>\n",
       "      <td>70</td>\n",
       "      <td>88.5</td>\n",
       "      <td>1.2</td>\n",
       "      <td>1.0</td>\n",
       "      <td>1.0</td>\n",
       "      <td>1.0</td>\n",
       "      <td>134.0</td>\n",
       "      <td>...</td>\n",
       "      <td>16.1</td>\n",
       "      <td>1.0</td>\n",
       "      <td>1.1</td>\n",
       "      <td>30.0</td>\n",
       "      <td>23.0</td>\n",
       "      <td>53.0</td>\n",
       "      <td>2.0</td>\n",
       "      <td>1.0</td>\n",
       "      <td>0.0</td>\n",
       "      <td>27.0</td>\n",
       "    </tr>\n",
       "  </tbody>\n",
       "</table>\n",
       "<p>1180120 rows × 26 columns</p>\n",
       "</div>"
      ],
      "text/plain": [
       "         성별코드  연령대코드(5세단위)  신장(5Cm단위)  체중(5Kg단위)  허리둘레  시력(좌)  시력(우)  청력(좌)  \\\n",
       "0           1            8        170         75  90.0    1.0    1.0    1.0   \n",
       "1           1            7        180         80  89.0    0.9    1.2    1.0   \n",
       "2           1            9        165         75  91.0    1.2    1.5    1.0   \n",
       "3           1           11        175         80  91.0    1.5    1.2    1.0   \n",
       "4           1           11        165         60  80.0    1.0    1.2    1.0   \n",
       "...       ...          ...        ...        ...   ...    ...    ...    ...   \n",
       "1180115     1           13        165         65  84.0    0.9    1.2    1.0   \n",
       "1180116     1            8        180         65  77.0    1.2    1.2    1.0   \n",
       "1180117     2           14        155         55  83.0    0.2    0.6    1.0   \n",
       "1180118     2           14        155         55  84.0    0.9    1.2    1.0   \n",
       "1180119     1           13        160         70  88.5    1.2    1.0    1.0   \n",
       "\n",
       "         청력(우)  수축기혈압  ...   혈색소  요단백  혈청크레아티닌  (혈청지오티)AST  (혈청지오티)ALT  감마지티피  \\\n",
       "0          1.0  120.0  ...  17.1  1.0      1.0        21.0        35.0   40.0   \n",
       "1          1.0  130.0  ...  15.8  1.0      0.9        20.0        36.0   27.0   \n",
       "2          1.0  120.0  ...  15.8  1.0      0.9        47.0        32.0   68.0   \n",
       "3          1.0  145.0  ...  17.6  1.0      1.1        29.0        34.0   18.0   \n",
       "4          1.0  138.0  ...  13.8  1.0      0.8        19.0        12.0   25.0   \n",
       "...        ...    ...  ...   ...  ...      ...         ...         ...    ...   \n",
       "1180115    1.0  160.0  ...  15.2  1.0      1.0        34.0        12.0   78.0   \n",
       "1180116    1.0  123.0  ...  15.9  1.0      1.0        11.0         8.0   15.0   \n",
       "1180117    1.0  146.0  ...  12.4  1.0      0.7        21.0        15.0   23.0   \n",
       "1180118    1.0  130.0  ...  12.9  1.0      0.8        29.0        14.0   19.0   \n",
       "1180119    1.0  134.0  ...  16.1  1.0      1.1        30.0        23.0   53.0   \n",
       "\n",
       "         흡연상태  음주여부  당뇨여부   BMI  \n",
       "0         1.0   1.0   0.0  26.0  \n",
       "1         3.0   0.0   0.0  25.0  \n",
       "2         1.0   0.0   0.0  28.0  \n",
       "3         1.0   0.0   0.0  26.0  \n",
       "4         1.0   0.0   0.0  22.0  \n",
       "...       ...   ...   ...   ...  \n",
       "1180115   1.0   1.0   0.0  24.0  \n",
       "1180116   3.0   1.0   0.0  20.0  \n",
       "1180117   1.0   0.0   0.0  23.0  \n",
       "1180118   1.0   0.0   0.0  23.0  \n",
       "1180119   2.0   1.0   0.0  27.0  \n",
       "\n",
       "[1180120 rows x 26 columns]"
      ]
     },
     "execution_count": 28,
     "metadata": {},
     "output_type": "execute_result"
    }
   ],
   "source": [
    "data = pd.read_csv(\"dataset2.csv\")\n",
    "data"
   ]
  },
  {
   "cell_type": "code",
   "execution_count": 29,
   "id": "372df0b6",
   "metadata": {},
   "outputs": [
    {
     "data": {
      "text/plain": [
       "Index(['성별코드', '연령대코드(5세단위)', '신장(5Cm단위)', '체중(5Kg단위)', '허리둘레', '시력(좌)',\n",
       "       '시력(우)', '청력(좌)', '청력(우)', '수축기혈압', '이완기혈압', '식전혈당(공복혈당)', '총콜레스테롤',\n",
       "       '트리글리세라이드', 'HDL콜레스테롤', 'LDL콜레스테롤', '혈색소', '요단백', '혈청크레아티닌',\n",
       "       '(혈청지오티)AST', '(혈청지오티)ALT', '감마지티피', '흡연상태', '음주여부', '당뇨여부', 'BMI'],\n",
       "      dtype='object')"
      ]
     },
     "execution_count": 29,
     "metadata": {},
     "output_type": "execute_result"
    }
   ],
   "source": [
    "data.columns"
   ]
  },
  {
   "cell_type": "code",
   "execution_count": 30,
   "id": "62f2773a",
   "metadata": {},
   "outputs": [],
   "source": [
    "def plot_model(model):\n",
    "    n_features = len(X.columns)\n",
    "    feature_names = X.columns\n",
    "    plt.figure(figsize = (10,8))\n",
    "    plt.barh(np.arange(n_features), model.feature_importances_, align=\"center\")\n",
    "    plt.yticks(np.arange(n_features), feature_names)\n",
    "    plt.xlabel(\"특성 중요도\")\n",
    "    plt.ylabel(\"특성\")\n",
    "    plt.ylim(-1, n_features)"
   ]
  },
  {
   "cell_type": "markdown",
   "id": "a5e220b9",
   "metadata": {},
   "source": [
    "허연감 필수\n",
    "(트리글리세라이드, LDL콜레스테롤, 수축기혈압, 이완기혈압, 혈청지오티, BMI) 1~2개 선택"
   ]
  },
  {
   "cell_type": "code",
   "execution_count": 31,
   "id": "1d600994",
   "metadata": {},
   "outputs": [
    {
     "data": {
      "text/html": [
       "<div>\n",
       "<style scoped>\n",
       "    .dataframe tbody tr th:only-of-type {\n",
       "        vertical-align: middle;\n",
       "    }\n",
       "\n",
       "    .dataframe tbody tr th {\n",
       "        vertical-align: top;\n",
       "    }\n",
       "\n",
       "    .dataframe thead th {\n",
       "        text-align: right;\n",
       "    }\n",
       "</style>\n",
       "<table border=\"1\" class=\"dataframe\">\n",
       "  <thead>\n",
       "    <tr style=\"text-align: right;\">\n",
       "      <th></th>\n",
       "      <th>허리둘레</th>\n",
       "      <th>연령대코드(5세단위)</th>\n",
       "      <th>감마지티피</th>\n",
       "      <th>트리글리세라이드</th>\n",
       "      <th>LDL콜레스테롤</th>\n",
       "      <th>수축기혈압</th>\n",
       "      <th>이완기혈압</th>\n",
       "      <th>(혈청지오티)AST</th>\n",
       "      <th>(혈청지오티)ALT</th>\n",
       "      <th>BMI</th>\n",
       "    </tr>\n",
       "  </thead>\n",
       "  <tbody>\n",
       "    <tr>\n",
       "      <th>0</th>\n",
       "      <td>90.0</td>\n",
       "      <td>8</td>\n",
       "      <td>40.0</td>\n",
       "      <td>92.0</td>\n",
       "      <td>126.0</td>\n",
       "      <td>120.0</td>\n",
       "      <td>80.0</td>\n",
       "      <td>21.0</td>\n",
       "      <td>35.0</td>\n",
       "      <td>26.0</td>\n",
       "    </tr>\n",
       "    <tr>\n",
       "      <th>1</th>\n",
       "      <td>89.0</td>\n",
       "      <td>7</td>\n",
       "      <td>27.0</td>\n",
       "      <td>121.0</td>\n",
       "      <td>148.0</td>\n",
       "      <td>130.0</td>\n",
       "      <td>82.0</td>\n",
       "      <td>20.0</td>\n",
       "      <td>36.0</td>\n",
       "      <td>25.0</td>\n",
       "    </tr>\n",
       "    <tr>\n",
       "      <th>2</th>\n",
       "      <td>91.0</td>\n",
       "      <td>9</td>\n",
       "      <td>68.0</td>\n",
       "      <td>104.0</td>\n",
       "      <td>74.0</td>\n",
       "      <td>120.0</td>\n",
       "      <td>70.0</td>\n",
       "      <td>47.0</td>\n",
       "      <td>32.0</td>\n",
       "      <td>28.0</td>\n",
       "    </tr>\n",
       "    <tr>\n",
       "      <th>3</th>\n",
       "      <td>91.0</td>\n",
       "      <td>11</td>\n",
       "      <td>18.0</td>\n",
       "      <td>106.0</td>\n",
       "      <td>104.0</td>\n",
       "      <td>145.0</td>\n",
       "      <td>87.0</td>\n",
       "      <td>29.0</td>\n",
       "      <td>34.0</td>\n",
       "      <td>26.0</td>\n",
       "    </tr>\n",
       "    <tr>\n",
       "      <th>4</th>\n",
       "      <td>80.0</td>\n",
       "      <td>11</td>\n",
       "      <td>25.0</td>\n",
       "      <td>104.0</td>\n",
       "      <td>117.0</td>\n",
       "      <td>138.0</td>\n",
       "      <td>82.0</td>\n",
       "      <td>19.0</td>\n",
       "      <td>12.0</td>\n",
       "      <td>22.0</td>\n",
       "    </tr>\n",
       "    <tr>\n",
       "      <th>...</th>\n",
       "      <td>...</td>\n",
       "      <td>...</td>\n",
       "      <td>...</td>\n",
       "      <td>...</td>\n",
       "      <td>...</td>\n",
       "      <td>...</td>\n",
       "      <td>...</td>\n",
       "      <td>...</td>\n",
       "      <td>...</td>\n",
       "      <td>...</td>\n",
       "    </tr>\n",
       "    <tr>\n",
       "      <th>1180115</th>\n",
       "      <td>84.0</td>\n",
       "      <td>13</td>\n",
       "      <td>78.0</td>\n",
       "      <td>85.0</td>\n",
       "      <td>140.0</td>\n",
       "      <td>160.0</td>\n",
       "      <td>90.0</td>\n",
       "      <td>34.0</td>\n",
       "      <td>12.0</td>\n",
       "      <td>24.0</td>\n",
       "    </tr>\n",
       "    <tr>\n",
       "      <th>1180116</th>\n",
       "      <td>77.0</td>\n",
       "      <td>8</td>\n",
       "      <td>15.0</td>\n",
       "      <td>139.0</td>\n",
       "      <td>60.0</td>\n",
       "      <td>123.0</td>\n",
       "      <td>89.0</td>\n",
       "      <td>11.0</td>\n",
       "      <td>8.0</td>\n",
       "      <td>20.0</td>\n",
       "    </tr>\n",
       "    <tr>\n",
       "      <th>1180117</th>\n",
       "      <td>83.0</td>\n",
       "      <td>14</td>\n",
       "      <td>23.0</td>\n",
       "      <td>122.0</td>\n",
       "      <td>148.0</td>\n",
       "      <td>146.0</td>\n",
       "      <td>69.0</td>\n",
       "      <td>21.0</td>\n",
       "      <td>15.0</td>\n",
       "      <td>23.0</td>\n",
       "    </tr>\n",
       "    <tr>\n",
       "      <th>1180118</th>\n",
       "      <td>84.0</td>\n",
       "      <td>14</td>\n",
       "      <td>19.0</td>\n",
       "      <td>173.0</td>\n",
       "      <td>148.0</td>\n",
       "      <td>130.0</td>\n",
       "      <td>80.0</td>\n",
       "      <td>29.0</td>\n",
       "      <td>14.0</td>\n",
       "      <td>23.0</td>\n",
       "    </tr>\n",
       "    <tr>\n",
       "      <th>1180119</th>\n",
       "      <td>88.5</td>\n",
       "      <td>13</td>\n",
       "      <td>53.0</td>\n",
       "      <td>214.0</td>\n",
       "      <td>63.0</td>\n",
       "      <td>134.0</td>\n",
       "      <td>96.0</td>\n",
       "      <td>30.0</td>\n",
       "      <td>23.0</td>\n",
       "      <td>27.0</td>\n",
       "    </tr>\n",
       "  </tbody>\n",
       "</table>\n",
       "<p>1180120 rows × 10 columns</p>\n",
       "</div>"
      ],
      "text/plain": [
       "         허리둘레  연령대코드(5세단위)  감마지티피  트리글리세라이드  LDL콜레스테롤  수축기혈압  이완기혈압  \\\n",
       "0        90.0            8   40.0      92.0     126.0  120.0   80.0   \n",
       "1        89.0            7   27.0     121.0     148.0  130.0   82.0   \n",
       "2        91.0            9   68.0     104.0      74.0  120.0   70.0   \n",
       "3        91.0           11   18.0     106.0     104.0  145.0   87.0   \n",
       "4        80.0           11   25.0     104.0     117.0  138.0   82.0   \n",
       "...       ...          ...    ...       ...       ...    ...    ...   \n",
       "1180115  84.0           13   78.0      85.0     140.0  160.0   90.0   \n",
       "1180116  77.0            8   15.0     139.0      60.0  123.0   89.0   \n",
       "1180117  83.0           14   23.0     122.0     148.0  146.0   69.0   \n",
       "1180118  84.0           14   19.0     173.0     148.0  130.0   80.0   \n",
       "1180119  88.5           13   53.0     214.0      63.0  134.0   96.0   \n",
       "\n",
       "         (혈청지오티)AST  (혈청지오티)ALT   BMI  \n",
       "0              21.0        35.0  26.0  \n",
       "1              20.0        36.0  25.0  \n",
       "2              47.0        32.0  28.0  \n",
       "3              29.0        34.0  26.0  \n",
       "4              19.0        12.0  22.0  \n",
       "...             ...         ...   ...  \n",
       "1180115        34.0        12.0  24.0  \n",
       "1180116        11.0         8.0  20.0  \n",
       "1180117        21.0        15.0  23.0  \n",
       "1180118        29.0        14.0  23.0  \n",
       "1180119        30.0        23.0  27.0  \n",
       "\n",
       "[1180120 rows x 10 columns]"
      ]
     },
     "execution_count": 31,
     "metadata": {},
     "output_type": "execute_result"
    }
   ],
   "source": [
    "X = data[['허리둘레','연령대코드(5세단위)','감마지티피','트리글리세라이드','LDL콜레스테롤','수축기혈압','이완기혈압','(혈청지오티)AST', '(혈청지오티)ALT','BMI']]\n",
    "X"
   ]
  },
  {
   "cell_type": "code",
   "execution_count": 32,
   "id": "359c88c5",
   "metadata": {},
   "outputs": [
    {
     "data": {
      "text/plain": [
       "0          0.0\n",
       "1          0.0\n",
       "2          0.0\n",
       "3          0.0\n",
       "4          0.0\n",
       "          ... \n",
       "1180115    0.0\n",
       "1180116    0.0\n",
       "1180117    0.0\n",
       "1180118    0.0\n",
       "1180119    0.0\n",
       "Name: 당뇨여부, Length: 1180120, dtype: float64"
      ]
     },
     "execution_count": 32,
     "metadata": {},
     "output_type": "execute_result"
    }
   ],
   "source": [
    "y = data['당뇨여부']\n",
    "y"
   ]
  },
  {
   "cell_type": "code",
   "execution_count": 33,
   "id": "e82423d3",
   "metadata": {},
   "outputs": [
    {
     "data": {
      "text/plain": [
       "46579"
      ]
     },
     "execution_count": 33,
     "metadata": {},
     "output_type": "execute_result"
    }
   ],
   "source": [
    "sum(y == 1)"
   ]
  },
  {
   "cell_type": "code",
   "execution_count": 34,
   "id": "5b3b4627",
   "metadata": {},
   "outputs": [],
   "source": [
    "X_train, X_test, y_train, y_test = train_test_split(X,y,stratify=y,test_size=0.2, random_state=42)"
   ]
  },
  {
   "cell_type": "code",
   "execution_count": 38,
   "id": "4dac72cf",
   "metadata": {},
   "outputs": [
    {
     "data": {
      "text/plain": [
       "37263.0"
      ]
     },
     "execution_count": 38,
     "metadata": {},
     "output_type": "execute_result"
    }
   ],
   "source": [
    "y_train.sum()"
   ]
  },
  {
   "cell_type": "code",
   "execution_count": 39,
   "id": "6c837354",
   "metadata": {},
   "outputs": [],
   "source": [
    "def plot_model2(model):\n",
    "    n_features = len(X.columns)\n",
    "    feature_names = X.columns\n",
    "    \n",
    "    plt.figure(figsize = (10,8))\n",
    "    coef = model.coef_.reshape(-1,)\n",
    "    plt.barh(np.arange(n_features),coef, align=\"center\")\n",
    "    plt.yticks(np.arange(n_features), feature_names)\n",
    "    plt.xlabel(\"특성 중요도\")\n",
    "    plt.ylabel(\"특성\")\n",
    "    plt.ylim(-1, n_features)"
   ]
  },
  {
   "cell_type": "markdown",
   "id": "8d174429",
   "metadata": {},
   "source": [
    "## linearSVC (support vector classifier)"
   ]
  },
  {
   "cell_type": "markdown",
   "id": "fada6aa6",
   "metadata": {},
   "source": [
    "C 작을수록 훈련이 덜 복잡해서 강한 규제"
   ]
  },
  {
   "cell_type": "code",
   "execution_count": 9,
   "id": "ebb0ef05",
   "metadata": {},
   "outputs": [],
   "source": [
    "from sklearn.svm import LinearSVC"
   ]
  },
  {
   "cell_type": "code",
   "execution_count": 139,
   "id": "84d63107",
   "metadata": {},
   "outputs": [],
   "source": [
    "SVC01 = LinearSVC(C=0.1).fit(X_train, y_train)"
   ]
  },
  {
   "cell_type": "code",
   "execution_count": 140,
   "id": "3b05a45b",
   "metadata": {},
   "outputs": [],
   "source": [
    "SVC = LinearSVC(C=1).fit(X_train, y_train)"
   ]
  },
  {
   "cell_type": "code",
   "execution_count": 141,
   "id": "c4170d16",
   "metadata": {},
   "outputs": [],
   "source": [
    "SVC10 = LinearSVC(C=10).fit(X_train, y_train)"
   ]
  },
  {
   "cell_type": "code",
   "execution_count": 142,
   "id": "5a451191",
   "metadata": {},
   "outputs": [],
   "source": [
    "SVC001 = LinearSVC(C=0.01).fit(X_train, y_train)"
   ]
  },
  {
   "cell_type": "code",
   "execution_count": 143,
   "id": "4db81feb",
   "metadata": {},
   "outputs": [
    {
     "data": {
      "text/plain": [
       "<matplotlib.legend.Legend at 0x14bf78d90>"
      ]
     },
     "execution_count": 143,
     "metadata": {},
     "output_type": "execute_result"
    },
    {
     "data": {
      "image/png": "[encoded data removed]",
      "text/plain": [
       "<Figure size 432x288 with 1 Axes>"
      ]
     },
     "metadata": {
      "image/png": {
       "height": 335,
       "width": 391
      }
     },
     "output_type": "display_data"
    }
   ],
   "source": [
    "plt.plot(SVC001.coef_.T, '*',label=\"C=0.01\")\n",
    "plt.plot(SVC01.coef_.T, 'v',label=\"C=0.1\")\n",
    "plt.plot(SVC.coef_.T, 'o',label=\"C=1\")\n",
    "plt.plot(SVC10.coef_.T, '^',label=\"C=10\")\n",
    "\n",
    "plt.xticks(range(len(X.columns)),X.columns,rotation=90)\n",
    "xlims = plt.xlim()\n",
    "plt.hlines(0,xlims[0],xlims[1])\n",
    "plt.legend()"
   ]
  },
  {
   "cell_type": "code",
   "execution_count": 144,
   "id": "e89e6736",
   "metadata": {},
   "outputs": [
    {
     "name": "stdout",
     "output_type": "stream",
     "text": [
      "C001\n",
      "TrainSet accuarcy : 0.960535793\n",
      "TestSet accuarcy : 0.960508253\n",
      "\n",
      "C01\n",
      "TrainSet accuarcy : 0.960535793\n",
      "TestSet accuarcy : 0.960508253\n",
      "\n",
      "C1\n",
      "TrainSet accuarcy : 0.960535793\n",
      "TestSet accuarcy : 0.960508253\n",
      "\n",
      "C10\n",
      "TrainSet accuarcy : 0.960535793\n",
      "TestSet accuarcy : 0.960508253\n"
     ]
    }
   ],
   "source": [
    "print(\"C001\")\n",
    "print(\"TrainSet accuarcy : {:.9f}\".format(SVC001.score(X_train, y_train)))\n",
    "print(\"TestSet accuarcy : {:.9f}\".format(SVC001.score(X_test, y_test)))\n",
    "print(\"\\nC01\")\n",
    "print(\"TrainSet accuarcy : {:.9f}\".format(SVC01.score(X_train, y_train)))\n",
    "print(\"TestSet accuarcy : {:.9f}\".format(SVC01.score(X_test, y_test)))\n",
    "print(\"\\nC1\")\n",
    "print(\"TrainSet accuarcy : {:.9f}\".format(SVC.score(X_train, y_train)))\n",
    "print(\"TestSet accuarcy : {:.9f}\".format(SVC.score(X_test, y_test)))\n",
    "\n",
    "print(\"\\nC10\")\n",
    "print(\"TrainSet accuarcy : {:.9f}\".format(SVC10.score(X_train, y_train)))\n",
    "print(\"TestSet accuarcy : {:.9f}\".format(SVC10.score(X_test, y_test)))"
   ]
  },
  {
   "cell_type": "code",
   "execution_count": 145,
   "id": "cf41c5f0",
   "metadata": {},
   "outputs": [],
   "source": [
    "y_pred001 = SVC001.predict(X_test)\n",
    "y_pred = SVC.predict(X_test)\n",
    "y_pred01 = SVC01.predict(X_test)\n",
    "y_pred10 = SVC10.predict(X_test)"
   ]
  },
  {
   "cell_type": "code",
   "execution_count": 148,
   "id": "1709c1d4",
   "metadata": {},
   "outputs": [
    {
     "name": "stdout",
     "output_type": "stream",
     "text": [
      "[[226703      0]\n",
      " [  9321      0]] \n",
      "\n",
      "[[226703      0]\n",
      " [  9321      0]] \n",
      "\n",
      "[[226703      0]\n",
      " [  9321      0]] \n",
      "\n",
      "[[226703      0]\n",
      " [  9321      0]] \n",
      "\n"
     ]
    }
   ],
   "source": [
    "print(metrics.confusion_matrix(y_test, y_pred001),\"\\n\")\n",
    "print(metrics.confusion_matrix(y_test, y_pred01),\"\\n\")\n",
    "print(metrics.confusion_matrix(y_test, y_pred),\"\\n\")\n",
    "print(metrics.confusion_matrix(y_test, y_pred10),\"\\n\")"
   ]
  },
  {
   "cell_type": "markdown",
   "id": "75dfc56d",
   "metadata": {},
   "source": [
    "## scaling"
   ]
  },
  {
   "cell_type": "markdown",
   "id": "ab9421cc",
   "metadata": {},
   "source": [
    "### standard scaler"
   ]
  },
  {
   "cell_type": "code",
   "execution_count": 150,
   "id": "c9810a73",
   "metadata": {},
   "outputs": [],
   "source": [
    "from sklearn.preprocessing import StandardScaler\n",
    "\n",
    "scaler = StandardScaler()\n",
    "\n",
    "scaler.fit(X_train)\n",
    "\n",
    "x_train_scaled = scaler.transform(X_train)\n",
    "\n",
    "x_test_scaled = scaler.transform(X_test)"
   ]
  },
  {
   "cell_type": "code",
   "execution_count": 151,
   "id": "75f04126",
   "metadata": {},
   "outputs": [],
   "source": [
    "SVC01_scaled = LinearSVC(C=0.1).fit(x_train_scaled, y_train)"
   ]
  },
  {
   "cell_type": "code",
   "execution_count": 152,
   "id": "451a84f6",
   "metadata": {},
   "outputs": [],
   "source": [
    "SVC_scaled = LinearSVC(C=1).fit(x_train_scaled, y_train)"
   ]
  },
  {
   "cell_type": "code",
   "execution_count": 153,
   "id": "63e68c82",
   "metadata": {},
   "outputs": [],
   "source": [
    "SVC10_scaled = LinearSVC(C=10).fit(x_train_scaled, y_train)"
   ]
  },
  {
   "cell_type": "code",
   "execution_count": 154,
   "id": "1377cd37",
   "metadata": {},
   "outputs": [],
   "source": [
    "SVC001_scaled = LinearSVC(C=0.01).fit(x_train_scaled, y_train)"
   ]
  },
  {
   "cell_type": "code",
   "execution_count": 157,
   "id": "f9d4efc2",
   "metadata": {},
   "outputs": [
    {
     "data": {
      "text/plain": [
       "<matplotlib.legend.Legend at 0x14c205e20>"
      ]
     },
     "execution_count": 157,
     "metadata": {},
     "output_type": "execute_result"
    },
    {
     "data": {
      "image/png": "[encoded data removed]",
      "text/plain": [
       "<Figure size 432x288 with 1 Axes>"
      ]
     },
     "metadata": {
      "image/png": {
       "height": 335,
       "width": 385
      }
     },
     "output_type": "display_data"
    }
   ],
   "source": [
    "plt.plot(SVC001_scaled.coef_.T, '*',label=\"C=0.01\")\n",
    "plt.plot(SVC01_scaled.coef_.T, 'v',label=\"C=0.1\")\n",
    "plt.plot(SVC_scaled.coef_.T, 'o',label=\"C=1\")\n",
    "plt.plot(SVC10_scaled.coef_.T, '^',label=\"C=10\")\n",
    "\n",
    "plt.xticks(range(len(X.columns)),X.columns,rotation=90)\n",
    "xlims = plt.xlim()\n",
    "plt.hlines(0,xlims[0],xlims[1])\n",
    "plt.legend()"
   ]
  },
  {
   "cell_type": "code",
   "execution_count": 158,
   "id": "d0bfad59",
   "metadata": {},
   "outputs": [
    {
     "name": "stdout",
     "output_type": "stream",
     "text": [
      "C001\n",
      "TrainSet accuarcy : 0.960535793\n",
      "TestSet accuarcy : 0.960508253\n",
      "\n",
      "C01\n",
      "TrainSet accuarcy : 0.960535793\n",
      "TestSet accuarcy : 0.960508253\n",
      "\n",
      "C1\n",
      "TrainSet accuarcy : 0.960535793\n",
      "TestSet accuarcy : 0.960508253\n",
      "\n",
      "C10\n",
      "TrainSet accuarcy : 0.960535793\n",
      "TestSet accuarcy : 0.960508253\n"
     ]
    }
   ],
   "source": [
    "print(\"C001\")\n",
    "print(\"TrainSet accuarcy : {:.9f}\".format(SVC001_scaled.score(x_train_scaled, y_train)))\n",
    "print(\"TestSet accuarcy : {:.9f}\".format(SVC001_scaled.score(x_test_scaled, y_test)))\n",
    "print(\"\\nC01\")\n",
    "print(\"TrainSet accuarcy : {:.9f}\".format(SVC01_scaled.score(x_train_scaled, y_train)))\n",
    "print(\"TestSet accuarcy : {:.9f}\".format(SVC01_scaled.score(x_test_scaled, y_test)))\n",
    "print(\"\\nC1\")\n",
    "print(\"TrainSet accuarcy : {:.9f}\".format(SVC_scaled.score(x_train_scaled, y_train)))\n",
    "print(\"TestSet accuarcy : {:.9f}\".format(SVC_scaled.score(x_test_scaled, y_test)))\n",
    "\n",
    "print(\"\\nC10\")\n",
    "print(\"TrainSet accuarcy : {:.9f}\".format(SVC10_scaled.score(x_train_scaled, y_train)))\n",
    "print(\"TestSet accuarcy : {:.9f}\".format(SVC10_scaled.score(x_test_scaled, y_test)))"
   ]
  },
  {
   "cell_type": "code",
   "execution_count": 178,
   "id": "b6b425d8",
   "metadata": {},
   "outputs": [],
   "source": [
    "y_pred001_scaled = SVC001_scaled.predict(X_test)\n",
    "y_pred01_scaled = SVC01_scaled.predict(X_test)\n",
    "y_pred_scaled = SVC_scaled.predict(X_test)\n",
    "y_pred10_scaled = SVC10_scaled.predict(X_test)"
   ]
  },
  {
   "cell_type": "code",
   "execution_count": 179,
   "id": "849e7a24",
   "metadata": {},
   "outputs": [
    {
     "name": "stdout",
     "output_type": "stream",
     "text": [
      "[[ 27159 199544]\n",
      " [   292   9029]] \n",
      "\n",
      "[[ 27091 199612]\n",
      " [   292   9029]] \n",
      "\n",
      "[[ 27067 199636]\n",
      " [   292   9029]] \n",
      "\n",
      "[[114768 111935]\n",
      " [  2251   7070]] \n",
      "\n"
     ]
    }
   ],
   "source": [
    "print(metrics.confusion_matrix(y_test, y_pred001_scaled),\"\\n\")\n",
    "print(metrics.confusion_matrix(y_test, y_pred01_scaled),\"\\n\")\n",
    "print(metrics.confusion_matrix(y_test, y_pred_scaled),\"\\n\")\n",
    "print(metrics.confusion_matrix(y_test, y_pred10_scaled),\"\\n\")"
   ]
  },
  {
   "cell_type": "markdown",
   "id": "74e897f9",
   "metadata": {},
   "source": [
    "### Minmax scaler"
   ]
  },
  {
   "cell_type": "code",
   "execution_count": 191,
   "id": "33c68fcd",
   "metadata": {},
   "outputs": [],
   "source": [
    "from sklearn.preprocessing import MinMaxScaler\n",
    "\n",
    "scaler = MinMaxScaler()\n",
    "\n",
    "scaler.fit(X_train)\n",
    "\n",
    "x_train_m_scaled = scaler.transform(X_train)\n",
    "\n",
    "x_test_m_scaled = scaler.transform(X_test)"
   ]
  },
  {
   "cell_type": "code",
   "execution_count": 163,
   "id": "6879a92e",
   "metadata": {},
   "outputs": [],
   "source": [
    "SVC01_m_scaled = LinearSVC(C=1).fit(x_train_m_scaled, y_train)"
   ]
  },
  {
   "cell_type": "code",
   "execution_count": 164,
   "id": "1f5fdbec",
   "metadata": {},
   "outputs": [],
   "source": [
    "SVC_m_scaled = LinearSVC(C=1).fit(x_train_m_scaled, y_train)"
   ]
  },
  {
   "cell_type": "code",
   "execution_count": 165,
   "id": "fc868552",
   "metadata": {},
   "outputs": [],
   "source": [
    "SVC10_m_scaled = LinearSVC(C=10).fit(x_train_m_scaled, y_train)"
   ]
  },
  {
   "cell_type": "code",
   "execution_count": 166,
   "id": "2c11d408",
   "metadata": {},
   "outputs": [],
   "source": [
    "SVC001_m_scaled = LinearSVC(C=0.01).fit(x_train_m_scaled, y_train)"
   ]
  },
  {
   "cell_type": "code",
   "execution_count": 167,
   "id": "6eaff603",
   "metadata": {},
   "outputs": [
    {
     "data": {
      "text/plain": [
       "<matplotlib.legend.Legend at 0x14c4c6c70>"
      ]
     },
     "execution_count": 167,
     "metadata": {},
     "output_type": "execute_result"
    },
    {
     "data": {
      "image/png": "[encoded data removed]",
      "text/plain": [
       "<Figure size 432x288 with 1 Axes>"
      ]
     },
     "metadata": {
      "image/png": {
       "height": 335,
       "width": 378
      }
     },
     "output_type": "display_data"
    }
   ],
   "source": [
    "plt.plot(SVC001_m_scaled.coef_.T, '*',label=\"C=0.01\")\n",
    "plt.plot(SVC01_m_scaled.coef_.T, 'v',label=\"C=0.1\")\n",
    "plt.plot(SVC_m_scaled.coef_.T, 'o',label=\"C=1\")\n",
    "plt.plot(SVC10_m_scaled.coef_.T, '^',label=\"C=10\")\n",
    "\n",
    "plt.xticks(range(len(X.columns)),X.columns,rotation=90)\n",
    "xlims = plt.xlim()\n",
    "plt.hlines(0,xlims[0],xlims[1])\n",
    "plt.legend()"
   ]
  },
  {
   "cell_type": "code",
   "execution_count": 168,
   "id": "5bf68582",
   "metadata": {},
   "outputs": [
    {
     "name": "stdout",
     "output_type": "stream",
     "text": [
      "C001\n",
      "TrainSet accuarcy : 0.960535793\n",
      "TestSet accuarcy : 0.960508253\n",
      "\n",
      "C01\n",
      "TrainSet accuarcy : 0.960535793\n",
      "TestSet accuarcy : 0.960508253\n",
      "\n",
      "C1\n",
      "TrainSet accuarcy : 0.960535793\n",
      "TestSet accuarcy : 0.960508253\n",
      "\n",
      "C10\n",
      "TrainSet accuarcy : 0.960535793\n",
      "TestSet accuarcy : 0.960508253\n"
     ]
    }
   ],
   "source": [
    "print(\"C001\")\n",
    "print(\"TrainSet accuarcy : {:.9f}\".format(SVC001_m_scaled.score(x_train_m_scaled, y_train)))\n",
    "print(\"TestSet accuarcy : {:.9f}\".format(SVC001_m_scaled.score(x_test_m_scaled, y_test)))\n",
    "print(\"\\nC01\")\n",
    "print(\"TrainSet accuarcy : {:.9f}\".format(SVC01_m_scaled.score(x_train_m_scaled, y_train)))\n",
    "print(\"TestSet accuarcy : {:.9f}\".format(SVC01_m_scaled.score(x_test_m_scaled, y_test)))\n",
    "print(\"\\nC1\")\n",
    "print(\"TrainSet accuarcy : {:.9f}\".format(SVC_m_scaled.score(x_train_m_scaled, y_train)))\n",
    "print(\"TestSet accuarcy : {:.9f}\".format(SVC_m_scaled.score(x_test_m_scaled, y_test)))\n",
    "\n",
    "print(\"\\nC10\")\n",
    "print(\"TrainSet accuarcy : {:.9f}\".format(SVC10_m_scaled.score(x_train_m_scaled, y_train)))\n",
    "print(\"TestSet accuarcy : {:.9f}\".format(SVC10_m_scaled.score(x_test_m_scaled, y_test)))"
   ]
  },
  {
   "cell_type": "code",
   "execution_count": 173,
   "id": "e67a875f",
   "metadata": {},
   "outputs": [],
   "source": [
    "y_pred001_m_scaled = SVC001_m_scaled.predict(X_test)\n",
    "y_pred01_m_scaled = SVC01_m_scaled.predict(X_test)\n",
    "y_pred_m_scaled = SVC_m_scaled.predict(X_test)\n",
    "y_pred10_m_scaled = SVC10_m_scaled.predict(X_test)"
   ]
  },
  {
   "cell_type": "code",
   "execution_count": 180,
   "id": "8e4e9f37",
   "metadata": {},
   "outputs": [
    {
     "name": "stdout",
     "output_type": "stream",
     "text": [
      "[[ 12910 213793]\n",
      " [   124   9197]] \n",
      "\n",
      "[[ 11546 215157]\n",
      " [   103   9218]] \n",
      "\n",
      "[[ 11421 215282]\n",
      " [   101   9220]] \n",
      "\n",
      "[[ 11404 215299]\n",
      " [   100   9221]] \n",
      "\n"
     ]
    }
   ],
   "source": [
    "print(metrics.confusion_matrix(y_test, y_pred001_m_scaled),\"\\n\")\n",
    "print(metrics.confusion_matrix(y_test, y_pred01_m_scaled),\"\\n\")\n",
    "print(metrics.confusion_matrix(y_test, y_pred_m_scaled),\"\\n\")\n",
    "print(metrics.confusion_matrix(y_test, y_pred10_m_scaled),\"\\n\")"
   ]
  },
  {
   "cell_type": "markdown",
   "id": "4e0c782a",
   "metadata": {},
   "source": [
    "허연감 필수\n",
    "(트리글리세라이드, LDL콜레스테롤, 수축기혈압, 이완기혈압, 혈청지오티, BMI) 1~2개 선택"
   ]
  },
  {
   "cell_type": "markdown",
   "id": "4bdb84ea",
   "metadata": {},
   "source": [
    "## feature 변경"
   ]
  },
  {
   "cell_type": "code",
   "execution_count": 193,
   "id": "f3b556c0",
   "metadata": {},
   "outputs": [
    {
     "data": {
      "text/html": [
       "<div>\n",
       "<style scoped>\n",
       "    .dataframe tbody tr th:only-of-type {\n",
       "        vertical-align: middle;\n",
       "    }\n",
       "\n",
       "    .dataframe tbody tr th {\n",
       "        vertical-align: top;\n",
       "    }\n",
       "\n",
       "    .dataframe thead th {\n",
       "        text-align: right;\n",
       "    }\n",
       "</style>\n",
       "<table border=\"1\" class=\"dataframe\">\n",
       "  <thead>\n",
       "    <tr style=\"text-align: right;\">\n",
       "      <th></th>\n",
       "      <th>허리둘레</th>\n",
       "      <th>연령대코드(5세단위)</th>\n",
       "      <th>감마지티피</th>\n",
       "      <th>트리글리세라이드</th>\n",
       "      <th>LDL콜레스테롤</th>\n",
       "      <th>수축기혈압</th>\n",
       "      <th>(혈청지오티)ALT</th>\n",
       "    </tr>\n",
       "  </thead>\n",
       "  <tbody>\n",
       "    <tr>\n",
       "      <th>0</th>\n",
       "      <td>90.0</td>\n",
       "      <td>8</td>\n",
       "      <td>40.0</td>\n",
       "      <td>92.0</td>\n",
       "      <td>126.0</td>\n",
       "      <td>120.0</td>\n",
       "      <td>35.0</td>\n",
       "    </tr>\n",
       "    <tr>\n",
       "      <th>1</th>\n",
       "      <td>89.0</td>\n",
       "      <td>7</td>\n",
       "      <td>27.0</td>\n",
       "      <td>121.0</td>\n",
       "      <td>148.0</td>\n",
       "      <td>130.0</td>\n",
       "      <td>36.0</td>\n",
       "    </tr>\n",
       "    <tr>\n",
       "      <th>2</th>\n",
       "      <td>91.0</td>\n",
       "      <td>9</td>\n",
       "      <td>68.0</td>\n",
       "      <td>104.0</td>\n",
       "      <td>74.0</td>\n",
       "      <td>120.0</td>\n",
       "      <td>32.0</td>\n",
       "    </tr>\n",
       "    <tr>\n",
       "      <th>3</th>\n",
       "      <td>91.0</td>\n",
       "      <td>11</td>\n",
       "      <td>18.0</td>\n",
       "      <td>106.0</td>\n",
       "      <td>104.0</td>\n",
       "      <td>145.0</td>\n",
       "      <td>34.0</td>\n",
       "    </tr>\n",
       "    <tr>\n",
       "      <th>4</th>\n",
       "      <td>80.0</td>\n",
       "      <td>11</td>\n",
       "      <td>25.0</td>\n",
       "      <td>104.0</td>\n",
       "      <td>117.0</td>\n",
       "      <td>138.0</td>\n",
       "      <td>12.0</td>\n",
       "    </tr>\n",
       "    <tr>\n",
       "      <th>...</th>\n",
       "      <td>...</td>\n",
       "      <td>...</td>\n",
       "      <td>...</td>\n",
       "      <td>...</td>\n",
       "      <td>...</td>\n",
       "      <td>...</td>\n",
       "      <td>...</td>\n",
       "    </tr>\n",
       "    <tr>\n",
       "      <th>1180115</th>\n",
       "      <td>84.0</td>\n",
       "      <td>13</td>\n",
       "      <td>78.0</td>\n",
       "      <td>85.0</td>\n",
       "      <td>140.0</td>\n",
       "      <td>160.0</td>\n",
       "      <td>12.0</td>\n",
       "    </tr>\n",
       "    <tr>\n",
       "      <th>1180116</th>\n",
       "      <td>77.0</td>\n",
       "      <td>8</td>\n",
       "      <td>15.0</td>\n",
       "      <td>139.0</td>\n",
       "      <td>60.0</td>\n",
       "      <td>123.0</td>\n",
       "      <td>8.0</td>\n",
       "    </tr>\n",
       "    <tr>\n",
       "      <th>1180117</th>\n",
       "      <td>83.0</td>\n",
       "      <td>14</td>\n",
       "      <td>23.0</td>\n",
       "      <td>122.0</td>\n",
       "      <td>148.0</td>\n",
       "      <td>146.0</td>\n",
       "      <td>15.0</td>\n",
       "    </tr>\n",
       "    <tr>\n",
       "      <th>1180118</th>\n",
       "      <td>84.0</td>\n",
       "      <td>14</td>\n",
       "      <td>19.0</td>\n",
       "      <td>173.0</td>\n",
       "      <td>148.0</td>\n",
       "      <td>130.0</td>\n",
       "      <td>14.0</td>\n",
       "    </tr>\n",
       "    <tr>\n",
       "      <th>1180119</th>\n",
       "      <td>88.5</td>\n",
       "      <td>13</td>\n",
       "      <td>53.0</td>\n",
       "      <td>214.0</td>\n",
       "      <td>63.0</td>\n",
       "      <td>134.0</td>\n",
       "      <td>23.0</td>\n",
       "    </tr>\n",
       "  </tbody>\n",
       "</table>\n",
       "<p>1180120 rows × 7 columns</p>\n",
       "</div>"
      ],
      "text/plain": [
       "         허리둘레  연령대코드(5세단위)  감마지티피  트리글리세라이드  LDL콜레스테롤  수축기혈압  (혈청지오티)ALT\n",
       "0        90.0            8   40.0      92.0     126.0  120.0        35.0\n",
       "1        89.0            7   27.0     121.0     148.0  130.0        36.0\n",
       "2        91.0            9   68.0     104.0      74.0  120.0        32.0\n",
       "3        91.0           11   18.0     106.0     104.0  145.0        34.0\n",
       "4        80.0           11   25.0     104.0     117.0  138.0        12.0\n",
       "...       ...          ...    ...       ...       ...    ...         ...\n",
       "1180115  84.0           13   78.0      85.0     140.0  160.0        12.0\n",
       "1180116  77.0            8   15.0     139.0      60.0  123.0         8.0\n",
       "1180117  83.0           14   23.0     122.0     148.0  146.0        15.0\n",
       "1180118  84.0           14   19.0     173.0     148.0  130.0        14.0\n",
       "1180119  88.5           13   53.0     214.0      63.0  134.0        23.0\n",
       "\n",
       "[1180120 rows x 7 columns]"
      ]
     },
     "execution_count": 193,
     "metadata": {},
     "output_type": "execute_result"
    }
   ],
   "source": [
    "X = data[['허리둘레','연령대코드(5세단위)','감마지티피','트리글리세라이드','LDL콜레스테롤','수축기혈압','(혈청지오티)ALT']]\n",
    "X"
   ]
  },
  {
   "cell_type": "code",
   "execution_count": 194,
   "id": "76d4ffad",
   "metadata": {},
   "outputs": [
    {
     "data": {
      "text/plain": [
       "0          0.0\n",
       "1          0.0\n",
       "2          0.0\n",
       "3          0.0\n",
       "4          0.0\n",
       "          ... \n",
       "1180115    0.0\n",
       "1180116    0.0\n",
       "1180117    0.0\n",
       "1180118    0.0\n",
       "1180119    0.0\n",
       "Name: 당뇨여부, Length: 1180120, dtype: float64"
      ]
     },
     "execution_count": 194,
     "metadata": {},
     "output_type": "execute_result"
    }
   ],
   "source": [
    "y = data['당뇨여부']\n",
    "y"
   ]
  },
  {
   "cell_type": "code",
   "execution_count": 195,
   "id": "2ecfa5b0",
   "metadata": {},
   "outputs": [],
   "source": [
    "X_train, X_test, y_train, y_test = train_test_split(X,y,test_size=0.2, random_state=42)"
   ]
  },
  {
   "cell_type": "code",
   "execution_count": 196,
   "id": "1e4669ae",
   "metadata": {},
   "outputs": [],
   "source": [
    "svc01 = LinearSVC(C=0.1).fit(X_train, y_train)\n",
    "svc = LinearSVC(C=1).fit(X_train, y_train)\n",
    "svc001 = LinearSVC(C=0.01).fit(X_train, y_train)\n",
    "svc10 = LinearSVC(C=10).fit(X_train, y_train)"
   ]
  },
  {
   "cell_type": "code",
   "execution_count": 197,
   "id": "ebfdb868",
   "metadata": {},
   "outputs": [
    {
     "data": {
      "text/plain": [
       "<matplotlib.legend.Legend at 0x14c5927f0>"
      ]
     },
     "execution_count": 197,
     "metadata": {},
     "output_type": "execute_result"
    },
    {
     "data": {
      "image/png": "[encoded data removed]",
      "text/plain": [
       "<Figure size 432x288 with 1 Axes>"
      ]
     },
     "metadata": {
      "image/png": {
       "height": 339,
       "width": 393
      }
     },
     "output_type": "display_data"
    }
   ],
   "source": [
    "plt.plot(svc001.coef_.T, '*',label=\"C=0.01\")\n",
    "plt.plot(svc01.coef_.T, 'v',label=\"C=0.1\")\n",
    "plt.plot(svc.coef_.T, 'o',label=\"C=1\")\n",
    "plt.plot(svc10.coef_.T, '^',label=\"C=10\")\n",
    "\n",
    "plt.xticks(range(len(X.columns)),X.columns,rotation=90)\n",
    "xlims = plt.xlim()\n",
    "plt.hlines(0,xlims[0],xlims[1])\n",
    "plt.legend()"
   ]
  },
  {
   "cell_type": "code",
   "execution_count": 198,
   "id": "b89508d1",
   "metadata": {},
   "outputs": [
    {
     "name": "stdout",
     "output_type": "stream",
     "text": [
      "C001\n",
      "TrainSet accuarcy : 0.960535793\n",
      "TestSet accuarcy : 0.960508253\n",
      "\n",
      "C01\n",
      "TrainSet accuarcy : 0.574889630\n",
      "TestSet accuarcy : 0.572971393\n",
      "\n",
      "C1\n",
      "TrainSet accuarcy : 0.960535793\n",
      "TestSet accuarcy : 0.960508253\n",
      "\n",
      "C10\n",
      "TrainSet accuarcy : 0.960535793\n",
      "TestSet accuarcy : 0.960508253\n"
     ]
    }
   ],
   "source": [
    "print(\"C001\")\n",
    "print(\"TrainSet accuarcy : {:.9f}\".format(svc001.score(X_train, y_train)))\n",
    "print(\"TestSet accuarcy : {:.9f}\".format(svc001.score(X_test, y_test)))\n",
    "print(\"\\nC01\")\n",
    "print(\"TrainSet accuarcy : {:.9f}\".format(svc01.score(X_train, y_train)))\n",
    "print(\"TestSet accuarcy : {:.9f}\".format(svc01.score(X_test, y_test)))\n",
    "print(\"\\nC1\")\n",
    "print(\"TrainSet accuarcy : {:.9f}\".format(svc.score(X_train, y_train)))\n",
    "print(\"TestSet accuarcy : {:.9f}\".format(svc.score(X_test, y_test)))\n",
    "\n",
    "print(\"\\nC10\")\n",
    "print(\"TrainSet accuarcy : {:.9f}\".format(svc10.score(X_train, y_train)))\n",
    "print(\"TestSet accuarcy : {:.9f}\".format(svc10.score(X_test, y_test)))"
   ]
  },
  {
   "cell_type": "code",
   "execution_count": 199,
   "id": "ec786494",
   "metadata": {},
   "outputs": [],
   "source": [
    "y_pred001 = svc001.predict(X_test)\n",
    "y_pred = svc.predict(X_test)\n",
    "y_pred01 = svc01.predict(X_test)\n",
    "y_pred10 = svc10.predict(X_test)"
   ]
  },
  {
   "cell_type": "code",
   "execution_count": 200,
   "id": "48194134",
   "metadata": {},
   "outputs": [
    {
     "name": "stdout",
     "output_type": "stream",
     "text": [
      "[[226703      0]\n",
      " [  9321      0]] \n",
      "\n",
      "[[129143  97560]\n",
      " [  3229   6092]] \n",
      "\n",
      "[[226703      0]\n",
      " [  9321      0]] \n",
      "\n",
      "[[226703      0]\n",
      " [  9321      0]] \n",
      "\n"
     ]
    }
   ],
   "source": [
    "print(metrics.confusion_matrix(y_test, y_pred001),\"\\n\")\n",
    "print(metrics.confusion_matrix(y_test, y_pred01),\"\\n\")\n",
    "print(metrics.confusion_matrix(y_test, y_pred),\"\\n\")\n",
    "print(metrics.confusion_matrix(y_test, y_pred10),\"\\n\")"
   ]
  },
  {
   "cell_type": "markdown",
   "id": "a8253cca",
   "metadata": {},
   "source": [
    "## scaler"
   ]
  },
  {
   "cell_type": "markdown",
   "id": "69efb681",
   "metadata": {},
   "source": [
    "### MinMax"
   ]
  },
  {
   "cell_type": "code",
   "execution_count": 201,
   "id": "10e693c5",
   "metadata": {},
   "outputs": [],
   "source": [
    "scaler = MinMaxScaler()\n",
    "\n",
    "X_train_scaled = scaler.fit_transform(X_train)\n",
    "\n",
    "X_test_scaled = scaler.transform(X_test)"
   ]
  },
  {
   "cell_type": "code",
   "execution_count": 202,
   "id": "a0885a7b",
   "metadata": {},
   "outputs": [],
   "source": [
    "svc01_scaled = LinearSVC(C=0.1).fit(X_train_scaled, y_train)\n",
    "svc_scaled = LinearSVC(C=1).fit(X_train_scaled, y_train)\n",
    "svc001_scaled = LinearSVC(C=0.01).fit(X_train_scaled, y_train)\n",
    "svc10_scaled = LinearSVC(C=10).fit(X_train_scaled, y_train)"
   ]
  },
  {
   "cell_type": "code",
   "execution_count": 203,
   "id": "0bbc1920",
   "metadata": {},
   "outputs": [
    {
     "data": {
      "text/plain": [
       "<matplotlib.legend.Legend at 0x14c5d2940>"
      ]
     },
     "execution_count": 203,
     "metadata": {},
     "output_type": "execute_result"
    },
    {
     "data": {
      "image/png": "[encoded data removed]",
      "text/plain": [
       "<Figure size 432x288 with 1 Axes>"
      ]
     },
     "metadata": {
      "image/png": {
       "height": 335,
       "width": 378
      }
     },
     "output_type": "display_data"
    }
   ],
   "source": [
    "plt.plot(svc001_scaled.coef_.T, '*',label=\"C=0.01\")\n",
    "plt.plot(svc01_scaled.coef_.T, 'v',label=\"C=0.1\")\n",
    "plt.plot(svc_scaled.coef_.T, 'o',label=\"C=1\")\n",
    "plt.plot(svc10_scaled.coef_.T, '^',label=\"C=10\")\n",
    "\n",
    "plt.xticks(range(len(X.columns)),X.columns,rotation=90)\n",
    "xlims = plt.xlim()\n",
    "plt.hlines(0,xlims[0],xlims[1])\n",
    "plt.legend()"
   ]
  },
  {
   "cell_type": "code",
   "execution_count": 204,
   "id": "7166ebed",
   "metadata": {},
   "outputs": [
    {
     "name": "stdout",
     "output_type": "stream",
     "text": [
      "C001\n",
      "TrainSet accuarcy : 0.960535793\n",
      "TestSet accuarcy : 0.960508253\n",
      "\n",
      "C01\n",
      "TrainSet accuarcy : 0.960535793\n",
      "TestSet accuarcy : 0.960508253\n",
      "\n",
      "C1\n",
      "TrainSet accuarcy : 0.960535793\n",
      "TestSet accuarcy : 0.960508253\n",
      "\n",
      "C10\n",
      "TrainSet accuarcy : 0.960535793\n",
      "TestSet accuarcy : 0.960508253\n"
     ]
    }
   ],
   "source": [
    "print(\"C001\")\n",
    "print(\"TrainSet accuarcy : {:.9f}\".format(svc001_scaled.score(X_train_scaled, y_train)))\n",
    "print(\"TestSet accuarcy : {:.9f}\".format(svc001_scaled.score(X_test_scaled, y_test)))\n",
    "print(\"\\nC01\")\n",
    "print(\"TrainSet accuarcy : {:.9f}\".format(svc01_scaled.score(X_train_scaled, y_train)))\n",
    "print(\"TestSet accuarcy : {:.9f}\".format(svc01_scaled.score(X_test_scaled, y_test)))\n",
    "print(\"\\nC1\")\n",
    "print(\"TrainSet accuarcy : {:.9f}\".format(svc_scaled.score(X_train_scaled, y_train)))\n",
    "print(\"TestSet accuarcy : {:.9f}\".format(svc_scaled.score(X_test_scaled, y_test)))\n",
    "\n",
    "print(\"\\nC10\")\n",
    "print(\"TrainSet accuarcy : {:.9f}\".format(svc10_scaled.score(X_train_scaled, y_train)))\n",
    "print(\"TestSet accuarcy : {:.9f}\".format(svc10_scaled.score(X_test_scaled, y_test)))"
   ]
  },
  {
   "cell_type": "code",
   "execution_count": 210,
   "id": "caff274c",
   "metadata": {},
   "outputs": [],
   "source": [
    "y_pred001_scaled = svc001_scaled.predict(X_test)\n",
    "y_pred01_scaled = svc01_scaled.predict(X_test)\n",
    "y_pred_scaled = svc_scaled.predict(X_test)\n",
    "y_pred10_scaled = svc10_scaled.predict(X_test)"
   ]
  },
  {
   "cell_type": "code",
   "execution_count": 211,
   "id": "ccf87d76",
   "metadata": {},
   "outputs": [
    {
     "name": "stdout",
     "output_type": "stream",
     "text": [
      "[[  5616 221087]\n",
      " [    45   9276]] \n",
      "\n",
      "[[  4878 221825]\n",
      " [    37   9284]] \n",
      "\n",
      "[[  4810 221893]\n",
      " [    36   9285]] \n",
      "\n",
      "[[  4802 221901]\n",
      " [    36   9285]] \n",
      "\n"
     ]
    }
   ],
   "source": [
    "print(metrics.confusion_matrix(y_test, y_pred001_scaled),\"\\n\")\n",
    "print(metrics.confusion_matrix(y_test, y_pred01_scaled),\"\\n\")\n",
    "print(metrics.confusion_matrix(y_test, y_pred_scaled),\"\\n\")\n",
    "print(metrics.confusion_matrix(y_test, y_pred10_scaled),\"\\n\")"
   ]
  },
  {
   "cell_type": "markdown",
   "id": "59ed8cf0",
   "metadata": {},
   "source": [
    "답이 없다.."
   ]
  },
  {
   "cell_type": "markdown",
   "id": "25a94972",
   "metadata": {},
   "source": [
    "## 연령대 제거"
   ]
  },
  {
   "cell_type": "code",
   "execution_count": 5,
   "id": "afc86a8c",
   "metadata": {},
   "outputs": [
    {
     "data": {
      "text/html": [
       "<div>\n",
       "<style scoped>\n",
       "    .dataframe tbody tr th:only-of-type {\n",
       "        vertical-align: middle;\n",
       "    }\n",
       "\n",
       "    .dataframe tbody tr th {\n",
       "        vertical-align: top;\n",
       "    }\n",
       "\n",
       "    .dataframe thead th {\n",
       "        text-align: right;\n",
       "    }\n",
       "</style>\n",
       "<table border=\"1\" class=\"dataframe\">\n",
       "  <thead>\n",
       "    <tr style=\"text-align: right;\">\n",
       "      <th></th>\n",
       "      <th>허리둘레</th>\n",
       "      <th>감마지티피</th>\n",
       "      <th>트리글리세라이드</th>\n",
       "      <th>LDL콜레스테롤</th>\n",
       "      <th>수축기혈압</th>\n",
       "      <th>이완기혈압</th>\n",
       "      <th>(혈청지오티)AST</th>\n",
       "      <th>(혈청지오티)ALT</th>\n",
       "    </tr>\n",
       "  </thead>\n",
       "  <tbody>\n",
       "    <tr>\n",
       "      <th>0</th>\n",
       "      <td>90.0</td>\n",
       "      <td>40.0</td>\n",
       "      <td>92.0</td>\n",
       "      <td>126.0</td>\n",
       "      <td>120.0</td>\n",
       "      <td>80.0</td>\n",
       "      <td>21.0</td>\n",
       "      <td>35.0</td>\n",
       "    </tr>\n",
       "    <tr>\n",
       "      <th>1</th>\n",
       "      <td>89.0</td>\n",
       "      <td>27.0</td>\n",
       "      <td>121.0</td>\n",
       "      <td>148.0</td>\n",
       "      <td>130.0</td>\n",
       "      <td>82.0</td>\n",
       "      <td>20.0</td>\n",
       "      <td>36.0</td>\n",
       "    </tr>\n",
       "    <tr>\n",
       "      <th>2</th>\n",
       "      <td>91.0</td>\n",
       "      <td>68.0</td>\n",
       "      <td>104.0</td>\n",
       "      <td>74.0</td>\n",
       "      <td>120.0</td>\n",
       "      <td>70.0</td>\n",
       "      <td>47.0</td>\n",
       "      <td>32.0</td>\n",
       "    </tr>\n",
       "    <tr>\n",
       "      <th>3</th>\n",
       "      <td>91.0</td>\n",
       "      <td>18.0</td>\n",
       "      <td>106.0</td>\n",
       "      <td>104.0</td>\n",
       "      <td>145.0</td>\n",
       "      <td>87.0</td>\n",
       "      <td>29.0</td>\n",
       "      <td>34.0</td>\n",
       "    </tr>\n",
       "    <tr>\n",
       "      <th>4</th>\n",
       "      <td>80.0</td>\n",
       "      <td>25.0</td>\n",
       "      <td>104.0</td>\n",
       "      <td>117.0</td>\n",
       "      <td>138.0</td>\n",
       "      <td>82.0</td>\n",
       "      <td>19.0</td>\n",
       "      <td>12.0</td>\n",
       "    </tr>\n",
       "    <tr>\n",
       "      <th>...</th>\n",
       "      <td>...</td>\n",
       "      <td>...</td>\n",
       "      <td>...</td>\n",
       "      <td>...</td>\n",
       "      <td>...</td>\n",
       "      <td>...</td>\n",
       "      <td>...</td>\n",
       "      <td>...</td>\n",
       "    </tr>\n",
       "    <tr>\n",
       "      <th>1180115</th>\n",
       "      <td>84.0</td>\n",
       "      <td>78.0</td>\n",
       "      <td>85.0</td>\n",
       "      <td>140.0</td>\n",
       "      <td>160.0</td>\n",
       "      <td>90.0</td>\n",
       "      <td>34.0</td>\n",
       "      <td>12.0</td>\n",
       "    </tr>\n",
       "    <tr>\n",
       "      <th>1180116</th>\n",
       "      <td>77.0</td>\n",
       "      <td>15.0</td>\n",
       "      <td>139.0</td>\n",
       "      <td>60.0</td>\n",
       "      <td>123.0</td>\n",
       "      <td>89.0</td>\n",
       "      <td>11.0</td>\n",
       "      <td>8.0</td>\n",
       "    </tr>\n",
       "    <tr>\n",
       "      <th>1180117</th>\n",
       "      <td>83.0</td>\n",
       "      <td>23.0</td>\n",
       "      <td>122.0</td>\n",
       "      <td>148.0</td>\n",
       "      <td>146.0</td>\n",
       "      <td>69.0</td>\n",
       "      <td>21.0</td>\n",
       "      <td>15.0</td>\n",
       "    </tr>\n",
       "    <tr>\n",
       "      <th>1180118</th>\n",
       "      <td>84.0</td>\n",
       "      <td>19.0</td>\n",
       "      <td>173.0</td>\n",
       "      <td>148.0</td>\n",
       "      <td>130.0</td>\n",
       "      <td>80.0</td>\n",
       "      <td>29.0</td>\n",
       "      <td>14.0</td>\n",
       "    </tr>\n",
       "    <tr>\n",
       "      <th>1180119</th>\n",
       "      <td>88.5</td>\n",
       "      <td>53.0</td>\n",
       "      <td>214.0</td>\n",
       "      <td>63.0</td>\n",
       "      <td>134.0</td>\n",
       "      <td>96.0</td>\n",
       "      <td>30.0</td>\n",
       "      <td>23.0</td>\n",
       "    </tr>\n",
       "  </tbody>\n",
       "</table>\n",
       "<p>1180120 rows × 8 columns</p>\n",
       "</div>"
      ],
      "text/plain": [
       "         허리둘레  감마지티피  트리글리세라이드  LDL콜레스테롤  수축기혈압  이완기혈압  (혈청지오티)AST  (혈청지오티)ALT\n",
       "0        90.0   40.0      92.0     126.0  120.0   80.0        21.0        35.0\n",
       "1        89.0   27.0     121.0     148.0  130.0   82.0        20.0        36.0\n",
       "2        91.0   68.0     104.0      74.0  120.0   70.0        47.0        32.0\n",
       "3        91.0   18.0     106.0     104.0  145.0   87.0        29.0        34.0\n",
       "4        80.0   25.0     104.0     117.0  138.0   82.0        19.0        12.0\n",
       "...       ...    ...       ...       ...    ...    ...         ...         ...\n",
       "1180115  84.0   78.0      85.0     140.0  160.0   90.0        34.0        12.0\n",
       "1180116  77.0   15.0     139.0      60.0  123.0   89.0        11.0         8.0\n",
       "1180117  83.0   23.0     122.0     148.0  146.0   69.0        21.0        15.0\n",
       "1180118  84.0   19.0     173.0     148.0  130.0   80.0        29.0        14.0\n",
       "1180119  88.5   53.0     214.0      63.0  134.0   96.0        30.0        23.0\n",
       "\n",
       "[1180120 rows x 8 columns]"
      ]
     },
     "execution_count": 5,
     "metadata": {},
     "output_type": "execute_result"
    }
   ],
   "source": [
    "X = data[['허리둘레','감마지티피','트리글리세라이드','LDL콜레스테롤','수축기혈압','이완기혈압','(혈청지오티)AST', '(혈청지오티)ALT']]\n",
    "X"
   ]
  },
  {
   "cell_type": "code",
   "execution_count": 6,
   "id": "af237c28",
   "metadata": {},
   "outputs": [
    {
     "data": {
      "text/plain": [
       "0          0.0\n",
       "1          0.0\n",
       "2          0.0\n",
       "3          0.0\n",
       "4          0.0\n",
       "          ... \n",
       "1180115    0.0\n",
       "1180116    0.0\n",
       "1180117    0.0\n",
       "1180118    0.0\n",
       "1180119    0.0\n",
       "Name: 당뇨여부, Length: 1180120, dtype: float64"
      ]
     },
     "execution_count": 6,
     "metadata": {},
     "output_type": "execute_result"
    }
   ],
   "source": [
    "y = data['당뇨여부']\n",
    "y"
   ]
  },
  {
   "cell_type": "code",
   "execution_count": 7,
   "id": "84b71ffa",
   "metadata": {},
   "outputs": [],
   "source": [
    "X_train, X_test, y_train, y_test = train_test_split(X,y,test_size=0.2, random_state=2)"
   ]
  },
  {
   "cell_type": "code",
   "execution_count": 10,
   "id": "5e7142a7",
   "metadata": {},
   "outputs": [],
   "source": [
    "svc01 = LinearSVC(C=0.1).fit(X_train, y_train)\n",
    "svc = LinearSVC(C=1).fit(X_train, y_train)\n",
    "svc001 = LinearSVC(C=0.01).fit(X_train, y_train)\n",
    "svc10 = LinearSVC(C=10).fit(X_train, y_train)"
   ]
  },
  {
   "cell_type": "code",
   "execution_count": 12,
   "id": "fc23f365",
   "metadata": {},
   "outputs": [
    {
     "data": {
      "text/plain": [
       "<matplotlib.legend.Legend at 0x1464f3670>"
      ]
     },
     "execution_count": 12,
     "metadata": {},
     "output_type": "execute_result"
    },
    {
     "data": {
      "image/png": "[encoded data removed]",
      "text/plain": [
       "<Figure size 432x288 with 1 Axes>"
      ]
     },
     "metadata": {
      "image/png": {
       "height": 318,
       "width": 391
      }
     },
     "output_type": "display_data"
    }
   ],
   "source": [
    "plt.plot(svc001.coef_.T, '*',label=\"C=0.01\")\n",
    "plt.plot(svc01.coef_.T, 'v',label=\"C=0.1\")\n",
    "plt.plot(svc.coef_.T, 'o',label=\"C=1\")\n",
    "plt.plot(svc10.coef_.T, '^',label=\"C=10\")\n",
    "\n",
    "plt.xticks(range(len(X.columns)),X.columns,rotation=90)\n",
    "xlims = plt.xlim()\n",
    "plt.hlines(0,xlims[0],xlims[1])\n",
    "plt.legend()"
   ]
  },
  {
   "cell_type": "code",
   "execution_count": 13,
   "id": "bc7852fb",
   "metadata": {},
   "outputs": [
    {
     "name": "stdout",
     "output_type": "stream",
     "text": [
      "C001\n",
      "TrainSet accuarcy : 0.960499780\n",
      "TestSet accuarcy : 0.960652307\n",
      "\n",
      "C01\n",
      "TrainSet accuarcy : 0.960499780\n",
      "TestSet accuarcy : 0.960652307\n",
      "\n",
      "C1\n",
      "TrainSet accuarcy : 0.960499780\n",
      "TestSet accuarcy : 0.960652307\n",
      "\n",
      "C10\n",
      "TrainSet accuarcy : 0.960099397\n",
      "TestSet accuarcy : 0.960249805\n"
     ]
    }
   ],
   "source": [
    "print(\"C001\")\n",
    "print(\"TrainSet accuarcy : {:.9f}\".format(svc001.score(X_train, y_train)))\n",
    "print(\"TestSet accuarcy : {:.9f}\".format(svc001.score(X_test, y_test)))\n",
    "print(\"\\nC01\")\n",
    "print(\"TrainSet accuarcy : {:.9f}\".format(svc01.score(X_train, y_train)))\n",
    "print(\"TestSet accuarcy : {:.9f}\".format(svc01.score(X_test, y_test)))\n",
    "print(\"\\nC1\")\n",
    "print(\"TrainSet accuarcy : {:.9f}\".format(svc.score(X_train, y_train)))\n",
    "print(\"TestSet accuarcy : {:.9f}\".format(svc.score(X_test, y_test)))\n",
    "\n",
    "print(\"\\nC10\")\n",
    "print(\"TrainSet accuarcy : {:.9f}\".format(svc10.score(X_train, y_train)))\n",
    "print(\"TestSet accuarcy : {:.9f}\".format(svc10.score(X_test, y_test)))"
   ]
  },
  {
   "cell_type": "code",
   "execution_count": 14,
   "id": "6b961396",
   "metadata": {},
   "outputs": [],
   "source": [
    "y_pred001 = svc001.predict(X_test)\n",
    "y_pred = svc.predict(X_test)\n",
    "y_pred01 = svc01.predict(X_test)\n",
    "y_pred10 = svc10.predict(X_test)"
   ]
  },
  {
   "cell_type": "code",
   "execution_count": 15,
   "id": "8d91a5d2",
   "metadata": {},
   "outputs": [
    {
     "name": "stdout",
     "output_type": "stream",
     "text": [
      "[[226737      0]\n",
      " [  9287      0]] \n",
      "\n",
      "[[226737      0]\n",
      " [  9287      0]] \n",
      "\n",
      "[[226737      0]\n",
      " [  9287      0]] \n",
      "\n",
      "[[226619    118]\n",
      " [  9264     23]] \n",
      "\n"
     ]
    }
   ],
   "source": [
    "print(metrics.confusion_matrix(y_test, y_pred001),\"\\n\")\n",
    "print(metrics.confusion_matrix(y_test, y_pred01),\"\\n\")\n",
    "print(metrics.confusion_matrix(y_test, y_pred),\"\\n\")\n",
    "print(metrics.confusion_matrix(y_test, y_pred10),\"\\n\")"
   ]
  },
  {
   "cell_type": "code",
   "execution_count": 16,
   "id": "a85021f0",
   "metadata": {},
   "outputs": [],
   "source": [
    "from sklearn.preprocessing import StandardScaler\n",
    "\n",
    "scaler = StandardScaler()\n",
    "\n",
    "scaler.fit(X_train)\n",
    "\n",
    "x_train_scaled = scaler.transform(X_train)\n",
    "\n",
    "x_test_scaled = scaler.transform(X_test)"
   ]
  },
  {
   "cell_type": "code",
   "execution_count": 18,
   "id": "e006d32a",
   "metadata": {},
   "outputs": [],
   "source": [
    "svc01_scaled = LinearSVC(C=0.1).fit(x_train_scaled, y_train)\n",
    "svc_scaled = LinearSVC(C=1).fit(x_train_scaled, y_train)\n",
    "svc001_scaled = LinearSVC(C=0.01).fit(x_train_scaled, y_train)\n",
    "svc10_scaled = LinearSVC(C=10).fit(x_train_scaled, y_train)"
   ]
  },
  {
   "cell_type": "code",
   "execution_count": 19,
   "id": "7a8833bd",
   "metadata": {},
   "outputs": [
    {
     "data": {
      "text/plain": [
       "<matplotlib.legend.Legend at 0x146624460>"
      ]
     },
     "execution_count": 19,
     "metadata": {},
     "output_type": "execute_result"
    },
    {
     "data": {
      "image/png": "[encoded data removed]",
      "text/plain": [
       "<Figure size 432x288 with 1 Axes>"
      ]
     },
     "metadata": {
      "image/png": {
       "height": 318,
       "width": 385
      }
     },
     "output_type": "display_data"
    }
   ],
   "source": [
    "plt.plot(svc001_scaled.coef_.T, '*',label=\"C=0.01\")\n",
    "plt.plot(svc01_scaled.coef_.T, 'v',label=\"C=0.1\")\n",
    "plt.plot(svc_scaled.coef_.T, 'o',label=\"C=1\")\n",
    "plt.plot(svc10_scaled.coef_.T, '^',label=\"C=10\")\n",
    "\n",
    "plt.xticks(range(len(X.columns)),X.columns,rotation=90)\n",
    "xlims = plt.xlim()\n",
    "plt.hlines(0,xlims[0],xlims[1])\n",
    "plt.legend()"
   ]
  },
  {
   "cell_type": "code",
   "execution_count": 21,
   "id": "fa4c97c6",
   "metadata": {},
   "outputs": [
    {
     "name": "stdout",
     "output_type": "stream",
     "text": [
      "C001\n",
      "TrainSet accuarcy : 0.960499780\n",
      "TestSet accuarcy : 0.960652307\n",
      "\n",
      "C01\n",
      "TrainSet accuarcy : 0.960499780\n",
      "TestSet accuarcy : 0.960652307\n",
      "\n",
      "C1\n",
      "TrainSet accuarcy : 0.960499780\n",
      "TestSet accuarcy : 0.960652307\n",
      "\n",
      "C10\n",
      "TrainSet accuarcy : 0.960499780\n",
      "TestSet accuarcy : 0.960652307\n"
     ]
    }
   ],
   "source": [
    "print(\"C001\")\n",
    "print(\"TrainSet accuarcy : {:.9f}\".format(svc001_scaled.score(x_train_scaled, y_train)))\n",
    "print(\"TestSet accuarcy : {:.9f}\".format(svc001_scaled.score(x_test_scaled, y_test)))\n",
    "print(\"\\nC01\")\n",
    "print(\"TrainSet accuarcy : {:.9f}\".format(svc01_scaled.score(x_train_scaled, y_train)))\n",
    "print(\"TestSet accuarcy : {:.9f}\".format(svc01_scaled.score(x_test_scaled, y_test)))\n",
    "print(\"\\nC1\")\n",
    "print(\"TrainSet accuarcy : {:.9f}\".format(svc_scaled.score(x_train_scaled, y_train)))\n",
    "print(\"TestSet accuarcy : {:.9f}\".format(svc_scaled.score(x_test_scaled, y_test)))\n",
    "\n",
    "print(\"\\nC10\")\n",
    "print(\"TrainSet accuarcy : {:.9f}\".format(svc10_scaled.score(x_train_scaled, y_train)))\n",
    "print(\"TestSet accuarcy : {:.9f}\".format(svc10_scaled.score(x_test_scaled, y_test)))"
   ]
  },
  {
   "cell_type": "code",
   "execution_count": 22,
   "id": "2a0c6bd7",
   "metadata": {},
   "outputs": [],
   "source": [
    "y_pred001_scaled = svc001_scaled.predict(X_test)\n",
    "y_pred01_scaled = svc01_scaled.predict(X_test)\n",
    "y_pred_scaled = svc_scaled.predict(X_test)\n",
    "y_pred10_scaled = svc10_scaled.predict(X_test)"
   ]
  },
  {
   "cell_type": "code",
   "execution_count": 24,
   "id": "bd935d1e",
   "metadata": {},
   "outputs": [
    {
     "name": "stdout",
     "output_type": "stream",
     "text": [
      "[[  2334 224403]\n",
      " [    23   9264]] \n",
      "\n",
      "[[  2333 224404]\n",
      " [    23   9264]] \n",
      "\n",
      "[[  2333 224404]\n",
      " [    23   9264]] \n",
      "\n",
      "[[  4052 222685]\n",
      " [    44   9243]] \n",
      "\n"
     ]
    }
   ],
   "source": [
    "print(metrics.confusion_matrix(y_test, y_pred001_scaled),\"\\n\")\n",
    "print(metrics.confusion_matrix(y_test, y_pred01_scaled),\"\\n\")\n",
    "print(metrics.confusion_matrix(y_test, y_pred_scaled),\"\\n\")\n",
    "print(metrics.confusion_matrix(y_test, y_pred10_scaled),\"\\n\")"
   ]
  },
  {
   "cell_type": "code",
   "execution_count": null,
   "id": "f1043014",
   "metadata": {},
   "outputs": [],
   "source": []
  }
 ],
 "metadata": {
  "kernelspec": {
   "display_name": "Python 3",
   "language": "python",
   "name": "python3"
  },
  "language_info": {
   "codemirror_mode": {
    "name": "ipython",
    "version": 3
   },
   "file_extension": ".py",
   "mimetype": "text/x-python",
   "name": "python",
   "nbconvert_exporter": "python",
   "pygments_lexer": "ipython3",
   "version": "3.8.8"
  }
 },
 "nbformat": 4,
 "nbformat_minor": 5
}
