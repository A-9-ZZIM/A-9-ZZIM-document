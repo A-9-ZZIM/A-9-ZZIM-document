{
 "cells": [
  {
   "cell_type": "code",
   "execution_count": 1,
   "metadata": {},
   "outputs": [],
   "source": [
    "import os\n",
    "import numpy as np\n",
    "import pandas as pd\n",
    "pd.set_option('display.float_format', lambda x: '%.5f' % x)\n",
    "import matplotlib.pyplot as plt\n",
    "import seaborn as sns\n",
    "plt.style.use('fivethirtyeight')\n",
    "import warnings\n",
    "from scipy import stats\n",
    "from scipy.stats import skew, kurtosis\n",
    "warnings.filterwarnings('ignore')\n",
    "%matplotlib inline\n",
    "\n",
    "if os.name == 'posix': # Mac 환경 폰트 설정\n",
    "    plt.rc('font', family='AppleGothic')\n",
    "elif os.name == 'nt': # Windows 환경 폰트 설정\n",
    "    plt.rc('font', family='Malgun Gothic')\n",
    "\n",
    "plt.rc('axes', unicode_minus=False) # 마이너스 폰트 설정\n",
    "\n",
    "# 글씨 선명하게 출력하는 설정\n",
    "%config InlineBackend.figure_format = 'retina'"
   ]
  },
  {
   "cell_type": "code",
   "execution_count": 2,
   "metadata": {},
   "outputs": [],
   "source": [
    "data = pd.read_csv('dataset2.csv')"
   ]
  },
  {
   "cell_type": "code",
   "execution_count": 3,
   "metadata": {},
   "outputs": [
    {
     "data": {
      "text/html": [
       "<div>\n",
       "<style scoped>\n",
       "    .dataframe tbody tr th:only-of-type {\n",
       "        vertical-align: middle;\n",
       "    }\n",
       "\n",
       "    .dataframe tbody tr th {\n",
       "        vertical-align: top;\n",
       "    }\n",
       "\n",
       "    .dataframe thead th {\n",
       "        text-align: right;\n",
       "    }\n",
       "</style>\n",
       "<table border=\"1\" class=\"dataframe\">\n",
       "  <thead>\n",
       "    <tr style=\"text-align: right;\">\n",
       "      <th></th>\n",
       "      <th>성별코드</th>\n",
       "      <th>연령대코드(5세단위)</th>\n",
       "      <th>신장(5Cm단위)</th>\n",
       "      <th>체중(5Kg단위)</th>\n",
       "      <th>허리둘레</th>\n",
       "      <th>시력(좌)</th>\n",
       "      <th>시력(우)</th>\n",
       "      <th>청력(좌)</th>\n",
       "      <th>청력(우)</th>\n",
       "      <th>수축기혈압</th>\n",
       "      <th>...</th>\n",
       "      <th>혈색소</th>\n",
       "      <th>요단백</th>\n",
       "      <th>혈청크레아티닌</th>\n",
       "      <th>(혈청지오티)AST</th>\n",
       "      <th>(혈청지오티)ALT</th>\n",
       "      <th>감마지티피</th>\n",
       "      <th>흡연상태</th>\n",
       "      <th>음주여부</th>\n",
       "      <th>당뇨여부</th>\n",
       "      <th>BMI</th>\n",
       "    </tr>\n",
       "  </thead>\n",
       "  <tbody>\n",
       "    <tr>\n",
       "      <th>0</th>\n",
       "      <td>1</td>\n",
       "      <td>8</td>\n",
       "      <td>170</td>\n",
       "      <td>75</td>\n",
       "      <td>90.00000</td>\n",
       "      <td>1.00000</td>\n",
       "      <td>1.00000</td>\n",
       "      <td>1.00000</td>\n",
       "      <td>1.00000</td>\n",
       "      <td>120.00000</td>\n",
       "      <td>...</td>\n",
       "      <td>17.10000</td>\n",
       "      <td>1.00000</td>\n",
       "      <td>1.00000</td>\n",
       "      <td>21.00000</td>\n",
       "      <td>35.00000</td>\n",
       "      <td>40.00000</td>\n",
       "      <td>1.00000</td>\n",
       "      <td>1.00000</td>\n",
       "      <td>0.00000</td>\n",
       "      <td>26.00000</td>\n",
       "    </tr>\n",
       "    <tr>\n",
       "      <th>1</th>\n",
       "      <td>1</td>\n",
       "      <td>7</td>\n",
       "      <td>180</td>\n",
       "      <td>80</td>\n",
       "      <td>89.00000</td>\n",
       "      <td>0.90000</td>\n",
       "      <td>1.20000</td>\n",
       "      <td>1.00000</td>\n",
       "      <td>1.00000</td>\n",
       "      <td>130.00000</td>\n",
       "      <td>...</td>\n",
       "      <td>15.80000</td>\n",
       "      <td>1.00000</td>\n",
       "      <td>0.90000</td>\n",
       "      <td>20.00000</td>\n",
       "      <td>36.00000</td>\n",
       "      <td>27.00000</td>\n",
       "      <td>3.00000</td>\n",
       "      <td>0.00000</td>\n",
       "      <td>0.00000</td>\n",
       "      <td>25.00000</td>\n",
       "    </tr>\n",
       "    <tr>\n",
       "      <th>2</th>\n",
       "      <td>1</td>\n",
       "      <td>9</td>\n",
       "      <td>165</td>\n",
       "      <td>75</td>\n",
       "      <td>91.00000</td>\n",
       "      <td>1.20000</td>\n",
       "      <td>1.50000</td>\n",
       "      <td>1.00000</td>\n",
       "      <td>1.00000</td>\n",
       "      <td>120.00000</td>\n",
       "      <td>...</td>\n",
       "      <td>15.80000</td>\n",
       "      <td>1.00000</td>\n",
       "      <td>0.90000</td>\n",
       "      <td>47.00000</td>\n",
       "      <td>32.00000</td>\n",
       "      <td>68.00000</td>\n",
       "      <td>1.00000</td>\n",
       "      <td>0.00000</td>\n",
       "      <td>0.00000</td>\n",
       "      <td>28.00000</td>\n",
       "    </tr>\n",
       "    <tr>\n",
       "      <th>3</th>\n",
       "      <td>1</td>\n",
       "      <td>11</td>\n",
       "      <td>175</td>\n",
       "      <td>80</td>\n",
       "      <td>91.00000</td>\n",
       "      <td>1.50000</td>\n",
       "      <td>1.20000</td>\n",
       "      <td>1.00000</td>\n",
       "      <td>1.00000</td>\n",
       "      <td>145.00000</td>\n",
       "      <td>...</td>\n",
       "      <td>17.60000</td>\n",
       "      <td>1.00000</td>\n",
       "      <td>1.10000</td>\n",
       "      <td>29.00000</td>\n",
       "      <td>34.00000</td>\n",
       "      <td>18.00000</td>\n",
       "      <td>1.00000</td>\n",
       "      <td>0.00000</td>\n",
       "      <td>0.00000</td>\n",
       "      <td>26.00000</td>\n",
       "    </tr>\n",
       "    <tr>\n",
       "      <th>4</th>\n",
       "      <td>1</td>\n",
       "      <td>11</td>\n",
       "      <td>165</td>\n",
       "      <td>60</td>\n",
       "      <td>80.00000</td>\n",
       "      <td>1.00000</td>\n",
       "      <td>1.20000</td>\n",
       "      <td>1.00000</td>\n",
       "      <td>1.00000</td>\n",
       "      <td>138.00000</td>\n",
       "      <td>...</td>\n",
       "      <td>13.80000</td>\n",
       "      <td>1.00000</td>\n",
       "      <td>0.80000</td>\n",
       "      <td>19.00000</td>\n",
       "      <td>12.00000</td>\n",
       "      <td>25.00000</td>\n",
       "      <td>1.00000</td>\n",
       "      <td>0.00000</td>\n",
       "      <td>0.00000</td>\n",
       "      <td>22.00000</td>\n",
       "    </tr>\n",
       "    <tr>\n",
       "      <th>...</th>\n",
       "      <td>...</td>\n",
       "      <td>...</td>\n",
       "      <td>...</td>\n",
       "      <td>...</td>\n",
       "      <td>...</td>\n",
       "      <td>...</td>\n",
       "      <td>...</td>\n",
       "      <td>...</td>\n",
       "      <td>...</td>\n",
       "      <td>...</td>\n",
       "      <td>...</td>\n",
       "      <td>...</td>\n",
       "      <td>...</td>\n",
       "      <td>...</td>\n",
       "      <td>...</td>\n",
       "      <td>...</td>\n",
       "      <td>...</td>\n",
       "      <td>...</td>\n",
       "      <td>...</td>\n",
       "      <td>...</td>\n",
       "      <td>...</td>\n",
       "    </tr>\n",
       "    <tr>\n",
       "      <th>1180115</th>\n",
       "      <td>1</td>\n",
       "      <td>13</td>\n",
       "      <td>165</td>\n",
       "      <td>65</td>\n",
       "      <td>84.00000</td>\n",
       "      <td>0.90000</td>\n",
       "      <td>1.20000</td>\n",
       "      <td>1.00000</td>\n",
       "      <td>1.00000</td>\n",
       "      <td>160.00000</td>\n",
       "      <td>...</td>\n",
       "      <td>15.20000</td>\n",
       "      <td>1.00000</td>\n",
       "      <td>1.00000</td>\n",
       "      <td>34.00000</td>\n",
       "      <td>12.00000</td>\n",
       "      <td>78.00000</td>\n",
       "      <td>1.00000</td>\n",
       "      <td>1.00000</td>\n",
       "      <td>0.00000</td>\n",
       "      <td>24.00000</td>\n",
       "    </tr>\n",
       "    <tr>\n",
       "      <th>1180116</th>\n",
       "      <td>1</td>\n",
       "      <td>8</td>\n",
       "      <td>180</td>\n",
       "      <td>65</td>\n",
       "      <td>77.00000</td>\n",
       "      <td>1.20000</td>\n",
       "      <td>1.20000</td>\n",
       "      <td>1.00000</td>\n",
       "      <td>1.00000</td>\n",
       "      <td>123.00000</td>\n",
       "      <td>...</td>\n",
       "      <td>15.90000</td>\n",
       "      <td>1.00000</td>\n",
       "      <td>1.00000</td>\n",
       "      <td>11.00000</td>\n",
       "      <td>8.00000</td>\n",
       "      <td>15.00000</td>\n",
       "      <td>3.00000</td>\n",
       "      <td>1.00000</td>\n",
       "      <td>0.00000</td>\n",
       "      <td>20.00000</td>\n",
       "    </tr>\n",
       "    <tr>\n",
       "      <th>1180117</th>\n",
       "      <td>2</td>\n",
       "      <td>14</td>\n",
       "      <td>155</td>\n",
       "      <td>55</td>\n",
       "      <td>83.00000</td>\n",
       "      <td>0.20000</td>\n",
       "      <td>0.60000</td>\n",
       "      <td>1.00000</td>\n",
       "      <td>1.00000</td>\n",
       "      <td>146.00000</td>\n",
       "      <td>...</td>\n",
       "      <td>12.40000</td>\n",
       "      <td>1.00000</td>\n",
       "      <td>0.70000</td>\n",
       "      <td>21.00000</td>\n",
       "      <td>15.00000</td>\n",
       "      <td>23.00000</td>\n",
       "      <td>1.00000</td>\n",
       "      <td>0.00000</td>\n",
       "      <td>0.00000</td>\n",
       "      <td>23.00000</td>\n",
       "    </tr>\n",
       "    <tr>\n",
       "      <th>1180118</th>\n",
       "      <td>2</td>\n",
       "      <td>14</td>\n",
       "      <td>155</td>\n",
       "      <td>55</td>\n",
       "      <td>84.00000</td>\n",
       "      <td>0.90000</td>\n",
       "      <td>1.20000</td>\n",
       "      <td>1.00000</td>\n",
       "      <td>1.00000</td>\n",
       "      <td>130.00000</td>\n",
       "      <td>...</td>\n",
       "      <td>12.90000</td>\n",
       "      <td>1.00000</td>\n",
       "      <td>0.80000</td>\n",
       "      <td>29.00000</td>\n",
       "      <td>14.00000</td>\n",
       "      <td>19.00000</td>\n",
       "      <td>1.00000</td>\n",
       "      <td>0.00000</td>\n",
       "      <td>0.00000</td>\n",
       "      <td>23.00000</td>\n",
       "    </tr>\n",
       "    <tr>\n",
       "      <th>1180119</th>\n",
       "      <td>1</td>\n",
       "      <td>13</td>\n",
       "      <td>160</td>\n",
       "      <td>70</td>\n",
       "      <td>88.50000</td>\n",
       "      <td>1.20000</td>\n",
       "      <td>1.00000</td>\n",
       "      <td>1.00000</td>\n",
       "      <td>1.00000</td>\n",
       "      <td>134.00000</td>\n",
       "      <td>...</td>\n",
       "      <td>16.10000</td>\n",
       "      <td>1.00000</td>\n",
       "      <td>1.10000</td>\n",
       "      <td>30.00000</td>\n",
       "      <td>23.00000</td>\n",
       "      <td>53.00000</td>\n",
       "      <td>2.00000</td>\n",
       "      <td>1.00000</td>\n",
       "      <td>0.00000</td>\n",
       "      <td>27.00000</td>\n",
       "    </tr>\n",
       "  </tbody>\n",
       "</table>\n",
       "<p>1180120 rows × 26 columns</p>\n",
       "</div>"
      ],
      "text/plain": [
       "         성별코드  연령대코드(5세단위)  신장(5Cm단위)  체중(5Kg단위)     허리둘레   시력(좌)   시력(우)  \\\n",
       "0           1            8        170         75 90.00000 1.00000 1.00000   \n",
       "1           1            7        180         80 89.00000 0.90000 1.20000   \n",
       "2           1            9        165         75 91.00000 1.20000 1.50000   \n",
       "3           1           11        175         80 91.00000 1.50000 1.20000   \n",
       "4           1           11        165         60 80.00000 1.00000 1.20000   \n",
       "...       ...          ...        ...        ...      ...     ...     ...   \n",
       "1180115     1           13        165         65 84.00000 0.90000 1.20000   \n",
       "1180116     1            8        180         65 77.00000 1.20000 1.20000   \n",
       "1180117     2           14        155         55 83.00000 0.20000 0.60000   \n",
       "1180118     2           14        155         55 84.00000 0.90000 1.20000   \n",
       "1180119     1           13        160         70 88.50000 1.20000 1.00000   \n",
       "\n",
       "          청력(좌)   청력(우)     수축기혈압  ...      혈색소     요단백  혈청크레아티닌  (혈청지오티)AST  \\\n",
       "0       1.00000 1.00000 120.00000  ... 17.10000 1.00000  1.00000    21.00000   \n",
       "1       1.00000 1.00000 130.00000  ... 15.80000 1.00000  0.90000    20.00000   \n",
       "2       1.00000 1.00000 120.00000  ... 15.80000 1.00000  0.90000    47.00000   \n",
       "3       1.00000 1.00000 145.00000  ... 17.60000 1.00000  1.10000    29.00000   \n",
       "4       1.00000 1.00000 138.00000  ... 13.80000 1.00000  0.80000    19.00000   \n",
       "...         ...     ...       ...  ...      ...     ...      ...         ...   \n",
       "1180115 1.00000 1.00000 160.00000  ... 15.20000 1.00000  1.00000    34.00000   \n",
       "1180116 1.00000 1.00000 123.00000  ... 15.90000 1.00000  1.00000    11.00000   \n",
       "1180117 1.00000 1.00000 146.00000  ... 12.40000 1.00000  0.70000    21.00000   \n",
       "1180118 1.00000 1.00000 130.00000  ... 12.90000 1.00000  0.80000    29.00000   \n",
       "1180119 1.00000 1.00000 134.00000  ... 16.10000 1.00000  1.10000    30.00000   \n",
       "\n",
       "         (혈청지오티)ALT    감마지티피    흡연상태    음주여부    당뇨여부      BMI  \n",
       "0          35.00000 40.00000 1.00000 1.00000 0.00000 26.00000  \n",
       "1          36.00000 27.00000 3.00000 0.00000 0.00000 25.00000  \n",
       "2          32.00000 68.00000 1.00000 0.00000 0.00000 28.00000  \n",
       "3          34.00000 18.00000 1.00000 0.00000 0.00000 26.00000  \n",
       "4          12.00000 25.00000 1.00000 0.00000 0.00000 22.00000  \n",
       "...             ...      ...     ...     ...     ...      ...  \n",
       "1180115    12.00000 78.00000 1.00000 1.00000 0.00000 24.00000  \n",
       "1180116     8.00000 15.00000 3.00000 1.00000 0.00000 20.00000  \n",
       "1180117    15.00000 23.00000 1.00000 0.00000 0.00000 23.00000  \n",
       "1180118    14.00000 19.00000 1.00000 0.00000 0.00000 23.00000  \n",
       "1180119    23.00000 53.00000 2.00000 1.00000 0.00000 27.00000  \n",
       "\n",
       "[1180120 rows x 26 columns]"
      ]
     },
     "execution_count": 3,
     "metadata": {},
     "output_type": "execute_result"
    }
   ],
   "source": [
    "data"
   ]
  },
  {
   "cell_type": "markdown",
   "metadata": {},
   "source": [
    "## 언더샘플링\n"
   ]
  },
  {
   "cell_type": "code",
   "execution_count": 4,
   "metadata": {},
   "outputs": [
    {
     "name": "stdout",
     "output_type": "stream",
     "text": [
      "비율 : 0.04109158821780597\n"
     ]
    },
    {
     "data": {
      "image/png": "[encoded data removed]",
      "text/plain": [
       "<Figure size 432x288 with 1 Axes>"
      ]
     },
     "metadata": {
      "image/png": {
       "height": 255,
       "width": 410
      },
      "needs_background": "light"
     },
     "output_type": "display_data"
    }
   ],
   "source": [
    "dang = data[data['당뇨여부']== 1].copy()\n",
    "nodang = data[data['당뇨여부']== 0].copy()\n",
    "\n",
    "\n",
    "plt.bar(np.arange(2),[len(nodang),len(dang)])\n",
    "plt.xticks(np.arange(2),['0','1'])\n",
    "\n",
    "print(\"비율 :\",len(dang)/len(nodang))"
   ]
  },
  {
   "cell_type": "code",
   "execution_count": 5,
   "metadata": {},
   "outputs": [],
   "source": [
    "from imblearn.under_sampling import RandomUnderSampler\n",
    "\n",
    "rus = RandomUnderSampler()\n"
   ]
  },
  {
   "cell_type": "code",
   "execution_count": 6,
   "metadata": {},
   "outputs": [],
   "source": [
    "X = data[['허리둘레','연령대코드(5세단위)','감마지티피','수축기혈압','BMI']].copy()\n",
    "Y = data[['당뇨여부']].copy()\n",
    "\n",
    "\n",
    "def UnderSampling(ss):\n",
    "    rus = RandomUnderSampler(sampling_strategy = ss)\n",
    "\n",
    "    x_rus, y_rus = rus.fit_resample(X, Y)\n",
    "    \n",
    "    return x_rus, y_rus\n",
    "    "
   ]
  },
  {
   "cell_type": "code",
   "execution_count": 8,
   "metadata": {},
   "outputs": [
    {
     "name": "stdout",
     "output_type": "stream",
     "text": [
      "원본 데이터 당뇨 수 당뇨여부   46579.00000\n",
      "dtype: float64\n",
      "랜덤 언더 샘플링(1) 후, 비당뇨 수(auto) -> 46579\n",
      "비율 : 1.0\n",
      "랜덤 언더 샘플링(0.8) 후, 비당뇨 수(auto) -> 58223\n",
      "비율 : 0.8000103052058465\n",
      "랜덤 언더 샘플링(0.6) 후, 비당뇨 수(auto) -> 77631\n",
      "비율 : 0.6000051525807989\n",
      "랜덤 언더 샘플링(0.2) 후, 비당뇨 수(auto) -> 232895\n",
      "비율 : 0.2\n"
     ]
    }
   ],
   "source": [
    "# 당뇨 : 비당뇨 = 1:1 to 1:2\n",
    "print(\"원본 데이터 당뇨 수\", pd.get_dummies(Y).sum())\n",
    "\n",
    "x_rus1, y_rus1 = UnderSampling(1)\n",
    "x_rus08, y_rus08 = UnderSampling(0.8)\n",
    "x_rus06, y_rus06 = UnderSampling(0.6)\n",
    "x_rus04, y_rus04 = UnderSampling(0.4)\n",
    "x_rus02, y_rus02 = UnderSampling(0.2)\n",
    "# x_rus0, y_rus0 = UnderSampling(0)\n",
    "\n",
    "\n",
    "\n",
    "print(\"랜덤 언더 샘플링(1) 후, 비당뇨 수(auto) ->\",len(y_rus1[y_rus1['당뇨여부']==0]))\n",
    "print(\"비율 :\",len(y_rus1[y_rus1['당뇨여부']==1])/(len(y_rus1[y_rus1['당뇨여부']==0])))\n",
    "\n",
    "print(\"랜덤 언더 샘플링(0.8) 후, 비당뇨 수(auto) ->\",len(y_rus08[y_rus08['당뇨여부']==0]))\n",
    "print(\"비율 :\",len(y_rus08[y_rus08['당뇨여부']==1])/(len(y_rus08[y_rus08['당뇨여부']==0])))\n",
    "\n",
    "print(\"랜덤 언더 샘플링(0.6) 후, 비당뇨 수(auto) ->\",len(y_rus06[y_rus06['당뇨여부']==0]))\n",
    "print(\"비율 :\",len(y_rus06[y_rus06['당뇨여부']==1])/(len(y_rus06[y_rus06['당뇨여부']==0])))\n",
    "\n",
    "print(\"랜덤 언더 샘플링(0.2) 후, 비당뇨 수(auto) ->\",len(y_rus02[y_rus02['당뇨여부']==0]))\n",
    "print(\"비율 :\",len(y_rus02[y_rus02['당뇨여부']==1])/(len(y_rus02[y_rus02['당뇨여부']==0])))\n"
   ]
  },
  {
   "cell_type": "code",
   "execution_count": 9,
   "metadata": {},
   "outputs": [],
   "source": [
    "def showbar(df_y): \n",
    "    dang = df_y[df_y['당뇨여부']== 1].copy()\n",
    "    nodang = df_y[df_y['당뇨여부']== 0].copy()\n",
    "\n",
    "    plt.bar(np.arange(2),[len(nodang),len(dang)])\n",
    "    plt.xticks(np.arange(2),['0','1'])"
   ]
  },
  {
   "cell_type": "code",
   "execution_count": 10,
   "metadata": {},
   "outputs": [
    {
     "data": {
      "image/png": "[encoded data removed]",
      "text/plain": [
       "<Figure size 432x288 with 1 Axes>"
      ]
     },
     "metadata": {
      "image/png": {
       "height": 244,
       "width": 427
      },
      "needs_background": "light"
     },
     "output_type": "display_data"
    }
   ],
   "source": [
    "showbar(y_rus1)"
   ]
  },
  {
   "cell_type": "code",
   "execution_count": 11,
   "metadata": {},
   "outputs": [
    {
     "data": {
      "image/png": "[encoded data removed]",
      "text/plain": [
       "<Figure size 432x288 with 1 Axes>"
      ]
     },
     "metadata": {
      "image/png": {
       "height": 244,
       "width": 427
      },
      "needs_background": "light"
     },
     "output_type": "display_data"
    }
   ],
   "source": [
    "showbar(y_rus08)"
   ]
  },
  {
   "cell_type": "code",
   "execution_count": 12,
   "metadata": {},
   "outputs": [
    {
     "data": {
      "image/png": "[encoded data removed]",
      "text/plain": [
       "<Figure size 432x288 with 1 Axes>"
      ]
     },
     "metadata": {
      "image/png": {
       "height": 244,
       "width": 434
      },
      "needs_background": "light"
     },
     "output_type": "display_data"
    }
   ],
   "source": [
    "showbar(y_rus02)"
   ]
  },
  {
   "cell_type": "markdown",
   "metadata": {},
   "source": [
    "## Logistic Regression\n",
    ": 허리둘레, 연령대 코드, 감마지티피 + 수축기/ 이완기 혈압을 속성으로 진행"
   ]
  },
  {
   "cell_type": "code",
   "execution_count": 13,
   "metadata": {},
   "outputs": [],
   "source": [
    "from sklearn.linear_model import LogisticRegression\n",
    "from sklearn.model_selection import train_test_split\n",
    "from sklearn.preprocessing import StandardScaler\n",
    "from sklearn.preprocessing import RobustScaler\n"
   ]
  },
  {
   "cell_type": "code",
   "execution_count": 14,
   "metadata": {},
   "outputs": [],
   "source": [
    "S_scaler = StandardScaler()\n",
    "R_scaler = RobustScaler()"
   ]
  },
  {
   "cell_type": "code",
   "execution_count": 18,
   "metadata": {},
   "outputs": [],
   "source": [
    "## Features : 허리둘레, 연령대코드(5세단위), 감마지티피, 수축기혈압, 이완기혈압, BMI\n",
    "\n",
    "def Logistic(x,y):\n",
    "    LR_model = LogisticRegression()\n",
    "    \n",
    "    X_train, X_test, Y_train, Y_test = train_test_split(x, y, stratify=y, test_size=0.2, shuffle=True)\n",
    "    # stratify=diabetes\n",
    "    \n",
    "    ## Data Scaling\n",
    "    \n",
    "    ## 1. StandardScaler\n",
    "        # S_train_features = S_scaler.fit_transform(train_features)\n",
    "        # S_test_features = S_scaler.fit_transform(test_features)\n",
    "    \n",
    "    ## 2. RobustScaler\n",
    "    \n",
    "    \n",
    "    R_X_train = R_scaler.fit_transform(X_train)\n",
    "    R_X_test= R_scaler.transform(X_test)\n",
    "    \n",
    "    LR_model.fit(R_X_train, Y_train)\n",
    "    \n",
    "    return LR_model, R_X_train, R_X_test, Y_train, Y_test\n",
    "\n",
    "    "
   ]
  },
  {
   "cell_type": "markdown",
   "metadata": {},
   "source": [
    "## 샘플링 별 평가 세트의 정확도 확인"
   ]
  },
  {
   "cell_type": "code",
   "execution_count": 21,
   "metadata": {},
   "outputs": [
    {
     "name": "stdout",
     "output_type": "stream",
     "text": [
      "---- 1\n",
      "0.686941470090975\n",
      "0.6909081150708458\n",
      "---- 0.8\n",
      "0.6796316837823977\n",
      "0.6861313868613139\n",
      "---- 0.6\n",
      "0.6856130746316722\n",
      "0.6921745431124708\n",
      "---- 0.4\n",
      "0.7267903695752185\n",
      "0.7249892657793044\n",
      "---- 0.2\n",
      "0.8309635520330622\n",
      "0.8311655783164863\n"
     ]
    }
   ],
   "source": [
    "## 학습, 평가 세트의 정확도 확인\n",
    "\n",
    "# print(LR_model.score(S_train_features, train_labels))\n",
    "# print(LR_model.score(S_test_features, test_labels))\n",
    "print(\"---- 1\")\n",
    "\n",
    "lr1, r_x_train1, r_x_test1, y_train1, y_test1 = Logistic(x_rus1,y_rus1)\n",
    "print(lr1.score(r_x_train1,y_train1))\n",
    "print(lr1.score(r_x_test1, y_test1))\n",
    "\n",
    "print(\"---- 0.8\")\n",
    "\n",
    "lr08, r_x_train08, r_x_test08, y_train08, y_test08 = Logistic(x_rus08,y_rus08)\n",
    "print(lr08.score(r_x_train08,y_train08))\n",
    "print(lr08.score(r_x_test08, y_test08))\n",
    "\n",
    "\n",
    "print(\"---- 0.6\")\n",
    "\n",
    "lr06, r_x_train06, r_x_test06, y_train06, y_test06 = Logistic(x_rus06,y_rus06)\n",
    "print(lr06.score(r_x_train06,y_train06))\n",
    "print(lr06.score(r_x_test06, y_test06))\n",
    "\n",
    "print(\"---- 0.4\")\n",
    "\n",
    "lr04, r_x_train04, r_x_test04, y_train04, y_test04 = Logistic(x_rus04,y_rus04)\n",
    "print(lr04.score(r_x_train04,y_train04))\n",
    "print(lr04.score(r_x_test04, y_test04))\n",
    "\n",
    "print(\"---- 0.2\")\n",
    "\n",
    "lr02, r_x_train02, r_x_test02, y_train02, y_test02 = Logistic(x_rus02,y_rus02)\n",
    "print(lr02.score(r_x_train02,y_train02))\n",
    "print(lr02.score(r_x_test02, y_test02))\n",
    "\n"
   ]
  },
  {
   "cell_type": "code",
   "execution_count": 22,
   "metadata": {},
   "outputs": [
    {
     "name": "stdout",
     "output_type": "stream",
     "text": [
      "[[0.46498536 0.78568808 0.30297659 0.23441977 0.13084627]]\n",
      "[[0.43467905 1.04818621 0.30381915 0.2225174  0.13626653]]\n",
      "[[0.47612725 1.02007184 0.29234925 0.20439939 0.11050569]]\n",
      "[[0.44240191 0.99535572 0.26166141 0.20239775 0.10773803]]\n",
      "[[0.46608947 0.95539954 0.22905204 0.20676406 0.13610579]]\n"
     ]
    }
   ],
   "source": [
    "## coefficients 값 확인\n",
    "## '허리둘레','연령대코드(5세단위)','감마지티피','수축기혈압','BMI'\n",
    "print(lr1.coef_)\n",
    "print(lr08.coef_)\n",
    "print(lr06.coef_)\n",
    "print(lr04.coef_)\n",
    "print(lr02.coef_)\n"
   ]
  },
  {
   "cell_type": "code",
   "execution_count": 23,
   "metadata": {},
   "outputs": [],
   "source": [
    "## '허리둘레','연령대코드(5세단위)','감마지티피','수축기혈압','이완기혈압', 'BMI'\n",
    "\n",
    "Dong =  np.array([100.0, 14, 42.0, 140.0,31.0])\n",
    "Hyuck = np.array([80.0, 12, 35.0, 120.0, 24.0])\n",
    "Hee =   np.array([91.0, 11, 40.0, 130.0, 27.0])\n",
    "Sue =   np.array([74.0, 10, 20.0, 130.0,  23.0])\n",
    "Gu =    np.array([72.0, 7, 24.0, 120.0, 22.0])\n",
    "\n",
    "sample_people = np.array([Dong, Hyuck, Hee, Sue, Gu])"
   ]
  },
  {
   "cell_type": "code",
   "execution_count": 24,
   "metadata": {},
   "outputs": [],
   "source": [
    "sample_people = R_scaler.transform(sample_people)"
   ]
  },
  {
   "cell_type": "code",
   "execution_count": 25,
   "metadata": {},
   "outputs": [
    {
     "name": "stdout",
     "output_type": "stream",
     "text": [
      "[1. 1. 1. 0. 0.]\n",
      "[1. 1. 1. 0. 0.]\n",
      "[1. 0. 0. 0. 0.]\n",
      "[1. 0. 0. 0. 0.]\n",
      "[0. 0. 0. 0. 0.]\n"
     ]
    }
   ],
   "source": [
    "print(lr1.predict(sample_people))\n",
    "print(lr08.predict(sample_people))\n",
    "print(lr06.predict(sample_people))\n",
    "print(lr04.predict(sample_people))\n",
    "print(lr02.predict(sample_people))"
   ]
  },
  {
   "cell_type": "code",
   "execution_count": 26,
   "metadata": {},
   "outputs": [
    {
     "name": "stdout",
     "output_type": "stream",
     "text": [
      "[[0.14170733 0.85829267]\n",
      " [0.47834369 0.52165631]\n",
      " [0.38689985 0.61310015]\n",
      " [0.68033745 0.31966255]\n",
      " [0.84520326 0.15479674]]\n"
     ]
    }
   ],
   "source": [
    "print(lr08.predict_proba(sample_people))"
   ]
  },
  {
   "cell_type": "markdown",
   "metadata": {},
   "source": [
    "## TP FP FN FP 확인\n",
    " : 샘플 예측을 가장 잘 했다고 판단한 0.8 비율 언더샘플링을 기준으로 진행"
   ]
  },
  {
   "cell_type": "code",
   "execution_count": 51,
   "metadata": {},
   "outputs": [],
   "source": [
    "y_pred1 = lr1.predict(r_x_test1)\n",
    "y_pred08 = lr08.predict(r_x_test08)"
   ]
  },
  {
   "cell_type": "code",
   "execution_count": 57,
   "metadata": {},
   "outputs": [
    {
     "name": "stdout",
     "output_type": "stream",
     "text": [
      "[[ True False  True ...  True False False]\n",
      " [False  True False ... False  True  True]\n",
      " [ True False  True ...  True False False]\n",
      " ...\n",
      " [False  True False ... False  True  True]\n",
      " [False  True False ... False  True  True]\n",
      " [False  True False ... False  True  True]]\n"
     ]
    }
   ],
   "source": [
    "is_correct = y_pred08 == y_test08.values\n",
    "print(is_correct)"
   ]
  },
  {
   "cell_type": "code",
   "execution_count": 58,
   "metadata": {},
   "outputs": [
    {
     "data": {
      "text/plain": [
       "0.5090512009075054"
      ]
     },
     "execution_count": 58,
     "metadata": {},
     "output_type": "execute_result"
    }
   ],
   "source": [
    "np.mean(is_correct)"
   ]
  },
  {
   "cell_type": "code",
   "execution_count": 59,
   "metadata": {},
   "outputs": [
    {
     "name": "stdout",
     "output_type": "stream",
     "text": [
      "20961\n",
      "[9316.]\n"
     ]
    },
    {
     "data": {
      "text/plain": [
       "8773.0"
      ]
     },
     "execution_count": 59,
     "metadata": {},
     "output_type": "execute_result"
    }
   ],
   "source": [
    "print(len(y_test08))\n",
    "print(sum(y_test08.values))\n",
    "\n",
    "np.sum(y_pred08)"
   ]
  },
  {
   "cell_type": "code",
   "execution_count": 60,
   "metadata": {},
   "outputs": [],
   "source": [
    "from sklearn import metrics\n"
   ]
  },
  {
   "cell_type": "code",
   "execution_count": 61,
   "metadata": {},
   "outputs": [
    {
     "data": {
      "text/plain": [
       "array([[8627, 3018],\n",
       "       [3561, 5755]])"
      ]
     },
     "execution_count": 61,
     "metadata": {},
     "output_type": "execute_result"
    }
   ],
   "source": [
    "metrics.confusion_matrix(y_test08,y_pred08)  #[[TN, FP][FN, TP]]"
   ]
  },
  {
   "cell_type": "code",
   "execution_count": 62,
   "metadata": {},
   "outputs": [
    {
     "name": "stdout",
     "output_type": "stream",
     "text": [
      "8627 3018 3561 5755\n"
     ]
    }
   ],
   "source": [
    "# P = sum(y_test08)\n",
    "# TP = sum((y_test08==1) & (y_pred08 ==1))\n",
    "# TPR = TP/P\n",
    "\n",
    "# FN = sum((y_test08==1) & (y_pred08 == 0))\n",
    "# FNR = FN / P\n",
    "\n",
    "# N =sum(y_pred08 == 0)\n",
    "\n",
    "# print(P)\n",
    "# print(TP)\n",
    "# print(TPR)\n",
    "# print(FN)\n",
    "# print(FNR)\n",
    "\n",
    "(tn, fp, fn, tp) = metrics.confusion_matrix(y_test08, y_pred08).ravel()\n",
    "\n",
    "print(tn,fp,fn,tp)\n"
   ]
  },
  {
   "cell_type": "markdown",
   "metadata": {},
   "source": [
    "## Fall-out , Precision, Recall, F_score\n",
    " : 당뇨가 아닌 사람을 당뇨라고 예측한 비율"
   ]
  },
  {
   "cell_type": "code",
   "execution_count": 63,
   "metadata": {},
   "outputs": [
    {
     "name": "stdout",
     "output_type": "stream",
     "text": [
      "Fallout:  0.2591670244740232\n",
      "Precision:  0.6559899692237547\n",
      "Recall:  0.6177544010304852\n",
      "F score:  0.6362983028359777\n"
     ]
    }
   ],
   "source": [
    "## Fall-out \n",
    "fpr = fp / (tn+fp)\n",
    "print(\"Fallout: \", fpr)\n",
    "\n",
    "\n",
    "## Precision\n",
    "\n",
    "precision = tp / (tp+fp)\n",
    "print(\"Precision: \",precision)\n",
    "\n",
    "## Recall\n",
    "\n",
    "recall = tp / (tp+fn)\n",
    "print(\"Recall: \",recall)\n",
    "\n",
    "## F1 score\n",
    "\n",
    "f_score = (precision * recall * 2) / (precision + recall)\n",
    "print(\"F score: \",f_score)\n",
    "\n"
   ]
  },
  {
   "cell_type": "code",
   "execution_count": 79,
   "metadata": {},
   "outputs": [],
   "source": [
    "## ROC curve\n",
    "\n",
    "# def roc_curve_plot(y_test , pred_proba_c1):\n",
    "#     # 임곗값에 따른 FPR, TPR 값을 반환 받음. \n",
    "#     fprs , tprs , thresholds = metrics.roc_curve(y_test ,pred_proba_c1)\n",
    "\n",
    "#     # ROC Curve를 plot 곡선으로 그림. \n",
    "#     plt.plot(fprs , tprs, label='ROC')\n",
    "#     # 가운데 대각선 직선을 그림. \n",
    "#     plt.plot([0, 1], [0, 1], 'k—', label='Random')\n",
    "  \n",
    "#     # FPR X 축의 Scale을 0.1 단위로 변경, X,Y 축명 설정등   \n",
    "#     start, end = plt.xlim()\n",
    "#     plt.xticks(np.round(np.arange(start, end, 0.1),2))\n",
    "#     plt.xlim(0,1)\n",
    "#     plt.ylim(0,1)\n",
    "#     plt.xlabel('FPR( 1 - Sensitivity )')\n",
    "#     plt.ylabel('TPR( Recall )')\n",
    "#     plt.legend()\n",
    "#     plt.show()\n",
    "    \n",
    "    \n",
    "def roc_curve_plot(y_test , pred_proba_c1):\n",
    "    # 임곗값에 따른 FPR, TPR 값을 반환 받음. \n",
    "    fprs , tprs , thresholds = metrics.roc_curve(y_test ,pred_proba_c1)\n",
    "\n",
    "    # ROC Curve를 plot 곡선으로 그림. \n",
    "    plt.plot(fprs , tprs, label='ROC')\n",
    "    # 가운데 대각선 직선을 그림. \n",
    "    plt.plot([0, 1], [0, 1], \"k--\", label='Random')\n",
    "  \n",
    "    # FPR X 축의 Scale을 0.1 단위로 변경, X,Y 축명 설정등   \n",
    "    start, end = plt.xlim()\n",
    "    plt.xticks(np.round(np.arange(start, end, 0.1),2))\n",
    "    plt.xlim(0,1)\n",
    "    plt.ylim(0,1)\n",
    "    plt.xlabel('FPR( 1 - Sensitivity )')\n",
    "    plt.ylabel('TPR( Recall )')\n",
    "    plt.legend()\n",
    "    plt.show()\n",
    "  \n",
    "\n"
   ]
  },
  {
   "cell_type": "code",
   "execution_count": 78,
   "metadata": {},
   "outputs": [
    {
     "data": {
      "image/png": "[encoded data removed]",
      "text/plain": [
       "<Figure size 432x288 with 1 Axes>"
      ]
     },
     "metadata": {
      "image/png": {
       "height": 264,
       "width": 426
      },
      "needs_background": "light"
     },
     "output_type": "display_data"
    }
   ],
   "source": [
    "# lr_proba = lr08.predict_proba(r_x_test08)[:, 1]\n",
    "\n",
    "# roc_curve_plot(y_test, lr_proba)\n",
    "\n",
    "roc_curve_plot(y_test08, lr08.predict_proba(r_x_test08)[:, 1]) \n"
   ]
  },
  {
   "cell_type": "code",
   "execution_count": 81,
   "metadata": {},
   "outputs": [
    {
     "name": "stdout",
     "output_type": "stream",
     "text": [
      "ROC/AUC VAL: 0.7525\n"
     ]
    }
   ],
   "source": [
    "\n",
    "\n",
    "roc_auc = metrics.roc_auc_score(y_test08, lr08.predict_proba(r_x_test08)[:, 1])\n",
    "\n",
    "print('ROC/AUC VAL: {0:.4f}'.format(roc_auc))"
   ]
  },
  {
   "cell_type": "code",
   "execution_count": null,
   "metadata": {},
   "outputs": [],
   "source": []
  }
 ],
 "metadata": {
  "kernelspec": {
   "display_name": "Python 3",
   "language": "python",
   "name": "python3"
  },
  "language_info": {
   "codemirror_mode": {
    "name": "ipython",
    "version": 3
   },
   "file_extension": ".py",
   "mimetype": "text/x-python",
   "name": "python",
   "nbconvert_exporter": "python",
   "pygments_lexer": "ipython3",
   "version": "3.8.5"
  }
 },
 "nbformat": 4,
 "nbformat_minor": 4
}
