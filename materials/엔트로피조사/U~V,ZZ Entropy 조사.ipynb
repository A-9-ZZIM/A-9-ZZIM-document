{
 "metadata": {
  "language_info": {
   "codemirror_mode": {
    "name": "ipython",
    "version": 3
   },
   "file_extension": ".py",
   "mimetype": "text/x-python",
   "name": "python",
   "nbconvert_exporter": "python",
   "pygments_lexer": "ipython3",
   "version": "3.7.9-final"
  },
  "orig_nbformat": 2,
  "kernelspec": {
   "name": "python3",
   "display_name": "Python 3.7.9 64-bit",
   "metadata": {
    "interpreter": {
     "hash": "d7def456ce1e585fbf5861f83f9da4defc28116f4eb10131c24933c26ca0b1c7"
    }
   }
  }
 },
 "nbformat": 4,
 "nbformat_minor": 2,
 "cells": [
  {
   "cell_type": "code",
   "execution_count": 275,
   "metadata": {},
   "outputs": [],
   "source": [
    "import numpy as np\n",
    "import pandas as pd\n",
    "import math\n",
    "data2017 = pd.read_csv('NHIS_OPEN_GJ_2017_100.csv', encoding='euc-kr')\n",
    "data2018 = pd.read_csv('NHIS_OPEN_GJ_2018_100.csv')"
   ]
  },
  {
   "cell_type": "code",
   "execution_count": 276,
   "metadata": {},
   "outputs": [
    {
     "output_type": "execute_result",
     "data": {
      "text/plain": [
       "   기준년도  가입자일련번호  성별코드  연령대코드(5세단위)  ...  치아마모증유무  제3대구치(사랑니)이상   치석   데이터공개일자\n",
       "0  2017        1     1            8  ...      NaN           NaN  1.0  20181126\n",
       "1  2017        2     1            7  ...      NaN           NaN  2.0  20181126\n",
       "2  2017        3     1            9  ...      NaN           NaN  NaN  20181126\n",
       "3  2017        4     1           11  ...      NaN           NaN  0.0  20181126\n",
       "4  2017        5     1           11  ...      NaN           NaN  0.0  20181126\n",
       "\n",
       "[5 rows x 34 columns]"
      ],
      "text/html": "<div>\n<style scoped>\n    .dataframe tbody tr th:only-of-type {\n        vertical-align: middle;\n    }\n\n    .dataframe tbody tr th {\n        vertical-align: top;\n    }\n\n    .dataframe thead th {\n        text-align: right;\n    }\n</style>\n<table border=\"1\" class=\"dataframe\">\n  <thead>\n    <tr style=\"text-align: right;\">\n      <th></th>\n      <th>기준년도</th>\n      <th>가입자일련번호</th>\n      <th>성별코드</th>\n      <th>연령대코드(5세단위)</th>\n      <th>시도코드</th>\n      <th>신장(5Cm단위)</th>\n      <th>체중(5Kg단위)</th>\n      <th>허리둘레</th>\n      <th>시력(좌)</th>\n      <th>시력(우)</th>\n      <th>청력(좌)</th>\n      <th>청력(우)</th>\n      <th>수축기혈압</th>\n      <th>이완기혈압</th>\n      <th>식전혈당(공복혈당)</th>\n      <th>총콜레스테롤</th>\n      <th>트리글리세라이드</th>\n      <th>HDL콜레스테롤</th>\n      <th>LDL콜레스테롤</th>\n      <th>혈색소</th>\n      <th>요단백</th>\n      <th>혈청크레아티닌</th>\n      <th>(혈청지오티)AST</th>\n      <th>(혈청지오티)ALT</th>\n      <th>감마지티피</th>\n      <th>흡연상태</th>\n      <th>음주여부</th>\n      <th>구강검진수검여부</th>\n      <th>치아우식증유무</th>\n      <th>결손치유무</th>\n      <th>치아마모증유무</th>\n      <th>제3대구치(사랑니)이상</th>\n      <th>치석</th>\n      <th>데이터공개일자</th>\n    </tr>\n  </thead>\n  <tbody>\n    <tr>\n      <th>0</th>\n      <td>2017</td>\n      <td>1</td>\n      <td>1</td>\n      <td>8</td>\n      <td>43</td>\n      <td>170</td>\n      <td>75</td>\n      <td>90.0</td>\n      <td>1.0</td>\n      <td>1.0</td>\n      <td>1.0</td>\n      <td>1.0</td>\n      <td>120.0</td>\n      <td>80.0</td>\n      <td>99.0</td>\n      <td>193.0</td>\n      <td>92.0</td>\n      <td>48.0</td>\n      <td>126.0</td>\n      <td>17.1</td>\n      <td>1.0</td>\n      <td>1.0</td>\n      <td>21.0</td>\n      <td>35.0</td>\n      <td>40.0</td>\n      <td>1.0</td>\n      <td>1.0</td>\n      <td>1</td>\n      <td>NaN</td>\n      <td>NaN</td>\n      <td>NaN</td>\n      <td>NaN</td>\n      <td>1.0</td>\n      <td>20181126</td>\n    </tr>\n    <tr>\n      <th>1</th>\n      <td>2017</td>\n      <td>2</td>\n      <td>1</td>\n      <td>7</td>\n      <td>11</td>\n      <td>180</td>\n      <td>80</td>\n      <td>89.0</td>\n      <td>0.9</td>\n      <td>1.2</td>\n      <td>1.0</td>\n      <td>1.0</td>\n      <td>130.0</td>\n      <td>82.0</td>\n      <td>106.0</td>\n      <td>228.0</td>\n      <td>121.0</td>\n      <td>55.0</td>\n      <td>148.0</td>\n      <td>15.8</td>\n      <td>1.0</td>\n      <td>0.9</td>\n      <td>20.0</td>\n      <td>36.0</td>\n      <td>27.0</td>\n      <td>3.0</td>\n      <td>0.0</td>\n      <td>1</td>\n      <td>NaN</td>\n      <td>NaN</td>\n      <td>NaN</td>\n      <td>NaN</td>\n      <td>2.0</td>\n      <td>20181126</td>\n    </tr>\n    <tr>\n      <th>2</th>\n      <td>2017</td>\n      <td>3</td>\n      <td>1</td>\n      <td>9</td>\n      <td>41</td>\n      <td>165</td>\n      <td>75</td>\n      <td>91.0</td>\n      <td>1.2</td>\n      <td>1.5</td>\n      <td>1.0</td>\n      <td>1.0</td>\n      <td>120.0</td>\n      <td>70.0</td>\n      <td>98.0</td>\n      <td>136.0</td>\n      <td>104.0</td>\n      <td>41.0</td>\n      <td>74.0</td>\n      <td>15.8</td>\n      <td>1.0</td>\n      <td>0.9</td>\n      <td>47.0</td>\n      <td>32.0</td>\n      <td>68.0</td>\n      <td>1.0</td>\n      <td>0.0</td>\n      <td>0</td>\n      <td>NaN</td>\n      <td>NaN</td>\n      <td>NaN</td>\n      <td>NaN</td>\n      <td>NaN</td>\n      <td>20181126</td>\n    </tr>\n    <tr>\n      <th>3</th>\n      <td>2017</td>\n      <td>4</td>\n      <td>1</td>\n      <td>11</td>\n      <td>48</td>\n      <td>175</td>\n      <td>80</td>\n      <td>91.0</td>\n      <td>1.5</td>\n      <td>1.2</td>\n      <td>1.0</td>\n      <td>1.0</td>\n      <td>145.0</td>\n      <td>87.0</td>\n      <td>95.0</td>\n      <td>201.0</td>\n      <td>106.0</td>\n      <td>76.0</td>\n      <td>104.0</td>\n      <td>17.6</td>\n      <td>1.0</td>\n      <td>1.1</td>\n      <td>29.0</td>\n      <td>34.0</td>\n      <td>18.0</td>\n      <td>1.0</td>\n      <td>0.0</td>\n      <td>1</td>\n      <td>NaN</td>\n      <td>NaN</td>\n      <td>NaN</td>\n      <td>NaN</td>\n      <td>0.0</td>\n      <td>20181126</td>\n    </tr>\n    <tr>\n      <th>4</th>\n      <td>2017</td>\n      <td>5</td>\n      <td>1</td>\n      <td>11</td>\n      <td>30</td>\n      <td>165</td>\n      <td>60</td>\n      <td>80.0</td>\n      <td>1.0</td>\n      <td>1.2</td>\n      <td>1.0</td>\n      <td>1.0</td>\n      <td>138.0</td>\n      <td>82.0</td>\n      <td>101.0</td>\n      <td>199.0</td>\n      <td>104.0</td>\n      <td>61.0</td>\n      <td>117.0</td>\n      <td>13.8</td>\n      <td>1.0</td>\n      <td>0.8</td>\n      <td>19.0</td>\n      <td>12.0</td>\n      <td>25.0</td>\n      <td>1.0</td>\n      <td>0.0</td>\n      <td>1</td>\n      <td>NaN</td>\n      <td>NaN</td>\n      <td>NaN</td>\n      <td>NaN</td>\n      <td>0.0</td>\n      <td>20181126</td>\n    </tr>\n  </tbody>\n</table>\n</div>"
     },
     "metadata": {},
     "execution_count": 276
    }
   ],
   "source": [
    "data2017.head()"
   ]
  },
  {
   "cell_type": "code",
   "execution_count": 277,
   "metadata": {},
   "outputs": [
    {
     "output_type": "execute_result",
     "data": {
      "text/plain": [
       "   기준년도  가입자일련번호  성별코드  연령대코드(5세단위)  ...  치아마모증유무  제3대구치(사랑니)이상   치석   데이터공개일자\n",
       "0  2018        1     2            7  ...      NaN           NaN  NaN  20191219\n",
       "1  2018        2     1            6  ...      NaN           NaN  0.0  20191219\n",
       "2  2018        3     1           12  ...      NaN           NaN  0.0  20191219\n",
       "3  2018        4     2           15  ...      NaN           NaN  0.0  20191219\n",
       "4  2018        5     2           14  ...      NaN           NaN  NaN  20191219\n",
       "\n",
       "[5 rows x 34 columns]"
      ],
      "text/html": "<div>\n<style scoped>\n    .dataframe tbody tr th:only-of-type {\n        vertical-align: middle;\n    }\n\n    .dataframe tbody tr th {\n        vertical-align: top;\n    }\n\n    .dataframe thead th {\n        text-align: right;\n    }\n</style>\n<table border=\"1\" class=\"dataframe\">\n  <thead>\n    <tr style=\"text-align: right;\">\n      <th></th>\n      <th>기준년도</th>\n      <th>가입자일련번호</th>\n      <th>성별코드</th>\n      <th>연령대코드(5세단위)</th>\n      <th>시도코드</th>\n      <th>신장(5Cm단위)</th>\n      <th>체중(5Kg단위)</th>\n      <th>허리둘레</th>\n      <th>시력(좌)</th>\n      <th>시력(우)</th>\n      <th>청력(좌)</th>\n      <th>청력(우)</th>\n      <th>수축기혈압</th>\n      <th>이완기혈압</th>\n      <th>식전혈당(공복혈당)</th>\n      <th>총콜레스테롤</th>\n      <th>트리글리세라이드</th>\n      <th>HDL콜레스테롤</th>\n      <th>LDL콜레스테롤</th>\n      <th>혈색소</th>\n      <th>요단백</th>\n      <th>혈청크레아티닌</th>\n      <th>(혈청지오티)AST</th>\n      <th>(혈청지오티)ALT</th>\n      <th>감마지티피</th>\n      <th>흡연상태</th>\n      <th>음주여부</th>\n      <th>구강검진수검여부</th>\n      <th>치아우식증유무</th>\n      <th>결손치유무</th>\n      <th>치아마모증유무</th>\n      <th>제3대구치(사랑니)이상</th>\n      <th>치석</th>\n      <th>데이터공개일자</th>\n    </tr>\n  </thead>\n  <tbody>\n    <tr>\n      <th>0</th>\n      <td>2018</td>\n      <td>1</td>\n      <td>2</td>\n      <td>7</td>\n      <td>48</td>\n      <td>160</td>\n      <td>60</td>\n      <td>79.5</td>\n      <td>1.5</td>\n      <td>1.5</td>\n      <td>1.0</td>\n      <td>1.0</td>\n      <td>110.0</td>\n      <td>60.0</td>\n      <td>96.0</td>\n      <td>NaN</td>\n      <td>NaN</td>\n      <td>NaN</td>\n      <td>NaN</td>\n      <td>12.8</td>\n      <td>1.0</td>\n      <td>0.5</td>\n      <td>21.0</td>\n      <td>8.0</td>\n      <td>12.0</td>\n      <td>1.0</td>\n      <td>NaN</td>\n      <td>0</td>\n      <td>NaN</td>\n      <td>NaN</td>\n      <td>NaN</td>\n      <td>NaN</td>\n      <td>NaN</td>\n      <td>20191219</td>\n    </tr>\n    <tr>\n      <th>1</th>\n      <td>2018</td>\n      <td>2</td>\n      <td>1</td>\n      <td>6</td>\n      <td>26</td>\n      <td>170</td>\n      <td>55</td>\n      <td>69.3</td>\n      <td>1.2</td>\n      <td>0.8</td>\n      <td>1.0</td>\n      <td>1.0</td>\n      <td>128.0</td>\n      <td>78.0</td>\n      <td>79.0</td>\n      <td>NaN</td>\n      <td>NaN</td>\n      <td>NaN</td>\n      <td>NaN</td>\n      <td>15.9</td>\n      <td>1.0</td>\n      <td>1.0</td>\n      <td>35.0</td>\n      <td>45.0</td>\n      <td>47.0</td>\n      <td>1.0</td>\n      <td>1.0</td>\n      <td>1</td>\n      <td>0.0</td>\n      <td>NaN</td>\n      <td>NaN</td>\n      <td>NaN</td>\n      <td>0.0</td>\n      <td>20191219</td>\n    </tr>\n    <tr>\n      <th>2</th>\n      <td>2018</td>\n      <td>3</td>\n      <td>1</td>\n      <td>12</td>\n      <td>28</td>\n      <td>165</td>\n      <td>70</td>\n      <td>85.0</td>\n      <td>0.8</td>\n      <td>0.8</td>\n      <td>2.0</td>\n      <td>1.0</td>\n      <td>128.0</td>\n      <td>65.0</td>\n      <td>80.0</td>\n      <td>NaN</td>\n      <td>NaN</td>\n      <td>NaN</td>\n      <td>NaN</td>\n      <td>12.5</td>\n      <td>NaN</td>\n      <td>1.1</td>\n      <td>77.0</td>\n      <td>47.0</td>\n      <td>21.0</td>\n      <td>2.0</td>\n      <td>1.0</td>\n      <td>1</td>\n      <td>0.0</td>\n      <td>NaN</td>\n      <td>NaN</td>\n      <td>NaN</td>\n      <td>0.0</td>\n      <td>20191219</td>\n    </tr>\n    <tr>\n      <th>3</th>\n      <td>2018</td>\n      <td>4</td>\n      <td>2</td>\n      <td>15</td>\n      <td>27</td>\n      <td>150</td>\n      <td>45</td>\n      <td>71.5</td>\n      <td>0.4</td>\n      <td>0.3</td>\n      <td>1.0</td>\n      <td>1.0</td>\n      <td>151.0</td>\n      <td>89.0</td>\n      <td>100.0</td>\n      <td>234.0</td>\n      <td>90.0</td>\n      <td>80.0</td>\n      <td>135.0</td>\n      <td>12.7</td>\n      <td>1.0</td>\n      <td>0.6</td>\n      <td>19.0</td>\n      <td>10.0</td>\n      <td>13.0</td>\n      <td>1.0</td>\n      <td>NaN</td>\n      <td>1</td>\n      <td>0.0</td>\n      <td>NaN</td>\n      <td>NaN</td>\n      <td>NaN</td>\n      <td>0.0</td>\n      <td>20191219</td>\n    </tr>\n    <tr>\n      <th>4</th>\n      <td>2018</td>\n      <td>5</td>\n      <td>2</td>\n      <td>14</td>\n      <td>41</td>\n      <td>145</td>\n      <td>50</td>\n      <td>77.0</td>\n      <td>0.7</td>\n      <td>0.6</td>\n      <td>1.0</td>\n      <td>1.0</td>\n      <td>114.0</td>\n      <td>62.0</td>\n      <td>124.0</td>\n      <td>NaN</td>\n      <td>NaN</td>\n      <td>NaN</td>\n      <td>NaN</td>\n      <td>11.6</td>\n      <td>1.0</td>\n      <td>0.5</td>\n      <td>26.0</td>\n      <td>26.0</td>\n      <td>12.0</td>\n      <td>1.0</td>\n      <td>1.0</td>\n      <td>0</td>\n      <td>NaN</td>\n      <td>NaN</td>\n      <td>NaN</td>\n      <td>NaN</td>\n      <td>NaN</td>\n      <td>20191219</td>\n    </tr>\n  </tbody>\n</table>\n</div>"
     },
     "metadata": {},
     "execution_count": 277
    }
   ],
   "source": [
    "data2018.head()"
   ]
  },
  {
   "cell_type": "code",
   "execution_count": 278,
   "metadata": {},
   "outputs": [],
   "source": [
    "data = pd.concat([data2017, data2018])"
   ]
  },
  {
   "cell_type": "code",
   "execution_count": 279,
   "metadata": {},
   "outputs": [
    {
     "output_type": "execute_result",
     "data": {
      "text/plain": [
       "2000000"
      ]
     },
     "metadata": {},
     "execution_count": 279
    }
   ],
   "source": [
    "len(data)"
   ]
  },
  {
   "cell_type": "code",
   "execution_count": 280,
   "metadata": {},
   "outputs": [
    {
     "output_type": "execute_result",
     "data": {
      "text/plain": [
       "        기준년도  가입자일련번호  성별코드  연령대코드(5세단위)  ...  치아마모증유무  제3대구치(사랑니)이상   치석   데이터공개일자\n",
       "999995  2018   999996     2           11  ...      NaN           NaN  NaN  20191219\n",
       "999996  2018   999997     1            7  ...      NaN           NaN  0.0  20191219\n",
       "999997  2018   999998     1            8  ...      NaN           NaN  NaN  20191219\n",
       "999998  2018   999999     1           11  ...      NaN           NaN  NaN  20191219\n",
       "999999  2018  1000000     1            5  ...      NaN           NaN  0.0  20191219\n",
       "\n",
       "[5 rows x 34 columns]"
      ],
      "text/html": "<div>\n<style scoped>\n    .dataframe tbody tr th:only-of-type {\n        vertical-align: middle;\n    }\n\n    .dataframe tbody tr th {\n        vertical-align: top;\n    }\n\n    .dataframe thead th {\n        text-align: right;\n    }\n</style>\n<table border=\"1\" class=\"dataframe\">\n  <thead>\n    <tr style=\"text-align: right;\">\n      <th></th>\n      <th>기준년도</th>\n      <th>가입자일련번호</th>\n      <th>성별코드</th>\n      <th>연령대코드(5세단위)</th>\n      <th>시도코드</th>\n      <th>신장(5Cm단위)</th>\n      <th>체중(5Kg단위)</th>\n      <th>허리둘레</th>\n      <th>시력(좌)</th>\n      <th>시력(우)</th>\n      <th>청력(좌)</th>\n      <th>청력(우)</th>\n      <th>수축기혈압</th>\n      <th>이완기혈압</th>\n      <th>식전혈당(공복혈당)</th>\n      <th>총콜레스테롤</th>\n      <th>트리글리세라이드</th>\n      <th>HDL콜레스테롤</th>\n      <th>LDL콜레스테롤</th>\n      <th>혈색소</th>\n      <th>요단백</th>\n      <th>혈청크레아티닌</th>\n      <th>(혈청지오티)AST</th>\n      <th>(혈청지오티)ALT</th>\n      <th>감마지티피</th>\n      <th>흡연상태</th>\n      <th>음주여부</th>\n      <th>구강검진수검여부</th>\n      <th>치아우식증유무</th>\n      <th>결손치유무</th>\n      <th>치아마모증유무</th>\n      <th>제3대구치(사랑니)이상</th>\n      <th>치석</th>\n      <th>데이터공개일자</th>\n    </tr>\n  </thead>\n  <tbody>\n    <tr>\n      <th>999995</th>\n      <td>2018</td>\n      <td>999996</td>\n      <td>2</td>\n      <td>11</td>\n      <td>41</td>\n      <td>165</td>\n      <td>75</td>\n      <td>84.0</td>\n      <td>1.2</td>\n      <td>1.2</td>\n      <td>1.0</td>\n      <td>1.0</td>\n      <td>110.0</td>\n      <td>70.0</td>\n      <td>107.0</td>\n      <td>NaN</td>\n      <td>NaN</td>\n      <td>NaN</td>\n      <td>NaN</td>\n      <td>12.2</td>\n      <td>1.0</td>\n      <td>0.7</td>\n      <td>18.0</td>\n      <td>15.0</td>\n      <td>19.0</td>\n      <td>1.0</td>\n      <td>NaN</td>\n      <td>0</td>\n      <td>NaN</td>\n      <td>NaN</td>\n      <td>NaN</td>\n      <td>NaN</td>\n      <td>NaN</td>\n      <td>20191219</td>\n    </tr>\n    <tr>\n      <th>999996</th>\n      <td>2018</td>\n      <td>999997</td>\n      <td>1</td>\n      <td>7</td>\n      <td>41</td>\n      <td>170</td>\n      <td>75</td>\n      <td>88.0</td>\n      <td>2.0</td>\n      <td>2.0</td>\n      <td>1.0</td>\n      <td>1.0</td>\n      <td>136.0</td>\n      <td>88.0</td>\n      <td>114.0</td>\n      <td>NaN</td>\n      <td>NaN</td>\n      <td>NaN</td>\n      <td>NaN</td>\n      <td>17.0</td>\n      <td>1.0</td>\n      <td>1.0</td>\n      <td>25.0</td>\n      <td>36.0</td>\n      <td>90.0</td>\n      <td>1.0</td>\n      <td>1.0</td>\n      <td>1</td>\n      <td>0.0</td>\n      <td>NaN</td>\n      <td>NaN</td>\n      <td>NaN</td>\n      <td>0.0</td>\n      <td>20191219</td>\n    </tr>\n    <tr>\n      <th>999997</th>\n      <td>2018</td>\n      <td>999998</td>\n      <td>1</td>\n      <td>8</td>\n      <td>41</td>\n      <td>175</td>\n      <td>80</td>\n      <td>87.0</td>\n      <td>1.2</td>\n      <td>1.2</td>\n      <td>1.0</td>\n      <td>1.0</td>\n      <td>162.0</td>\n      <td>90.0</td>\n      <td>98.0</td>\n      <td>NaN</td>\n      <td>NaN</td>\n      <td>NaN</td>\n      <td>NaN</td>\n      <td>16.4</td>\n      <td>1.0</td>\n      <td>0.9</td>\n      <td>21.0</td>\n      <td>15.0</td>\n      <td>36.0</td>\n      <td>2.0</td>\n      <td>1.0</td>\n      <td>0</td>\n      <td>NaN</td>\n      <td>NaN</td>\n      <td>NaN</td>\n      <td>NaN</td>\n      <td>NaN</td>\n      <td>20191219</td>\n    </tr>\n    <tr>\n      <th>999998</th>\n      <td>2018</td>\n      <td>999999</td>\n      <td>1</td>\n      <td>11</td>\n      <td>41</td>\n      <td>165</td>\n      <td>70</td>\n      <td>80.2</td>\n      <td>0.9</td>\n      <td>1.2</td>\n      <td>1.0</td>\n      <td>1.0</td>\n      <td>140.0</td>\n      <td>98.0</td>\n      <td>94.0</td>\n      <td>NaN</td>\n      <td>NaN</td>\n      <td>NaN</td>\n      <td>NaN</td>\n      <td>15.7</td>\n      <td>1.0</td>\n      <td>1.2</td>\n      <td>20.0</td>\n      <td>18.0</td>\n      <td>14.0</td>\n      <td>2.0</td>\n      <td>NaN</td>\n      <td>0</td>\n      <td>NaN</td>\n      <td>NaN</td>\n      <td>NaN</td>\n      <td>NaN</td>\n      <td>NaN</td>\n      <td>20191219</td>\n    </tr>\n    <tr>\n      <th>999999</th>\n      <td>2018</td>\n      <td>1000000</td>\n      <td>1</td>\n      <td>5</td>\n      <td>47</td>\n      <td>165</td>\n      <td>60</td>\n      <td>70.0</td>\n      <td>1.5</td>\n      <td>1.2</td>\n      <td>1.0</td>\n      <td>1.0</td>\n      <td>120.0</td>\n      <td>80.0</td>\n      <td>85.0</td>\n      <td>NaN</td>\n      <td>NaN</td>\n      <td>NaN</td>\n      <td>NaN</td>\n      <td>16.8</td>\n      <td>1.0</td>\n      <td>1.0</td>\n      <td>17.0</td>\n      <td>12.0</td>\n      <td>11.0</td>\n      <td>1.0</td>\n      <td>1.0</td>\n      <td>1</td>\n      <td>0.0</td>\n      <td>NaN</td>\n      <td>NaN</td>\n      <td>NaN</td>\n      <td>0.0</td>\n      <td>20191219</td>\n    </tr>\n  </tbody>\n</table>\n</div>"
     },
     "metadata": {},
     "execution_count": 280
    }
   ],
   "source": [
    "data.tail()"
   ]
  },
  {
   "cell_type": "code",
   "execution_count": 281,
   "metadata": {},
   "outputs": [
    {
     "output_type": "execute_result",
     "data": {
      "text/plain": [
       "         기준년도  가입자일련번호  성별코드  연령대코드(5세단위)  ...  치아마모증유무  제3대구치(사랑니)이상   치석   데이터공개일자\n",
       "1990974  2018   999996     2           11  ...      NaN           NaN  NaN  20191219\n",
       "1990975  2018   999997     1            7  ...      NaN           NaN  0.0  20191219\n",
       "1990976  2018   999998     1            8  ...      NaN           NaN  NaN  20191219\n",
       "1990977  2018   999999     1           11  ...      NaN           NaN  NaN  20191219\n",
       "1990978  2018  1000000     1            5  ...      NaN           NaN  0.0  20191219\n",
       "\n",
       "[5 rows x 34 columns]"
      ],
      "text/html": "<div>\n<style scoped>\n    .dataframe tbody tr th:only-of-type {\n        vertical-align: middle;\n    }\n\n    .dataframe tbody tr th {\n        vertical-align: top;\n    }\n\n    .dataframe thead th {\n        text-align: right;\n    }\n</style>\n<table border=\"1\" class=\"dataframe\">\n  <thead>\n    <tr style=\"text-align: right;\">\n      <th></th>\n      <th>기준년도</th>\n      <th>가입자일련번호</th>\n      <th>성별코드</th>\n      <th>연령대코드(5세단위)</th>\n      <th>시도코드</th>\n      <th>신장(5Cm단위)</th>\n      <th>체중(5Kg단위)</th>\n      <th>허리둘레</th>\n      <th>시력(좌)</th>\n      <th>시력(우)</th>\n      <th>청력(좌)</th>\n      <th>청력(우)</th>\n      <th>수축기혈압</th>\n      <th>이완기혈압</th>\n      <th>식전혈당(공복혈당)</th>\n      <th>총콜레스테롤</th>\n      <th>트리글리세라이드</th>\n      <th>HDL콜레스테롤</th>\n      <th>LDL콜레스테롤</th>\n      <th>혈색소</th>\n      <th>요단백</th>\n      <th>혈청크레아티닌</th>\n      <th>(혈청지오티)AST</th>\n      <th>(혈청지오티)ALT</th>\n      <th>감마지티피</th>\n      <th>흡연상태</th>\n      <th>음주여부</th>\n      <th>구강검진수검여부</th>\n      <th>치아우식증유무</th>\n      <th>결손치유무</th>\n      <th>치아마모증유무</th>\n      <th>제3대구치(사랑니)이상</th>\n      <th>치석</th>\n      <th>데이터공개일자</th>\n    </tr>\n  </thead>\n  <tbody>\n    <tr>\n      <th>1990974</th>\n      <td>2018</td>\n      <td>999996</td>\n      <td>2</td>\n      <td>11</td>\n      <td>41</td>\n      <td>165</td>\n      <td>75</td>\n      <td>84.0</td>\n      <td>1.2</td>\n      <td>1.2</td>\n      <td>1.0</td>\n      <td>1.0</td>\n      <td>110.0</td>\n      <td>70.0</td>\n      <td>107.0</td>\n      <td>NaN</td>\n      <td>NaN</td>\n      <td>NaN</td>\n      <td>NaN</td>\n      <td>12.2</td>\n      <td>1.0</td>\n      <td>0.7</td>\n      <td>18.0</td>\n      <td>15.0</td>\n      <td>19.0</td>\n      <td>1.0</td>\n      <td>NaN</td>\n      <td>0</td>\n      <td>NaN</td>\n      <td>NaN</td>\n      <td>NaN</td>\n      <td>NaN</td>\n      <td>NaN</td>\n      <td>20191219</td>\n    </tr>\n    <tr>\n      <th>1990975</th>\n      <td>2018</td>\n      <td>999997</td>\n      <td>1</td>\n      <td>7</td>\n      <td>41</td>\n      <td>170</td>\n      <td>75</td>\n      <td>88.0</td>\n      <td>2.0</td>\n      <td>2.0</td>\n      <td>1.0</td>\n      <td>1.0</td>\n      <td>136.0</td>\n      <td>88.0</td>\n      <td>114.0</td>\n      <td>NaN</td>\n      <td>NaN</td>\n      <td>NaN</td>\n      <td>NaN</td>\n      <td>17.0</td>\n      <td>1.0</td>\n      <td>1.0</td>\n      <td>25.0</td>\n      <td>36.0</td>\n      <td>90.0</td>\n      <td>1.0</td>\n      <td>1.0</td>\n      <td>1</td>\n      <td>0.0</td>\n      <td>NaN</td>\n      <td>NaN</td>\n      <td>NaN</td>\n      <td>0.0</td>\n      <td>20191219</td>\n    </tr>\n    <tr>\n      <th>1990976</th>\n      <td>2018</td>\n      <td>999998</td>\n      <td>1</td>\n      <td>8</td>\n      <td>41</td>\n      <td>175</td>\n      <td>80</td>\n      <td>87.0</td>\n      <td>1.2</td>\n      <td>1.2</td>\n      <td>1.0</td>\n      <td>1.0</td>\n      <td>162.0</td>\n      <td>90.0</td>\n      <td>98.0</td>\n      <td>NaN</td>\n      <td>NaN</td>\n      <td>NaN</td>\n      <td>NaN</td>\n      <td>16.4</td>\n      <td>1.0</td>\n      <td>0.9</td>\n      <td>21.0</td>\n      <td>15.0</td>\n      <td>36.0</td>\n      <td>2.0</td>\n      <td>1.0</td>\n      <td>0</td>\n      <td>NaN</td>\n      <td>NaN</td>\n      <td>NaN</td>\n      <td>NaN</td>\n      <td>NaN</td>\n      <td>20191219</td>\n    </tr>\n    <tr>\n      <th>1990977</th>\n      <td>2018</td>\n      <td>999999</td>\n      <td>1</td>\n      <td>11</td>\n      <td>41</td>\n      <td>165</td>\n      <td>70</td>\n      <td>80.2</td>\n      <td>0.9</td>\n      <td>1.2</td>\n      <td>1.0</td>\n      <td>1.0</td>\n      <td>140.0</td>\n      <td>98.0</td>\n      <td>94.0</td>\n      <td>NaN</td>\n      <td>NaN</td>\n      <td>NaN</td>\n      <td>NaN</td>\n      <td>15.7</td>\n      <td>1.0</td>\n      <td>1.2</td>\n      <td>20.0</td>\n      <td>18.0</td>\n      <td>14.0</td>\n      <td>2.0</td>\n      <td>NaN</td>\n      <td>0</td>\n      <td>NaN</td>\n      <td>NaN</td>\n      <td>NaN</td>\n      <td>NaN</td>\n      <td>NaN</td>\n      <td>20191219</td>\n    </tr>\n    <tr>\n      <th>1990978</th>\n      <td>2018</td>\n      <td>1000000</td>\n      <td>1</td>\n      <td>5</td>\n      <td>47</td>\n      <td>165</td>\n      <td>60</td>\n      <td>70.0</td>\n      <td>1.5</td>\n      <td>1.2</td>\n      <td>1.0</td>\n      <td>1.0</td>\n      <td>120.0</td>\n      <td>80.0</td>\n      <td>85.0</td>\n      <td>NaN</td>\n      <td>NaN</td>\n      <td>NaN</td>\n      <td>NaN</td>\n      <td>16.8</td>\n      <td>1.0</td>\n      <td>1.0</td>\n      <td>17.0</td>\n      <td>12.0</td>\n      <td>11.0</td>\n      <td>1.0</td>\n      <td>1.0</td>\n      <td>1</td>\n      <td>0.0</td>\n      <td>NaN</td>\n      <td>NaN</td>\n      <td>NaN</td>\n      <td>0.0</td>\n      <td>20191219</td>\n    </tr>\n  </tbody>\n</table>\n</div>"
     },
     "metadata": {},
     "execution_count": 281
    }
   ],
   "source": [
    "data = data[0 <= data['식전혈당(공복혈당)']]\n",
    "data =  data[300 >= data['식전혈당(공복혈당)']]\n",
    "data = data.reset_index(drop=True, inplace=False)\n",
    "data.tail()\n"
   ]
  },
  {
   "cell_type": "code",
   "execution_count": 282,
   "metadata": {},
   "outputs": [],
   "source": [
    "add_col = data['식전혈당(공복혈당)'].copy()\n",
    "data_U = data['요단백'].copy()\n",
    "data_V = data['혈청크레아티닌'].copy()\n",
    "data_ZZ = data['음주여부'].copy()\n",
    "data_ZZ[data_ZZ.isnull()] = 0"
   ]
  },
  {
   "cell_type": "code",
   "execution_count": 283,
   "metadata": {},
   "outputs": [],
   "source": [
    "add_col[add_col < 126] = 0\n",
    "add_col[add_col >= 126] = 1\n",
    "\n",
    "data['당뇨병'] = add_col"
   ]
  },
  {
   "cell_type": "code",
   "execution_count": 284,
   "metadata": {},
   "outputs": [],
   "source": [
    "def getEntropy(n, all):\n",
    "    Px1 = n/all\n",
    "    Px2 = (all-n)/all\n",
    "    Hx = (-Px1 * np.log2(Px1)) + (-Px2 * np.log2(Px2))\n",
    "    return Hx"
   ]
  },
  {
   "cell_type": "code",
   "execution_count": 285,
   "metadata": {},
   "outputs": [
    {
     "output_type": "stream",
     "name": "stdout",
     "text": [
      "0.390673901150853\n"
     ]
    }
   ],
   "source": [
    "DnCnt = data[data['당뇨병']==1]['당뇨병'].sum()\n",
    "All = len(data)\n",
    "Hx = getEntropy(DnCnt, All)\n",
    "print(Hx)"
   ]
  },
  {
   "cell_type": "code",
   "execution_count": 286,
   "metadata": {},
   "outputs": [
    {
     "output_type": "execute_result",
     "data": {
      "text/plain": [
       "         기준년도  가입자일련번호  성별코드  연령대코드(5세단위)  ...  제3대구치(사랑니)이상   치석   데이터공개일자  당뇨병\n",
       "1990974  2018   999996     2           11  ...           NaN  NaN  20191219  0.0\n",
       "1990975  2018   999997     1            7  ...           NaN  0.0  20191219  0.0\n",
       "1990976  2018   999998     1            8  ...           NaN  NaN  20191219  0.0\n",
       "1990977  2018   999999     1           11  ...           NaN  NaN  20191219  0.0\n",
       "1990978  2018  1000000     1            5  ...           NaN  0.0  20191219  0.0\n",
       "\n",
       "[5 rows x 35 columns]"
      ],
      "text/html": "<div>\n<style scoped>\n    .dataframe tbody tr th:only-of-type {\n        vertical-align: middle;\n    }\n\n    .dataframe tbody tr th {\n        vertical-align: top;\n    }\n\n    .dataframe thead th {\n        text-align: right;\n    }\n</style>\n<table border=\"1\" class=\"dataframe\">\n  <thead>\n    <tr style=\"text-align: right;\">\n      <th></th>\n      <th>기준년도</th>\n      <th>가입자일련번호</th>\n      <th>성별코드</th>\n      <th>연령대코드(5세단위)</th>\n      <th>시도코드</th>\n      <th>신장(5Cm단위)</th>\n      <th>체중(5Kg단위)</th>\n      <th>허리둘레</th>\n      <th>시력(좌)</th>\n      <th>시력(우)</th>\n      <th>청력(좌)</th>\n      <th>청력(우)</th>\n      <th>수축기혈압</th>\n      <th>이완기혈압</th>\n      <th>식전혈당(공복혈당)</th>\n      <th>총콜레스테롤</th>\n      <th>트리글리세라이드</th>\n      <th>HDL콜레스테롤</th>\n      <th>LDL콜레스테롤</th>\n      <th>혈색소</th>\n      <th>요단백</th>\n      <th>혈청크레아티닌</th>\n      <th>(혈청지오티)AST</th>\n      <th>(혈청지오티)ALT</th>\n      <th>감마지티피</th>\n      <th>흡연상태</th>\n      <th>음주여부</th>\n      <th>구강검진수검여부</th>\n      <th>치아우식증유무</th>\n      <th>결손치유무</th>\n      <th>치아마모증유무</th>\n      <th>제3대구치(사랑니)이상</th>\n      <th>치석</th>\n      <th>데이터공개일자</th>\n      <th>당뇨병</th>\n    </tr>\n  </thead>\n  <tbody>\n    <tr>\n      <th>1990974</th>\n      <td>2018</td>\n      <td>999996</td>\n      <td>2</td>\n      <td>11</td>\n      <td>41</td>\n      <td>165</td>\n      <td>75</td>\n      <td>84.0</td>\n      <td>1.2</td>\n      <td>1.2</td>\n      <td>1.0</td>\n      <td>1.0</td>\n      <td>110.0</td>\n      <td>70.0</td>\n      <td>107.0</td>\n      <td>NaN</td>\n      <td>NaN</td>\n      <td>NaN</td>\n      <td>NaN</td>\n      <td>12.2</td>\n      <td>1.0</td>\n      <td>0.7</td>\n      <td>18.0</td>\n      <td>15.0</td>\n      <td>19.0</td>\n      <td>1.0</td>\n      <td>NaN</td>\n      <td>0</td>\n      <td>NaN</td>\n      <td>NaN</td>\n      <td>NaN</td>\n      <td>NaN</td>\n      <td>NaN</td>\n      <td>20191219</td>\n      <td>0.0</td>\n    </tr>\n    <tr>\n      <th>1990975</th>\n      <td>2018</td>\n      <td>999997</td>\n      <td>1</td>\n      <td>7</td>\n      <td>41</td>\n      <td>170</td>\n      <td>75</td>\n      <td>88.0</td>\n      <td>2.0</td>\n      <td>2.0</td>\n      <td>1.0</td>\n      <td>1.0</td>\n      <td>136.0</td>\n      <td>88.0</td>\n      <td>114.0</td>\n      <td>NaN</td>\n      <td>NaN</td>\n      <td>NaN</td>\n      <td>NaN</td>\n      <td>17.0</td>\n      <td>1.0</td>\n      <td>1.0</td>\n      <td>25.0</td>\n      <td>36.0</td>\n      <td>90.0</td>\n      <td>1.0</td>\n      <td>1.0</td>\n      <td>1</td>\n      <td>0.0</td>\n      <td>NaN</td>\n      <td>NaN</td>\n      <td>NaN</td>\n      <td>0.0</td>\n      <td>20191219</td>\n      <td>0.0</td>\n    </tr>\n    <tr>\n      <th>1990976</th>\n      <td>2018</td>\n      <td>999998</td>\n      <td>1</td>\n      <td>8</td>\n      <td>41</td>\n      <td>175</td>\n      <td>80</td>\n      <td>87.0</td>\n      <td>1.2</td>\n      <td>1.2</td>\n      <td>1.0</td>\n      <td>1.0</td>\n      <td>162.0</td>\n      <td>90.0</td>\n      <td>98.0</td>\n      <td>NaN</td>\n      <td>NaN</td>\n      <td>NaN</td>\n      <td>NaN</td>\n      <td>16.4</td>\n      <td>1.0</td>\n      <td>0.9</td>\n      <td>21.0</td>\n      <td>15.0</td>\n      <td>36.0</td>\n      <td>2.0</td>\n      <td>1.0</td>\n      <td>0</td>\n      <td>NaN</td>\n      <td>NaN</td>\n      <td>NaN</td>\n      <td>NaN</td>\n      <td>NaN</td>\n      <td>20191219</td>\n      <td>0.0</td>\n    </tr>\n    <tr>\n      <th>1990977</th>\n      <td>2018</td>\n      <td>999999</td>\n      <td>1</td>\n      <td>11</td>\n      <td>41</td>\n      <td>165</td>\n      <td>70</td>\n      <td>80.2</td>\n      <td>0.9</td>\n      <td>1.2</td>\n      <td>1.0</td>\n      <td>1.0</td>\n      <td>140.0</td>\n      <td>98.0</td>\n      <td>94.0</td>\n      <td>NaN</td>\n      <td>NaN</td>\n      <td>NaN</td>\n      <td>NaN</td>\n      <td>15.7</td>\n      <td>1.0</td>\n      <td>1.2</td>\n      <td>20.0</td>\n      <td>18.0</td>\n      <td>14.0</td>\n      <td>2.0</td>\n      <td>NaN</td>\n      <td>0</td>\n      <td>NaN</td>\n      <td>NaN</td>\n      <td>NaN</td>\n      <td>NaN</td>\n      <td>NaN</td>\n      <td>20191219</td>\n      <td>0.0</td>\n    </tr>\n    <tr>\n      <th>1990978</th>\n      <td>2018</td>\n      <td>1000000</td>\n      <td>1</td>\n      <td>5</td>\n      <td>47</td>\n      <td>165</td>\n      <td>60</td>\n      <td>70.0</td>\n      <td>1.5</td>\n      <td>1.2</td>\n      <td>1.0</td>\n      <td>1.0</td>\n      <td>120.0</td>\n      <td>80.0</td>\n      <td>85.0</td>\n      <td>NaN</td>\n      <td>NaN</td>\n      <td>NaN</td>\n      <td>NaN</td>\n      <td>16.8</td>\n      <td>1.0</td>\n      <td>1.0</td>\n      <td>17.0</td>\n      <td>12.0</td>\n      <td>11.0</td>\n      <td>1.0</td>\n      <td>1.0</td>\n      <td>1</td>\n      <td>0.0</td>\n      <td>NaN</td>\n      <td>NaN</td>\n      <td>NaN</td>\n      <td>0.0</td>\n      <td>20191219</td>\n      <td>0.0</td>\n    </tr>\n  </tbody>\n</table>\n</div>"
     },
     "metadata": {},
     "execution_count": 286
    }
   ],
   "source": [
    "data.tail()"
   ]
  },
  {
   "cell_type": "code",
   "execution_count": 287,
   "metadata": {
    "tags": []
   },
   "outputs": [],
   "source": [
    "def digitSegment(parent, unit):\n",
    "    child = {}\n",
    "    unit = unit*10\n",
    "    min_value = parent.min() * 10\n",
    "    max_value = parent.max() * 10\n",
    "    start = int(min_value//unit)\n",
    "    end = int(max_value//unit)\n",
    "    for i in range(start, end+1):\n",
    "        key = str(i)\n",
    "        child[key] = [[],[]]\n",
    "    for i in range(All):\n",
    "        if math.isnan(parent[i]): continue\n",
    "        dt = parent[i] * 10\n",
    "        key = int(dt//unit)\n",
    "        key = str(key)\n",
    "        if(data['당뇨병'][i] == 0): child[key][0].append(parent[i])\n",
    "        else: child[key][1].append(parent[i])\n",
    "    return child\n",
    "\n"
   ]
  },
  {
   "cell_type": "code",
   "execution_count": 288,
   "metadata": {},
   "outputs": [],
   "source": [
    "def categorySegment(parent):\n",
    "    child = {}\n",
    "    min_value = int(parent.min())\n",
    "    max_value = int(parent.max())\n",
    "    for i in range(min_value, max_value+1):\n",
    "        key = str(i)\n",
    "        child[key] = [[],[]]\n",
    "    for i in range(All):\n",
    "        if math.isnan(parent[i]): continue\n",
    "        key = int(parent[i])\n",
    "        key = str(key)\n",
    "        if(data['당뇨병'][i] == 0): child[key][0].append(parent[i])\n",
    "        else: child[key][1].append(parent[i])\n",
    "\n",
    "    return child"
   ]
  },
  {
   "cell_type": "code",
   "execution_count": 289,
   "metadata": {},
   "outputs": [],
   "source": [
    "def ProbEnt(segment):\n",
    "    SegList = []\n",
    "    total = 0\n",
    "    totalDN = 0\n",
    "    totalNDN = 0\n",
    "    for key, value in segment.items():\n",
    "        NDNcnt = len(value[0])\n",
    "        DNcnt = len(value[1])\n",
    "        totalDN += DNcnt\n",
    "        totalNDN += NDNcnt\n",
    "        subtotal = NDNcnt + DNcnt\n",
    "        if(subtotal == 0): continue\n",
    "        total += subtotal\n",
    "        if(DNcnt == 0 or NDNcnt == 0):\n",
    "            SegList.append([subtotal, 1])\n",
    "            continue\n",
    "        entropy = getEntropy(DNcnt, subtotal)\n",
    "        SegList.append([subtotal, entropy])\n",
    "    \n",
    "    for i in range(len(SegList)):\n",
    "        SegList[i][0] = SegList[i][0] / total\n",
    "\n",
    "    SegList.append([total, totalDN])\n",
    "    return SegList\n"
   ]
  },
  {
   "cell_type": "code",
   "execution_count": 290,
   "metadata": {},
   "outputs": [],
   "source": [
    "def getIG(entropy, seglist):\n",
    "    answer = entropy\n",
    "    for seg in seglist[:-1]:\n",
    "        m = seg[0]*seg[1]\n",
    "        answer -= m\n",
    "    return answer"
   ]
  },
  {
   "cell_type": "code",
   "execution_count": 291,
   "metadata": {},
   "outputs": [
    {
     "output_type": "stream",
     "name": "stdout",
     "text": [
      "요단백 엔트로피: 0.39017200343397407\n--- 분화 후 ---\n요단백 정보증가량: 0.0052101303447348035\n"
     ]
    }
   ],
   "source": [
    "dt = categorySegment(data_U)\n",
    "seglist = ProbEnt(dt)\n",
    "Hx = getEntropy(seglist[-1][1], seglist[-1][0])\n",
    "print(\"요단백 엔트로피:\", Hx)\n",
    "print(\"--- 분화 후 ---\")\n",
    "print(\"요단백 정보증가량:\", getIG(Hx, seglist))"
   ]
  },
  {
   "cell_type": "code",
   "execution_count": 292,
   "metadata": {},
   "outputs": [
    {
     "output_type": "stream",
     "name": "stdout",
     "text": [
      "혈청크레아티닌 엔트로피: 0.39067445453757704\n--- 분화 후 ---\n혈청크레아티닌 정보증가량: 0.0027044415530841992\n"
     ]
    }
   ],
   "source": [
    "dt = digitSegment(data_V, 0.2)\n",
    "seglist = ProbEnt(dt)\n",
    "Hx = getEntropy(seglist[-1][1], seglist[-1][0])\n",
    "print(\"혈청크레아티닌 엔트로피:\", Hx)\n",
    "print(\"--- 분화 후 ---\")\n",
    "print(\"혈청크레아티닌 정보증가량:\", getIG(Hx, seglist))"
   ]
  },
  {
   "cell_type": "code",
   "execution_count": 293,
   "metadata": {},
   "outputs": [
    {
     "output_type": "stream",
     "name": "stdout",
     "text": [
      "음주여부 엔트로피: 0.390673901150853\n--- 분화 후 ---\n음주여부 정보증가량: 0.00020317736750488646\n"
     ]
    }
   ],
   "source": [
    "dt = categorySegment(data_ZZ)\n",
    "seglist = ProbEnt(dt)\n",
    "Hx = getEntropy(seglist[-1][1], seglist[-1][0])\n",
    "print(\"음주여부 엔트로피:\", Hx)\n",
    "print(\"--- 분화 후 ---\")\n",
    "print(\"음주여부 정보증가량:\", getIG(Hx, seglist))"
   ]
  }
 ]
}