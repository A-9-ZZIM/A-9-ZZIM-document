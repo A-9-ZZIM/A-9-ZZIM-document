{
 "cells": [
  {
   "cell_type": "code",
   "execution_count": 1,
   "metadata": {},
   "outputs": [],
   "source": [
    "import numpy as np\n",
    "import pandas as pd\n",
    "import matplotlib.pyplot as plt\n",
    "import seaborn as sns\n",
    "plt.style.use('fivethirtyeight')\n",
    "import warnings\n",
    "warnings.filterwarnings('ignore')\n",
    "%matplotlib inline"
   ]
  },
  {
   "cell_type": "code",
   "execution_count": 2,
   "metadata": {},
   "outputs": [],
   "source": [
    "import os\n",
    "# 운영체제별 한글 폰트 설정\n",
    "if os.name == 'posix': # Mac 환경 폰트 설정\n",
    "    plt.rc('font', family='AppleGothic')\n",
    "elif os.name == 'nt': # Windows 환경 폰트 설정\n",
    "    plt.rc('font', family='Malgun Gothic')\n",
    "\n",
    "plt.rc('axes', unicode_minus=False) # 마이너스 폰트 설정\n",
    "\n",
    "\n",
    "# 글씨 선명하게 출력하는 설정\n",
    "%config InlineBackend.figure_format = 'retina'"
   ]
  },
  {
   "cell_type": "code",
   "execution_count": 3,
   "metadata": {},
   "outputs": [],
   "source": [
    "data1 = pd.read_csv('NHIS_OPEN_GJ_2017_100.csv',encoding='euc-kr')\n",
    "data2 = pd.read_csv('NHIS_OPEN_GJ_2018_100.csv')"
   ]
  },
  {
   "cell_type": "code",
   "execution_count": 4,
   "metadata": {},
   "outputs": [],
   "source": [
    "# 데이터 묶기 + 사용 컬럼만 빼내기\n",
    "data = pd.concat([data1,data2])\n",
    "column_m, column_n,column_o, column_z  = '수축기혈압','이완기혈압','식전혈당(공복혈당)','흡연상태'\n",
    "data = data[[column_m, column_n,column_o, column_z]]"
   ]
  },
  {
   "cell_type": "code",
   "execution_count": 5,
   "metadata": {},
   "outputs": [
    {
     "data": {
      "text/html": [
       "<div>\n",
       "<style scoped>\n",
       "    .dataframe tbody tr th:only-of-type {\n",
       "        vertical-align: middle;\n",
       "    }\n",
       "\n",
       "    .dataframe tbody tr th {\n",
       "        vertical-align: top;\n",
       "    }\n",
       "\n",
       "    .dataframe thead th {\n",
       "        text-align: right;\n",
       "    }\n",
       "</style>\n",
       "<table border=\"1\" class=\"dataframe\">\n",
       "  <thead>\n",
       "    <tr style=\"text-align: right;\">\n",
       "      <th></th>\n",
       "      <th>수축기혈압</th>\n",
       "      <th>이완기혈압</th>\n",
       "      <th>식전혈당(공복혈당)</th>\n",
       "      <th>흡연상태</th>\n",
       "    </tr>\n",
       "  </thead>\n",
       "  <tbody>\n",
       "    <tr>\n",
       "      <th>0</th>\n",
       "      <td>120.0</td>\n",
       "      <td>80.0</td>\n",
       "      <td>99.0</td>\n",
       "      <td>1.0</td>\n",
       "    </tr>\n",
       "    <tr>\n",
       "      <th>1</th>\n",
       "      <td>130.0</td>\n",
       "      <td>82.0</td>\n",
       "      <td>106.0</td>\n",
       "      <td>3.0</td>\n",
       "    </tr>\n",
       "    <tr>\n",
       "      <th>2</th>\n",
       "      <td>120.0</td>\n",
       "      <td>70.0</td>\n",
       "      <td>98.0</td>\n",
       "      <td>1.0</td>\n",
       "    </tr>\n",
       "    <tr>\n",
       "      <th>3</th>\n",
       "      <td>145.0</td>\n",
       "      <td>87.0</td>\n",
       "      <td>95.0</td>\n",
       "      <td>1.0</td>\n",
       "    </tr>\n",
       "    <tr>\n",
       "      <th>4</th>\n",
       "      <td>138.0</td>\n",
       "      <td>82.0</td>\n",
       "      <td>101.0</td>\n",
       "      <td>1.0</td>\n",
       "    </tr>\n",
       "    <tr>\n",
       "      <th>...</th>\n",
       "      <td>...</td>\n",
       "      <td>...</td>\n",
       "      <td>...</td>\n",
       "      <td>...</td>\n",
       "    </tr>\n",
       "    <tr>\n",
       "      <th>999995</th>\n",
       "      <td>110.0</td>\n",
       "      <td>70.0</td>\n",
       "      <td>107.0</td>\n",
       "      <td>1.0</td>\n",
       "    </tr>\n",
       "    <tr>\n",
       "      <th>999996</th>\n",
       "      <td>136.0</td>\n",
       "      <td>88.0</td>\n",
       "      <td>114.0</td>\n",
       "      <td>1.0</td>\n",
       "    </tr>\n",
       "    <tr>\n",
       "      <th>999997</th>\n",
       "      <td>162.0</td>\n",
       "      <td>90.0</td>\n",
       "      <td>98.0</td>\n",
       "      <td>2.0</td>\n",
       "    </tr>\n",
       "    <tr>\n",
       "      <th>999998</th>\n",
       "      <td>140.0</td>\n",
       "      <td>98.0</td>\n",
       "      <td>94.0</td>\n",
       "      <td>2.0</td>\n",
       "    </tr>\n",
       "    <tr>\n",
       "      <th>999999</th>\n",
       "      <td>120.0</td>\n",
       "      <td>80.0</td>\n",
       "      <td>85.0</td>\n",
       "      <td>1.0</td>\n",
       "    </tr>\n",
       "  </tbody>\n",
       "</table>\n",
       "<p>2000000 rows × 4 columns</p>\n",
       "</div>"
      ],
      "text/plain": [
       "        수축기혈압  이완기혈압  식전혈당(공복혈당)  흡연상태\n",
       "0       120.0   80.0        99.0   1.0\n",
       "1       130.0   82.0       106.0   3.0\n",
       "2       120.0   70.0        98.0   1.0\n",
       "3       145.0   87.0        95.0   1.0\n",
       "4       138.0   82.0       101.0   1.0\n",
       "...       ...    ...         ...   ...\n",
       "999995  110.0   70.0       107.0   1.0\n",
       "999996  136.0   88.0       114.0   1.0\n",
       "999997  162.0   90.0        98.0   2.0\n",
       "999998  140.0   98.0        94.0   2.0\n",
       "999999  120.0   80.0        85.0   1.0\n",
       "\n",
       "[2000000 rows x 4 columns]"
      ]
     },
     "execution_count": 5,
     "metadata": {},
     "output_type": "execute_result"
    }
   ],
   "source": [
    "data"
   ]
  },
  {
   "cell_type": "markdown",
   "metadata": {},
   "source": [
    "## Null 개수 확인\n"
   ]
  },
  {
   "cell_type": "code",
   "execution_count": 6,
   "metadata": {},
   "outputs": [
    {
     "name": "stdout",
     "output_type": "stream",
     "text": [
      "        수축기혈압  이완기혈압  식전혈당(공복혈당)  흡연상태\n",
      "0       120.0   80.0        99.0   1.0\n",
      "1       130.0   82.0       106.0   3.0\n",
      "2       120.0   70.0        98.0   1.0\n",
      "3       145.0   87.0        95.0   1.0\n",
      "4       138.0   82.0       101.0   1.0\n",
      "...       ...    ...         ...   ...\n",
      "999995  110.0   70.0       107.0   1.0\n",
      "999996  136.0   88.0       114.0   1.0\n",
      "999997  162.0   90.0        98.0   2.0\n",
      "999998  140.0   98.0        94.0   2.0\n",
      "999999  120.0   80.0        85.0   1.0\n",
      "\n",
      "[2000000 rows x 4 columns]\n",
      "        수축기혈압  이완기혈압  식전혈당(공복혈당)  흡연상태\n",
      "0       120.0   80.0        99.0   1.0\n",
      "1       130.0   82.0       106.0   3.0\n",
      "2       120.0   70.0        98.0   1.0\n",
      "3       145.0   87.0        95.0   1.0\n",
      "4       138.0   82.0       101.0   1.0\n",
      "...       ...    ...         ...   ...\n",
      "999995  110.0   70.0       107.0   1.0\n",
      "999996  136.0   88.0       114.0   1.0\n",
      "999997  162.0   90.0        98.0   2.0\n",
      "999998  140.0   98.0        94.0   2.0\n",
      "999999  120.0   80.0        85.0   1.0\n",
      "\n",
      "[1993626 rows x 4 columns]\n"
     ]
    }
   ],
   "source": [
    "data.isnull().sum()\n",
    "notnull_data = data.dropna(axis =0)\n",
    "\n",
    "print(data)\n",
    "print(notnull_data)\n"
   ]
  },
  {
   "cell_type": "markdown",
   "metadata": {},
   "source": [
    "## 이상치 제거\n",
    " - 식전혈당 300 이상 데이터 제거\n",
    " - 혈당 300이상 + 220 /60 수축기, 140/40 이완기 데이터 제거"
   ]
  },
  {
   "cell_type": "code",
   "execution_count": 7,
   "metadata": {},
   "outputs": [
    {
     "name": "stdout",
     "output_type": "stream",
     "text": [
      "        수축기혈압  이완기혈압  식전혈당(공복혈당)  흡연상태\n",
      "0       120.0   80.0        99.0   1.0\n",
      "1       130.0   82.0       106.0   3.0\n",
      "2       120.0   70.0        98.0   1.0\n",
      "3       145.0   87.0        95.0   1.0\n",
      "4       138.0   82.0       101.0   1.0\n",
      "...       ...    ...         ...   ...\n",
      "999995  110.0   70.0       107.0   1.0\n",
      "999996  136.0   88.0       114.0   1.0\n",
      "999997  162.0   90.0        98.0   2.0\n",
      "999998  140.0   98.0        94.0   2.0\n",
      "999999  120.0   80.0        85.0   1.0\n",
      "\n",
      "[1990562 rows x 4 columns]\n",
      "        수축기혈압  이완기혈압  식전혈당(공복혈당)  흡연상태\n",
      "0       120.0   80.0        99.0   1.0\n",
      "1       130.0   82.0       106.0   3.0\n",
      "2       120.0   70.0        98.0   1.0\n",
      "3       145.0   87.0        95.0   1.0\n",
      "4       138.0   82.0       101.0   1.0\n",
      "...       ...    ...         ...   ...\n",
      "999995  110.0   70.0       107.0   1.0\n",
      "999996  136.0   88.0       114.0   1.0\n",
      "999997  162.0   90.0        98.0   2.0\n",
      "999998  140.0   98.0        94.0   2.0\n",
      "999999  120.0   80.0        85.0   1.0\n",
      "\n",
      "[1990388 rows x 4 columns]\n"
     ]
    }
   ],
   "source": [
    "notnull_lower_300_data = notnull_data[notnull_data[column_o]<=300]\n",
    "sys_cut_data = notnull_lower_300_data[(notnull_lower_300_data[column_m] >= 60) & (notnull_lower_300_data[column_m] <= 220)]\n",
    "dias_cut_data = sys_cut_data[(sys_cut_data[column_n] >= 40) & (sys_cut_data[column_n] <= 140)]\n",
    "print(notnull_lower_300_data)\n",
    "data = dias_cut_data\n",
    "print(data)\n"
   ]
  },
  {
   "cell_type": "code",
   "execution_count": 8,
   "metadata": {},
   "outputs": [
    {
     "data": {
      "text/html": [
       "<div>\n",
       "<style scoped>\n",
       "    .dataframe tbody tr th:only-of-type {\n",
       "        vertical-align: middle;\n",
       "    }\n",
       "\n",
       "    .dataframe tbody tr th {\n",
       "        vertical-align: top;\n",
       "    }\n",
       "\n",
       "    .dataframe thead th {\n",
       "        text-align: right;\n",
       "    }\n",
       "</style>\n",
       "<table border=\"1\" class=\"dataframe\">\n",
       "  <thead>\n",
       "    <tr style=\"text-align: right;\">\n",
       "      <th></th>\n",
       "      <th>수축기혈압</th>\n",
       "      <th>이완기혈압</th>\n",
       "      <th>식전혈당(공복혈당)</th>\n",
       "      <th>흡연상태</th>\n",
       "    </tr>\n",
       "  </thead>\n",
       "  <tbody>\n",
       "    <tr>\n",
       "      <th>11</th>\n",
       "      <td>109.0</td>\n",
       "      <td>69.0</td>\n",
       "      <td>137.0</td>\n",
       "      <td>2.0</td>\n",
       "    </tr>\n",
       "    <tr>\n",
       "      <th>37</th>\n",
       "      <td>167.0</td>\n",
       "      <td>84.0</td>\n",
       "      <td>128.0</td>\n",
       "      <td>1.0</td>\n",
       "    </tr>\n",
       "    <tr>\n",
       "      <th>75</th>\n",
       "      <td>149.0</td>\n",
       "      <td>90.0</td>\n",
       "      <td>155.0</td>\n",
       "      <td>1.0</td>\n",
       "    </tr>\n",
       "    <tr>\n",
       "      <th>76</th>\n",
       "      <td>130.0</td>\n",
       "      <td>80.0</td>\n",
       "      <td>160.0</td>\n",
       "      <td>2.0</td>\n",
       "    </tr>\n",
       "    <tr>\n",
       "      <th>85</th>\n",
       "      <td>120.0</td>\n",
       "      <td>74.0</td>\n",
       "      <td>140.0</td>\n",
       "      <td>3.0</td>\n",
       "    </tr>\n",
       "    <tr>\n",
       "      <th>...</th>\n",
       "      <td>...</td>\n",
       "      <td>...</td>\n",
       "      <td>...</td>\n",
       "      <td>...</td>\n",
       "    </tr>\n",
       "    <tr>\n",
       "      <th>999936</th>\n",
       "      <td>114.0</td>\n",
       "      <td>62.0</td>\n",
       "      <td>137.0</td>\n",
       "      <td>2.0</td>\n",
       "    </tr>\n",
       "    <tr>\n",
       "      <th>999940</th>\n",
       "      <td>146.0</td>\n",
       "      <td>101.0</td>\n",
       "      <td>143.0</td>\n",
       "      <td>1.0</td>\n",
       "    </tr>\n",
       "    <tr>\n",
       "      <th>999942</th>\n",
       "      <td>132.0</td>\n",
       "      <td>66.0</td>\n",
       "      <td>150.0</td>\n",
       "      <td>1.0</td>\n",
       "    </tr>\n",
       "    <tr>\n",
       "      <th>999977</th>\n",
       "      <td>132.0</td>\n",
       "      <td>96.0</td>\n",
       "      <td>160.0</td>\n",
       "      <td>2.0</td>\n",
       "    </tr>\n",
       "    <tr>\n",
       "      <th>999991</th>\n",
       "      <td>110.0</td>\n",
       "      <td>76.0</td>\n",
       "      <td>217.0</td>\n",
       "      <td>1.0</td>\n",
       "    </tr>\n",
       "  </tbody>\n",
       "</table>\n",
       "<p>152785 rows × 4 columns</p>\n",
       "</div>"
      ],
      "text/plain": [
       "        수축기혈압  이완기혈압  식전혈당(공복혈당)  흡연상태\n",
       "11      109.0   69.0       137.0   2.0\n",
       "37      167.0   84.0       128.0   1.0\n",
       "75      149.0   90.0       155.0   1.0\n",
       "76      130.0   80.0       160.0   2.0\n",
       "85      120.0   74.0       140.0   3.0\n",
       "...       ...    ...         ...   ...\n",
       "999936  114.0   62.0       137.0   2.0\n",
       "999940  146.0  101.0       143.0   1.0\n",
       "999942  132.0   66.0       150.0   1.0\n",
       "999977  132.0   96.0       160.0   2.0\n",
       "999991  110.0   76.0       217.0   1.0\n",
       "\n",
       "[152785 rows x 4 columns]"
      ]
     },
     "execution_count": 8,
     "metadata": {},
     "output_type": "execute_result"
    }
   ],
   "source": [
    "diabetes = data[data[column_o] >= 126]\n",
    "diabetes"
   ]
  },
  {
   "cell_type": "markdown",
   "metadata": {},
   "source": [
    "전체 인원(널제거, 공복혈당 300이상 제거) : 1990388\n",
    "당뇨 인원 : 152785"
   ]
  },
  {
   "cell_type": "code",
   "execution_count": 9,
   "metadata": {},
   "outputs": [
    {
     "name": "stdout",
     "output_type": "stream",
     "text": [
      "당뇨 확률 : 0.076761, 당뇨x 확률 : 0.923239\n"
     ]
    }
   ],
   "source": [
    "total_people = 1990388\n",
    "total_dia = 152785\n",
    "\n",
    "p_diabetes = total_dia/total_people\n",
    "p_not_diabetes = (total_people - total_dia)/total_people\n",
    "\n",
    "print(\"당뇨 확률 : %f, 당뇨x 확률 : %f\" % (p_diabetes,p_not_diabetes))\n",
    "P = np.array([p_diabetes,p_not_diabetes])"
   ]
  },
  {
   "cell_type": "markdown",
   "metadata": {},
   "source": [
    "# H(parent) 계산"
   ]
  },
  {
   "cell_type": "code",
   "execution_count": 10,
   "metadata": {},
   "outputs": [
    {
     "name": "stdout",
     "output_type": "stream",
     "text": [
      "H(parent) (당뇨병 엔트로피) : 0.390664\n"
     ]
    },
    {
     "data": {
      "text/plain": [
       "0.39066374732574616"
      ]
     },
     "execution_count": 10,
     "metadata": {},
     "output_type": "execute_result"
    }
   ],
   "source": [
    "h_parent = - ((P[0]*np.log2(P[0]))+ (P[1] * np.log2(P[1])))\n",
    "\n",
    "print(\"H(parent) (당뇨병 엔트로피) : %f\"%(h_parent))\n",
    "h_parent"
   ]
  },
  {
   "cell_type": "code",
   "execution_count": 11,
   "metadata": {},
   "outputs": [
    {
     "name": "stdout",
     "output_type": "stream",
     "text": [
      "H =  0.39066374732574616\n"
     ]
    }
   ],
   "source": [
    "# Function compute Entropy\n",
    "def H(p):\n",
    "    id_p = np.where(p != 0)\n",
    "    return -np.sum(p[id_p]*np.log2(p[id_p]))\n",
    "\n",
    "\n",
    "\n",
    "\n",
    "# Compute H(X)\n",
    "# Expected result: H = 1.27985422583\n",
    "print (\"H = \", H(P))"
   ]
  },
  {
   "cell_type": "markdown",
   "metadata": {},
   "source": [
    "# 흡연 여부 엔트로피"
   ]
  },
  {
   "cell_type": "code",
   "execution_count": 12,
   "metadata": {},
   "outputs": [],
   "source": [
    "z1_people = len(data[data[column_z] == 1])\n",
    "z2_people = len(data[data[column_z] == 2])\n",
    "z3_people = len(data[data[column_z] == 3])"
   ]
  },
  {
   "cell_type": "code",
   "execution_count": 13,
   "metadata": {},
   "outputs": [
    {
     "name": "stdout",
     "output_type": "stream",
     "text": [
      "흡연1 : 1209391 흡연2 : 352982 흡연3 : 428015 흡연 총 인원 : 1990388\n"
     ]
    }
   ],
   "source": [
    "print( \"흡연1 : %d 흡연2 : %d 흡연3 : %d 흡연 총 인원 : %d\" % (z1_people,z2_people,z3_people, z1_people+z2_people+z3_people))"
   ]
  },
  {
   "cell_type": "code",
   "execution_count": 14,
   "metadata": {},
   "outputs": [],
   "source": [
    "z1_dia = len(data[(data[column_z] == 1) & (data[column_o] >= 126)])\n",
    "z1_not_dia = len(data[(data[column_z] == 1) & (data[column_o] < 126)])\n",
    "z2_dia = len(data[(data[column_z] == 2) & (data[column_o] >= 126)])\n",
    "z2_not_dia = len(data[(data[column_z] == 2) & (data[column_o] < 126)])\n",
    "z3_dia = len(data[(data[column_z] == 3) & (data[column_o] >= 126)])\n",
    "z3_not_dia = len(data[(data[column_z] == 3) & (data[column_o] < 126)])"
   ]
  },
  {
   "cell_type": "code",
   "execution_count": 15,
   "metadata": {},
   "outputs": [
    {
     "name": "stdout",
     "output_type": "stream",
     "text": [
      "흡연여부:1, 당뇨인 사람 = 75897, 당뇨x인 사람 = 1133494\n",
      "흡연여부:2, 당뇨인 사람 = 37179, 당뇨x인 사람 = 315803\n",
      "흡연여부:3, 당뇨인 사람 = 39709, 당뇨x인 사람 = 388306\n"
     ]
    }
   ],
   "source": [
    "print(\"흡연여부:1, 당뇨인 사람 = %d, 당뇨x인 사람 = %d\" %(z1_dia, z1_not_dia))\n",
    "print(\"흡연여부:2, 당뇨인 사람 = %d, 당뇨x인 사람 = %d\" %(z2_dia, z2_not_dia))\n",
    "print(\"흡연여부:3, 당뇨인 사람 = %d, 당뇨x인 사람 = %d\" %(z3_dia, z3_not_dia))"
   ]
  },
  {
   "cell_type": "markdown",
   "metadata": {},
   "source": [
    "## H(children) 계산\n",
    " "
   ]
  },
  {
   "cell_type": "code",
   "execution_count": 16,
   "metadata": {},
   "outputs": [],
   "source": [
    "p_z1_dia = z1_dia/z1_people\n",
    "p_z1_not_dia = (z1_people - z1_dia) / z1_people\n",
    "p_z2_dia = z2_dia/z2_people\n",
    "p_z2_not_dia = (z2_people - z2_dia) / z2_people\n",
    "p_z3_dia = z3_dia/z3_people\n",
    "p_z3_not_dia = (z3_people - z3_dia) / z3_people\n",
    "\n",
    "p_z1 = z1_people/total_people\n",
    "p_z2 = z2_people/total_people\n",
    "p_z3 = z3_people/total_people"
   ]
  },
  {
   "cell_type": "code",
   "execution_count": 17,
   "metadata": {},
   "outputs": [
    {
     "name": "stdout",
     "output_type": "stream",
     "text": [
      "H(z1): 0.338291\n",
      "H(z2): 0.485662\n",
      "H(z3): 0.445664\n"
     ]
    }
   ],
   "source": [
    "h_z1 = - ((p_z1_dia*np.log2(p_z1_dia))+ (p_z1_not_dia* np.log2(p_z1_not_dia)))\n",
    "h_z2 = - ((p_z2_dia*np.log2(p_z2_dia))+ (p_z2_not_dia* np.log2(p_z2_not_dia)))\n",
    "h_z3 = - ((p_z3_dia*np.log2(p_z3_dia))+ (p_z3_not_dia* np.log2(p_z3_not_dia)))\n",
    "\n",
    "print(\"H(z1): %f\"%(h_z1))\n",
    "print(\"H(z2): %f\"%(h_z2))\n",
    "print(\"H(z3): %f\"%(h_z3))"
   ]
  },
  {
   "cell_type": "markdown",
   "metadata": {},
   "source": [
    "## IG(Information Gain) 계산\n",
    ": 질문) 계산할 때 확률 부분이 'z1 && 당뇨/z1인 사람' 이게 맞을까요? 'z1인 사람/ 전체 사람' 이게 맞을까요?\n",
    " 둘 다 해볼께요..\n",
    "  두번째가 맞는듯"
   ]
  },
  {
   "cell_type": "code",
   "execution_count": 18,
   "metadata": {},
   "outputs": [
    {
     "name": "stdout",
     "output_type": "stream",
     "text": [
      "0.2671259330594141 0.003147859406958775\n"
     ]
    }
   ],
   "source": [
    "z_IG_1 = h_parent - ((p_z1_dia *h_z1) + (p_z2_dia *h_z2) +(p_z2_dia *h_z2))\n",
    "z_IG_2 = h_parent - ((p_z1 * h_z1) +(p_z2 * h_z2)+(p_z3 * h_z3))\n",
    " \n",
    "print(z_IG_1, z_IG_2)"
   ]
  },
  {
   "cell_type": "markdown",
   "metadata": {},
   "source": [
    "# 수축/이완 혈압 엔트로피\n",
    " ~혈압 기준은 두 세가지 정도 있는데 추후에 다른 기준으로 분리해서 해보려고 함~\n",
    " 일단 그냥 +20 씩 분류할께요\n"
   ]
  },
  {
   "cell_type": "code",
   "execution_count": 19,
   "metadata": {},
   "outputs": [
    {
     "data": {
      "image/png": "[encoded data removed]",
      "text/plain": [
       "<Figure size 432x288 with 1 Axes>"
      ]
     },
     "metadata": {
      "image/png": {
       "height": 244,
       "width": 434
      },
      "needs_background": "light"
     },
     "output_type": "display_data"
    },
    {
     "name": "stdout",
     "output_type": "stream",
     "text": [
      "수축기혈압 전체 인원 분포 [   103  73036 770312 934401 181663  27103   3349    421] True\n"
     ]
    }
   ],
   "source": [
    "# 고혈합 분류법\n",
    "# only_bp = data[(data[column_m] >= 140) & (data[column_n] < 90)]\n",
    "\n",
    "# lv2_bp = data[(data[column_m] >= 160) | (data[column_n] >= 100)]\n",
    "\n",
    "# lv1_bp = data[((data[column_m] >= 140) & (data[column_m] <= 159)) |\n",
    "#               ((data[column_n] >= 90) & (data[column_n] <= 99))]\n",
    "\n",
    "# lv0_bp = data[((data[column_m] >= 130) & (data[column_m] <= 139)) |\n",
    "#               ((data[column_n] >= 80) & (data[column_n] <= 89))]\n",
    "\n",
    "# warn_bp = data[((data[column_m] >= 120) & (data[column_m] <= 129)) &\n",
    "#               (data[column_n] < 80)]\n",
    "\n",
    "# normal_bp = data[((data[column_m] >= 90) & (data[column_m] < 120)) & \n",
    "#               ((data[column_n] >= 60) & (data[column_n] < 80))]\n",
    "\n",
    "# low_bp = data[(data[column_m] < 90) & (data[column_n] < 60)]\n",
    "\n",
    "# 단순히 범위로 수축기: 60~220(+20) , 이완기: 40~140 (+15, 마지막만 +10)\n",
    "sys_lv0 = data[(data[column_m] >= 60) & (data[column_m] < 80)]\n",
    "sys_lv1 = data[(data[column_m] >= 80) & (data[column_m] < 100)]\n",
    "sys_lv2 = data[(data[column_m] >= 100) & (data[column_m] < 120)]\n",
    "sys_lv3 = data[(data[column_m] >= 120) & (data[column_m] < 140)]\n",
    "sys_lv4 = data[(data[column_m] >= 140) & (data[column_m] < 160)]\n",
    "sys_lv5 = data[(data[column_m] >= 160) & (data[column_m] < 180)]\n",
    "sys_lv6 = data[(data[column_m] >= 180) & (data[column_m] < 200)]\n",
    "sys_lv7 = data[(data[column_m] >= 200) & (data[column_m] <= 220)]\n",
    "\n",
    "sys_len = np.array([len(sys_lv0),len(sys_lv1),len(sys_lv2),len(sys_lv3),\n",
    "                   len(sys_lv4),len(sys_lv5),len(sys_lv6),len(sys_lv7)])\n",
    "sys_x = range(len(sys_len))\n",
    "plt.bar(sys_x,sys_len)\n",
    "plt.show()\n",
    "print(\"수축기혈압 전체 인원 분포\",sys_len, sys_len.sum() == total_people)\n"
   ]
  },
  {
   "cell_type": "code",
   "execution_count": 20,
   "metadata": {},
   "outputs": [
    {
     "data": {
      "image/png": "[encoded data removed]",
      "text/plain": [
       "<Figure size 432x288 with 1 Axes>"
      ]
     },
     "metadata": {
      "image/png": {
       "height": 255,
       "width": 410
      },
      "needs_background": "light"
     },
     "output_type": "display_data"
    },
    {
     "name": "stdout",
     "output_type": "stream",
     "text": [
      "이완기혈압 전체 인원 분포 [  14482  437070 1171540  326398   38031    2500     367] True\n"
     ]
    }
   ],
   "source": [
    "dias_lv0 = data[(data[column_n] >= 40) & (data[column_n] < 55)]\n",
    "dias_lv1 = data[(data[column_n] >= 55) & (data[column_n] < 70)]\n",
    "dias_lv2 = data[(data[column_n] >= 70) & (data[column_n] < 85)]\n",
    "dias_lv3 = data[(data[column_n] >= 85) & (data[column_n] < 100)]\n",
    "dias_lv4 = data[(data[column_n] >= 100) & (data[column_n] < 115)]\n",
    "dias_lv5 = data[(data[column_n] >= 115) & (data[column_n] < 130)]\n",
    "dias_lv6 = data[(data[column_n] >= 130) & (data[column_n] <= 140)]\n",
    "\n",
    "\n",
    "dias_len = np.array([len(dias_lv0),len(dias_lv1),len(dias_lv2),len(dias_lv3),\n",
    "                   len(dias_lv4),len(dias_lv5),len(dias_lv6)])\n",
    "dias_x = range(len(dias_len))\n",
    "plt.bar(dias_x,dias_len)\n",
    "plt.show()\n",
    "print(\"이완기혈압 전체 인원 분포\",dias_len, dias_len.sum() == total_people)"
   ]
  },
  {
   "cell_type": "code",
   "execution_count": 21,
   "metadata": {},
   "outputs": [
    {
     "name": "stdout",
     "output_type": "stream",
     "text": [
      "[   103  73036 770312 934401 181663  27103   3349    421]\n",
      "[    3  1821 35449 83416 26611  4763   653    69] 152785\n",
      "[  14482  437070 1171540  326398   38031    2500     367]\n",
      "[  655 21343 91270 34202  4883   380    52] 152785\n"
     ]
    }
   ],
   "source": [
    "sys_lv0_diab = sys_lv0[sys_lv0[column_o]>=126]\n",
    "sys_lv1_diab = sys_lv1[sys_lv1[column_o]>=126]\n",
    "sys_lv2_diab = sys_lv2[sys_lv2[column_o]>=126]\n",
    "sys_lv3_diab = sys_lv3[sys_lv3[column_o]>=126]\n",
    "sys_lv4_diab = sys_lv4[sys_lv4[column_o]>=126]\n",
    "sys_lv5_diab = sys_lv5[sys_lv5[column_o]>=126]\n",
    "sys_lv6_diab = sys_lv6[sys_lv6[column_o]>=126]\n",
    "sys_lv7_diab = sys_lv7[sys_lv7[column_o]>=126]\n",
    "\n",
    "dias_lv0_diab = dias_lv0[dias_lv0[column_o]>=126]\n",
    "dias_lv1_diab = dias_lv1[dias_lv1[column_o]>=126]\n",
    "dias_lv2_diab = dias_lv2[dias_lv2[column_o]>=126]\n",
    "dias_lv3_diab = dias_lv3[dias_lv3[column_o]>=126]\n",
    "dias_lv4_diab = dias_lv4[dias_lv4[column_o]>=126]\n",
    "dias_lv5_diab = dias_lv5[dias_lv5[column_o]>=126]\n",
    "dias_lv6_diab = dias_lv6[dias_lv6[column_o]>=126]\n",
    "\n",
    "\n",
    "sys_diab_len = np.array([len(sys_lv0_diab),len(sys_lv1_diab),len(sys_lv2_diab),\n",
    "                         len(sys_lv3_diab), len(sys_lv4_diab),len(sys_lv5_diab),\n",
    "                         len(sys_lv6_diab),len(sys_lv7_diab)])\n",
    "dias_diab_len = np.array([len(dias_lv0_diab),len(dias_lv1_diab),\n",
    "                          len(dias_lv2_diab),len(dias_lv3_diab),\n",
    "                          len(dias_lv4_diab),len(dias_lv5_diab),len(dias_lv6_diab)])\n",
    "\n",
    "print(sys_len)\n",
    "print(sys_diab_len, sys_diab_len.sum())\n",
    "print(dias_len)\n",
    "print(dias_diab_len, dias_diab_len.sum())\n",
    "## sys_diab_len.sum() == dias_diab_len.sum() == 당뇨병 인원"
   ]
  },
  {
   "cell_type": "markdown",
   "metadata": {},
   "source": [
    "### 확률 구하기"
   ]
  },
  {
   "cell_type": "code",
   "execution_count": 22,
   "metadata": {},
   "outputs": [
    {
     "name": "stdout",
     "output_type": "stream",
     "text": [
      "수축기 당뇨 확률:  [0.02912621359223301, 0.024932909797907882, 0.04601901567157204, 0.08927216473441274, 0.1464855253959254, 0.17573700328376932, 0.19498357718722006, 0.16389548693586697]\n",
      "수축기 정상 확률:  [0.970873786407767, 0.9750670902020921, 0.9539809843284279, 0.9107278352655872, 0.8535144746040746, 0.8242629967162307, 0.80501642281278, 0.836104513064133]\n",
      "이완기 당뇨 확률:  [0.04522855959121668, 0.04883199487496282, 0.07790600406302815, 0.10478618128787553, 0.12839525650127528, 0.152, 0.14168937329700274]\n",
      "이완기 정상 확률:  [0.9547714404087834, 0.9511680051250372, 0.9220939959369718, 0.8952138187121245, 0.8716047434987247, 0.848, 0.8583106267029973]\n"
     ]
    }
   ],
   "source": [
    "px1=[0 for _ in range(len(sys_len))] \n",
    "py1=[0 for _ in range(len(sys_len))] \n",
    "for i in range(len(sys_len)):\n",
    "    px1[i] = sys_diab_len[i] / sys_len[i]\n",
    "    py1[i] = (sys_len[i] - sys_diab_len[i]) / sys_len[i]\n",
    "\n",
    "print(\"수축기 당뇨 확률: \",px1)\n",
    "print(\"수축기 정상 확률: \",py1)\n",
    "\n",
    "px2=[0 for _ in range(len(dias_len))] \n",
    "py2=[0 for _ in range(len(dias_len))] \n",
    "for i in range(len(dias_len)):\n",
    "    px2[i] = dias_diab_len[i] / dias_len[i]\n",
    "    py2[i] = (dias_len[i] - dias_diab_len[i]) / dias_len[i]\n",
    "\n",
    "print(\"이완기 당뇨 확률: \",px2)\n",
    "print(\"이완기 정상 확률: \",py2)"
   ]
  },
  {
   "cell_type": "code",
   "execution_count": 23,
   "metadata": {},
   "outputs": [
    {
     "name": "stdout",
     "output_type": "stream",
     "text": [
      "[0.02912621 0.97087379]\n",
      "0.18999075553626754\n",
      "[0.02493291 0.97506709]\n",
      "0.1683061994731502\n",
      "[0.04601902 0.95398098]\n",
      "0.26923904364961826\n",
      "[0.08927216 0.91072784]\n",
      "0.4340357206412661\n",
      "[0.14648553 0.85351447]\n",
      "0.6009749954631391\n",
      "[0.175737 0.824263]\n",
      "0.6706618294011848\n",
      "[0.19498358 0.80501642]\n",
      "0.7117810758706125\n",
      "[0.16389549 0.83610451]\n",
      "0.6435478784630176\n",
      "수축기혈압 엔트로피 : \n",
      "lv0 = 0.189991\n",
      "lv1 = 0.168306\n",
      "lv2 = 0.269239\n",
      "lv3 = 0.434036\n",
      "lv4 = 0.600975\n",
      "lv5 = 0.670662\n",
      "lv6 = 0.711781\n",
      "lv7 = 0.643548\n"
     ]
    }
   ],
   "source": [
    "sys_entropy = []\n",
    "\n",
    "for x,y in zip(px1,py1):\n",
    "    P = np.array([x,y])\n",
    "    print(P)\n",
    "    print(H(P))\n",
    "    sys_entropy.append(H(P))\n",
    "\n",
    "\n",
    "print(\"수축기혈압 엔트로피 : \")\n",
    "for i in range(len(sys_len)):\n",
    "    print(\"lv%d = %f\" % (i,sys_entropy[i]))\n"
   ]
  },
  {
   "cell_type": "code",
   "execution_count": 24,
   "metadata": {},
   "outputs": [
    {
     "name": "stdout",
     "output_type": "stream",
     "text": [
      "[0.04522856 0.95477144]\n",
      "0.26577153576502643\n",
      "[0.04883199 0.95116801]\n",
      "0.28141448371513106\n",
      "[0.077906 0.922094]\n",
      "0.3947575435909049\n",
      "[0.10478618 0.89521382]\n",
      "0.48398636839174347\n",
      "[0.12839526 0.87160474]\n",
      "0.5530206875307276\n",
      "[0.152 0.848]\n",
      "0.6148227571490692\n",
      "[0.14168937 0.85831063]\n",
      "0.5886460862619332\n",
      "이완기혈압 엔트로피 : \n",
      "lv0 = 0.265772\n",
      "lv1 = 0.281414\n",
      "lv2 = 0.394758\n",
      "lv3 = 0.483986\n",
      "lv4 = 0.553021\n",
      "lv5 = 0.614823\n",
      "lv6 = 0.588646\n"
     ]
    }
   ],
   "source": [
    "dias_entropy = []\n",
    "for x,y in zip(px2,py2):\n",
    "    P = np.array([x,y])\n",
    "    print(P)\n",
    "    print(H(P))\n",
    "    dias_entropy.append(H(P))\n",
    "\n",
    "\n",
    "print(\"이완기혈압 엔트로피 : \")\n",
    "for i in range(len(dias_len)):\n",
    "    print(\"lv%d = %f\" % (i,dias_entropy[i]))"
   ]
  },
  {
   "cell_type": "code",
   "execution_count": 25,
   "metadata": {},
   "outputs": [
    {
     "name": "stdout",
     "output_type": "stream",
     "text": [
      "[5.174870427273476e-05, 0.03669435306081025, 0.38701599889066857, 0.4694567089431809, 0.09127014431357103, 0.013616943028193497, 0.0016825865107707642, 0.00021151654853224596]\n",
      "[0.007275968303667425, 0.21959035122800177, 0.5885988058609678, 0.16398712210885516, 0.01910732982714928, 0.0012560365114741448, 0.00018438615988440444]\n"
     ]
    }
   ],
   "source": [
    "p_sys = []\n",
    "p_dias = []\n",
    "\n",
    "\n",
    "for i in range(len(sys_len)):\n",
    "    p_sys.append(sys_len[i] / total_people)\n",
    "\n",
    "\n",
    "for i in range(len(dias_len)):\n",
    "    p_dias.append(dias_len[i] / total_people)\n",
    "    \n",
    "\n",
    "print(p_sys)\n",
    "print(p_dias)\n",
    "\n",
    "arr_p_sys = np.array(p_sys)\n",
    "arr_p_dias = np.array(p_dias)\n",
    "# bp_arr = np.array([len(low_bp),len(normal_bp),len(warn_bp),len(lv0_bp),len(lv1_bp),len(lv2_bp),len(only_bp)])\n",
    "# px = np.array(bp_arr/total_people)\n",
    "# print (px)"
   ]
  },
  {
   "cell_type": "code",
   "execution_count": 26,
   "metadata": {},
   "outputs": [
    {
     "name": "stdout",
     "output_type": "stream",
     "text": [
      "수축기혈압 정보증가량 :  0.011200037300218568\n",
      "이완기혈압 정보증가량 :  0.003765219580828927\n"
     ]
    }
   ],
   "source": [
    "sys_IG = h_parent - sum(arr_p_sys * sys_entropy)\n",
    "print(\"수축기혈압 정보증가량 : \", sys_IG)\n",
    "\n",
    "dias_IG = h_parent - sum(arr_p_dias * dias_entropy)\n",
    "print(\"이완기혈압 정보증가량 : \", dias_IG)"
   ]
  },
  {
   "cell_type": "markdown",
   "metadata": {},
   "source": [
    " : 다음과 같은 정보증가량을 구할 수 있고, 이를 기반으로 수축기 혈압의 정보가 더 중요하다고 고려할 수 있다.\n"
   ]
  },
  {
   "cell_type": "code",
   "execution_count": null,
   "metadata": {},
   "outputs": [],
   "source": []
  }
 ],
 "metadata": {
  "kernelspec": {
   "display_name": "Python 3",
   "language": "python",
   "name": "python3"
  },
  "language_info": {
   "codemirror_mode": {
    "name": "ipython",
    "version": 3
   },
   "file_extension": ".py",
   "mimetype": "text/x-python",
   "name": "python",
   "nbconvert_exporter": "python",
   "pygments_lexer": "ipython3",
   "version": "3.8.5"
  }
 },
 "nbformat": 4,
 "nbformat_minor": 4
}
