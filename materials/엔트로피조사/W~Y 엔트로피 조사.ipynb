{
 "cells": [
  {
   "cell_type": "markdown",
   "metadata": {},
   "source": [
    "# W~Y 엔트로피 조사"
   ]
  },
  {
   "cell_type": "code",
   "execution_count": 1,
   "metadata": {},
   "outputs": [],
   "source": [
    "import numpy as np\n",
    "import pandas as pd\n",
    "import matplotlib.pyplot as plt\n",
    "import seaborn as sns\n",
    "plt.style.use('fivethirtyeight')\n",
    "import warnings\n",
    "warnings.filterwarnings('ignore')\n",
    "%matplotlib inline"
   ]
  },
  {
   "cell_type": "code",
   "execution_count": 2,
   "metadata": {},
   "outputs": [],
   "source": [
    "import os\n",
    "# 운영체제별 한글 폰트 설정\n",
    "if os.name == 'posix': # Mac 환경 폰트 설정\n",
    "    plt.rc('font', family='AppleGothic')\n",
    "elif os.name == 'nt': # Windows 환경 폰트 설정\n",
    "    plt.rc('font', family='Malgun Gothic')\n",
    "\n",
    "plt.rc('axes', unicode_minus=False) # 마이너스 폰트 설정\n",
    "\n",
    "\n",
    "# 글씨 선명하게 출력하는 설정\n",
    "%config InlineBackend.figure_format = 'retina'"
   ]
  },
  {
   "cell_type": "code",
   "execution_count": 225,
   "metadata": {},
   "outputs": [],
   "source": [
    "data2017 = pd.read_csv('NHIS_OPEN_GJ_2017_100.csv',encoding='euc-kr')\n",
    "data2018 = pd.read_csv('NHIS_OPEN_GJ_2018_100.csv')"
   ]
  },
  {
   "cell_type": "code",
   "execution_count": 226,
   "metadata": {},
   "outputs": [],
   "source": [
    "data2017 = data2017[['성별코드','식전혈당(공복혈당)','(혈청지오티)AST','(혈청지오티)ALT', '감마지티피']]\n",
    "data2018 = data2018[['성별코드','식전혈당(공복혈당)','(혈청지오티)AST','(혈청지오티)ALT', '감마지티피']]"
   ]
  },
  {
   "cell_type": "markdown",
   "metadata": {},
   "source": [
    "## 부모 엔트로피 "
   ]
  },
  {
   "cell_type": "code",
   "execution_count": 227,
   "metadata": {},
   "outputs": [
    {
     "data": {
      "text/plain": [
       "2000000"
      ]
     },
     "execution_count": 227,
     "metadata": {},
     "output_type": "execute_result"
    }
   ],
   "source": [
    "data = pd.concat([data2017, data2018]) # 2017, 2018 데이터 합침 \n",
    "len(data)"
   ]
  },
  {
   "cell_type": "code",
   "execution_count": 228,
   "metadata": {},
   "outputs": [
    {
     "data": {
      "text/html": [
       "<div>\n",
       "<style scoped>\n",
       "    .dataframe tbody tr th:only-of-type {\n",
       "        vertical-align: middle;\n",
       "    }\n",
       "\n",
       "    .dataframe tbody tr th {\n",
       "        vertical-align: top;\n",
       "    }\n",
       "\n",
       "    .dataframe thead th {\n",
       "        text-align: right;\n",
       "    }\n",
       "</style>\n",
       "<table border=\"1\" class=\"dataframe\">\n",
       "  <thead>\n",
       "    <tr style=\"text-align: right;\">\n",
       "      <th></th>\n",
       "      <th>성별코드</th>\n",
       "      <th>식전혈당(공복혈당)</th>\n",
       "      <th>(혈청지오티)AST</th>\n",
       "      <th>(혈청지오티)ALT</th>\n",
       "      <th>감마지티피</th>\n",
       "    </tr>\n",
       "  </thead>\n",
       "  <tbody>\n",
       "    <tr>\n",
       "      <th>0</th>\n",
       "      <td>1</td>\n",
       "      <td>99.0</td>\n",
       "      <td>21.0</td>\n",
       "      <td>35.0</td>\n",
       "      <td>40.0</td>\n",
       "    </tr>\n",
       "    <tr>\n",
       "      <th>1</th>\n",
       "      <td>1</td>\n",
       "      <td>106.0</td>\n",
       "      <td>20.0</td>\n",
       "      <td>36.0</td>\n",
       "      <td>27.0</td>\n",
       "    </tr>\n",
       "    <tr>\n",
       "      <th>2</th>\n",
       "      <td>1</td>\n",
       "      <td>98.0</td>\n",
       "      <td>47.0</td>\n",
       "      <td>32.0</td>\n",
       "      <td>68.0</td>\n",
       "    </tr>\n",
       "    <tr>\n",
       "      <th>3</th>\n",
       "      <td>1</td>\n",
       "      <td>95.0</td>\n",
       "      <td>29.0</td>\n",
       "      <td>34.0</td>\n",
       "      <td>18.0</td>\n",
       "    </tr>\n",
       "    <tr>\n",
       "      <th>4</th>\n",
       "      <td>1</td>\n",
       "      <td>101.0</td>\n",
       "      <td>19.0</td>\n",
       "      <td>12.0</td>\n",
       "      <td>25.0</td>\n",
       "    </tr>\n",
       "    <tr>\n",
       "      <th>...</th>\n",
       "      <td>...</td>\n",
       "      <td>...</td>\n",
       "      <td>...</td>\n",
       "      <td>...</td>\n",
       "      <td>...</td>\n",
       "    </tr>\n",
       "    <tr>\n",
       "      <th>999995</th>\n",
       "      <td>2</td>\n",
       "      <td>107.0</td>\n",
       "      <td>18.0</td>\n",
       "      <td>15.0</td>\n",
       "      <td>19.0</td>\n",
       "    </tr>\n",
       "    <tr>\n",
       "      <th>999996</th>\n",
       "      <td>1</td>\n",
       "      <td>114.0</td>\n",
       "      <td>25.0</td>\n",
       "      <td>36.0</td>\n",
       "      <td>90.0</td>\n",
       "    </tr>\n",
       "    <tr>\n",
       "      <th>999997</th>\n",
       "      <td>1</td>\n",
       "      <td>98.0</td>\n",
       "      <td>21.0</td>\n",
       "      <td>15.0</td>\n",
       "      <td>36.0</td>\n",
       "    </tr>\n",
       "    <tr>\n",
       "      <th>999998</th>\n",
       "      <td>1</td>\n",
       "      <td>94.0</td>\n",
       "      <td>20.0</td>\n",
       "      <td>18.0</td>\n",
       "      <td>14.0</td>\n",
       "    </tr>\n",
       "    <tr>\n",
       "      <th>999999</th>\n",
       "      <td>1</td>\n",
       "      <td>85.0</td>\n",
       "      <td>17.0</td>\n",
       "      <td>12.0</td>\n",
       "      <td>11.0</td>\n",
       "    </tr>\n",
       "  </tbody>\n",
       "</table>\n",
       "<p>1994034 rows × 5 columns</p>\n",
       "</div>"
      ],
      "text/plain": [
       "        성별코드  식전혈당(공복혈당)  (혈청지오티)AST  (혈청지오티)ALT  감마지티피\n",
       "0          1        99.0        21.0        35.0   40.0\n",
       "1          1       106.0        20.0        36.0   27.0\n",
       "2          1        98.0        47.0        32.0   68.0\n",
       "3          1        95.0        29.0        34.0   18.0\n",
       "4          1       101.0        19.0        12.0   25.0\n",
       "...      ...         ...         ...         ...    ...\n",
       "999995     2       107.0        18.0        15.0   19.0\n",
       "999996     1       114.0        25.0        36.0   90.0\n",
       "999997     1        98.0        21.0        15.0   36.0\n",
       "999998     1        94.0        20.0        18.0   14.0\n",
       "999999     1        85.0        17.0        12.0   11.0\n",
       "\n",
       "[1994034 rows x 5 columns]"
      ]
     },
     "execution_count": 228,
     "metadata": {},
     "output_type": "execute_result"
    }
   ],
   "source": [
    "data.dropna(axis=0) # null 값 제거"
   ]
  },
  {
   "cell_type": "code",
   "execution_count": 229,
   "metadata": {},
   "outputs": [
    {
     "data": {
      "text/html": [
       "<div>\n",
       "<style scoped>\n",
       "    .dataframe tbody tr th:only-of-type {\n",
       "        vertical-align: middle;\n",
       "    }\n",
       "\n",
       "    .dataframe tbody tr th {\n",
       "        vertical-align: top;\n",
       "    }\n",
       "\n",
       "    .dataframe thead th {\n",
       "        text-align: right;\n",
       "    }\n",
       "</style>\n",
       "<table border=\"1\" class=\"dataframe\">\n",
       "  <thead>\n",
       "    <tr style=\"text-align: right;\">\n",
       "      <th></th>\n",
       "      <th>성별코드</th>\n",
       "      <th>식전혈당(공복혈당)</th>\n",
       "      <th>(혈청지오티)AST</th>\n",
       "      <th>(혈청지오티)ALT</th>\n",
       "      <th>감마지티피</th>\n",
       "    </tr>\n",
       "  </thead>\n",
       "  <tbody>\n",
       "    <tr>\n",
       "      <th>0</th>\n",
       "      <td>1</td>\n",
       "      <td>99.0</td>\n",
       "      <td>21.0</td>\n",
       "      <td>35.0</td>\n",
       "      <td>40.0</td>\n",
       "    </tr>\n",
       "    <tr>\n",
       "      <th>1</th>\n",
       "      <td>1</td>\n",
       "      <td>106.0</td>\n",
       "      <td>20.0</td>\n",
       "      <td>36.0</td>\n",
       "      <td>27.0</td>\n",
       "    </tr>\n",
       "    <tr>\n",
       "      <th>2</th>\n",
       "      <td>1</td>\n",
       "      <td>98.0</td>\n",
       "      <td>47.0</td>\n",
       "      <td>32.0</td>\n",
       "      <td>68.0</td>\n",
       "    </tr>\n",
       "    <tr>\n",
       "      <th>3</th>\n",
       "      <td>1</td>\n",
       "      <td>95.0</td>\n",
       "      <td>29.0</td>\n",
       "      <td>34.0</td>\n",
       "      <td>18.0</td>\n",
       "    </tr>\n",
       "    <tr>\n",
       "      <th>4</th>\n",
       "      <td>1</td>\n",
       "      <td>101.0</td>\n",
       "      <td>19.0</td>\n",
       "      <td>12.0</td>\n",
       "      <td>25.0</td>\n",
       "    </tr>\n",
       "    <tr>\n",
       "      <th>...</th>\n",
       "      <td>...</td>\n",
       "      <td>...</td>\n",
       "      <td>...</td>\n",
       "      <td>...</td>\n",
       "      <td>...</td>\n",
       "    </tr>\n",
       "    <tr>\n",
       "      <th>999995</th>\n",
       "      <td>2</td>\n",
       "      <td>107.0</td>\n",
       "      <td>18.0</td>\n",
       "      <td>15.0</td>\n",
       "      <td>19.0</td>\n",
       "    </tr>\n",
       "    <tr>\n",
       "      <th>999996</th>\n",
       "      <td>1</td>\n",
       "      <td>114.0</td>\n",
       "      <td>25.0</td>\n",
       "      <td>36.0</td>\n",
       "      <td>90.0</td>\n",
       "    </tr>\n",
       "    <tr>\n",
       "      <th>999997</th>\n",
       "      <td>1</td>\n",
       "      <td>98.0</td>\n",
       "      <td>21.0</td>\n",
       "      <td>15.0</td>\n",
       "      <td>36.0</td>\n",
       "    </tr>\n",
       "    <tr>\n",
       "      <th>999998</th>\n",
       "      <td>1</td>\n",
       "      <td>94.0</td>\n",
       "      <td>20.0</td>\n",
       "      <td>18.0</td>\n",
       "      <td>14.0</td>\n",
       "    </tr>\n",
       "    <tr>\n",
       "      <th>999999</th>\n",
       "      <td>1</td>\n",
       "      <td>85.0</td>\n",
       "      <td>17.0</td>\n",
       "      <td>12.0</td>\n",
       "      <td>11.0</td>\n",
       "    </tr>\n",
       "  </tbody>\n",
       "</table>\n",
       "<p>1990911 rows × 5 columns</p>\n",
       "</div>"
      ],
      "text/plain": [
       "        성별코드  식전혈당(공복혈당)  (혈청지오티)AST  (혈청지오티)ALT  감마지티피\n",
       "0          1        99.0        21.0        35.0   40.0\n",
       "1          1       106.0        20.0        36.0   27.0\n",
       "2          1        98.0        47.0        32.0   68.0\n",
       "3          1        95.0        29.0        34.0   18.0\n",
       "4          1       101.0        19.0        12.0   25.0\n",
       "...      ...         ...         ...         ...    ...\n",
       "999995     2       107.0        18.0        15.0   19.0\n",
       "999996     1       114.0        25.0        36.0   90.0\n",
       "999997     1        98.0        21.0        15.0   36.0\n",
       "999998     1        94.0        20.0        18.0   14.0\n",
       "999999     1        85.0        17.0        12.0   11.0\n",
       "\n",
       "[1990911 rows x 5 columns]"
      ]
     },
     "execution_count": 229,
     "metadata": {},
     "output_type": "execute_result"
    }
   ],
   "source": [
    "data = data[data['식전혈당(공복혈당)'] < 300] # 공복혈당 300 이상 제거\n",
    "data "
   ]
  },
  {
   "cell_type": "code",
   "execution_count": 230,
   "metadata": {},
   "outputs": [
    {
     "data": {
      "text/plain": [
       "0          99.0\n",
       "1         106.0\n",
       "2          98.0\n",
       "3          95.0\n",
       "4         101.0\n",
       "          ...  \n",
       "999995    107.0\n",
       "999996    114.0\n",
       "999997     98.0\n",
       "999998     94.0\n",
       "999999     85.0\n",
       "Name: 식전혈당(공복혈당), Length: 1990911, dtype: float64"
      ]
     },
     "execution_count": 230,
     "metadata": {},
     "output_type": "execute_result"
    }
   ],
   "source": [
    "diabetes = data['식전혈당(공복혈당)'] \n",
    "diabetes"
   ]
  },
  {
   "cell_type": "code",
   "execution_count": 231,
   "metadata": {},
   "outputs": [
    {
     "data": {
      "text/plain": [
       "11        137.0\n",
       "37        128.0\n",
       "75        155.0\n",
       "76        160.0\n",
       "85        140.0\n",
       "          ...  \n",
       "999936    137.0\n",
       "999940    143.0\n",
       "999942    150.0\n",
       "999977    160.0\n",
       "999991    217.0\n",
       "Name: 식전혈당(공복혈당), Length: 152768, dtype: float64"
      ]
     },
     "execution_count": 231,
     "metadata": {},
     "output_type": "execute_result"
    }
   ],
   "source": [
    "diabetes_get = data[data['식전혈당(공복혈당)'] >= 126 ] \n",
    "diabetes_get = diabetes_get['식전혈당(공복혈당)']\n",
    "diabetes_get"
   ]
  },
  {
   "cell_type": "code",
   "execution_count": 232,
   "metadata": {},
   "outputs": [
    {
     "name": "stdout",
     "output_type": "stream",
     "text": [
      "공복혈당 126 이상 :  152768\n",
      "공복혈당 126 이하 :  1838143\n"
     ]
    }
   ],
   "source": [
    "print(\"공복혈당 126 이상 : \", len(diabetes_get))\n",
    "print(\"공복혈당 126 이하 : \",len(diabetes)-len(diabetes_get))"
   ]
  },
  {
   "cell_type": "code",
   "execution_count": 233,
   "metadata": {},
   "outputs": [
    {
     "name": "stdout",
     "output_type": "stream",
     "text": [
      "당뇨 발병 확률 :  0.07673271180881516\n",
      "정상 확률 :  0.9232672881911849\n"
     ]
    }
   ],
   "source": [
    "print(\"당뇨 발병 확률 : \", len(diabetes_get)/1990911)\n",
    "print(\"정상 확률 : \", (len(diabetes)-len(diabetes_get))/1990911)"
   ]
  },
  {
   "cell_type": "code",
   "execution_count": 234,
   "metadata": {},
   "outputs": [
    {
     "data": {
      "text/plain": [
       "0.3905607434045131"
      ]
     },
     "execution_count": 234,
     "metadata": {},
     "output_type": "execute_result"
    }
   ],
   "source": [
    "P = np.array([len(diabetes_get)/1990911,(len(diabetes)-len(diabetes_get))/1990911])\n",
    "\n",
    "def H(p):\n",
    "    id_p = np.where(p != 0)\n",
    "    return -np.sum(p[id_p]*np.log2(p[id_p]))\n",
    "\n",
    "parent = H(P)\n",
    "parent # 부모 엔트로피"
   ]
  },
  {
   "cell_type": "markdown",
   "metadata": {},
   "source": [
    "# (혈청지오티)AST 엔트로피"
   ]
  },
  {
   "cell_type": "markdown",
   "metadata": {},
   "source": [
    "(혈청지오티)AST의 정상치는 0~40IU/L 이다. <br>\n",
    "수치가 120 IU/L 을 넘을 경우 지방간으로 인한 당뇨병 발병 확률을 0.1%로 보았다. <br>\n",
    "또한 2000 IU/L 를 넘어가는 수치는 이상치로 판단하여 제거하였다.<br><br>\n",
    "\n",
    "1) 정상인 0 ~ 40 IU/L <br>\n",
    "2) 약간 높음(지방간) 40 ~ 120 IU/L<br>\n",
    "3) 경도 120 ~ 200 IU/L <br>\n",
    "4) 중등도 200 ~ 400 IU/L<br>\n",
    "5) 중증 400 ~ 2000 IU/L  \n"
   ]
  },
  {
   "cell_type": "code",
   "execution_count": 235,
   "metadata": {},
   "outputs": [
    {
     "data": {
      "text/html": [
       "<div>\n",
       "<style scoped>\n",
       "    .dataframe tbody tr th:only-of-type {\n",
       "        vertical-align: middle;\n",
       "    }\n",
       "\n",
       "    .dataframe tbody tr th {\n",
       "        vertical-align: top;\n",
       "    }\n",
       "\n",
       "    .dataframe thead th {\n",
       "        text-align: right;\n",
       "    }\n",
       "</style>\n",
       "<table border=\"1\" class=\"dataframe\">\n",
       "  <thead>\n",
       "    <tr style=\"text-align: right;\">\n",
       "      <th></th>\n",
       "      <th>성별코드</th>\n",
       "      <th>식전혈당(공복혈당)</th>\n",
       "      <th>(혈청지오티)AST</th>\n",
       "      <th>(혈청지오티)ALT</th>\n",
       "      <th>감마지티피</th>\n",
       "    </tr>\n",
       "  </thead>\n",
       "  <tbody>\n",
       "    <tr>\n",
       "      <th>0</th>\n",
       "      <td>1</td>\n",
       "      <td>99.0</td>\n",
       "      <td>21.0</td>\n",
       "      <td>35.0</td>\n",
       "      <td>40.0</td>\n",
       "    </tr>\n",
       "    <tr>\n",
       "      <th>1</th>\n",
       "      <td>1</td>\n",
       "      <td>106.0</td>\n",
       "      <td>20.0</td>\n",
       "      <td>36.0</td>\n",
       "      <td>27.0</td>\n",
       "    </tr>\n",
       "    <tr>\n",
       "      <th>2</th>\n",
       "      <td>1</td>\n",
       "      <td>98.0</td>\n",
       "      <td>47.0</td>\n",
       "      <td>32.0</td>\n",
       "      <td>68.0</td>\n",
       "    </tr>\n",
       "    <tr>\n",
       "      <th>3</th>\n",
       "      <td>1</td>\n",
       "      <td>95.0</td>\n",
       "      <td>29.0</td>\n",
       "      <td>34.0</td>\n",
       "      <td>18.0</td>\n",
       "    </tr>\n",
       "    <tr>\n",
       "      <th>4</th>\n",
       "      <td>1</td>\n",
       "      <td>101.0</td>\n",
       "      <td>19.0</td>\n",
       "      <td>12.0</td>\n",
       "      <td>25.0</td>\n",
       "    </tr>\n",
       "    <tr>\n",
       "      <th>...</th>\n",
       "      <td>...</td>\n",
       "      <td>...</td>\n",
       "      <td>...</td>\n",
       "      <td>...</td>\n",
       "      <td>...</td>\n",
       "    </tr>\n",
       "    <tr>\n",
       "      <th>999995</th>\n",
       "      <td>2</td>\n",
       "      <td>107.0</td>\n",
       "      <td>18.0</td>\n",
       "      <td>15.0</td>\n",
       "      <td>19.0</td>\n",
       "    </tr>\n",
       "    <tr>\n",
       "      <th>999996</th>\n",
       "      <td>1</td>\n",
       "      <td>114.0</td>\n",
       "      <td>25.0</td>\n",
       "      <td>36.0</td>\n",
       "      <td>90.0</td>\n",
       "    </tr>\n",
       "    <tr>\n",
       "      <th>999997</th>\n",
       "      <td>1</td>\n",
       "      <td>98.0</td>\n",
       "      <td>21.0</td>\n",
       "      <td>15.0</td>\n",
       "      <td>36.0</td>\n",
       "    </tr>\n",
       "    <tr>\n",
       "      <th>999998</th>\n",
       "      <td>1</td>\n",
       "      <td>94.0</td>\n",
       "      <td>20.0</td>\n",
       "      <td>18.0</td>\n",
       "      <td>14.0</td>\n",
       "    </tr>\n",
       "    <tr>\n",
       "      <th>999999</th>\n",
       "      <td>1</td>\n",
       "      <td>85.0</td>\n",
       "      <td>17.0</td>\n",
       "      <td>12.0</td>\n",
       "      <td>11.0</td>\n",
       "    </tr>\n",
       "  </tbody>\n",
       "</table>\n",
       "<p>1990888 rows × 5 columns</p>\n",
       "</div>"
      ],
      "text/plain": [
       "        성별코드  식전혈당(공복혈당)  (혈청지오티)AST  (혈청지오티)ALT  감마지티피\n",
       "0          1        99.0        21.0        35.0   40.0\n",
       "1          1       106.0        20.0        36.0   27.0\n",
       "2          1        98.0        47.0        32.0   68.0\n",
       "3          1        95.0        29.0        34.0   18.0\n",
       "4          1       101.0        19.0        12.0   25.0\n",
       "...      ...         ...         ...         ...    ...\n",
       "999995     2       107.0        18.0        15.0   19.0\n",
       "999996     1       114.0        25.0        36.0   90.0\n",
       "999997     1        98.0        21.0        15.0   36.0\n",
       "999998     1        94.0        20.0        18.0   14.0\n",
       "999999     1        85.0        17.0        12.0   11.0\n",
       "\n",
       "[1990888 rows x 5 columns]"
      ]
     },
     "execution_count": 235,
     "metadata": {},
     "output_type": "execute_result"
    }
   ],
   "source": [
    "ast = data[data['(혈청지오티)AST'] < 2000] # 이상치 제거\n",
    "ast"
   ]
  },
  {
   "cell_type": "code",
   "execution_count": 236,
   "metadata": {},
   "outputs": [],
   "source": [
    "ast1 = ast[(ast['(혈청지오티)AST'] >= 0) & (ast['(혈청지오티)AST'] <= 40)]\n",
    "ast2 = ast[(ast['(혈청지오티)AST'] > 40) & (ast['(혈청지오티)AST'] <= 120)]\n",
    "ast3 = ast[(ast['(혈청지오티)AST'] > 120) & (ast['(혈청지오티)AST'] <= 200)]\n",
    "ast4 = ast[(ast['(혈청지오티)AST'] > 200) & (ast['(혈청지오티)AST'] <= 400)]\n",
    "ast5 = ast[(ast['(혈청지오티)AST'] > 400)]"
   ]
  },
  {
   "cell_type": "code",
   "execution_count": 237,
   "metadata": {},
   "outputs": [
    {
     "name": "stdout",
     "output_type": "stream",
     "text": [
      "1840640\n",
      "143426\n",
      "4811\n",
      "1579\n",
      "432\n"
     ]
    },
    {
     "data": {
      "text/plain": [
       "1990888"
      ]
     },
     "execution_count": 237,
     "metadata": {},
     "output_type": "execute_result"
    }
   ],
   "source": [
    "print(len(ast1))\n",
    "print(len(ast2))\n",
    "print(len(ast3))\n",
    "print(len(ast4))\n",
    "print(len(ast5))\n",
    "len(ast1)+len(ast2)+len(ast3)+len(ast4)+len(ast5) # 총 갯수 일치하는지 확인, 이상없음"
   ]
  },
  {
   "cell_type": "code",
   "execution_count": 238,
   "metadata": {},
   "outputs": [],
   "source": [
    "ast1 = ast1['식전혈당(공복혈당)']\n",
    "ast2 = ast2['식전혈당(공복혈당)']\n",
    "ast3 = ast3['식전혈당(공복혈당)']\n",
    "ast4 = ast4['식전혈당(공복혈당)']\n",
    "ast5 = ast5['식전혈당(공복혈당)']"
   ]
  },
  {
   "cell_type": "code",
   "execution_count": 239,
   "metadata": {},
   "outputs": [],
   "source": [
    "ast1_diabetes_get = ast1>=126\n",
    "ast2_diabetes_get = ast2>=126\n",
    "ast3_diabetes_get = ast3>=126\n",
    "ast4_diabetes_get = ast4>=126\n",
    "ast5_diabetes_get = ast5>=126"
   ]
  },
  {
   "cell_type": "code",
   "execution_count": 277,
   "metadata": {},
   "outputs": [
    {
     "name": "stdout",
     "output_type": "stream",
     "text": [
      "ast1 공복혈당 126 이상 :  128015\n",
      "ast1 공복혈당 126 이하 :  1712625\n",
      "\n",
      "ast2 공복혈당 126 이상 :  23312\n",
      "ast2 공복혈당 126 이하 :  120114\n",
      "\n",
      "ast3 공복혈당 126 이상 :  1076\n",
      "ast3 공복혈당 126 이하 :  3735\n",
      "\n",
      "ast4 공복혈당 126 이상 :  302\n",
      "ast4 공복혈당 126 이하 :  1277\n",
      "\n",
      "ast5 공복혈당 126 이상 :  59\n",
      "ast5 공복혈당 126 이하 :  373\n"
     ]
    }
   ],
   "source": [
    "print(\"ast1 공복혈당 126 이상 : \", ast1_diabetes_get.sum())\n",
    "print(\"ast1 공복혈당 126 이하 : \",len(ast1)-ast1_diabetes_get.sum(), end=\"\\n\\n\")\n",
    "print(\"ast2 공복혈당 126 이상 : \", ast2_diabetes_get.sum())\n",
    "print(\"ast2 공복혈당 126 이하 : \",len(ast2)-ast2_diabetes_get.sum(), end=\"\\n\\n\")\n",
    "print(\"ast3 공복혈당 126 이상 : \", ast3_diabetes_get.sum())\n",
    "print(\"ast3 공복혈당 126 이하 : \",len(ast3)-ast3_diabetes_get.sum(), end=\"\\n\\n\")\n",
    "print(\"ast4 공복혈당 126 이상 : \", ast4_diabetes_get.sum())\n",
    "print(\"ast4 공복혈당 126 이하 : \",len(ast4)-ast4_diabetes_get.sum(), end=\"\\n\\n\")\n",
    "print(\"ast5 공복혈당 126 이상 : \", ast5_diabetes_get.sum())\n",
    "print(\"ast5 공복혈당 126 이하 : \",len(ast5)-ast5_diabetes_get.sum())"
   ]
  },
  {
   "cell_type": "code",
   "execution_count": 241,
   "metadata": {},
   "outputs": [
    {
     "name": "stdout",
     "output_type": "stream",
     "text": [
      "Px : [0.06954917854659248, 0.16253677854782256, 0.2236541259613386, 0.19126029132362254, 0.13657407407407407] \n",
      "Py : [0.9304508214534075, 0.8374632214521774, 0.7763458740386614, 0.8087397086763775, 0.8634259259259259]\n"
     ]
    }
   ],
   "source": [
    "Px = [128015/1840640, 23312/143426, 1076/4811, 302/1579, 59/432] \n",
    "Py = [1712625/1840640, 120114/143426, 3735/4811, 1277/1579, 373/432] \n",
    "print(\"Px :\",Px, \"\\nPy :\",Py)"
   ]
  },
  {
   "cell_type": "code",
   "execution_count": 242,
   "metadata": {},
   "outputs": [],
   "source": [
    "ast_entropy = []\n",
    "for x,y in zip(Px,Py):\n",
    "    P = np.array([x,y])\n",
    "    ast_entropy.append(H(P))"
   ]
  },
  {
   "cell_type": "code",
   "execution_count": 243,
   "metadata": {},
   "outputs": [
    {
     "name": "stdout",
     "output_type": "stream",
     "text": [
      "ast1 엔트로피 : 0.3642390171395185\n",
      "ast2 엔트로피 : 0.6403439416641256\n",
      "ast3 엔트로피 : 0.7667839207101522\n",
      "ast4 엔트로피 : 0.7041004594912995\n",
      "ast5 엔트로피 : 0.5751958149700604\n"
     ]
    }
   ],
   "source": [
    "print(\"ast1 엔트로피 :\",ast_entropy[0])\n",
    "print(\"ast2 엔트로피 :\",ast_entropy[1])\n",
    "print(\"ast3 엔트로피 :\",ast_entropy[2])\n",
    "print(\"ast4 엔트로피 :\",ast_entropy[3])\n",
    "print(\"ast5 엔트로피 :\",ast_entropy[4])"
   ]
  },
  {
   "cell_type": "markdown",
   "metadata": {},
   "source": [
    "## AST 정보증가량"
   ]
  },
  {
   "cell_type": "code",
   "execution_count": 244,
   "metadata": {},
   "outputs": [
    {
     "name": "stdout",
     "output_type": "stream",
     "text": [
      "AST 정보증가량 :  0.0051427131863678865\n"
     ]
    }
   ],
   "source": [
    "ast_ig = parent - (1840640/1990888*ast_entropy[0]+ 143426/1990888*ast_entropy[1]+4811/1990888*ast_entropy[2]+1579/1990888*ast_entropy[3]+432/1990888*ast_entropy[4])\n",
    "print(\"AST 정보증가량 : \",ast_ig)"
   ]
  },
  {
   "cell_type": "markdown",
   "metadata": {},
   "source": [
    "# (혈청지오티)AlT 엔트로피"
   ]
  },
  {
   "cell_type": "markdown",
   "metadata": {},
   "source": [
    "(혈청지오티)ALT의 정상치는 0~40IU/L 이다. <br>\n",
    "ALT 또한 2000 IU/L 를 넘어가는 수치는 이상치로 판단하여 제거하였다.<br><br>\n",
    "\n",
    "1) 정상인 0 ~ 40 IU/L <br>\n",
    "2) 약간 높음(지방간) 40 ~ 120 IU/L<br>\n",
    "3) 경도 120 ~ 200 IU/L <br>\n",
    "4) 중등도 200 ~ 400 IU/L<br>\n",
    "5) 중증 400 ~ 2000 IU/L  \n"
   ]
  },
  {
   "cell_type": "code",
   "execution_count": 245,
   "metadata": {},
   "outputs": [
    {
     "data": {
      "text/html": [
       "<div>\n",
       "<style scoped>\n",
       "    .dataframe tbody tr th:only-of-type {\n",
       "        vertical-align: middle;\n",
       "    }\n",
       "\n",
       "    .dataframe tbody tr th {\n",
       "        vertical-align: top;\n",
       "    }\n",
       "\n",
       "    .dataframe thead th {\n",
       "        text-align: right;\n",
       "    }\n",
       "</style>\n",
       "<table border=\"1\" class=\"dataframe\">\n",
       "  <thead>\n",
       "    <tr style=\"text-align: right;\">\n",
       "      <th></th>\n",
       "      <th>성별코드</th>\n",
       "      <th>식전혈당(공복혈당)</th>\n",
       "      <th>(혈청지오티)AST</th>\n",
       "      <th>(혈청지오티)ALT</th>\n",
       "      <th>감마지티피</th>\n",
       "    </tr>\n",
       "  </thead>\n",
       "  <tbody>\n",
       "    <tr>\n",
       "      <th>0</th>\n",
       "      <td>1</td>\n",
       "      <td>99.0</td>\n",
       "      <td>21.0</td>\n",
       "      <td>35.0</td>\n",
       "      <td>40.0</td>\n",
       "    </tr>\n",
       "    <tr>\n",
       "      <th>1</th>\n",
       "      <td>1</td>\n",
       "      <td>106.0</td>\n",
       "      <td>20.0</td>\n",
       "      <td>36.0</td>\n",
       "      <td>27.0</td>\n",
       "    </tr>\n",
       "    <tr>\n",
       "      <th>2</th>\n",
       "      <td>1</td>\n",
       "      <td>98.0</td>\n",
       "      <td>47.0</td>\n",
       "      <td>32.0</td>\n",
       "      <td>68.0</td>\n",
       "    </tr>\n",
       "    <tr>\n",
       "      <th>3</th>\n",
       "      <td>1</td>\n",
       "      <td>95.0</td>\n",
       "      <td>29.0</td>\n",
       "      <td>34.0</td>\n",
       "      <td>18.0</td>\n",
       "    </tr>\n",
       "    <tr>\n",
       "      <th>4</th>\n",
       "      <td>1</td>\n",
       "      <td>101.0</td>\n",
       "      <td>19.0</td>\n",
       "      <td>12.0</td>\n",
       "      <td>25.0</td>\n",
       "    </tr>\n",
       "    <tr>\n",
       "      <th>...</th>\n",
       "      <td>...</td>\n",
       "      <td>...</td>\n",
       "      <td>...</td>\n",
       "      <td>...</td>\n",
       "      <td>...</td>\n",
       "    </tr>\n",
       "    <tr>\n",
       "      <th>999995</th>\n",
       "      <td>2</td>\n",
       "      <td>107.0</td>\n",
       "      <td>18.0</td>\n",
       "      <td>15.0</td>\n",
       "      <td>19.0</td>\n",
       "    </tr>\n",
       "    <tr>\n",
       "      <th>999996</th>\n",
       "      <td>1</td>\n",
       "      <td>114.0</td>\n",
       "      <td>25.0</td>\n",
       "      <td>36.0</td>\n",
       "      <td>90.0</td>\n",
       "    </tr>\n",
       "    <tr>\n",
       "      <th>999997</th>\n",
       "      <td>1</td>\n",
       "      <td>98.0</td>\n",
       "      <td>21.0</td>\n",
       "      <td>15.0</td>\n",
       "      <td>36.0</td>\n",
       "    </tr>\n",
       "    <tr>\n",
       "      <th>999998</th>\n",
       "      <td>1</td>\n",
       "      <td>94.0</td>\n",
       "      <td>20.0</td>\n",
       "      <td>18.0</td>\n",
       "      <td>14.0</td>\n",
       "    </tr>\n",
       "    <tr>\n",
       "      <th>999999</th>\n",
       "      <td>1</td>\n",
       "      <td>85.0</td>\n",
       "      <td>17.0</td>\n",
       "      <td>12.0</td>\n",
       "      <td>11.0</td>\n",
       "    </tr>\n",
       "  </tbody>\n",
       "</table>\n",
       "<p>1990874 rows × 5 columns</p>\n",
       "</div>"
      ],
      "text/plain": [
       "        성별코드  식전혈당(공복혈당)  (혈청지오티)AST  (혈청지오티)ALT  감마지티피\n",
       "0          1        99.0        21.0        35.0   40.0\n",
       "1          1       106.0        20.0        36.0   27.0\n",
       "2          1        98.0        47.0        32.0   68.0\n",
       "3          1        95.0        29.0        34.0   18.0\n",
       "4          1       101.0        19.0        12.0   25.0\n",
       "...      ...         ...         ...         ...    ...\n",
       "999995     2       107.0        18.0        15.0   19.0\n",
       "999996     1       114.0        25.0        36.0   90.0\n",
       "999997     1        98.0        21.0        15.0   36.0\n",
       "999998     1        94.0        20.0        18.0   14.0\n",
       "999999     1        85.0        17.0        12.0   11.0\n",
       "\n",
       "[1990874 rows x 5 columns]"
      ]
     },
     "execution_count": 245,
     "metadata": {},
     "output_type": "execute_result"
    }
   ],
   "source": [
    "alt = data[data['(혈청지오티)ALT'] < 2000] # 이상치 제거\n",
    "alt"
   ]
  },
  {
   "cell_type": "code",
   "execution_count": 246,
   "metadata": {},
   "outputs": [],
   "source": [
    "alt1 = alt[(alt['(혈청지오티)ALT'] >= 0) & (alt['(혈청지오티)ALT'] <= 40)]\n",
    "alt2 = alt[(alt['(혈청지오티)ALT'] > 40) & (alt['(혈청지오티)ALT'] <= 120)]\n",
    "alt3 = alt[(alt['(혈청지오티)ALT'] > 120) & (alt['(혈청지오티)ALT'] <= 200)]\n",
    "alt4 = alt[(alt['(혈청지오티)ALT'] > 200) & (alt['(혈청지오티)ALT'] <= 400)]\n",
    "alt5 = alt[(alt['(혈청지오티)ALT'] > 400)]"
   ]
  },
  {
   "cell_type": "code",
   "execution_count": 247,
   "metadata": {},
   "outputs": [
    {
     "name": "stdout",
     "output_type": "stream",
     "text": [
      "1736206\n",
      "240756\n",
      "11014\n",
      "2388\n",
      "510\n"
     ]
    },
    {
     "data": {
      "text/plain": [
       "1990874"
      ]
     },
     "execution_count": 247,
     "metadata": {},
     "output_type": "execute_result"
    }
   ],
   "source": [
    "print(len(alt1))\n",
    "print(len(alt2))\n",
    "print(len(alt3))\n",
    "print(len(alt4))\n",
    "print(len(alt5))\n",
    "len(alt1)+len(alt2)+len(alt3)+len(alt4)+len(alt5) # 총 갯수 일치하는지 확인, 이상없음"
   ]
  },
  {
   "cell_type": "code",
   "execution_count": 248,
   "metadata": {},
   "outputs": [],
   "source": [
    "alt1 = alt1['식전혈당(공복혈당)']\n",
    "alt2 = alt2['식전혈당(공복혈당)']\n",
    "alt3 = alt3['식전혈당(공복혈당)']\n",
    "alt4 = alt4['식전혈당(공복혈당)']\n",
    "alt5 = alt5['식전혈당(공복혈당)']"
   ]
  },
  {
   "cell_type": "code",
   "execution_count": 249,
   "metadata": {},
   "outputs": [],
   "source": [
    "alt1_diabetes_get = alt1>=126\n",
    "alt2_diabetes_get = alt2>=126\n",
    "alt3_diabetes_get = alt3>=126\n",
    "alt4_diabetes_get = alt4>=126\n",
    "alt5_diabetes_get = alt5>=126"
   ]
  },
  {
   "cell_type": "code",
   "execution_count": 276,
   "metadata": {},
   "outputs": [
    {
     "name": "stdout",
     "output_type": "stream",
     "text": [
      "alt1 공복혈당 126 이상 :  115969\n",
      "alt1 공복혈당 126 이하 :  1620237\n",
      "\n",
      "alt2 공복혈당 126 이상 :  34383\n",
      "alt2 공복혈당 126 이하 :  206373\n",
      "\n",
      "alt3 공복혈당 126 이상 :  1958\n",
      "alt3 공복혈당 126 이하 :  9056\n",
      "\n",
      "alt4 공복혈당 126 이상 :  394\n",
      "alt4 공복혈당 126 이하 :  1994\n",
      "\n",
      "alt5 공복혈당 126 이상 :  59\n",
      "alt5 공복혈당 126 이하 :  451\n"
     ]
    }
   ],
   "source": [
    "print(\"alt1 공복혈당 126 이상 : \", alt1_diabetes_get.sum())\n",
    "print(\"alt1 공복혈당 126 이하 : \",len(alt1)-alt1_diabetes_get.sum(), end=\"\\n\\n\")\n",
    "print(\"alt2 공복혈당 126 이상 : \", alt2_diabetes_get.sum())\n",
    "print(\"alt2 공복혈당 126 이하 : \",len(alt2)-alt2_diabetes_get.sum(), end=\"\\n\\n\")\n",
    "print(\"alt3 공복혈당 126 이상 : \", alt3_diabetes_get.sum())\n",
    "print(\"alt3 공복혈당 126 이하 : \",len(alt3)-alt3_diabetes_get.sum(), end=\"\\n\\n\")\n",
    "print(\"alt4 공복혈당 126 이상 : \", alt4_diabetes_get.sum())\n",
    "print(\"alt4 공복혈당 126 이하 : \",len(alt4)-alt4_diabetes_get.sum(), end=\"\\n\\n\")\n",
    "print(\"alt5 공복혈당 126 이상 : \", alt5_diabetes_get.sum())\n",
    "print(\"alt5 공복혈당 126 이하 : \",len(alt5)-alt5_diabetes_get.sum())"
   ]
  },
  {
   "cell_type": "code",
   "execution_count": 251,
   "metadata": {},
   "outputs": [
    {
     "name": "stdout",
     "output_type": "stream",
     "text": [
      "Px : [0.06679449328017528, 0.1428126401834222, 0.17777374250953332, 0.16499162479061977, 0.11568627450980393] \n",
      "Py : [0.9332055067198247, 0.8571873598165778, 0.8222262574904666, 0.8350083752093802, 0.884313725490196]\n"
     ]
    }
   ],
   "source": [
    "Px = [115969/1736206, 34383/240756, 1958/11014, 394/2388, 59/510] \n",
    "Py = [1620237/1736206, 206373/240756, 9056/11014, 1994/2388, 451/510] \n",
    "print(\"Px :\",Px, \"\\nPy :\",Py)"
   ]
  },
  {
   "cell_type": "code",
   "execution_count": 252,
   "metadata": {},
   "outputs": [],
   "source": [
    "alt_entropy = []\n",
    "for x,y in zip(Px,Py):\n",
    "    P = np.array([x,y])\n",
    "    alt_entropy.append(H(P))"
   ]
  },
  {
   "cell_type": "code",
   "execution_count": 253,
   "metadata": {},
   "outputs": [
    {
     "name": "stdout",
     "output_type": "stream",
     "text": [
      "alt1 엔트로피 : 0.3538458269929723\n",
      "alt2 엔트로피 : 0.591557729171504\n",
      "alt3 엔트로피 : 0.6751825243285104\n",
      "alt4 엔트로피 : 0.6461184832849831\n",
      "alt5 엔트로피 : 0.5168327427401807\n"
     ]
    }
   ],
   "source": [
    "print(\"alt1 엔트로피 :\",alt_entropy[0])\n",
    "print(\"alt2 엔트로피 :\",alt_entropy[1])\n",
    "print(\"alt3 엔트로피 :\",alt_entropy[2])\n",
    "print(\"alt4 엔트로피 :\",alt_entropy[3])\n",
    "print(\"alt5 엔트로피 :\",alt_entropy[4])"
   ]
  },
  {
   "cell_type": "markdown",
   "metadata": {},
   "source": [
    "## ALT 정보증가량"
   ]
  },
  {
   "cell_type": "code",
   "execution_count": 254,
   "metadata": {},
   "outputs": [
    {
     "name": "stdout",
     "output_type": "stream",
     "text": [
      "ALT 정보증가량 :  0.0057984246920222415\n"
     ]
    }
   ],
   "source": [
    "alt_ig = parent - (1736206/1990874*alt_entropy[0]+ 240756/1990874*alt_entropy[1]+11014/1990874*alt_entropy[2]+2388/1990874*alt_entropy[3]+510/1990874*alt_entropy[4])\n",
    "print(\"ALT 정보증가량 : \",alt_ig)"
   ]
  },
  {
   "cell_type": "markdown",
   "metadata": {},
   "source": [
    "# 감마지티피 엔트로피"
   ]
  },
  {
   "cell_type": "markdown",
   "metadata": {},
   "source": [
    "감마지티피의 정상치는 남성이 11 ~ 63IU/L, 여성이 8 ~ 35IU/L 이다. <br>\n",
    "\n",
    "따라서 범위를 남자/여자로 나누어 구했다 <br>\n",
    "\n",
    "남성\n",
    "1) 낮음 0 ~ 10 IU/L <br>\n",
    "2) 정상인 11 ~ 63IU/L <br>\n",
    "3) 경도 63 ~ 99 IU/L <br>\n",
    "4) 중등도 100 ~ 199 IU/L <br>\n",
    "5) 약 고도 200 ~ 599 IU/L <br>\n",
    "6) 고도 600 ~ IU/L <br>\n",
    "\n",
    "여성\n",
    "1) 낮음 0 ~ 7 IU/L <br>\n",
    "2) 정상인 8 ~ 35IU/L <br>\n",
    "3) 경도 35 ~ 99 IU/L <br>\n",
    "4) 중등도 100 ~ 199 IU/L <br>\n",
    "5) 약 고도 200 ~ 599 IU/L <br>\n",
    "6) 고도 600 ~ IU/L <br>\n"
   ]
  },
  {
   "cell_type": "code",
   "execution_count": 259,
   "metadata": {},
   "outputs": [
    {
     "data": {
      "text/html": [
       "<div>\n",
       "<style scoped>\n",
       "    .dataframe tbody tr th:only-of-type {\n",
       "        vertical-align: middle;\n",
       "    }\n",
       "\n",
       "    .dataframe tbody tr th {\n",
       "        vertical-align: top;\n",
       "    }\n",
       "\n",
       "    .dataframe thead th {\n",
       "        text-align: right;\n",
       "    }\n",
       "</style>\n",
       "<table border=\"1\" class=\"dataframe\">\n",
       "  <thead>\n",
       "    <tr style=\"text-align: right;\">\n",
       "      <th></th>\n",
       "      <th>성별코드</th>\n",
       "      <th>식전혈당(공복혈당)</th>\n",
       "      <th>(혈청지오티)AST</th>\n",
       "      <th>(혈청지오티)ALT</th>\n",
       "      <th>감마지티피</th>\n",
       "    </tr>\n",
       "  </thead>\n",
       "  <tbody>\n",
       "    <tr>\n",
       "      <th>0</th>\n",
       "      <td>1</td>\n",
       "      <td>99.0</td>\n",
       "      <td>21.0</td>\n",
       "      <td>35.0</td>\n",
       "      <td>40.0</td>\n",
       "    </tr>\n",
       "    <tr>\n",
       "      <th>1</th>\n",
       "      <td>1</td>\n",
       "      <td>106.0</td>\n",
       "      <td>20.0</td>\n",
       "      <td>36.0</td>\n",
       "      <td>27.0</td>\n",
       "    </tr>\n",
       "    <tr>\n",
       "      <th>2</th>\n",
       "      <td>1</td>\n",
       "      <td>98.0</td>\n",
       "      <td>47.0</td>\n",
       "      <td>32.0</td>\n",
       "      <td>68.0</td>\n",
       "    </tr>\n",
       "    <tr>\n",
       "      <th>3</th>\n",
       "      <td>1</td>\n",
       "      <td>95.0</td>\n",
       "      <td>29.0</td>\n",
       "      <td>34.0</td>\n",
       "      <td>18.0</td>\n",
       "    </tr>\n",
       "    <tr>\n",
       "      <th>4</th>\n",
       "      <td>1</td>\n",
       "      <td>101.0</td>\n",
       "      <td>19.0</td>\n",
       "      <td>12.0</td>\n",
       "      <td>25.0</td>\n",
       "    </tr>\n",
       "    <tr>\n",
       "      <th>...</th>\n",
       "      <td>...</td>\n",
       "      <td>...</td>\n",
       "      <td>...</td>\n",
       "      <td>...</td>\n",
       "      <td>...</td>\n",
       "    </tr>\n",
       "    <tr>\n",
       "      <th>999995</th>\n",
       "      <td>2</td>\n",
       "      <td>107.0</td>\n",
       "      <td>18.0</td>\n",
       "      <td>15.0</td>\n",
       "      <td>19.0</td>\n",
       "    </tr>\n",
       "    <tr>\n",
       "      <th>999996</th>\n",
       "      <td>1</td>\n",
       "      <td>114.0</td>\n",
       "      <td>25.0</td>\n",
       "      <td>36.0</td>\n",
       "      <td>90.0</td>\n",
       "    </tr>\n",
       "    <tr>\n",
       "      <th>999997</th>\n",
       "      <td>1</td>\n",
       "      <td>98.0</td>\n",
       "      <td>21.0</td>\n",
       "      <td>15.0</td>\n",
       "      <td>36.0</td>\n",
       "    </tr>\n",
       "    <tr>\n",
       "      <th>999998</th>\n",
       "      <td>1</td>\n",
       "      <td>94.0</td>\n",
       "      <td>20.0</td>\n",
       "      <td>18.0</td>\n",
       "      <td>14.0</td>\n",
       "    </tr>\n",
       "    <tr>\n",
       "      <th>999999</th>\n",
       "      <td>1</td>\n",
       "      <td>85.0</td>\n",
       "      <td>17.0</td>\n",
       "      <td>12.0</td>\n",
       "      <td>11.0</td>\n",
       "    </tr>\n",
       "  </tbody>\n",
       "</table>\n",
       "<p>1990911 rows × 5 columns</p>\n",
       "</div>"
      ],
      "text/plain": [
       "        성별코드  식전혈당(공복혈당)  (혈청지오티)AST  (혈청지오티)ALT  감마지티피\n",
       "0          1        99.0        21.0        35.0   40.0\n",
       "1          1       106.0        20.0        36.0   27.0\n",
       "2          1        98.0        47.0        32.0   68.0\n",
       "3          1        95.0        29.0        34.0   18.0\n",
       "4          1       101.0        19.0        12.0   25.0\n",
       "...      ...         ...         ...         ...    ...\n",
       "999995     2       107.0        18.0        15.0   19.0\n",
       "999996     1       114.0        25.0        36.0   90.0\n",
       "999997     1        98.0        21.0        15.0   36.0\n",
       "999998     1        94.0        20.0        18.0   14.0\n",
       "999999     1        85.0        17.0        12.0   11.0\n",
       "\n",
       "[1990911 rows x 5 columns]"
      ]
     },
     "execution_count": 259,
     "metadata": {},
     "output_type": "execute_result"
    }
   ],
   "source": [
    "gtp = data\n",
    "gtp"
   ]
  },
  {
   "cell_type": "code",
   "execution_count": 267,
   "metadata": {},
   "outputs": [
    {
     "data": {
      "text/plain": [
       "1990911"
      ]
     },
     "execution_count": 267,
     "metadata": {},
     "output_type": "execute_result"
    }
   ],
   "source": [
    "gtp_man = gtp [gtp['성별코드'] == 1]\n",
    "gtp_woman = gtp [gtp['성별코드'] == 2]\n",
    "len(gtp_man) + len(gtp_woman) # 1990911 row 확인"
   ]
  },
  {
   "cell_type": "markdown",
   "metadata": {},
   "source": [
    "### 감마지티피 남자"
   ]
  },
  {
   "cell_type": "code",
   "execution_count": 283,
   "metadata": {},
   "outputs": [],
   "source": [
    "gtp_man1 = gtp_man[(gtp_man['감마지티피'] >= 0) & (gtp_man['감마지티피'] <= 10)]\n",
    "gtp_man2 = gtp_man[(gtp_man['감마지티피'] > 10) & (gtp_man['감마지티피'] <= 63)]\n",
    "gtp_man3 = gtp_man[(gtp_man['감마지티피'] > 63) & (gtp_man['감마지티피'] <= 99)]\n",
    "gtp_man4 = gtp_man[(gtp_man['감마지티피'] > 99) & (gtp_man['감마지티피'] <= 199)]\n",
    "gtp_man5 = gtp_man[(gtp_man['감마지티피'] > 199) & (gtp_man['감마지티피'] <= 599)]\n",
    "gtp_man6 = gtp_man[(gtp_man['감마지티피'] > 599)]"
   ]
  },
  {
   "cell_type": "code",
   "execution_count": 284,
   "metadata": {},
   "outputs": [
    {
     "name": "stdout",
     "output_type": "stream",
     "text": [
      "9129\n",
      "844277\n",
      "110940\n",
      "73125\n",
      "22133\n",
      "2153\n"
     ]
    },
    {
     "data": {
      "text/plain": [
       "1061757"
      ]
     },
     "execution_count": 284,
     "metadata": {},
     "output_type": "execute_result"
    }
   ],
   "source": [
    "print(len(gtp_man1))\n",
    "print(len(gtp_man2))\n",
    "print(len(gtp_man3))\n",
    "print(len(gtp_man4))\n",
    "print(len(gtp_man5))\n",
    "print(len(gtp_man6))\n",
    "len(gtp_man1)+len(gtp_man2)+len(gtp_man3)+len(gtp_man4)+len(gtp_man5)+len(gtp_man6) # 총 갯수 일치하는지 확인, 이상없음"
   ]
  },
  {
   "cell_type": "code",
   "execution_count": 285,
   "metadata": {},
   "outputs": [],
   "source": [
    "gtp_man1 = gtp_man1['식전혈당(공복혈당)']\n",
    "gtp_man2 = gtp_man2['식전혈당(공복혈당)']\n",
    "gtp_man3 = gtp_man3['식전혈당(공복혈당)']\n",
    "gtp_man4 = gtp_man4['식전혈당(공복혈당)']\n",
    "gtp_man5 = gtp_man5['식전혈당(공복혈당)']\n",
    "gtp_man6 = gtp_man6['식전혈당(공복혈당)']"
   ]
  },
  {
   "cell_type": "code",
   "execution_count": 286,
   "metadata": {},
   "outputs": [],
   "source": [
    "gtp_man1_diabetes_get = gtp_man1>=126\n",
    "gtp_man2_diabetes_get = gtp_man2>=126\n",
    "gtp_man3_diabetes_get = gtp_man3>=126\n",
    "gtp_man4_diabetes_get = gtp_man4>=126\n",
    "gtp_man5_diabetes_get = gtp_man5>=126\n",
    "gtp_man6_diabetes_get = gtp_man6>=126"
   ]
  },
  {
   "cell_type": "code",
   "execution_count": 287,
   "metadata": {},
   "outputs": [
    {
     "name": "stdout",
     "output_type": "stream",
     "text": [
      "gtp_man1 공복혈당 126 이상 :  521\n",
      "gtp_man1 공복혈당 126 이하 :  8608\n",
      "\n",
      "gtp_man2 공복혈당 126 이상 :  67161\n",
      "gtp_man2 공복혈당 126 이하 :  777116\n",
      "\n",
      "gtp_man3 공복혈당 126 이상 :  15245\n",
      "gtp_man3 공복혈당 126 이하 :  95695\n",
      "\n",
      "gtp_man4 공복혈당 126 이상 :  12298\n",
      "gtp_man4 공복혈당 126 이하 :  60827\n",
      "\n",
      "gtp_man5 공복혈당 126 이상 :  4828\n",
      "gtp_man5 공복혈당 126 이하 :  17305\n",
      "\n",
      "gtp_man6 공복혈당 126 이상 :  697\n",
      "gtp_man6 공복혈당 126 이하 :  1456\n"
     ]
    }
   ],
   "source": [
    "print(\"gtp_man1 공복혈당 126 이상 : \", gtp_man1_diabetes_get.sum())\n",
    "print(\"gtp_man1 공복혈당 126 이하 : \",len(gtp_man1)-gtp_man1_diabetes_get.sum(), end=\"\\n\\n\")\n",
    "print(\"gtp_man2 공복혈당 126 이상 : \", gtp_man2_diabetes_get.sum())\n",
    "print(\"gtp_man2 공복혈당 126 이하 : \",len(gtp_man2)-gtp_man2_diabetes_get.sum(), end=\"\\n\\n\")\n",
    "print(\"gtp_man3 공복혈당 126 이상 : \", gtp_man3_diabetes_get.sum())\n",
    "print(\"gtp_man3 공복혈당 126 이하 : \",len(gtp_man3)-gtp_man3_diabetes_get.sum(), end=\"\\n\\n\")\n",
    "print(\"gtp_man4 공복혈당 126 이상 : \", gtp_man4_diabetes_get.sum())\n",
    "print(\"gtp_man4 공복혈당 126 이하 : \",len(gtp_man4)-gtp_man4_diabetes_get.sum(), end=\"\\n\\n\")\n",
    "print(\"gtp_man5 공복혈당 126 이상 : \", gtp_man5_diabetes_get.sum())\n",
    "print(\"gtp_man5 공복혈당 126 이하 : \",len(gtp_man5)-gtp_man5_diabetes_get.sum(), end=\"\\n\\n\")\n",
    "print(\"gtp_man6 공복혈당 126 이상 : \", gtp_man6_diabetes_get.sum())\n",
    "print(\"gtp_man6 공복혈당 126 이하 : \",len(gtp_man6)-gtp_man6_diabetes_get.sum())"
   ]
  },
  {
   "cell_type": "code",
   "execution_count": 291,
   "metadata": {},
   "outputs": [
    {
     "name": "stdout",
     "output_type": "stream",
     "text": [
      "Px : [0.05707087304195421, 0.07954853679538824, 0.13741662159725979, 0.1681777777777778, 0.21813581529842316, 0.3237343241987924] \n",
      "Py : [0.9429291269580458, 0.9204514632046118, 0.8625833784027402, 0.8318222222222222, 0.7818641847015768, 0.6762656758012077]\n"
     ]
    }
   ],
   "source": [
    "Px = [521/9129, 67161/844277, 15245/110940, 12298/73125, 4828/22133, 697/2153] \n",
    "Py = [8608/9129, 777116/844277, 95695/110940, 60827/73125, 17305/22133, 1456/2153] \n",
    "print(\"Px :\",Px, \"\\nPy :\",Py)"
   ]
  },
  {
   "cell_type": "code",
   "execution_count": 303,
   "metadata": {},
   "outputs": [],
   "source": [
    "gtp_man_entropy = []\n",
    "for x,y in zip(Px,Py):\n",
    "    P = np.array([x,y])\n",
    "    gtp_man_entropy.append(H(P))"
   ]
  },
  {
   "cell_type": "code",
   "execution_count": 304,
   "metadata": {},
   "outputs": [
    {
     "name": "stdout",
     "output_type": "stream",
     "text": [
      "gtp_man1 엔트로피 : 0.1089019663373415\n",
      "gtp_man2 엔트로피 : 0.26590224620047215\n",
      "gtp_man3 엔트로피 : 0.5675442448499202\n",
      "gtp_man4 엔트로피 : 0.6399750409308562\n",
      "gtp_man5 엔트로피 : 0.34652197484850034\n",
      "gtp_man6 엔트로피 : 0.7504158499790908\n"
     ]
    }
   ],
   "source": [
    "print(\"gtp_man1 엔트로피 :\",gtp_man_entropy[0])\n",
    "print(\"gtp_man2 엔트로피 :\",gtp_man_entropy[1])\n",
    "print(\"gtp_man3 엔트로피 :\",gtp_man_entropy[2])\n",
    "print(\"gtp_man4 엔트로피 :\",gtp_man_entropy[3])\n",
    "print(\"gtp_man5 엔트로피 :\",gtp_man_entropy[4])\n",
    "print(\"gtp_man6 엔트로피 :\",gtp_man_entropy[5])"
   ]
  },
  {
   "cell_type": "markdown",
   "metadata": {},
   "source": [
    "### 감마지티피 여자"
   ]
  },
  {
   "cell_type": "code",
   "execution_count": 297,
   "metadata": {},
   "outputs": [],
   "source": [
    "gtp_woman1 = gtp_woman[(gtp_woman['감마지티피'] >= 0) & (gtp_woman['감마지티피'] <= 7)]\n",
    "gtp_woman2 = gtp_woman[(gtp_woman['감마지티피'] > 7) & (gtp_woman['감마지티피'] <= 35)]\n",
    "gtp_woman3 = gtp_woman[(gtp_woman['감마지티피'] > 35) & (gtp_woman['감마지티피'] <= 99)]\n",
    "gtp_woman4 = gtp_woman[(gtp_woman['감마지티피'] > 99) & (gtp_woman['감마지티피'] <= 199)]\n",
    "gtp_woman5 = gtp_woman[(gtp_woman['감마지티피'] > 199) & (gtp_woman['감마지티피'] <= 599)]\n",
    "gtp_woman6 = gtp_woman[(gtp_woman['감마지티피'] > 599)]"
   ]
  },
  {
   "cell_type": "code",
   "execution_count": 298,
   "metadata": {},
   "outputs": [
    {
     "name": "stdout",
     "output_type": "stream",
     "text": [
      "10811\n",
      "807079\n",
      "96824\n",
      "11122\n",
      "2986\n",
      "326\n"
     ]
    },
    {
     "data": {
      "text/plain": [
       "929148"
      ]
     },
     "execution_count": 298,
     "metadata": {},
     "output_type": "execute_result"
    }
   ],
   "source": [
    "print(len(gtp_woman1))\n",
    "print(len(gtp_woman2))\n",
    "print(len(gtp_woman3))\n",
    "print(len(gtp_woman4))\n",
    "print(len(gtp_woman5))\n",
    "print(len(gtp_woman6))\n",
    "len(gtp_woman1)+len(gtp_woman2)+len(gtp_woman3)+len(gtp_woman4)+len(gtp_woman5)+len(gtp_woman6) # 총 갯수 일치하는지 확인, 이상없음"
   ]
  },
  {
   "cell_type": "code",
   "execution_count": 299,
   "metadata": {},
   "outputs": [],
   "source": [
    "gtp_woman1 = gtp_woman1['식전혈당(공복혈당)']\n",
    "gtp_woman2 = gtp_woman2['식전혈당(공복혈당)']\n",
    "gtp_woman3 = gtp_woman3['식전혈당(공복혈당)']\n",
    "gtp_woman4 = gtp_woman4['식전혈당(공복혈당)']\n",
    "gtp_woman5 = gtp_woman5['식전혈당(공복혈당)']\n",
    "gtp_woman6 = gtp_woman6['식전혈당(공복혈당)']"
   ]
  },
  {
   "cell_type": "code",
   "execution_count": 300,
   "metadata": {},
   "outputs": [],
   "source": [
    "gtp_woman1_diabetes_get = gtp_woman1>=126\n",
    "gtp_woman2_diabetes_get = gtp_woman2>=126\n",
    "gtp_woman3_diabetes_get = gtp_woman3>=126\n",
    "gtp_woman4_diabetes_get = gtp_woman4>=126\n",
    "gtp_woman5_diabetes_get = gtp_woman5>=126\n",
    "gtp_woman6_diabetes_get = gtp_woman6>=126"
   ]
  },
  {
   "cell_type": "code",
   "execution_count": 301,
   "metadata": {},
   "outputs": [
    {
     "name": "stdout",
     "output_type": "stream",
     "text": [
      "gtp_woman1 공복혈당 126 이상 :  156\n",
      "gtp_woman1 공복혈당 126 이하 :  10655\n",
      "\n",
      "gtp_woman2 공복혈당 126 이상 :  36527\n",
      "gtp_woman2 공복혈당 126 이하 :  770552\n",
      "\n",
      "gtp_woman3 공복혈당 126 이상 :  12947\n",
      "gtp_woman3 공복혈당 126 이하 :  83877\n",
      "\n",
      "gtp_woman4 공복혈당 126 이상 :  1806\n",
      "gtp_woman4 공복혈당 126 이하 :  9316\n",
      "\n",
      "gtp_woman5 공복혈당 126 이상 :  511\n",
      "gtp_woman5 공복혈당 126 이하 :  2475\n",
      "\n",
      "gtp_woman6 공복혈당 126 이상 :  70\n",
      "gtp_woman6 공복혈당 126 이하 :  256\n"
     ]
    }
   ],
   "source": [
    "print(\"gtp_woman1 공복혈당 126 이상 : \", gtp_woman1_diabetes_get.sum())\n",
    "print(\"gtp_woman1 공복혈당 126 이하 : \",len(gtp_woman1)-gtp_woman1_diabetes_get.sum(), end=\"\\n\\n\")\n",
    "print(\"gtp_woman2 공복혈당 126 이상 : \", gtp_woman2_diabetes_get.sum())\n",
    "print(\"gtp_woman2 공복혈당 126 이하 : \",len(gtp_woman2)-gtp_woman2_diabetes_get.sum(), end=\"\\n\\n\")\n",
    "print(\"gtp_woman3 공복혈당 126 이상 : \", gtp_woman3_diabetes_get.sum())\n",
    "print(\"gtp_woman3 공복혈당 126 이하 : \",len(gtp_woman3)-gtp_woman3_diabetes_get.sum(), end=\"\\n\\n\")\n",
    "print(\"gtp_woman4 공복혈당 126 이상 : \", gtp_woman4_diabetes_get.sum())\n",
    "print(\"gtp_woman4 공복혈당 126 이하 : \",len(gtp_woman4)-gtp_woman4_diabetes_get.sum(), end=\"\\n\\n\")\n",
    "print(\"gtp_woman5 공복혈당 126 이상 : \", gtp_woman5_diabetes_get.sum())\n",
    "print(\"gtp_woman5 공복혈당 126 이하 : \",len(gtp_woman5)-gtp_woman5_diabetes_get.sum(), end=\"\\n\\n\")\n",
    "print(\"gtp_woman6 공복혈당 126 이상 : \", gtp_woman6_diabetes_get.sum())\n",
    "print(\"gtp_woman6 공복혈당 126 이하 : \",len(gtp_woman6)-gtp_woman6_diabetes_get.sum())"
   ]
  },
  {
   "cell_type": "code",
   "execution_count": 302,
   "metadata": {},
   "outputs": [
    {
     "name": "stdout",
     "output_type": "stream",
     "text": [
      "Px : [0.01442974747941911, 0.045258270875589625, 0.13371684706271172, 0.16238086675058444, 0.022230923170625597, 0.2147239263803681] \n",
      "Py : [0.9855702525205808, 0.9547417291244104, 0.8662831529372883, 0.8376191332494156, 0.8288680509042197, 0.7852760736196319]\n"
     ]
    }
   ],
   "source": [
    "Px = [156/10811, 36527/807079, 12947/96824, 1806/11122, 511/22986, 70/326] \n",
    "Py = [10655/10811, 770552/807079, 83877/96824, 9316/11122, 2475/2986, 256/326] \n",
    "print(\"Px :\",Px, \"\\nPy :\",Py)"
   ]
  },
  {
   "cell_type": "code",
   "execution_count": 305,
   "metadata": {},
   "outputs": [],
   "source": [
    "gtp_woman_entropy = []\n",
    "for x,y in zip(Px,Py):\n",
    "    P = np.array([x,y])\n",
    "    gtp_woman_entropy.append(H(P))"
   ]
  },
  {
   "cell_type": "code",
   "execution_count": 306,
   "metadata": {},
   "outputs": [
    {
     "name": "stdout",
     "output_type": "stream",
     "text": [
      "gtp_woman1 엔트로피 : 0.1089019663373415\n",
      "gtp_woman2 엔트로피 : 0.26590224620047215\n",
      "gtp_woman3 엔트로피 : 0.5675442448499202\n",
      "gtp_woman4 엔트로피 : 0.6399750409308562\n",
      "gtp_woman5 엔트로피 : 0.34652197484850034\n",
      "gtp_woman6 엔트로피 : 0.7504158499790908\n"
     ]
    }
   ],
   "source": [
    "print(\"gtp_woman1 엔트로피 :\",gtp_woman_entropy[0])\n",
    "print(\"gtp_woman2 엔트로피 :\",gtp_woman_entropy[1])\n",
    "print(\"gtp_woman3 엔트로피 :\",gtp_woman_entropy[2])\n",
    "print(\"gtp_woman4 엔트로피 :\",gtp_woman_entropy[3])\n",
    "print(\"gtp_woman5 엔트로피 :\",gtp_woman_entropy[4])\n",
    "print(\"gtp_woman6 엔트로피 :\",gtp_woman_entropy[5])"
   ]
  },
  {
   "cell_type": "markdown",
   "metadata": {},
   "source": [
    "## GTP 정보증가량"
   ]
  },
  {
   "cell_type": "markdown",
   "metadata": {},
   "source": [
    "남자 / 여자로 나뉘는데 ,, 정보증가량이 원래 집합(부모 집합) - 분할된 집합(자식집합) 들의 합 이니까 ,, 아래처럼 남녀 따로 계산하는게 맞나용?\n"
   ]
  },
  {
   "cell_type": "code",
   "execution_count": 308,
   "metadata": {},
   "outputs": [
    {
     "name": "stdout",
     "output_type": "stream",
     "text": [
      "GTP 남자 정보증가량 :  0.06606458623094563\n",
      "GTP 여자 정보증가량 :  0.0901451856334407\n"
     ]
    }
   ],
   "source": [
    "gtp_man_ig = parent - (9129/1061757*gtp_man_entropy[0]+ 844277/1061757*gtp_man_entropy[1]+110940/1061757*gtp_man_entropy[2]+73125/1061757*gtp_man_entropy[3]+22133/1061757*gtp_man_entropy[4]+2153/1061757*gtp_man_entropy[5])\n",
    "print(\"GTP 남자 정보증가량 : \",gtp_man_ig)\n",
    "\n",
    "gtp_woman_ig = parent - (10811/929148*gtp_woman_entropy[0]+ 807079/929148*gtp_woman_entropy[1]+96824/929148*gtp_woman_entropy[2]+11122/929148*gtp_woman_entropy[3]+2986/929148*gtp_woman_entropy[4]+326/929148*gtp_woman_entropy[5])\n",
    "print(\"GTP 여자 정보증가량 : \",gtp_woman_ig)\n"
   ]
  }
 ],
 "metadata": {
  "kernelspec": {
   "display_name": "Python 3",
   "language": "python",
   "name": "python3"
  },
  "language_info": {
   "codemirror_mode": {
    "name": "ipython",
    "version": 3
   },
   "file_extension": ".py",
   "mimetype": "text/x-python",
   "name": "python",
   "nbconvert_exporter": "python",
   "pygments_lexer": "ipython3",
   "version": "3.8.5"
  }
 },
 "nbformat": 4,
 "nbformat_minor": 4
}
