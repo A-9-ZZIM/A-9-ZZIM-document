{
 "cells": [
  {
   "cell_type": "code",
   "execution_count": 19,
   "metadata": {},
   "outputs": [],
   "source": [
    "import pandas as pd\n",
    "import numpy as np\n",
    "import matplotlib.pyplot as plt\n",
    "plot_list = []"
   ]
  },
  {
   "cell_type": "code",
   "execution_count": 3,
   "metadata": {},
   "outputs": [],
   "source": [
    "def get_col_num(df):\n",
    "    return df.columns.size"
   ]
  },
  {
   "cell_type": "code",
   "execution_count": 4,
   "metadata": {},
   "outputs": [],
   "source": [
    "def get_row_num(df):\n",
    "    return df.size / get_col_num(df)"
   ]
  },
  {
   "cell_type": "code",
   "execution_count": 5,
   "metadata": {},
   "outputs": [],
   "source": [
    "def get_entropy(px):\n",
    "    if px == 0:\n",
    "        return 0;\n",
    "    return px * np.log2(px)"
   ]
  },
  {
   "cell_type": "code",
   "execution_count": 6,
   "metadata": {},
   "outputs": [],
   "source": [
    "def getParentEntropy(dataFrame) :\n",
    "    row_num = get_row_num(dataFrame)\n",
    "    col_num = get_col_num(dataFrame)\n",
    "    idx = pd.RangeIndex(start=0, stop=row_num)\n",
    "    dataFrame.index=idx\n",
    "    confirmed_person = dataFrame.loc[dataFrame[\"식전혈당(공복혈당)\"] >= 126]\n",
    "    confirmed_mask = dataFrame[\"식전혈당(공복혈당)\"] >= 126\n",
    "    confirmed_size = confirmed_person.size / col_num\n",
    "    unconfirmed_person = dataFrame.loc[dataFrame[\"식전혈당(공복혈당)\"] < 126]\n",
    "    unconfirmed_size = row_num - confirmed_size\n",
    "    confirmed_px_root = confirmed_size / row_num\n",
    "    unconfirmed_px_root = 1 - confirmed_px_root\n",
    "    entropy_root = -1 * (get_entropy(confirmed_px_root) + get_entropy(unconfirmed_px_root))\n",
    "    return entropy_root"
   ]
  },
  {
   "cell_type": "code",
   "execution_count": 7,
   "metadata": {},
   "outputs": [],
   "source": [
    "def getIG(dataFrame, col_name, value_list):\n",
    "    sum_entropy = 0\n",
    "    col_num = get_col_num(dataFrame)\n",
    "    row_num = get_row_num(dataFrame)\n",
    "    for val in value_list:\n",
    "        df = dataFrame.loc[dataFrame[col_name] == val]\n",
    "        df_size = df.size / col_num\n",
    "        \n",
    "        Y_df = df.loc[df[\"식전혈당(공복혈당)\"] >= 126]\n",
    "        \n",
    "        Y_df_size = Y_df.size / col_num\n",
    "        \n",
    "        Y_px = Y_df_size / df_size\n",
    "        N_px = 1 - Y_px\n",
    "        rtn = -1 * (get_entropy(Y_px) + get_entropy(N_px))\n",
    "        sum_entropy += rtn * (df_size / row_num)\n",
    "    print(\"H(%s):\"%(col_name), sum_entropy)\n",
    "    return getParentEntropy(dataFrame) - sum_entropy"
   ]
  },
  {
   "cell_type": "code",
   "execution_count": 20,
   "metadata": {},
   "outputs": [],
   "source": [
    "def getRangeIG(dataFrame, col_name, range_list):\n",
    "    global plot_list\n",
    "    sum_entropy = 0\n",
    "    prev_ran = 0\n",
    "    col_num = get_col_num(dataFrame)\n",
    "    row_num = get_row_num(dataFrame)\n",
    "    for ran in range_list:\n",
    "        df = dataFrame.loc[dataFrame[col_name] > prev_ran]\n",
    "        df = df.loc[df[col_name] <= ran] \n",
    "        plot_list.append(len(df))\n",
    "        df_size = df.size / col_num\n",
    "        \n",
    "        Y_df = df.loc[df[\"식전혈당(공복혈당)\"] >= 126]\n",
    "        \n",
    "        Y_df_size = Y_df.size / col_num\n",
    "        \n",
    "        Y_px = Y_df_size / df_size\n",
    "        N_px = 1 - Y_px\n",
    "        \n",
    "        rtn = -1 * (get_entropy(Y_px) + get_entropy(N_px))\n",
    "        sum_entropy += rtn * (df_size / row_num)\n",
    "        prev_ran = ran\n",
    "    print(\"H(%s): \"%(col_name), sum_entropy)\n",
    "    return getParentEntropy(dataFrame) - sum_entropy"
   ]
  },
  {
   "cell_type": "code",
   "execution_count": 9,
   "metadata": {},
   "outputs": [],
   "source": [
    "df_17 = pd.read_csv('../PBL/dataset/NHIS_2017_2018_100m/NHIS_OPEN_GJ_2017_100.csv', encoding='euc-kr')\n",
    "df_18 = pd.read_csv('../PBL/dataset/NHIS_2017_2018_100m/NHIS_OPEN_GJ_2018_100.csv')"
   ]
  },
  {
   "cell_type": "code",
   "execution_count": 10,
   "metadata": {},
   "outputs": [],
   "source": [
    "valid_17 = df_17.loc[df_17['식전혈당(공복혈당)'] <= 300]\n",
    "valid_18 = df_18.loc[df_18['식전혈당(공복혈당)'] <= 300]\n",
    "tmp_copy = valid_18.copy()\n",
    "tmp_copy.loc[tmp_copy[\"음주여부\"].isnull()] = 0\n",
    "valid_18 = tmp_copy.copy()"
   ]
  },
  {
   "cell_type": "code",
   "execution_count": 11,
   "metadata": {},
   "outputs": [],
   "source": [
    "valid_df = valid_17.append(valid_18)\n",
    "valid_df.dropna(subset=['식전혈당(공복혈당)'], inplace=True)\n",
    "\n",
    "confirmed_mask = valid_df[\"식전혈당(공복혈당)\"] >= 126\n",
    "valid_df.insert(get_col_num(valid_df), '당뇨확진', confirmed_mask)"
   ]
  },
  {
   "cell_type": "code",
   "execution_count": 11,
   "metadata": {},
   "outputs": [
    {
     "name": "stdout",
     "output_type": "stream",
     "text": [
      "H(성별코드): 0.3103623922991349\n",
      "정보획득량:  0.021873448000680418\n"
     ]
    }
   ],
   "source": [
    "# print(valid_df[\"성별코드\"].unique())\n",
    "print(\"정보획득량: \" , getIG(valid_df, \"성별코드\", valid_df[\"성별코드\"].unique()))"
   ]
  },
  {
   "cell_type": "code",
   "execution_count": 12,
   "metadata": {},
   "outputs": [
    {
     "name": "stdout",
     "output_type": "stream",
     "text": [
      "H(연령대코드(5세단위)): 0.29425177111545964\n",
      "정보획득량:  0.03798406918435571\n"
     ]
    }
   ],
   "source": [
    "# print(valid_df[\"연령대코드(5세단위)\"].unique())\n",
    "print(\"정보획득량: \", getIG(valid_df, \"연령대코드(5세단위)\", valid_df[\"연령대코드(5세단위)\"].unique()))"
   ]
  },
  {
   "cell_type": "code",
   "execution_count": 13,
   "metadata": {},
   "outputs": [
    {
     "name": "stdout",
     "output_type": "stream",
     "text": [
      "H(신장(5Cm단위)): 0.3134086768038382\n",
      "정보획득량:  0.01882716349597713\n"
     ]
    }
   ],
   "source": [
    "# print(valid_df[\"신장(5Cm단위)\"].unique())\n",
    "print(\"정보획득량: \", getIG(valid_df, \"신장(5Cm단위)\", valid_df[\"신장(5Cm단위)\"].unique()))"
   ]
  },
  {
   "cell_type": "code",
   "execution_count": 14,
   "metadata": {},
   "outputs": [
    {
     "name": "stdout",
     "output_type": "stream",
     "text": [
      "H(체중(5Kg단위)): 0.3092669199110947\n",
      "정보획득량:  0.02296892038872067\n"
     ]
    }
   ],
   "source": [
    "print(\"정보획득량: \", getIG(valid_df, \"체중(5Kg단위)\", valid_df[\"체중(5Kg단위)\"].unique()))"
   ]
  },
  {
   "cell_type": "code",
   "execution_count": 29,
   "metadata": {},
   "outputs": [
    {
     "name": "stdout",
     "output_type": "stream",
     "text": [
      "H(BMI):  0.3045011875406791\n",
      "정보획득량:  0.027734652759136225\n",
      "[1008062, 552678, 68509]\n"
     ]
    },
    {
     "data": {
      "image/png": "[encoded data removed]",
      "text/plain": [
       "<Figure size 432x288 with 1 Axes>"
      ]
     },
     "metadata": {
      "needs_background": "light"
     },
     "output_type": "display_data"
    }
   ],
   "source": [
    "bmi_ref = valid_df.loc[:,[\"체중(5Kg단위)\", \"신장(5Cm단위)\"]]\n",
    "bmi_df = (bmi_ref[\"체중(5Kg단위)\"] / ((bmi_ref[\"신장(5Cm단위)\"]/100)**2))\n",
    "bmi_df = round(bmi_df)\n",
    "\n",
    "copy_df_bmi = valid_df.copy()\n",
    "copy_df_bmi.insert(get_col_num(copy_df_bmi), 'BMI', bmi_df)\n",
    "\n",
    "bmi_list = [24.9, 29.9, 34.9]\n",
    "\n",
    "plot_list = []\n",
    "print(\"정보획득량: \", getRangeIG(copy_df_bmi, \"BMI\", bmi_list))\n",
    "print(plot_list)\n",
    "plt.bar(range(len(np.array(plot_list))), np.array(plot_list))\n",
    "plt.show()\n",
    "\n"
   ]
  },
  {
   "cell_type": "code",
   "execution_count": 16,
   "metadata": {},
   "outputs": [
    {
     "name": "stdout",
     "output_type": "stream",
     "text": [
      "H(허리둘레):  0.3623876276400057\n",
      "정보획득량:  0.018175843898836974\n"
     ]
    }
   ],
   "source": [
    "copy_df_waist = valid_df.copy()\n",
    "copy_df_waist.dropna(subset=[\"허리둘레\"], inplace=True)\n",
    "copy_df_waist = copy_df_waist.loc[copy_df_waist[\"허리둘레\"] >= 35]\n",
    "copy_df_waist = copy_df_waist.loc[copy_df_waist[\"허리둘레\"] <= 111.76]\n",
    "\n",
    "waist_list = [66.04, 71.12, 78.74, 83.82, 104.14, 106.68, 111.76]\n",
    "\n",
    "print(\"정보획득량: \", getRangeIG(copy_df_waist, \"허리둘레\", waist_list))\n",
    "\n",
    "\n"
   ]
  },
  {
   "cell_type": "code",
   "execution_count": null,
   "metadata": {},
   "outputs": [],
   "source": [
    "man_df = valid_df.loc[valid_df[\"성별코드\"] == 1].copy()\n",
    "woman_df = valid_df.loc[valid_df[\"성별코드\"] == 2].copy()\n",
    "\n",
    "man_df.dropna(subset=[\"감마지티피\"], inplace=True)\n",
    "woman_df.dropna(subset=[\"감마지티피\"], inplace=True)\n",
    "\n",
    "man_range= [10, 63, 99, 199, 599, 1000]\n",
    "woman_range = [7, 35, 99, 199, 599, 1000]\n",
    "\n",
    "print(getRangeIG(man_df, \"감마지티피\", man_range))\n",
    "print(getRangeIG(woman_df, \"감마지티피\", woman_range))\n"
   ]
  },
  {
   "cell_type": "code",
   "execution_count": null,
   "metadata": {},
   "outputs": [],
   "source": [
    "# valid_df[\"성별코드\"].unique()\n",
    "# valid_df[\"연령대코드(5세단위)\"].unique()\n",
    "# valid_df[\"신장(5Cm단위)\"].unique()\n",
    "# valid_df[\"체중(5Kg단위)\"].unique()\n",
    "\n",
    "# valid_df.dropna(subset=[\"허리둘레\"], inplace=True)\n",
    "# valid_df = valid_df.loc[valid_df[\"허리둘레\"] >= 35]\n",
    "# valid_df = valid_df.loc[valid_df[\"허리둘레\"] <= 111.76]\n",
    "# valid_df[\"허리둘레\"].unique()"
   ]
  }
 ],
 "metadata": {
  "kernelspec": {
   "display_name": "Python 3",
   "language": "python",
   "name": "python3"
  },
  "language_info": {
   "codemirror_mode": {
    "name": "ipython",
    "version": 3
   },
   "file_extension": ".py",
   "mimetype": "text/x-python",
   "name": "python",
   "nbconvert_exporter": "python",
   "pygments_lexer": "ipython3",
   "version": "3.8.5"
  }
 },
 "nbformat": 4,
 "nbformat_minor": 4
}
