{
 "cells": [
  {
   "cell_type": "markdown",
   "id": "original-translator",
   "metadata": {},
   "source": [
    "# P~S 엔트로피 조사"
   ]
  },
  {
   "cell_type": "code",
   "execution_count": 1,
   "id": "focused-philosophy",
   "metadata": {},
   "outputs": [],
   "source": [
    "import numpy as np\n",
    "import pandas as pd\n",
    "import matplotlib.pyplot as plt\n",
    "import seaborn as sns\n",
    "plt.style.use('fivethirtyeight')\n",
    "import warnings\n",
    "warnings.filterwarnings('ignore')\n",
    "%matplotlib inline\n",
    "import math"
   ]
  },
  {
   "cell_type": "code",
   "execution_count": 2,
   "id": "satisfactory-grace",
   "metadata": {},
   "outputs": [],
   "source": [
    "import os\n",
    "# 운영체제별 한글 폰트 설정\n",
    "if os.name == 'posix': # Mac 환경 폰트 설정\n",
    "    plt.rc('font', family='AppleGothic')\n",
    "elif os.name == 'nt': # Windows 환경 폰트 설정\n",
    "    plt.rc('font', family='Malgun Gothic')\n",
    "\n",
    "plt.rc('axes', unicode_minus=False) # 마이너스 폰트 설정\n",
    "\n",
    "\n",
    "# 글씨 선명하게 출력하는 설정\n",
    "%config InlineBackend.figure_format = 'retina'"
   ]
  },
  {
   "cell_type": "code",
   "execution_count": 3,
   "id": "dimensional-brunswick",
   "metadata": {},
   "outputs": [],
   "source": [
    "data1 = pd.read_csv('NHIS_OPEN_GJ_2017_100.csv',encoding='euc-kr')\n",
    "data2 = pd.read_csv('NHIS_OPEN_GJ_2018_100.csv')"
   ]
  },
  {
   "cell_type": "code",
   "execution_count": 4,
   "id": "compound-spencer",
   "metadata": {},
   "outputs": [
    {
     "data": {
      "text/plain": [
       "Index(['기준년도', '가입자일련번호', '성별코드', '연령대코드(5세단위)', '시도코드', '신장(5Cm단위)',\n",
       "       '체중(5Kg단위)', '허리둘레', '시력(좌)', '시력(우)', '청력(좌)', '청력(우)', '수축기혈압',\n",
       "       '이완기혈압', '식전혈당(공복혈당)', '총콜레스테롤', '트리글리세라이드', 'HDL콜레스테롤', 'LDL콜레스테롤',\n",
       "       '혈색소', '요단백', '혈청크레아티닌', '(혈청지오티)AST', '(혈청지오티)ALT', '감마지티피', '흡연상태',\n",
       "       '음주여부', '구강검진수검여부', '치아우식증유무', '결손치유무', '치아마모증유무', '제3대구치(사랑니)이상', '치석',\n",
       "       '데이터공개일자'],\n",
       "      dtype='object')"
      ]
     },
     "execution_count": 4,
     "metadata": {},
     "output_type": "execute_result"
    }
   ],
   "source": [
    "data1.columns"
   ]
  },
  {
   "cell_type": "code",
   "execution_count": 5,
   "id": "mechanical-onion",
   "metadata": {},
   "outputs": [],
   "source": [
    "data1 = data1[['식전혈당(공복혈당)','총콜레스테롤', '트리글리세라이드', 'HDL콜레스테롤', 'LDL콜레스테롤']]\n",
    "data2 = data2[['식전혈당(공복혈당)','총콜레스테롤', '트리글리세라이드', 'HDL콜레스테롤', 'LDL콜레스테롤']]"
   ]
  },
  {
   "cell_type": "markdown",
   "id": "italic-magic",
   "metadata": {},
   "source": [
    "# 당뇨병 엔트로피 구하기"
   ]
  },
  {
   "cell_type": "markdown",
   "id": "tamil-cancer",
   "metadata": {},
   "source": [
    "## 2017, 2018년도 데이터 합치기"
   ]
  },
  {
   "cell_type": "code",
   "execution_count": 6,
   "id": "living-preservation",
   "metadata": {},
   "outputs": [
    {
     "data": {
      "text/html": [
       "<div>\n",
       "<style scoped>\n",
       "    .dataframe tbody tr th:only-of-type {\n",
       "        vertical-align: middle;\n",
       "    }\n",
       "\n",
       "    .dataframe tbody tr th {\n",
       "        vertical-align: top;\n",
       "    }\n",
       "\n",
       "    .dataframe thead th {\n",
       "        text-align: right;\n",
       "    }\n",
       "</style>\n",
       "<table border=\"1\" class=\"dataframe\">\n",
       "  <thead>\n",
       "    <tr style=\"text-align: right;\">\n",
       "      <th></th>\n",
       "      <th>식전혈당(공복혈당)</th>\n",
       "      <th>총콜레스테롤</th>\n",
       "      <th>트리글리세라이드</th>\n",
       "      <th>HDL콜레스테롤</th>\n",
       "      <th>LDL콜레스테롤</th>\n",
       "    </tr>\n",
       "  </thead>\n",
       "  <tbody>\n",
       "    <tr>\n",
       "      <th>0</th>\n",
       "      <td>99.0</td>\n",
       "      <td>193.0</td>\n",
       "      <td>92.0</td>\n",
       "      <td>48.0</td>\n",
       "      <td>126.0</td>\n",
       "    </tr>\n",
       "    <tr>\n",
       "      <th>1</th>\n",
       "      <td>106.0</td>\n",
       "      <td>228.0</td>\n",
       "      <td>121.0</td>\n",
       "      <td>55.0</td>\n",
       "      <td>148.0</td>\n",
       "    </tr>\n",
       "    <tr>\n",
       "      <th>2</th>\n",
       "      <td>98.0</td>\n",
       "      <td>136.0</td>\n",
       "      <td>104.0</td>\n",
       "      <td>41.0</td>\n",
       "      <td>74.0</td>\n",
       "    </tr>\n",
       "    <tr>\n",
       "      <th>3</th>\n",
       "      <td>95.0</td>\n",
       "      <td>201.0</td>\n",
       "      <td>106.0</td>\n",
       "      <td>76.0</td>\n",
       "      <td>104.0</td>\n",
       "    </tr>\n",
       "    <tr>\n",
       "      <th>4</th>\n",
       "      <td>101.0</td>\n",
       "      <td>199.0</td>\n",
       "      <td>104.0</td>\n",
       "      <td>61.0</td>\n",
       "      <td>117.0</td>\n",
       "    </tr>\n",
       "    <tr>\n",
       "      <th>...</th>\n",
       "      <td>...</td>\n",
       "      <td>...</td>\n",
       "      <td>...</td>\n",
       "      <td>...</td>\n",
       "      <td>...</td>\n",
       "    </tr>\n",
       "    <tr>\n",
       "      <th>999995</th>\n",
       "      <td>107.0</td>\n",
       "      <td>NaN</td>\n",
       "      <td>NaN</td>\n",
       "      <td>NaN</td>\n",
       "      <td>NaN</td>\n",
       "    </tr>\n",
       "    <tr>\n",
       "      <th>999996</th>\n",
       "      <td>114.0</td>\n",
       "      <td>NaN</td>\n",
       "      <td>NaN</td>\n",
       "      <td>NaN</td>\n",
       "      <td>NaN</td>\n",
       "    </tr>\n",
       "    <tr>\n",
       "      <th>999997</th>\n",
       "      <td>98.0</td>\n",
       "      <td>NaN</td>\n",
       "      <td>NaN</td>\n",
       "      <td>NaN</td>\n",
       "      <td>NaN</td>\n",
       "    </tr>\n",
       "    <tr>\n",
       "      <th>999998</th>\n",
       "      <td>94.0</td>\n",
       "      <td>NaN</td>\n",
       "      <td>NaN</td>\n",
       "      <td>NaN</td>\n",
       "      <td>NaN</td>\n",
       "    </tr>\n",
       "    <tr>\n",
       "      <th>999999</th>\n",
       "      <td>85.0</td>\n",
       "      <td>NaN</td>\n",
       "      <td>NaN</td>\n",
       "      <td>NaN</td>\n",
       "      <td>NaN</td>\n",
       "    </tr>\n",
       "  </tbody>\n",
       "</table>\n",
       "<p>2000000 rows × 5 columns</p>\n",
       "</div>"
      ],
      "text/plain": [
       "        식전혈당(공복혈당)  총콜레스테롤  트리글리세라이드  HDL콜레스테롤  LDL콜레스테롤\n",
       "0             99.0   193.0      92.0      48.0     126.0\n",
       "1            106.0   228.0     121.0      55.0     148.0\n",
       "2             98.0   136.0     104.0      41.0      74.0\n",
       "3             95.0   201.0     106.0      76.0     104.0\n",
       "4            101.0   199.0     104.0      61.0     117.0\n",
       "...            ...     ...       ...       ...       ...\n",
       "999995       107.0     NaN       NaN       NaN       NaN\n",
       "999996       114.0     NaN       NaN       NaN       NaN\n",
       "999997        98.0     NaN       NaN       NaN       NaN\n",
       "999998        94.0     NaN       NaN       NaN       NaN\n",
       "999999        85.0     NaN       NaN       NaN       NaN\n",
       "\n",
       "[2000000 rows x 5 columns]"
      ]
     },
     "execution_count": 6,
     "metadata": {},
     "output_type": "execute_result"
    }
   ],
   "source": [
    "data = pd.concat([data1, data2])\n",
    "data"
   ]
  },
  {
   "cell_type": "markdown",
   "id": "oriented-ceramic",
   "metadata": {},
   "source": [
    "## null인 데이터 제거"
   ]
  },
  {
   "cell_type": "code",
   "execution_count": 7,
   "id": "false-chocolate",
   "metadata": {},
   "outputs": [
    {
     "data": {
      "text/html": [
       "<div>\n",
       "<style scoped>\n",
       "    .dataframe tbody tr th:only-of-type {\n",
       "        vertical-align: middle;\n",
       "    }\n",
       "\n",
       "    .dataframe tbody tr th {\n",
       "        vertical-align: top;\n",
       "    }\n",
       "\n",
       "    .dataframe thead th {\n",
       "        text-align: right;\n",
       "    }\n",
       "</style>\n",
       "<table border=\"1\" class=\"dataframe\">\n",
       "  <thead>\n",
       "    <tr style=\"text-align: right;\">\n",
       "      <th></th>\n",
       "      <th>식전혈당(공복혈당)</th>\n",
       "      <th>총콜레스테롤</th>\n",
       "      <th>트리글리세라이드</th>\n",
       "      <th>HDL콜레스테롤</th>\n",
       "      <th>LDL콜레스테롤</th>\n",
       "    </tr>\n",
       "  </thead>\n",
       "  <tbody>\n",
       "    <tr>\n",
       "      <th>0</th>\n",
       "      <td>99.0</td>\n",
       "      <td>193.0</td>\n",
       "      <td>92.0</td>\n",
       "      <td>48.0</td>\n",
       "      <td>126.0</td>\n",
       "    </tr>\n",
       "    <tr>\n",
       "      <th>1</th>\n",
       "      <td>106.0</td>\n",
       "      <td>228.0</td>\n",
       "      <td>121.0</td>\n",
       "      <td>55.0</td>\n",
       "      <td>148.0</td>\n",
       "    </tr>\n",
       "    <tr>\n",
       "      <th>2</th>\n",
       "      <td>98.0</td>\n",
       "      <td>136.0</td>\n",
       "      <td>104.0</td>\n",
       "      <td>41.0</td>\n",
       "      <td>74.0</td>\n",
       "    </tr>\n",
       "    <tr>\n",
       "      <th>3</th>\n",
       "      <td>95.0</td>\n",
       "      <td>201.0</td>\n",
       "      <td>106.0</td>\n",
       "      <td>76.0</td>\n",
       "      <td>104.0</td>\n",
       "    </tr>\n",
       "    <tr>\n",
       "      <th>4</th>\n",
       "      <td>101.0</td>\n",
       "      <td>199.0</td>\n",
       "      <td>104.0</td>\n",
       "      <td>61.0</td>\n",
       "      <td>117.0</td>\n",
       "    </tr>\n",
       "    <tr>\n",
       "      <th>...</th>\n",
       "      <td>...</td>\n",
       "      <td>...</td>\n",
       "      <td>...</td>\n",
       "      <td>...</td>\n",
       "      <td>...</td>\n",
       "    </tr>\n",
       "    <tr>\n",
       "      <th>999978</th>\n",
       "      <td>92.0</td>\n",
       "      <td>158.0</td>\n",
       "      <td>139.0</td>\n",
       "      <td>70.0</td>\n",
       "      <td>60.0</td>\n",
       "    </tr>\n",
       "    <tr>\n",
       "      <th>999979</th>\n",
       "      <td>82.0</td>\n",
       "      <td>274.0</td>\n",
       "      <td>239.0</td>\n",
       "      <td>45.0</td>\n",
       "      <td>181.0</td>\n",
       "    </tr>\n",
       "    <tr>\n",
       "      <th>999981</th>\n",
       "      <td>99.0</td>\n",
       "      <td>216.0</td>\n",
       "      <td>122.0</td>\n",
       "      <td>43.0</td>\n",
       "      <td>148.0</td>\n",
       "    </tr>\n",
       "    <tr>\n",
       "      <th>999982</th>\n",
       "      <td>95.0</td>\n",
       "      <td>222.0</td>\n",
       "      <td>173.0</td>\n",
       "      <td>39.0</td>\n",
       "      <td>148.0</td>\n",
       "    </tr>\n",
       "    <tr>\n",
       "      <th>999983</th>\n",
       "      <td>105.0</td>\n",
       "      <td>148.0</td>\n",
       "      <td>214.0</td>\n",
       "      <td>42.0</td>\n",
       "      <td>63.0</td>\n",
       "    </tr>\n",
       "  </tbody>\n",
       "</table>\n",
       "<p>1322951 rows × 5 columns</p>\n",
       "</div>"
      ],
      "text/plain": [
       "        식전혈당(공복혈당)  총콜레스테롤  트리글리세라이드  HDL콜레스테롤  LDL콜레스테롤\n",
       "0             99.0   193.0      92.0      48.0     126.0\n",
       "1            106.0   228.0     121.0      55.0     148.0\n",
       "2             98.0   136.0     104.0      41.0      74.0\n",
       "3             95.0   201.0     106.0      76.0     104.0\n",
       "4            101.0   199.0     104.0      61.0     117.0\n",
       "...            ...     ...       ...       ...       ...\n",
       "999978        92.0   158.0     139.0      70.0      60.0\n",
       "999979        82.0   274.0     239.0      45.0     181.0\n",
       "999981        99.0   216.0     122.0      43.0     148.0\n",
       "999982        95.0   222.0     173.0      39.0     148.0\n",
       "999983       105.0   148.0     214.0      42.0      63.0\n",
       "\n",
       "[1322951 rows x 5 columns]"
      ]
     },
     "execution_count": 7,
     "metadata": {},
     "output_type": "execute_result"
    }
   ],
   "source": [
    "data = data.dropna(axis = 0)\n",
    "data"
   ]
  },
  {
   "cell_type": "markdown",
   "id": "wanted-engineering",
   "metadata": {},
   "source": [
    "## 혈당 수치가 200 이상인 데이터 제거"
   ]
  },
  {
   "cell_type": "code",
   "execution_count": 8,
   "id": "painful-poverty",
   "metadata": {},
   "outputs": [
    {
     "data": {
      "text/html": [
       "<div>\n",
       "<style scoped>\n",
       "    .dataframe tbody tr th:only-of-type {\n",
       "        vertical-align: middle;\n",
       "    }\n",
       "\n",
       "    .dataframe tbody tr th {\n",
       "        vertical-align: top;\n",
       "    }\n",
       "\n",
       "    .dataframe thead th {\n",
       "        text-align: right;\n",
       "    }\n",
       "</style>\n",
       "<table border=\"1\" class=\"dataframe\">\n",
       "  <thead>\n",
       "    <tr style=\"text-align: right;\">\n",
       "      <th></th>\n",
       "      <th>식전혈당(공복혈당)</th>\n",
       "      <th>총콜레스테롤</th>\n",
       "      <th>트리글리세라이드</th>\n",
       "      <th>HDL콜레스테롤</th>\n",
       "      <th>LDL콜레스테롤</th>\n",
       "    </tr>\n",
       "  </thead>\n",
       "  <tbody>\n",
       "    <tr>\n",
       "      <th>0</th>\n",
       "      <td>99.0</td>\n",
       "      <td>193.0</td>\n",
       "      <td>92.0</td>\n",
       "      <td>48.0</td>\n",
       "      <td>126.0</td>\n",
       "    </tr>\n",
       "    <tr>\n",
       "      <th>1</th>\n",
       "      <td>106.0</td>\n",
       "      <td>228.0</td>\n",
       "      <td>121.0</td>\n",
       "      <td>55.0</td>\n",
       "      <td>148.0</td>\n",
       "    </tr>\n",
       "    <tr>\n",
       "      <th>2</th>\n",
       "      <td>98.0</td>\n",
       "      <td>136.0</td>\n",
       "      <td>104.0</td>\n",
       "      <td>41.0</td>\n",
       "      <td>74.0</td>\n",
       "    </tr>\n",
       "    <tr>\n",
       "      <th>3</th>\n",
       "      <td>95.0</td>\n",
       "      <td>201.0</td>\n",
       "      <td>106.0</td>\n",
       "      <td>76.0</td>\n",
       "      <td>104.0</td>\n",
       "    </tr>\n",
       "    <tr>\n",
       "      <th>4</th>\n",
       "      <td>101.0</td>\n",
       "      <td>199.0</td>\n",
       "      <td>104.0</td>\n",
       "      <td>61.0</td>\n",
       "      <td>117.0</td>\n",
       "    </tr>\n",
       "    <tr>\n",
       "      <th>...</th>\n",
       "      <td>...</td>\n",
       "      <td>...</td>\n",
       "      <td>...</td>\n",
       "      <td>...</td>\n",
       "      <td>...</td>\n",
       "    </tr>\n",
       "    <tr>\n",
       "      <th>999978</th>\n",
       "      <td>92.0</td>\n",
       "      <td>158.0</td>\n",
       "      <td>139.0</td>\n",
       "      <td>70.0</td>\n",
       "      <td>60.0</td>\n",
       "    </tr>\n",
       "    <tr>\n",
       "      <th>999979</th>\n",
       "      <td>82.0</td>\n",
       "      <td>274.0</td>\n",
       "      <td>239.0</td>\n",
       "      <td>45.0</td>\n",
       "      <td>181.0</td>\n",
       "    </tr>\n",
       "    <tr>\n",
       "      <th>999981</th>\n",
       "      <td>99.0</td>\n",
       "      <td>216.0</td>\n",
       "      <td>122.0</td>\n",
       "      <td>43.0</td>\n",
       "      <td>148.0</td>\n",
       "    </tr>\n",
       "    <tr>\n",
       "      <th>999982</th>\n",
       "      <td>95.0</td>\n",
       "      <td>222.0</td>\n",
       "      <td>173.0</td>\n",
       "      <td>39.0</td>\n",
       "      <td>148.0</td>\n",
       "    </tr>\n",
       "    <tr>\n",
       "      <th>999983</th>\n",
       "      <td>105.0</td>\n",
       "      <td>148.0</td>\n",
       "      <td>214.0</td>\n",
       "      <td>42.0</td>\n",
       "      <td>63.0</td>\n",
       "    </tr>\n",
       "  </tbody>\n",
       "</table>\n",
       "<p>1308677 rows × 5 columns</p>\n",
       "</div>"
      ],
      "text/plain": [
       "        식전혈당(공복혈당)  총콜레스테롤  트리글리세라이드  HDL콜레스테롤  LDL콜레스테롤\n",
       "0             99.0   193.0      92.0      48.0     126.0\n",
       "1            106.0   228.0     121.0      55.0     148.0\n",
       "2             98.0   136.0     104.0      41.0      74.0\n",
       "3             95.0   201.0     106.0      76.0     104.0\n",
       "4            101.0   199.0     104.0      61.0     117.0\n",
       "...            ...     ...       ...       ...       ...\n",
       "999978        92.0   158.0     139.0      70.0      60.0\n",
       "999979        82.0   274.0     239.0      45.0     181.0\n",
       "999981        99.0   216.0     122.0      43.0     148.0\n",
       "999982        95.0   222.0     173.0      39.0     148.0\n",
       "999983       105.0   148.0     214.0      42.0      63.0\n",
       "\n",
       "[1308677 rows x 5 columns]"
      ]
     },
     "execution_count": 8,
     "metadata": {},
     "output_type": "execute_result"
    }
   ],
   "source": [
    "data = data[data['식전혈당(공복혈당)'] < 200]\n",
    "data"
   ]
  },
  {
   "cell_type": "markdown",
   "id": "checked-stations",
   "metadata": {},
   "source": [
    "## 혈당 데이터 추출"
   ]
  },
  {
   "cell_type": "code",
   "execution_count": 9,
   "id": "precious-instruction",
   "metadata": {},
   "outputs": [
    {
     "data": {
      "text/plain": [
       "0          99.0\n",
       "1         106.0\n",
       "2          98.0\n",
       "3          95.0\n",
       "4         101.0\n",
       "          ...  \n",
       "999978     92.0\n",
       "999979     82.0\n",
       "999981     99.0\n",
       "999982     95.0\n",
       "999983    105.0\n",
       "Name: 식전혈당(공복혈당), Length: 1308677, dtype: float64"
      ]
     },
     "execution_count": 9,
     "metadata": {},
     "output_type": "execute_result"
    }
   ],
   "source": [
    "diabetes = data['식전혈당(공복혈당)']\n",
    "diabetes"
   ]
  },
  {
   "cell_type": "markdown",
   "id": "floating-subcommittee",
   "metadata": {},
   "source": [
    "## 인원 수 구하기"
   ]
  },
  {
   "cell_type": "code",
   "execution_count": 10,
   "id": "treated-albuquerque",
   "metadata": {},
   "outputs": [
    {
     "data": {
      "text/plain": [
       "0         False\n",
       "1         False\n",
       "2         False\n",
       "3         False\n",
       "4         False\n",
       "          ...  \n",
       "999978    False\n",
       "999979    False\n",
       "999981    False\n",
       "999982    False\n",
       "999983    False\n",
       "Name: 식전혈당(공복혈당), Length: 1308677, dtype: bool"
      ]
     },
     "execution_count": 10,
     "metadata": {},
     "output_type": "execute_result"
    }
   ],
   "source": [
    "diabetes_mask = diabetes >= 126\n",
    "diabetes_mask"
   ]
  },
  {
   "cell_type": "code",
   "execution_count": 11,
   "id": "allied-spread",
   "metadata": {},
   "outputs": [
    {
     "name": "stdout",
     "output_type": "stream",
     "text": [
      "당뇨병인 사람의 수 :  91263\n",
      "당뇨병이 아닌 사람의 수 :  1217414\n"
     ]
    }
   ],
   "source": [
    "print(\"당뇨병인 사람의 수 : \",diabetes_mask.sum())\n",
    "print(\"당뇨병이 아닌 사람의 수 : \",len(diabetes_mask)-diabetes_mask.sum())"
   ]
  },
  {
   "cell_type": "markdown",
   "id": "returning-windows",
   "metadata": {},
   "source": [
    "당뇨가 아닌 사람이 훨씬 많다."
   ]
  },
  {
   "cell_type": "code",
   "execution_count": 12,
   "id": "adjustable-tucson",
   "metadata": {},
   "outputs": [
    {
     "name": "stdout",
     "output_type": "stream",
     "text": [
      "당뇨 확률 : 0.0697368410998283 정상 확률 : 0.9302631589001717\n"
     ]
    }
   ],
   "source": [
    "Px = 91263/1308677 ; Py = 1217414/1308677\n",
    "print(\"당뇨 확률 :\",Px,\"정상 확률 :\",Py)"
   ]
  },
  {
   "cell_type": "code",
   "execution_count": 13,
   "id": "consistent-assumption",
   "metadata": {},
   "outputs": [
    {
     "data": {
      "text/plain": [
       "array([0.06973684, 0.93026316])"
      ]
     },
     "execution_count": 13,
     "metadata": {},
     "output_type": "execute_result"
    }
   ],
   "source": [
    "P = np.array([Px,Py])\n",
    "P"
   ]
  },
  {
   "cell_type": "markdown",
   "id": "hired-usage",
   "metadata": {},
   "source": [
    "## 혈당 엔트로피"
   ]
  },
  {
   "cell_type": "code",
   "execution_count": 14,
   "id": "facial-somalia",
   "metadata": {},
   "outputs": [],
   "source": [
    "def H(p):\n",
    "    id_p = np.where(p != 0)\n",
    "    return -np.sum(p[id_p]*np.log2(p[id_p]))"
   ]
  },
  {
   "cell_type": "code",
   "execution_count": 15,
   "id": "interested-proposal",
   "metadata": {},
   "outputs": [
    {
     "data": {
      "text/plain": [
       "0.3649408252412849"
      ]
     },
     "execution_count": 15,
     "metadata": {},
     "output_type": "execute_result"
    }
   ],
   "source": [
    "parent = H(P) # 부모 엔트로피\n",
    "parent"
   ]
  },
  {
   "cell_type": "markdown",
   "id": "incorporated-consumption",
   "metadata": {},
   "source": [
    "# 총콜레스테롤 엔트로피"
   ]
  },
  {
   "cell_type": "markdown",
   "id": "opened-baker",
   "metadata": {},
   "source": [
    "콜레스테롤의 정상 범위는 200 미만, 높은게 240이상.   \n",
    "따라서 200미만, 200~239, 400이상 총 세가지 경우로 나누었다."
   ]
  },
  {
   "cell_type": "code",
   "execution_count": 16,
   "id": "practical-infrastructure",
   "metadata": {},
   "outputs": [],
   "source": [
    "TC_low = data[data['총콜레스테롤'] < 200]\n",
    "TC = data[(data['총콜레스테롤'] >= 200) & (data['총콜레스테롤'] < 240) ]\n",
    "TC_high = data[data['총콜레스테롤']>= 240]"
   ]
  },
  {
   "cell_type": "code",
   "execution_count": 17,
   "id": "younger-feedback",
   "metadata": {},
   "outputs": [
    {
     "data": {
      "text/html": [
       "<div>\n",
       "<style scoped>\n",
       "    .dataframe tbody tr th:only-of-type {\n",
       "        vertical-align: middle;\n",
       "    }\n",
       "\n",
       "    .dataframe tbody tr th {\n",
       "        vertical-align: top;\n",
       "    }\n",
       "\n",
       "    .dataframe thead th {\n",
       "        text-align: right;\n",
       "    }\n",
       "</style>\n",
       "<table border=\"1\" class=\"dataframe\">\n",
       "  <thead>\n",
       "    <tr style=\"text-align: right;\">\n",
       "      <th></th>\n",
       "      <th>식전혈당(공복혈당)</th>\n",
       "      <th>총콜레스테롤</th>\n",
       "      <th>트리글리세라이드</th>\n",
       "      <th>HDL콜레스테롤</th>\n",
       "      <th>LDL콜레스테롤</th>\n",
       "    </tr>\n",
       "  </thead>\n",
       "  <tbody>\n",
       "    <tr>\n",
       "      <th>0</th>\n",
       "      <td>99.0</td>\n",
       "      <td>193.0</td>\n",
       "      <td>92.0</td>\n",
       "      <td>48.0</td>\n",
       "      <td>126.0</td>\n",
       "    </tr>\n",
       "    <tr>\n",
       "      <th>2</th>\n",
       "      <td>98.0</td>\n",
       "      <td>136.0</td>\n",
       "      <td>104.0</td>\n",
       "      <td>41.0</td>\n",
       "      <td>74.0</td>\n",
       "    </tr>\n",
       "    <tr>\n",
       "      <th>4</th>\n",
       "      <td>101.0</td>\n",
       "      <td>199.0</td>\n",
       "      <td>104.0</td>\n",
       "      <td>61.0</td>\n",
       "      <td>117.0</td>\n",
       "    </tr>\n",
       "    <tr>\n",
       "      <th>6</th>\n",
       "      <td>89.0</td>\n",
       "      <td>196.0</td>\n",
       "      <td>75.0</td>\n",
       "      <td>66.0</td>\n",
       "      <td>115.0</td>\n",
       "    </tr>\n",
       "    <tr>\n",
       "      <th>7</th>\n",
       "      <td>94.0</td>\n",
       "      <td>185.0</td>\n",
       "      <td>101.0</td>\n",
       "      <td>58.0</td>\n",
       "      <td>107.0</td>\n",
       "    </tr>\n",
       "    <tr>\n",
       "      <th>...</th>\n",
       "      <td>...</td>\n",
       "      <td>...</td>\n",
       "      <td>...</td>\n",
       "      <td>...</td>\n",
       "      <td>...</td>\n",
       "    </tr>\n",
       "    <tr>\n",
       "      <th>999960</th>\n",
       "      <td>82.0</td>\n",
       "      <td>178.0</td>\n",
       "      <td>125.0</td>\n",
       "      <td>48.0</td>\n",
       "      <td>105.0</td>\n",
       "    </tr>\n",
       "    <tr>\n",
       "      <th>999962</th>\n",
       "      <td>90.0</td>\n",
       "      <td>169.0</td>\n",
       "      <td>223.0</td>\n",
       "      <td>31.0</td>\n",
       "      <td>93.0</td>\n",
       "    </tr>\n",
       "    <tr>\n",
       "      <th>999963</th>\n",
       "      <td>115.0</td>\n",
       "      <td>157.0</td>\n",
       "      <td>110.0</td>\n",
       "      <td>64.0</td>\n",
       "      <td>71.0</td>\n",
       "    </tr>\n",
       "    <tr>\n",
       "      <th>999978</th>\n",
       "      <td>92.0</td>\n",
       "      <td>158.0</td>\n",
       "      <td>139.0</td>\n",
       "      <td>70.0</td>\n",
       "      <td>60.0</td>\n",
       "    </tr>\n",
       "    <tr>\n",
       "      <th>999983</th>\n",
       "      <td>105.0</td>\n",
       "      <td>148.0</td>\n",
       "      <td>214.0</td>\n",
       "      <td>42.0</td>\n",
       "      <td>63.0</td>\n",
       "    </tr>\n",
       "  </tbody>\n",
       "</table>\n",
       "<p>741968 rows × 5 columns</p>\n",
       "</div>"
      ],
      "text/plain": [
       "        식전혈당(공복혈당)  총콜레스테롤  트리글리세라이드  HDL콜레스테롤  LDL콜레스테롤\n",
       "0             99.0   193.0      92.0      48.0     126.0\n",
       "2             98.0   136.0     104.0      41.0      74.0\n",
       "4            101.0   199.0     104.0      61.0     117.0\n",
       "6             89.0   196.0      75.0      66.0     115.0\n",
       "7             94.0   185.0     101.0      58.0     107.0\n",
       "...            ...     ...       ...       ...       ...\n",
       "999960        82.0   178.0     125.0      48.0     105.0\n",
       "999962        90.0   169.0     223.0      31.0      93.0\n",
       "999963       115.0   157.0     110.0      64.0      71.0\n",
       "999978        92.0   158.0     139.0      70.0      60.0\n",
       "999983       105.0   148.0     214.0      42.0      63.0\n",
       "\n",
       "[741968 rows x 5 columns]"
      ]
     },
     "execution_count": 17,
     "metadata": {},
     "output_type": "execute_result"
    }
   ],
   "source": [
    "TC_low"
   ]
  },
  {
   "cell_type": "code",
   "execution_count": 18,
   "id": "endless-darwin",
   "metadata": {},
   "outputs": [
    {
     "data": {
      "text/html": [
       "<div>\n",
       "<style scoped>\n",
       "    .dataframe tbody tr th:only-of-type {\n",
       "        vertical-align: middle;\n",
       "    }\n",
       "\n",
       "    .dataframe tbody tr th {\n",
       "        vertical-align: top;\n",
       "    }\n",
       "\n",
       "    .dataframe thead th {\n",
       "        text-align: right;\n",
       "    }\n",
       "</style>\n",
       "<table border=\"1\" class=\"dataframe\">\n",
       "  <thead>\n",
       "    <tr style=\"text-align: right;\">\n",
       "      <th></th>\n",
       "      <th>식전혈당(공복혈당)</th>\n",
       "      <th>총콜레스테롤</th>\n",
       "      <th>트리글리세라이드</th>\n",
       "      <th>HDL콜레스테롤</th>\n",
       "      <th>LDL콜레스테롤</th>\n",
       "    </tr>\n",
       "  </thead>\n",
       "  <tbody>\n",
       "    <tr>\n",
       "      <th>1</th>\n",
       "      <td>106.0</td>\n",
       "      <td>228.0</td>\n",
       "      <td>121.0</td>\n",
       "      <td>55.0</td>\n",
       "      <td>148.0</td>\n",
       "    </tr>\n",
       "    <tr>\n",
       "      <th>3</th>\n",
       "      <td>95.0</td>\n",
       "      <td>201.0</td>\n",
       "      <td>106.0</td>\n",
       "      <td>76.0</td>\n",
       "      <td>104.0</td>\n",
       "    </tr>\n",
       "    <tr>\n",
       "      <th>5</th>\n",
       "      <td>99.0</td>\n",
       "      <td>218.0</td>\n",
       "      <td>232.0</td>\n",
       "      <td>77.0</td>\n",
       "      <td>95.0</td>\n",
       "    </tr>\n",
       "    <tr>\n",
       "      <th>8</th>\n",
       "      <td>104.0</td>\n",
       "      <td>217.0</td>\n",
       "      <td>100.0</td>\n",
       "      <td>56.0</td>\n",
       "      <td>141.0</td>\n",
       "    </tr>\n",
       "    <tr>\n",
       "      <th>13</th>\n",
       "      <td>82.0</td>\n",
       "      <td>200.0</td>\n",
       "      <td>77.0</td>\n",
       "      <td>55.0</td>\n",
       "      <td>129.0</td>\n",
       "    </tr>\n",
       "    <tr>\n",
       "      <th>...</th>\n",
       "      <td>...</td>\n",
       "      <td>...</td>\n",
       "      <td>...</td>\n",
       "      <td>...</td>\n",
       "      <td>...</td>\n",
       "    </tr>\n",
       "    <tr>\n",
       "      <th>999967</th>\n",
       "      <td>107.0</td>\n",
       "      <td>203.0</td>\n",
       "      <td>256.0</td>\n",
       "      <td>51.0</td>\n",
       "      <td>100.0</td>\n",
       "    </tr>\n",
       "    <tr>\n",
       "      <th>999974</th>\n",
       "      <td>86.0</td>\n",
       "      <td>217.0</td>\n",
       "      <td>111.0</td>\n",
       "      <td>52.0</td>\n",
       "      <td>143.0</td>\n",
       "    </tr>\n",
       "    <tr>\n",
       "      <th>999976</th>\n",
       "      <td>107.0</td>\n",
       "      <td>219.0</td>\n",
       "      <td>85.0</td>\n",
       "      <td>62.0</td>\n",
       "      <td>140.0</td>\n",
       "    </tr>\n",
       "    <tr>\n",
       "      <th>999981</th>\n",
       "      <td>99.0</td>\n",
       "      <td>216.0</td>\n",
       "      <td>122.0</td>\n",
       "      <td>43.0</td>\n",
       "      <td>148.0</td>\n",
       "    </tr>\n",
       "    <tr>\n",
       "      <th>999982</th>\n",
       "      <td>95.0</td>\n",
       "      <td>222.0</td>\n",
       "      <td>173.0</td>\n",
       "      <td>39.0</td>\n",
       "      <td>148.0</td>\n",
       "    </tr>\n",
       "  </tbody>\n",
       "</table>\n",
       "<p>407574 rows × 5 columns</p>\n",
       "</div>"
      ],
      "text/plain": [
       "        식전혈당(공복혈당)  총콜레스테롤  트리글리세라이드  HDL콜레스테롤  LDL콜레스테롤\n",
       "1            106.0   228.0     121.0      55.0     148.0\n",
       "3             95.0   201.0     106.0      76.0     104.0\n",
       "5             99.0   218.0     232.0      77.0      95.0\n",
       "8            104.0   217.0     100.0      56.0     141.0\n",
       "13            82.0   200.0      77.0      55.0     129.0\n",
       "...            ...     ...       ...       ...       ...\n",
       "999967       107.0   203.0     256.0      51.0     100.0\n",
       "999974        86.0   217.0     111.0      52.0     143.0\n",
       "999976       107.0   219.0      85.0      62.0     140.0\n",
       "999981        99.0   216.0     122.0      43.0     148.0\n",
       "999982        95.0   222.0     173.0      39.0     148.0\n",
       "\n",
       "[407574 rows x 5 columns]"
      ]
     },
     "execution_count": 18,
     "metadata": {},
     "output_type": "execute_result"
    }
   ],
   "source": [
    "TC"
   ]
  },
  {
   "cell_type": "code",
   "execution_count": 19,
   "id": "automated-cheese",
   "metadata": {},
   "outputs": [
    {
     "data": {
      "text/html": [
       "<div>\n",
       "<style scoped>\n",
       "    .dataframe tbody tr th:only-of-type {\n",
       "        vertical-align: middle;\n",
       "    }\n",
       "\n",
       "    .dataframe tbody tr th {\n",
       "        vertical-align: top;\n",
       "    }\n",
       "\n",
       "    .dataframe thead th {\n",
       "        text-align: right;\n",
       "    }\n",
       "</style>\n",
       "<table border=\"1\" class=\"dataframe\">\n",
       "  <thead>\n",
       "    <tr style=\"text-align: right;\">\n",
       "      <th></th>\n",
       "      <th>식전혈당(공복혈당)</th>\n",
       "      <th>총콜레스테롤</th>\n",
       "      <th>트리글리세라이드</th>\n",
       "      <th>HDL콜레스테롤</th>\n",
       "      <th>LDL콜레스테롤</th>\n",
       "    </tr>\n",
       "  </thead>\n",
       "  <tbody>\n",
       "    <tr>\n",
       "      <th>26</th>\n",
       "      <td>81.0</td>\n",
       "      <td>293.0</td>\n",
       "      <td>243.0</td>\n",
       "      <td>29.0</td>\n",
       "      <td>215.0</td>\n",
       "    </tr>\n",
       "    <tr>\n",
       "      <th>29</th>\n",
       "      <td>87.0</td>\n",
       "      <td>246.0</td>\n",
       "      <td>209.0</td>\n",
       "      <td>54.0</td>\n",
       "      <td>150.0</td>\n",
       "    </tr>\n",
       "    <tr>\n",
       "      <th>40</th>\n",
       "      <td>87.0</td>\n",
       "      <td>240.0</td>\n",
       "      <td>512.0</td>\n",
       "      <td>50.0</td>\n",
       "      <td>146.0</td>\n",
       "    </tr>\n",
       "    <tr>\n",
       "      <th>43</th>\n",
       "      <td>98.0</td>\n",
       "      <td>241.0</td>\n",
       "      <td>513.0</td>\n",
       "      <td>46.0</td>\n",
       "      <td>82.0</td>\n",
       "    </tr>\n",
       "    <tr>\n",
       "      <th>48</th>\n",
       "      <td>90.0</td>\n",
       "      <td>263.0</td>\n",
       "      <td>121.0</td>\n",
       "      <td>60.0</td>\n",
       "      <td>178.0</td>\n",
       "    </tr>\n",
       "    <tr>\n",
       "      <th>...</th>\n",
       "      <td>...</td>\n",
       "      <td>...</td>\n",
       "      <td>...</td>\n",
       "      <td>...</td>\n",
       "      <td>...</td>\n",
       "    </tr>\n",
       "    <tr>\n",
       "      <th>999933</th>\n",
       "      <td>104.0</td>\n",
       "      <td>240.0</td>\n",
       "      <td>303.0</td>\n",
       "      <td>38.0</td>\n",
       "      <td>141.0</td>\n",
       "    </tr>\n",
       "    <tr>\n",
       "      <th>999957</th>\n",
       "      <td>97.0</td>\n",
       "      <td>243.0</td>\n",
       "      <td>72.0</td>\n",
       "      <td>66.0</td>\n",
       "      <td>162.0</td>\n",
       "    </tr>\n",
       "    <tr>\n",
       "      <th>999959</th>\n",
       "      <td>108.0</td>\n",
       "      <td>266.0</td>\n",
       "      <td>125.0</td>\n",
       "      <td>60.0</td>\n",
       "      <td>181.0</td>\n",
       "    </tr>\n",
       "    <tr>\n",
       "      <th>999975</th>\n",
       "      <td>87.0</td>\n",
       "      <td>273.0</td>\n",
       "      <td>125.0</td>\n",
       "      <td>93.0</td>\n",
       "      <td>155.0</td>\n",
       "    </tr>\n",
       "    <tr>\n",
       "      <th>999979</th>\n",
       "      <td>82.0</td>\n",
       "      <td>274.0</td>\n",
       "      <td>239.0</td>\n",
       "      <td>45.0</td>\n",
       "      <td>181.0</td>\n",
       "    </tr>\n",
       "  </tbody>\n",
       "</table>\n",
       "<p>159135 rows × 5 columns</p>\n",
       "</div>"
      ],
      "text/plain": [
       "        식전혈당(공복혈당)  총콜레스테롤  트리글리세라이드  HDL콜레스테롤  LDL콜레스테롤\n",
       "26            81.0   293.0     243.0      29.0     215.0\n",
       "29            87.0   246.0     209.0      54.0     150.0\n",
       "40            87.0   240.0     512.0      50.0     146.0\n",
       "43            98.0   241.0     513.0      46.0      82.0\n",
       "48            90.0   263.0     121.0      60.0     178.0\n",
       "...            ...     ...       ...       ...       ...\n",
       "999933       104.0   240.0     303.0      38.0     141.0\n",
       "999957        97.0   243.0      72.0      66.0     162.0\n",
       "999959       108.0   266.0     125.0      60.0     181.0\n",
       "999975        87.0   273.0     125.0      93.0     155.0\n",
       "999979        82.0   274.0     239.0      45.0     181.0\n",
       "\n",
       "[159135 rows x 5 columns]"
      ]
     },
     "execution_count": 19,
     "metadata": {},
     "output_type": "execute_result"
    }
   ],
   "source": [
    "TC_high"
   ]
  },
  {
   "cell_type": "code",
   "execution_count": 20,
   "id": "fancy-glass",
   "metadata": {},
   "outputs": [
    {
     "data": {
      "text/plain": [
       "식전혈당(공복혈당)     199.0\n",
       "총콜레스테롤        2386.0\n",
       "트리글리세라이드      9490.0\n",
       "HDL콜레스테롤      8110.0\n",
       "LDL콜레스테롤      5119.0\n",
       "dtype: float64"
      ]
     },
     "execution_count": 20,
     "metadata": {},
     "output_type": "execute_result"
    }
   ],
   "source": [
    "TC_high.max()"
   ]
  },
  {
   "cell_type": "markdown",
   "id": "instructional-valentine",
   "metadata": {},
   "source": [
    "총 콜레스테롤이 높은 데이터를 찍어보니 2386으로 이상치가 들어있다.. 이건 나중에 처리하고 다시 구해야될듯"
   ]
  },
  {
   "cell_type": "code",
   "execution_count": 21,
   "id": "becoming-admission",
   "metadata": {},
   "outputs": [
    {
     "name": "stdout",
     "output_type": "stream",
     "text": [
      "TC_low 데이터 수 : 741968\n",
      "TC 데이터 수 : 407574\n",
      "TC_high 데이터 수 : 159135\n",
      "1308677\n"
     ]
    }
   ],
   "source": [
    "print(\"TC_low 데이터 수 :\",len(TC_low))\n",
    "print(\"TC 데이터 수 :\",len(TC))\n",
    "print(\"TC_high 데이터 수 :\",len(TC_high))\n",
    "print(len(TC_low)+len(TC)+len(TC_high))"
   ]
  },
  {
   "cell_type": "markdown",
   "id": "ongoing-figure",
   "metadata": {},
   "source": [
    "## 확률 구하기"
   ]
  },
  {
   "cell_type": "code",
   "execution_count": 22,
   "id": "simplified-summer",
   "metadata": {},
   "outputs": [],
   "source": [
    "TC_low = TC_low['식전혈당(공복혈당)']\n",
    "TC = TC['식전혈당(공복혈당)']\n",
    "TC_high = TC_high['식전혈당(공복혈당)']"
   ]
  },
  {
   "cell_type": "code",
   "execution_count": 23,
   "id": "contrary-analyst",
   "metadata": {},
   "outputs": [],
   "source": [
    "TC_low_diabetes_mask = TC_low >= 126\n",
    "TC_diabetes_mask = TC >= 126\n",
    "TC_high_diabetes_mask = TC_high >= 126"
   ]
  },
  {
   "cell_type": "code",
   "execution_count": 24,
   "id": "plastic-understanding",
   "metadata": {},
   "outputs": [
    {
     "data": {
      "text/plain": [
       "0         False\n",
       "2         False\n",
       "4         False\n",
       "6         False\n",
       "7         False\n",
       "          ...  \n",
       "999960    False\n",
       "999962    False\n",
       "999963    False\n",
       "999978    False\n",
       "999983    False\n",
       "Name: 식전혈당(공복혈당), Length: 741968, dtype: bool"
      ]
     },
     "execution_count": 24,
     "metadata": {},
     "output_type": "execute_result"
    }
   ],
   "source": [
    "TC_low_diabetes_mask"
   ]
  },
  {
   "cell_type": "code",
   "execution_count": 26,
   "id": "industrial-footage",
   "metadata": {},
   "outputs": [
    {
     "name": "stdout",
     "output_type": "stream",
     "text": [
      "TC_low 당뇨병 사람 수 : 58504   정상 수: 683464\n",
      "TC 당뇨병 사람 수 : 21909   정상 수: 385665\n",
      "TC_high 당뇨병 사람 수 : 10850   정상 수: 148285\n"
     ]
    }
   ],
   "source": [
    "print('TC_low 당뇨병 사람 수 :',TC_low_diabetes_mask.sum() , \"  정상 수:\", len(TC_low_diabetes_mask)-TC_low_diabetes_mask.sum())\n",
    "print('TC 당뇨병 사람 수 :',TC_diabetes_mask.sum(), \"  정상 수:\",len(TC_diabetes_mask)-TC_diabetes_mask.sum())\n",
    "print('TC_high 당뇨병 사람 수 :',TC_high_diabetes_mask.sum(), \"  정상 수:\",len(TC_high_diabetes_mask)-TC_high_diabetes_mask.sum())"
   ]
  },
  {
   "cell_type": "code",
   "execution_count": 27,
   "id": "german-pizza",
   "metadata": {},
   "outputs": [
    {
     "name": "stdout",
     "output_type": "stream",
     "text": [
      "Px : [0.07884976171479094, 0.053754655596284354, 0.06818110409400824] \n",
      "Py : [0.921150238285209, 0.9462453444037157, 0.9318188959059918]\n"
     ]
    }
   ],
   "source": [
    "Px = [58504/741968, 21909/407574, 10850/159135] ; Py = [683464/741968, 385665/407574, 148285/159135]\n",
    "print(\"Px :\",Px, \"\\nPy :\",Py)"
   ]
  },
  {
   "cell_type": "markdown",
   "id": "republican-franklin",
   "metadata": {},
   "source": [
    "## 엔트로피 구하기"
   ]
  },
  {
   "cell_type": "code",
   "execution_count": 28,
   "id": "future-creature",
   "metadata": {},
   "outputs": [
    {
     "name": "stdout",
     "output_type": "stream",
     "text": [
      "[0.07884976 0.92115024]\n",
      "0.39811323009720984\n",
      "[0.05375466 0.94624534]\n",
      "0.3021372683238905\n",
      "[0.0681811 0.9318189]\n",
      "0.3590989316825833\n"
     ]
    },
    {
     "data": {
      "text/plain": [
       "[0.39811323009720984, 0.3021372683238905, 0.3590989316825833]"
      ]
     },
     "execution_count": 28,
     "metadata": {},
     "output_type": "execute_result"
    }
   ],
   "source": [
    "TC_entropy = []\n",
    "for x,y in zip(Px,Py):\n",
    "    P = np.array([x,y])\n",
    "    print(P)\n",
    "    print(H(P))\n",
    "    TC_entropy.append(H(P))\n",
    "TC_entropy"
   ]
  },
  {
   "cell_type": "code",
   "execution_count": 29,
   "id": "joined-nebraska",
   "metadata": {},
   "outputs": [
    {
     "name": "stdout",
     "output_type": "stream",
     "text": [
      "TC_low 엔트로피 : 0.39811323009720984\n",
      "TC 엔트로피 : 0.3021372683238905\n",
      "TC_high 엔트로피 : 0.3590989316825833\n"
     ]
    }
   ],
   "source": [
    "print(\"TC_low 엔트로피 :\",TC_entropy[0])\n",
    "print(\"TC 엔트로피 :\",TC_entropy[1])\n",
    "print(\"TC_high 엔트로피 :\",TC_entropy[2])"
   ]
  },
  {
   "cell_type": "markdown",
   "id": "urban-encoding",
   "metadata": {},
   "source": [
    "## 정보증가량 구하기"
   ]
  },
  {
   "cell_type": "markdown",
   "id": "equipped-revelation",
   "metadata": {},
   "source": [
    "**부모 엔트로피 - 각각 자식(자식 엔트로피가 될 확률*자식 엔트로피)의 합**"
   ]
  },
  {
   "cell_type": "markdown",
   "id": "future-level",
   "metadata": {},
   "source": [
    "부모 엔트로피 : parent   \n",
    "TC_low 확률 : 741968/1308677   \n",
    "TC 확률 : 407574/1308677   \n",
    "TC_high 확률 : 159135/1308677"
   ]
  },
  {
   "cell_type": "code",
   "execution_count": 30,
   "id": "expanded-germany",
   "metadata": {},
   "outputs": [
    {
     "data": {
      "text/plain": [
       "array([0.56696037, 0.31143972, 0.12159991])"
      ]
     },
     "execution_count": 30,
     "metadata": {},
     "output_type": "execute_result"
    }
   ],
   "source": [
    "TC_Px = np.array([741968/1308677 , 407574/1308677,  159135/1308677])\n",
    "TC_Px"
   ]
  },
  {
   "cell_type": "code",
   "execution_count": 31,
   "id": "swiss-weekend",
   "metadata": {},
   "outputs": [
    {
     "name": "stdout",
     "output_type": "stream",
     "text": [
      "총콜레스테롤 IG : 0.001462456933508549\n"
     ]
    }
   ],
   "source": [
    "TC_IG = parent - sum(TC_Px * TC_entropy)\n",
    "print(\"총콜레스테롤 IG :\",TC_IG)"
   ]
  },
  {
   "cell_type": "markdown",
   "id": "genetic-credits",
   "metadata": {},
   "source": [
    "정보 증가량이 매우 낮게 나왔다."
   ]
  },
  {
   "cell_type": "markdown",
   "id": "increased-conclusion",
   "metadata": {},
   "source": [
    "# 트리글리세라이드 엔트로피"
   ]
  },
  {
   "cell_type": "markdown",
   "id": "dress-player",
   "metadata": {},
   "source": [
    "150 미만이면 정상, 150~199면 주의, 200 이상이면 치료가 필요한 수준"
   ]
  },
  {
   "cell_type": "code",
   "execution_count": 32,
   "id": "increasing-uncertainty",
   "metadata": {},
   "outputs": [],
   "source": [
    "TG_low = data[data['트리글리세라이드'] < 150]\n",
    "TG = data[(data['트리글리세라이드'] >= 150) & (data['트리글리세라이드'] < 200) ]\n",
    "TG_high = data[data['트리글리세라이드']>= 200]"
   ]
  },
  {
   "cell_type": "code",
   "execution_count": 33,
   "id": "functional-segment",
   "metadata": {},
   "outputs": [
    {
     "data": {
      "text/html": [
       "<div>\n",
       "<style scoped>\n",
       "    .dataframe tbody tr th:only-of-type {\n",
       "        vertical-align: middle;\n",
       "    }\n",
       "\n",
       "    .dataframe tbody tr th {\n",
       "        vertical-align: top;\n",
       "    }\n",
       "\n",
       "    .dataframe thead th {\n",
       "        text-align: right;\n",
       "    }\n",
       "</style>\n",
       "<table border=\"1\" class=\"dataframe\">\n",
       "  <thead>\n",
       "    <tr style=\"text-align: right;\">\n",
       "      <th></th>\n",
       "      <th>식전혈당(공복혈당)</th>\n",
       "      <th>총콜레스테롤</th>\n",
       "      <th>트리글리세라이드</th>\n",
       "      <th>HDL콜레스테롤</th>\n",
       "      <th>LDL콜레스테롤</th>\n",
       "    </tr>\n",
       "  </thead>\n",
       "  <tbody>\n",
       "    <tr>\n",
       "      <th>0</th>\n",
       "      <td>99.0</td>\n",
       "      <td>193.0</td>\n",
       "      <td>92.0</td>\n",
       "      <td>48.0</td>\n",
       "      <td>126.0</td>\n",
       "    </tr>\n",
       "    <tr>\n",
       "      <th>1</th>\n",
       "      <td>106.0</td>\n",
       "      <td>228.0</td>\n",
       "      <td>121.0</td>\n",
       "      <td>55.0</td>\n",
       "      <td>148.0</td>\n",
       "    </tr>\n",
       "    <tr>\n",
       "      <th>2</th>\n",
       "      <td>98.0</td>\n",
       "      <td>136.0</td>\n",
       "      <td>104.0</td>\n",
       "      <td>41.0</td>\n",
       "      <td>74.0</td>\n",
       "    </tr>\n",
       "    <tr>\n",
       "      <th>3</th>\n",
       "      <td>95.0</td>\n",
       "      <td>201.0</td>\n",
       "      <td>106.0</td>\n",
       "      <td>76.0</td>\n",
       "      <td>104.0</td>\n",
       "    </tr>\n",
       "    <tr>\n",
       "      <th>4</th>\n",
       "      <td>101.0</td>\n",
       "      <td>199.0</td>\n",
       "      <td>104.0</td>\n",
       "      <td>61.0</td>\n",
       "      <td>117.0</td>\n",
       "    </tr>\n",
       "    <tr>\n",
       "      <th>...</th>\n",
       "      <td>...</td>\n",
       "      <td>...</td>\n",
       "      <td>...</td>\n",
       "      <td>...</td>\n",
       "      <td>...</td>\n",
       "    </tr>\n",
       "    <tr>\n",
       "      <th>999974</th>\n",
       "      <td>86.0</td>\n",
       "      <td>217.0</td>\n",
       "      <td>111.0</td>\n",
       "      <td>52.0</td>\n",
       "      <td>143.0</td>\n",
       "    </tr>\n",
       "    <tr>\n",
       "      <th>999975</th>\n",
       "      <td>87.0</td>\n",
       "      <td>273.0</td>\n",
       "      <td>125.0</td>\n",
       "      <td>93.0</td>\n",
       "      <td>155.0</td>\n",
       "    </tr>\n",
       "    <tr>\n",
       "      <th>999976</th>\n",
       "      <td>107.0</td>\n",
       "      <td>219.0</td>\n",
       "      <td>85.0</td>\n",
       "      <td>62.0</td>\n",
       "      <td>140.0</td>\n",
       "    </tr>\n",
       "    <tr>\n",
       "      <th>999978</th>\n",
       "      <td>92.0</td>\n",
       "      <td>158.0</td>\n",
       "      <td>139.0</td>\n",
       "      <td>70.0</td>\n",
       "      <td>60.0</td>\n",
       "    </tr>\n",
       "    <tr>\n",
       "      <th>999981</th>\n",
       "      <td>99.0</td>\n",
       "      <td>216.0</td>\n",
       "      <td>122.0</td>\n",
       "      <td>43.0</td>\n",
       "      <td>148.0</td>\n",
       "    </tr>\n",
       "  </tbody>\n",
       "</table>\n",
       "<p>942937 rows × 5 columns</p>\n",
       "</div>"
      ],
      "text/plain": [
       "        식전혈당(공복혈당)  총콜레스테롤  트리글리세라이드  HDL콜레스테롤  LDL콜레스테롤\n",
       "0             99.0   193.0      92.0      48.0     126.0\n",
       "1            106.0   228.0     121.0      55.0     148.0\n",
       "2             98.0   136.0     104.0      41.0      74.0\n",
       "3             95.0   201.0     106.0      76.0     104.0\n",
       "4            101.0   199.0     104.0      61.0     117.0\n",
       "...            ...     ...       ...       ...       ...\n",
       "999974        86.0   217.0     111.0      52.0     143.0\n",
       "999975        87.0   273.0     125.0      93.0     155.0\n",
       "999976       107.0   219.0      85.0      62.0     140.0\n",
       "999978        92.0   158.0     139.0      70.0      60.0\n",
       "999981        99.0   216.0     122.0      43.0     148.0\n",
       "\n",
       "[942937 rows x 5 columns]"
      ]
     },
     "execution_count": 33,
     "metadata": {},
     "output_type": "execute_result"
    }
   ],
   "source": [
    "TG_low"
   ]
  },
  {
   "cell_type": "code",
   "execution_count": 34,
   "id": "disciplinary-municipality",
   "metadata": {},
   "outputs": [
    {
     "data": {
      "text/plain": [
       "식전혈당(공복혈당)     199.0\n",
       "총콜레스테롤        2386.0\n",
       "트리글리세라이드      9490.0\n",
       "HDL콜레스테롤      8110.0\n",
       "LDL콜레스테롤      5119.0\n",
       "dtype: float64"
      ]
     },
     "execution_count": 34,
     "metadata": {},
     "output_type": "execute_result"
    }
   ],
   "source": [
    "TG_high.max()"
   ]
  },
  {
   "cell_type": "markdown",
   "id": "public-knock",
   "metadata": {},
   "source": [
    "역시나 제일 높은 수가 비정상적으로 나왔다."
   ]
  },
  {
   "cell_type": "code",
   "execution_count": 36,
   "id": "bearing-personal",
   "metadata": {},
   "outputs": [],
   "source": [
    "TG_low = TG_low['식전혈당(공복혈당)']\n",
    "TG = TG['식전혈당(공복혈당)']\n",
    "TG_high = TG_high['식전혈당(공복혈당)']"
   ]
  },
  {
   "cell_type": "code",
   "execution_count": 37,
   "id": "closed-investor",
   "metadata": {},
   "outputs": [
    {
     "name": "stdout",
     "output_type": "stream",
     "text": [
      "TG_low 데이터 수 : 942937\n",
      "TG 데이터 수 : 178141\n",
      "TG_high 데이터 수 : 187599\n",
      "1308677\n"
     ]
    }
   ],
   "source": [
    "print(\"TG_low 데이터 수 :\",len(TG_low))\n",
    "print(\"TG 데이터 수 :\",len(TG))\n",
    "print(\"TG_high 데이터 수 :\",len(TG_high))\n",
    "print(len(TG_low)+len(TG)+len(TG_high))"
   ]
  },
  {
   "cell_type": "code",
   "execution_count": 38,
   "id": "necessary-bouquet",
   "metadata": {},
   "outputs": [],
   "source": [
    "TG_low_diabetes_mask = TG_low >= 126\n",
    "TG_diabetes_mask = TG >= 126\n",
    "TG_high_diabetes_mask = TG_high >= 126"
   ]
  },
  {
   "cell_type": "code",
   "execution_count": 39,
   "id": "flush-density",
   "metadata": {},
   "outputs": [
    {
     "name": "stdout",
     "output_type": "stream",
     "text": [
      "TG_low 당뇨병 사람 수 : 50727   정상 수: 892210\n",
      "TG 당뇨병 사람 수 : 17054   정상 수: 161087\n",
      "TG_high 당뇨병 사람 수 : 23482   정상 수: 164117\n"
     ]
    }
   ],
   "source": [
    "print('TG_low 당뇨병 사람 수 :',TG_low_diabetes_mask.sum() , \"  정상 수:\", len(TG_low_diabetes_mask)-TG_low_diabetes_mask.sum())\n",
    "print('TG 당뇨병 사람 수 :',TG_diabetes_mask.sum(), \"  정상 수:\",len(TG_diabetes_mask)-TG_diabetes_mask.sum())\n",
    "print('TG_high 당뇨병 사람 수 :',TG_high_diabetes_mask.sum(), \"  정상 수:\",len(TG_high_diabetes_mask)-TG_high_diabetes_mask.sum())\n"
   ]
  },
  {
   "cell_type": "code",
   "execution_count": 40,
   "id": "mighty-glance",
   "metadata": {},
   "outputs": [
    {
     "name": "stdout",
     "output_type": "stream",
     "text": [
      "Px : [0.05379680720981359, 0.09573315519728755, 0.12517124291707313] \n",
      "Py : [0.9462031927901864, 0.9042668448027125, 0.8748287570829268]\n"
     ]
    }
   ],
   "source": [
    "Px = [50727/942937, 17054/178141, 23482/187599] ; Py = [892210/942937, 161087/178141, 164117/187599]\n",
    "print(\"Px :\",Px, \"\\nPy :\",Py)"
   ]
  },
  {
   "cell_type": "markdown",
   "id": "ranking-maker",
   "metadata": {},
   "source": [
    "## 엔트로피 구하기"
   ]
  },
  {
   "cell_type": "code",
   "execution_count": 41,
   "id": "activated-crossing",
   "metadata": {},
   "outputs": [
    {
     "name": "stdout",
     "output_type": "stream",
     "text": [
      "[0.05379681 0.94620319]\n",
      "0.30231165608480187\n",
      "[0.09573316 0.90426684]\n",
      "0.45532220951561375\n",
      "[0.12517124 0.87482876]\n",
      "0.5440449895234732\n"
     ]
    },
    {
     "data": {
      "text/plain": [
       "[0.30231165608480187, 0.45532220951561375, 0.5440449895234732]"
      ]
     },
     "execution_count": 41,
     "metadata": {},
     "output_type": "execute_result"
    }
   ],
   "source": [
    "TG_entropy = []\n",
    "for x,y in zip(Px,Py):\n",
    "    P = np.array([x,y])\n",
    "    print(P)\n",
    "    print(H(P))\n",
    "    TG_entropy.append(H(P))\n",
    "TG_entropy"
   ]
  },
  {
   "cell_type": "code",
   "execution_count": 42,
   "id": "elementary-energy",
   "metadata": {},
   "outputs": [
    {
     "name": "stdout",
     "output_type": "stream",
     "text": [
      "TG_low 엔트로피 : 0.30231165608480187\n",
      "TG 엔트로피 : 0.45532220951561375\n",
      "TG_high 엔트로피 : 0.5440449895234732\n"
     ]
    }
   ],
   "source": [
    "print(\"TG_low 엔트로피 :\",TG_entropy[0])\n",
    "print(\"TG 엔트로피 :\",TG_entropy[1])\n",
    "print(\"TG_high 엔트로피 :\",TG_entropy[2])"
   ]
  },
  {
   "cell_type": "markdown",
   "id": "stone-border",
   "metadata": {},
   "source": [
    "## 정보증가량 구하기"
   ]
  },
  {
   "cell_type": "markdown",
   "id": "decent-drunk",
   "metadata": {},
   "source": [
    "부모 엔트로피 : parent\n",
    "TG_low 확률 : 942937/1308677   \n",
    "TG 확률 : 178141/1308677   \n",
    "TG_high 확률 : 187599/1308677 "
   ]
  },
  {
   "cell_type": "code",
   "execution_count": 44,
   "id": "seasonal-layout",
   "metadata": {},
   "outputs": [
    {
     "data": {
      "text/plain": [
       "array([0.72052691, 0.13612297, 0.14335012])"
      ]
     },
     "execution_count": 44,
     "metadata": {},
     "output_type": "execute_result"
    }
   ],
   "source": [
    "TG_Px = np.array([942937/1308677, 178141/1308677,  187599/1308677])\n",
    "TG_Px"
   ]
  },
  {
   "cell_type": "code",
   "execution_count": 45,
   "id": "corporate-joyce",
   "metadata": {},
   "outputs": [
    {
     "name": "stdout",
     "output_type": "stream",
     "text": [
      "트리글리세라이드 IG : 0.007148416748914532\n"
     ]
    }
   ],
   "source": [
    "TG_IG = parent - sum(TG_Px * TG_entropy)\n",
    "print(\"트리글리세라이드 IG :\",TG_IG)\n"
   ]
  },
  {
   "cell_type": "markdown",
   "id": "combined-hierarchy",
   "metadata": {},
   "source": [
    "엄청 낮게 나왔다.."
   ]
  },
  {
   "cell_type": "markdown",
   "id": "divine-thompson",
   "metadata": {},
   "source": [
    "# HDL콜레스테롤"
   ]
  },
  {
   "cell_type": "markdown",
   "id": "cardiac-baptist",
   "metadata": {},
   "source": [
    "60이상이 양호한 것이고 40 이하는 나쁨수준이다."
   ]
  },
  {
   "cell_type": "code",
   "execution_count": 47,
   "id": "fantastic-august",
   "metadata": {},
   "outputs": [],
   "source": [
    "HC_low = data[data['HDL콜레스테롤'] < 40]\n",
    "HC = data[(data['HDL콜레스테롤'] >= 40) & (data['HDL콜레스테롤'] < 60) ]\n",
    "HC_high = data[data['HDL콜레스테롤']>= 60]"
   ]
  },
  {
   "cell_type": "code",
   "execution_count": 48,
   "id": "dried-wallace",
   "metadata": {},
   "outputs": [
    {
     "data": {
      "text/plain": [
       "식전혈당(공복혈당)     199.0\n",
       "총콜레스테롤        2033.0\n",
       "트리글리세라이드      9490.0\n",
       "HDL콜레스테롤      8110.0\n",
       "LDL콜레스테롤      5119.0\n",
       "dtype: float64"
      ]
     },
     "execution_count": 48,
     "metadata": {},
     "output_type": "execute_result"
    }
   ],
   "source": [
    "HC_high.max()"
   ]
  },
  {
   "cell_type": "markdown",
   "id": "accepted-beauty",
   "metadata": {},
   "source": [
    "역시나 최대값에 문제가 있다."
   ]
  },
  {
   "cell_type": "code",
   "execution_count": 49,
   "id": "intelligent-might",
   "metadata": {},
   "outputs": [],
   "source": [
    "HC_low = HC_low['식전혈당(공복혈당)']\n",
    "HC = HC['식전혈당(공복혈당)']\n",
    "HC_high = HC_high['식전혈당(공복혈당)']"
   ]
  },
  {
   "cell_type": "code",
   "execution_count": 50,
   "id": "double-thomas",
   "metadata": {},
   "outputs": [
    {
     "name": "stdout",
     "output_type": "stream",
     "text": [
      "HC_low 데이터 수 : 125578\n",
      "HC 데이터 수 : 683328\n",
      "HC_high 데이터 수 : 499771\n",
      "1308677\n"
     ]
    }
   ],
   "source": [
    "print(\"HC_low 데이터 수 :\",len(HC_low))\n",
    "print(\"HC 데이터 수 :\",len(HC))\n",
    "print(\"HC_high 데이터 수 :\",len(HC_high))\n",
    "print(len(HC_low)+len(HC)+len(HC_high))"
   ]
  },
  {
   "cell_type": "code",
   "execution_count": 51,
   "id": "aquatic-firewall",
   "metadata": {},
   "outputs": [],
   "source": [
    "HC_low_diabetes_mask = HC_low >= 126\n",
    "HC_diabetes_mask = HC >= 126\n",
    "HC_high_diabetes_mask = HC_high >= 126"
   ]
  },
  {
   "cell_type": "code",
   "execution_count": 52,
   "id": "speaking-verification",
   "metadata": {},
   "outputs": [
    {
     "data": {
      "text/plain": [
       "11         True\n",
       "22        False\n",
       "25        False\n",
       "26        False\n",
       "76         True\n",
       "          ...  \n",
       "999888    False\n",
       "999897    False\n",
       "999933    False\n",
       "999962    False\n",
       "999982    False\n",
       "Name: 식전혈당(공복혈당), Length: 125578, dtype: bool"
      ]
     },
     "execution_count": 52,
     "metadata": {},
     "output_type": "execute_result"
    }
   ],
   "source": [
    "HC_low_diabetes_mask"
   ]
  },
  {
   "cell_type": "code",
   "execution_count": 53,
   "id": "timely-green",
   "metadata": {},
   "outputs": [
    {
     "name": "stdout",
     "output_type": "stream",
     "text": [
      "HC_low 당뇨병 사람 수 : 15066   정상 수: 110512\n",
      "HC 당뇨병 사람 수 : 53928   정상 수: 629400\n",
      "HC_high 당뇨병 사람 수 : 22269   정상 수: 477502\n"
     ]
    }
   ],
   "source": [
    "print('HC_low 당뇨병 사람 수 :',HC_low_diabetes_mask.sum() , \"  정상 수:\", len(HC_low_diabetes_mask)-HC_low_diabetes_mask.sum())\n",
    "print('HC 당뇨병 사람 수 :',HC_diabetes_mask.sum(), \"  정상 수:\",len(HC_diabetes_mask)-HC_diabetes_mask.sum())\n",
    "print('HC_high 당뇨병 사람 수 :',HC_high_diabetes_mask.sum(), \"  정상 수:\",len(HC_high_diabetes_mask)-HC_high_diabetes_mask.sum())\n"
   ]
  },
  {
   "cell_type": "code",
   "execution_count": 54,
   "id": "bottom-backing",
   "metadata": {},
   "outputs": [
    {
     "name": "stdout",
     "output_type": "stream",
     "text": [
      "Px : [0.11997324372103393, 0.07891964034841248, 0.044558407750749845] \n",
      "Py : [0.8800267562789661, 0.9210803596515875, 0.9554415922492502]\n"
     ]
    }
   ],
   "source": [
    "Px = [15066/125578, 53928/683328, 22269/499771] ; Py = [110512/125578, 629400/683328, 477502/499771]\n",
    "print(\"Px :\",Px, \"\\nPy :\",Py)"
   ]
  },
  {
   "cell_type": "markdown",
   "id": "velvet-discussion",
   "metadata": {},
   "source": [
    "## 엔트로피 구하기"
   ]
  },
  {
   "cell_type": "code",
   "execution_count": 55,
   "id": "generous-florence",
   "metadata": {},
   "outputs": [
    {
     "name": "stdout",
     "output_type": "stream",
     "text": [
      "[0.11997324 0.88002676]\n",
      "0.529283950299191\n",
      "[0.07891964 0.92108036]\n",
      "0.39836098929054375\n",
      "[0.04455841 0.95544159]\n",
      "0.2628154309621035\n"
     ]
    },
    {
     "data": {
      "text/plain": [
       "[0.529283950299191, 0.39836098929054375, 0.2628154309621035]"
      ]
     },
     "execution_count": 55,
     "metadata": {},
     "output_type": "execute_result"
    }
   ],
   "source": [
    "HC_entropy = []\n",
    "for x,y in zip(Px,Py):\n",
    "    P = np.array([x,y])\n",
    "    print(P)\n",
    "    print(H(P))\n",
    "    HC_entropy.append(H(P))\n",
    "HC_entropy"
   ]
  },
  {
   "cell_type": "code",
   "execution_count": 56,
   "id": "polar-burlington",
   "metadata": {},
   "outputs": [
    {
     "name": "stdout",
     "output_type": "stream",
     "text": [
      "HC_low 엔트로피 : 0.529283950299191\n",
      "HC 엔트로피 : 0.39836098929054375\n",
      "HC_high 엔트로피 : 0.2628154309621035\n"
     ]
    }
   ],
   "source": [
    "\n",
    "print(\"HC_low 엔트로피 :\",HC_entropy[0])\n",
    "print(\"HC 엔트로피 :\",HC_entropy[1])\n",
    "print(\"HC_high 엔트로피 :\",HC_entropy[2])"
   ]
  },
  {
   "cell_type": "markdown",
   "id": "specified-intervention",
   "metadata": {},
   "source": [
    "## 정보 증가량 구하기"
   ]
  },
  {
   "cell_type": "markdown",
   "id": "appreciated-excerpt",
   "metadata": {},
   "source": [
    "부모 엔트로피 : parent    \n",
    "HC_low 확률 : 125578/1308677   \n",
    "HC 확률 : 683328/1308677   \n",
    "HC_high 확률 : 499771/1308677 "
   ]
  },
  {
   "cell_type": "code",
   "execution_count": 57,
   "id": "palestinian-quantity",
   "metadata": {},
   "outputs": [
    {
     "data": {
      "text/plain": [
       "array([0.09595798, 0.52215176, 0.38189026])"
      ]
     },
     "execution_count": 57,
     "metadata": {},
     "output_type": "execute_result"
    }
   ],
   "source": [
    "HC_Px = np.array([125578/1308677, 683328/1308677,  499771/1308677])\n",
    "HC_Px"
   ]
  },
  {
   "cell_type": "code",
   "execution_count": 58,
   "id": "numerous-portuguese",
   "metadata": {},
   "outputs": [
    {
     "name": "stdout",
     "output_type": "stream",
     "text": [
      "HDL콜레스테롤 IG : 0.005780261750093496\n"
     ]
    }
   ],
   "source": [
    "\n",
    "HC_IG = parent - sum(HC_Px * HC_entropy)\n",
    "print(\"HDL콜레스테롤 IG :\",HC_IG)"
   ]
  },
  {
   "cell_type": "markdown",
   "id": "answering-spirituality",
   "metadata": {},
   "source": [
    "잘못 구하고 있는건가..?\n"
   ]
  },
  {
   "cell_type": "markdown",
   "id": "willing-simple",
   "metadata": {},
   "source": [
    "# LDL 콜레스테롤"
   ]
  },
  {
   "cell_type": "markdown",
   "id": "tested-attraction",
   "metadata": {},
   "source": [
    "당뇨병이 있으면 100미만, 아니면 130미만이 정상이고 160이상이면 높은것"
   ]
  },
  {
   "cell_type": "code",
   "execution_count": 59,
   "id": "ignored-kenya",
   "metadata": {},
   "outputs": [],
   "source": [
    "LC_low = data[data['LDL콜레스테롤'] < 130]\n",
    "LC = data[(data['LDL콜레스테롤'] >= 130) & (data['LDL콜레스테롤'] < 160) ]\n",
    "LC_high = data[data['LDL콜레스테롤']>= 160]"
   ]
  },
  {
   "cell_type": "code",
   "execution_count": 60,
   "id": "arctic-spray",
   "metadata": {},
   "outputs": [
    {
     "data": {
      "text/plain": [
       "식전혈당(공복혈당)     199.0\n",
       "총콜레스테롤        2386.0\n",
       "트리글리세라이드      9490.0\n",
       "HDL콜레스테롤      8110.0\n",
       "LDL콜레스테롤      5119.0\n",
       "dtype: float64"
      ]
     },
     "execution_count": 60,
     "metadata": {},
     "output_type": "execute_result"
    }
   ],
   "source": [
    "LC_high.max()"
   ]
  },
  {
   "cell_type": "markdown",
   "id": "composite-heaven",
   "metadata": {},
   "source": [
    "역시나 비정상이다."
   ]
  },
  {
   "cell_type": "code",
   "execution_count": 62,
   "id": "marked-antarctica",
   "metadata": {},
   "outputs": [],
   "source": [
    "LC_low = LC_low['식전혈당(공복혈당)']\n",
    "LC = LC['식전혈당(공복혈당)']\n",
    "LC_high = LC_high['식전혈당(공복혈당)']"
   ]
  },
  {
   "cell_type": "code",
   "execution_count": 63,
   "id": "split-square",
   "metadata": {},
   "outputs": [
    {
     "name": "stdout",
     "output_type": "stream",
     "text": [
      "LC_low 데이터 수 : 915688\n",
      "LC 데이터 수 : 271543\n",
      "LC_high 데이터 수 : 121446\n",
      "1308677\n"
     ]
    }
   ],
   "source": [
    "print(\"LC_low 데이터 수 :\",len(LC_low))\n",
    "print(\"LC 데이터 수 :\",len(LC))\n",
    "print(\"LC_high 데이터 수 :\",len(LC_high))\n",
    "print(len(LC_low)+len(LC)+len(LC_high))"
   ]
  },
  {
   "cell_type": "code",
   "execution_count": 64,
   "id": "overall-budget",
   "metadata": {},
   "outputs": [],
   "source": [
    "LC_low_diabetes_mask = LC_low >= 126\n",
    "LC_diabetes_mask = LC >= 126\n",
    "LC_high_diabetes_mask = LC_high >= 126"
   ]
  },
  {
   "cell_type": "code",
   "execution_count": 65,
   "id": "liberal-morrison",
   "metadata": {},
   "outputs": [
    {
     "data": {
      "text/plain": [
       "0         False\n",
       "2         False\n",
       "3         False\n",
       "4         False\n",
       "5         False\n",
       "          ...  \n",
       "999962    False\n",
       "999963    False\n",
       "999967    False\n",
       "999978    False\n",
       "999983    False\n",
       "Name: 식전혈당(공복혈당), Length: 915688, dtype: bool"
      ]
     },
     "execution_count": 65,
     "metadata": {},
     "output_type": "execute_result"
    }
   ],
   "source": [
    "LC_low_diabetes_mask"
   ]
  },
  {
   "cell_type": "code",
   "execution_count": 66,
   "id": "first-transparency",
   "metadata": {},
   "outputs": [
    {
     "name": "stdout",
     "output_type": "stream",
     "text": [
      "LC_low 당뇨병 사람 수 : 69910   정상 수: 845778\n",
      "LC 당뇨병 사람 수 : 14040   정상 수: 257503\n",
      "LC_high 당뇨병 사람 수 : 7313   정상 수: 114133\n"
     ]
    }
   ],
   "source": [
    "print('LC_low 당뇨병 사람 수 :',LC_low_diabetes_mask.sum() , \"  정상 수:\", len(LC_low_diabetes_mask)-LC_low_diabetes_mask.sum())\n",
    "print('LC 당뇨병 사람 수 :',LC_diabetes_mask.sum(), \"  정상 수:\",len(LC_diabetes_mask)-LC_diabetes_mask.sum())\n",
    "print('LC_high 당뇨병 사람 수 :',LC_high_diabetes_mask.sum(), \"  정상 수:\",len(LC_high_diabetes_mask)-LC_high_diabetes_mask.sum())\n"
   ]
  },
  {
   "cell_type": "code",
   "execution_count": 67,
   "id": "certified-figure",
   "metadata": {},
   "outputs": [
    {
     "name": "stdout",
     "output_type": "stream",
     "text": [
      "Px : [0.07634696534190685, 0.051704518253094356, 0.06021606310623652] \n",
      "Py : [0.9236530346580931, 0.9482954817469057, 0.9397839368937635]\n"
     ]
    }
   ],
   "source": [
    "Px = [69910/915688, 14040/271543, 7313/121446] ; Py = [845778/915688, 257503/271543, 114133/121446]\n",
    "print(\"Px :\",Px, \"\\nPy :\",Py)"
   ]
  },
  {
   "cell_type": "markdown",
   "id": "prepared-stack",
   "metadata": {},
   "source": [
    "## 엔트로피 구하기"
   ]
  },
  {
   "cell_type": "code",
   "execution_count": 69,
   "id": "infrared-seeker",
   "metadata": {},
   "outputs": [
    {
     "name": "stdout",
     "output_type": "stream",
     "text": [
      "[0.07634697 0.92365303]\n",
      "0.3891748456581644\n",
      "[0.05170452 0.94829548]\n",
      "0.293593972227775\n",
      "[0.06021606 0.93978394]\n",
      "0.3283020125522487\n"
     ]
    },
    {
     "data": {
      "text/plain": [
       "[0.3891748456581644, 0.293593972227775, 0.3283020125522487]"
      ]
     },
     "execution_count": 69,
     "metadata": {},
     "output_type": "execute_result"
    }
   ],
   "source": [
    "LC_entropy = []\n",
    "for x,y in zip(Px,Py):\n",
    "    P = np.array([x,y])\n",
    "    print(P)\n",
    "    print(H(P))\n",
    "    LC_entropy.append(H(P))\n",
    "LC_entropy"
   ]
  },
  {
   "cell_type": "code",
   "execution_count": 70,
   "id": "cloudy-charter",
   "metadata": {},
   "outputs": [
    {
     "name": "stdout",
     "output_type": "stream",
     "text": [
      "LC_low 엔트로피 : 0.529283950299191\n",
      "LC 엔트로피 : 0.39836098929054375\n",
      "LC_high 엔트로피 : 0.2628154309621035\n"
     ]
    }
   ],
   "source": [
    "print(\"LC_low 엔트로피 :\",HC_entropy[0])\n",
    "print(\"LC 엔트로피 :\",HC_entropy[1])\n",
    "print(\"LC_high 엔트로피 :\",HC_entropy[2])\n"
   ]
  },
  {
   "cell_type": "markdown",
   "id": "aware-assumption",
   "metadata": {},
   "source": [
    "## 정보증가량 구하기"
   ]
  },
  {
   "cell_type": "markdown",
   "id": "bulgarian-primary",
   "metadata": {},
   "source": [
    "\n",
    "부모 엔트로피 : parent    \n",
    "LC_low 확률 : 915688/1308677   \n",
    "LC 확률 : 271543/1308677   \n",
    "LC_high 확률 : 121446/1308677  "
   ]
  },
  {
   "cell_type": "code",
   "execution_count": 72,
   "id": "great-drunk",
   "metadata": {},
   "outputs": [
    {
     "data": {
      "text/plain": [
       "array([0.69970512, 0.20749429, 0.09280059])"
      ]
     },
     "execution_count": 72,
     "metadata": {},
     "output_type": "execute_result"
    }
   ],
   "source": [
    "LC_Px = np.array([915688/1308677, 271543/1308677,  121446/1308677])\n",
    "LC_Px"
   ]
  },
  {
   "cell_type": "code",
   "execution_count": 73,
   "id": "breathing-coupon",
   "metadata": {},
   "outputs": [
    {
     "name": "stdout",
     "output_type": "stream",
     "text": [
      "LDL콜레스테롤 IG : 0.0012474996245741\n"
     ]
    }
   ],
   "source": [
    "LC_IG = parent - sum(LC_Px * LC_entropy)\n",
    "print(\"LDL콜레스테롤 IG :\",LC_IG)"
   ]
  },
  {
   "cell_type": "markdown",
   "id": "analyzed-mambo",
   "metadata": {},
   "source": [
    "찾아봤을 때는 LDL콜레스테롤과 중성지방이 당뇨병과 연관이 크다고 했었는데 IG는 엄청 낮다...   \n",
    "제대로 구한건지 모르겠네   \n",
    "너무 어렵다"
   ]
  },
  {
   "cell_type": "code",
   "execution_count": null,
   "id": "registered-treatment",
   "metadata": {},
   "outputs": [],
   "source": []
  }
 ],
 "metadata": {
  "kernelspec": {
   "display_name": "Python 3",
   "language": "python",
   "name": "python3"
  },
  "language_info": {
   "codemirror_mode": {
    "name": "ipython",
    "version": 3
   },
   "file_extension": ".py",
   "mimetype": "text/x-python",
   "name": "python",
   "nbconvert_exporter": "python",
   "pygments_lexer": "ipython3",
   "version": "3.9.1"
  }
 },
 "nbformat": 4,
 "nbformat_minor": 5
}
