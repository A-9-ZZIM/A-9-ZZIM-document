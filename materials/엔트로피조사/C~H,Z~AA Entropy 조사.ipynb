{
 "cells": [
  {
   "cell_type": "code",
   "execution_count": 1,
   "metadata": {},
   "outputs": [],
   "source": [
    "import pandas as pd\n",
    "import numpy as np"
   ]
  },
  {
   "cell_type": "code",
   "execution_count": 23,
   "metadata": {},
   "outputs": [],
   "source": [
    "def get_entropy(px):\n",
    "    if px == 0:\n",
    "        return 0;\n",
    "    return px * np.log2(px)"
   ]
  },
  {
   "cell_type": "code",
   "execution_count": 3,
   "metadata": {},
   "outputs": [],
   "source": [
    "df_17 = pd.read_csv('../PBL/dataset/NHIS_2017_2018_100m/NHIS_OPEN_GJ_2017_100.csv', encoding='euc-kr')\n",
    "df_18 = pd.read_csv('../PBL/dataset/NHIS_2017_2018_100m/NHIS_OPEN_GJ_2018_100.csv')"
   ]
  },
  {
   "cell_type": "code",
   "execution_count": 4,
   "metadata": {},
   "outputs": [],
   "source": [
    "valid_17 = df_17.loc[df_17['식전혈당(공복혈당)'] <= 300]\n",
    "valid_18 = df_18.loc[df_18['식전혈당(공복혈당)'] <= 300]"
   ]
  },
  {
   "cell_type": "code",
   "execution_count": 34,
   "metadata": {},
   "outputs": [
    {
     "data": {
      "text/plain": [
       "array([1, 2])"
      ]
     },
     "execution_count": 34,
     "metadata": {},
     "output_type": "execute_result"
    }
   ],
   "source": [
    "valid_df = valid_17.append(valid_18)\n",
    "\n",
    "valid_df[\"성별코드\"].unique()\n",
    "# valid_df[\"연령대코드(5세단위)\"].unique()\n",
    "# valid_df[\"신장(5Cm단위)\"].unique()\n",
    "# valid_df[\"체중(5Kg단위)\"].unique()\n",
    "\n",
    "# valid_df.dropna(subset=[\"허리둘레\"], inplace=True)\n",
    "# valid_df = valid_df.loc[valid_df[\"허리둘레\"] >= 35]\n",
    "# valid_df = valid_df.loc[valid_df[\"허리둘레\"] <= 111.76]"
   ]
  },
  {
   "cell_type": "code",
   "execution_count": 35,
   "metadata": {},
   "outputs": [],
   "source": [
    "col_num = valid_df.columns.size\n",
    "row_num = valid_df.size / col_num"
   ]
  },
  {
   "cell_type": "code",
   "execution_count": 36,
   "metadata": {},
   "outputs": [],
   "source": [
    "idx = pd.RangeIndex(start=0, stop=row_num)\n",
    "valid_df.index=idx"
   ]
  },
  {
   "cell_type": "code",
   "execution_count": 37,
   "metadata": {},
   "outputs": [],
   "source": [
    "confirmed_person = valid_df.loc[valid_df[\"식전혈당(공복혈당)\"] >= 126]\n",
    "confirmed_mask = valid_df[\"식전혈당(공복혈당)\"] >= 126\n",
    "confirmed_size = confirmed_person.size / col_num"
   ]
  },
  {
   "cell_type": "code",
   "execution_count": 38,
   "metadata": {},
   "outputs": [],
   "source": [
    "unconfirmed_person = valid_df.loc[valid_df[\"식전혈당(공복혈당)\"] < 126]\n",
    "unconfirmed_size = row_num - confirmed_size"
   ]
  },
  {
   "cell_type": "code",
   "execution_count": 39,
   "metadata": {},
   "outputs": [],
   "source": [
    "confirmed_px_root = confirmed_size / row_num\n",
    "unconfirmed_px_root = 1 - confirmed_px_root"
   ]
  },
  {
   "cell_type": "code",
   "execution_count": 40,
   "metadata": {},
   "outputs": [],
   "source": [
    "entropy_root = -1 * (get_entropy(confirmed_px_root) + get_entropy(unconfirmed_px_root))"
   ]
  },
  {
   "cell_type": "code",
   "execution_count": 41,
   "metadata": {},
   "outputs": [
    {
     "name": "stdout",
     "output_type": "stream",
     "text": [
      "0.390673901150853\n"
     ]
    }
   ],
   "source": [
    "print(entropy_root)"
   ]
  },
  {
   "cell_type": "code",
   "execution_count": null,
   "metadata": {},
   "outputs": [],
   "source": []
  },
  {
   "cell_type": "code",
   "execution_count": null,
   "metadata": {},
   "outputs": [],
   "source": []
  },
  {
   "cell_type": "code",
   "execution_count": null,
   "metadata": {},
   "outputs": [],
   "source": []
  },
  {
   "cell_type": "code",
   "execution_count": null,
   "metadata": {},
   "outputs": [],
   "source": []
  },
  {
   "cell_type": "code",
   "execution_count": 42,
   "metadata": {},
   "outputs": [],
   "source": [
    "def getIG(col_name, value_list):\n",
    "    sum_entropy = 0\n",
    "    for val in value_list:\n",
    "        df = valid_df.loc[valid_df[col_name] == val]\n",
    "        df_size = df.size / col_num\n",
    "        \n",
    "        Y_df = df.loc[df[\"식전혈당(공복혈당)\"] >= 126]\n",
    "        \n",
    "        Y_df_size = Y_df.size / col_num\n",
    "        \n",
    "        Y_px = Y_df_size / df_size\n",
    "        N_px = 1 - Y_px\n",
    "        rtn = -1 * (get_entropy(Y_px) + get_entropy(N_px))\n",
    "        sum_entropy += rtn * (df_size / row_num)\n",
    "        \n",
    "    return entropy_root - sum_entropy\n",
    "\n",
    "\n",
    "def getRangeIG(col_name, range_list):\n",
    "    sum_entropy = 0\n",
    "    prev_ran = 0\n",
    "    for ran in range_list:\n",
    "        df = valid_df.loc[valid_df[col_name] > prev_ran]\n",
    "        df = df.loc[df[col_name] <= ran] \n",
    "        df_size = df.size / col_num\n",
    "        \n",
    "        Y_df = df.loc[df[\"식전혈당(공복혈당)\"] >= 126]\n",
    "        \n",
    "        Y_df_size = Y_df.size / col_num\n",
    "        \n",
    "        Y_px = Y_df_size / df_size\n",
    "        N_px = 1 - Y_px\n",
    "        \n",
    "        rtn = -1 * (get_entropy(Y_px) + get_entropy(N_px))\n",
    "        sum_entropy += rtn * (df_size / row_num)\n",
    "        prev_ran = ran\n",
    "    \n",
    "    return entropy_root - sum_entropy\n",
    "        \n"
   ]
  },
  {
   "cell_type": "code",
   "execution_count": 43,
   "metadata": {},
   "outputs": [
    {
     "name": "stdout",
     "output_type": "stream",
     "text": [
      "0.003918456695817585\n"
     ]
    }
   ],
   "source": [
    "print(getIG(\"성별코드\", valid_df[\"성별코드\"].unique()))"
   ]
  },
  {
   "cell_type": "code",
   "execution_count": 69,
   "metadata": {},
   "outputs": [
    {
     "name": "stdout",
     "output_type": "stream",
     "text": [
      "-11.745756122504782\n"
     ]
    }
   ],
   "source": [
    "print(getIG(\"연령대코드(5세단위)\", valid_df[\"연령대코드(5세단위)\"].unique()))"
   ]
  },
  {
   "cell_type": "code",
   "execution_count": 98,
   "metadata": {},
   "outputs": [
    {
     "name": "stdout",
     "output_type": "stream",
     "text": [
      "1.0    1209524\n",
      "3.0     428063\n",
      "2.0     353015\n",
      "Name: 흡연상태, dtype: int64\n",
      "0.003135562879630127\n"
     ]
    }
   ],
   "source": [
    "# print(valid_df[\"흡연상태\"].unique())\n",
    "print(valid_df[\"흡연상태\"].value_counts())\n",
    "print(getIG(\"흡연상태\", valid_df[\"흡연상태\"].unique()))"
   ]
  },
  {
   "cell_type": "code",
   "execution_count": 79,
   "metadata": {},
   "outputs": [
    {
     "name": "stdout",
     "output_type": "stream",
     "text": [
      "0.00911059993264457\n"
     ]
    }
   ],
   "source": [
    "print(getIG(\"음주여부\", valid_df[\"음주여부\"].unique()))\n",
    "\n",
    "# valid_df.loc[valid_df[\"음주여부\"] == (1 or 0)]\n",
    "# print(valid_df[\"음주여부\"].unique())"
   ]
  },
  {
   "cell_type": "code",
   "execution_count": 156,
   "metadata": {},
   "outputs": [
    {
     "name": "stdout",
     "output_type": "stream",
     "text": [
      "0.0187891697088981\n"
     ]
    }
   ],
   "source": [
    "waist_list = [66.04, 71.12, 78.74, 83.82, 104.14, 106.68, 111.76]\n",
    "\n",
    "print(getRangeIG(\"허리둘레\", waist_list))"
   ]
  },
  {
   "cell_type": "code",
   "execution_count": 26,
   "metadata": {},
   "outputs": [
    {
     "data": {
      "text/plain": [
       "0.00569303427192025"
      ]
     },
     "execution_count": 26,
     "metadata": {},
     "output_type": "execute_result"
    }
   ],
   "source": [
    "# valid_df[\"체중(5Kg단위)\"].unique()\n",
    "getIG(\"체중(5Kg단위)\",valid_df[\"체중(5Kg단위)\"].unique())"
   ]
  }
 ],
 "metadata": {
  "kernelspec": {
   "display_name": "Python 3",
   "language": "python",
   "name": "python3"
  },
  "language_info": {
   "codemirror_mode": {
    "name": "ipython",
    "version": 3
   },
   "file_extension": ".py",
   "mimetype": "text/x-python",
   "name": "python",
   "nbconvert_exporter": "python",
   "pygments_lexer": "ipython3",
   "version": "3.8.5"
  }
 },
 "nbformat": 4,
 "nbformat_minor": 4
}
