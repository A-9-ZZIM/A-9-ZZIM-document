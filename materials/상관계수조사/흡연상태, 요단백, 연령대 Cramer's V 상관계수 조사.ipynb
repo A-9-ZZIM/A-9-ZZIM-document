{
 "cells": [
  {
   "cell_type": "code",
   "execution_count": 1,
   "metadata": {},
   "outputs": [],
   "source": [
    "import pandas as pd\n",
    "import numpy as np\n",
    "import matplotlib.pyplot as plt\n",
    "from sklearn.preprocessing import RobustScaler\n",
    "from sklearn.model_selection import train_test_split\n",
    "from scipy.stats import chi2_contingency\n",
    "from scipy import stats \n",
    "plot_list = []"
   ]
  },
  {
   "cell_type": "code",
   "execution_count": 2,
   "metadata": {},
   "outputs": [],
   "source": [
    "df_17 = pd.read_csv('../PBL/dataset/NHIS_2017_2018_100m/NHIS_OPEN_GJ_2017_100.csv', encoding='euc-kr')\n",
    "df_18 = pd.read_csv('../PBL/dataset/NHIS_2017_2018_100m/NHIS_OPEN_GJ_2018_100.csv')"
   ]
  },
  {
   "cell_type": "code",
   "execution_count": 3,
   "metadata": {},
   "outputs": [],
   "source": [
    "valid_17 = df_17.copy()\n",
    "valid_18 = df_18.copy()"
   ]
  },
  {
   "cell_type": "code",
   "execution_count": 4,
   "metadata": {},
   "outputs": [],
   "source": [
    "valid_18[\"음주여부\"].fillna(0, inplace=True)"
   ]
  },
  {
   "cell_type": "code",
   "execution_count": 5,
   "metadata": {},
   "outputs": [],
   "source": [
    "drop_list = ['기준년도', '가입자일련번호', '시도코드', '청력(좌)', '청력(우)', '시력(좌)', '시력(우)', '구강검진수검여부', '치아우식증유무', '결손치유무', '치아마모증유무', '제3대구치(사랑니)이상', '치석', '데이터공개일자', '총콜레스테롤', 'LDL콜레스테롤', 'HDL콜레스테롤', '트리글리세라이드']"
   ]
  },
  {
   "cell_type": "code",
   "execution_count": 6,
   "metadata": {},
   "outputs": [],
   "source": [
    "valid_df = pd.concat([valid_17, valid_18])\n",
    "valid_df.drop(columns=drop_list, inplace=True)\n",
    "valid_df.dropna(inplace=True)\n",
    "valid_df.reset_index(drop=True, inplace=True)"
   ]
  },
  {
   "cell_type": "code",
   "execution_count": 7,
   "metadata": {},
   "outputs": [],
   "source": [
    "add_col = valid_df['식전혈당(공복혈당)'].copy()\n",
    "add_col[add_col < 126] = 0\n",
    "add_col[add_col >= 126] = 1\n",
    "valid_df['당뇨여부'] = add_col"
   ]
  },
  {
   "cell_type": "code",
   "execution_count": 8,
   "metadata": {},
   "outputs": [],
   "source": [
    "def z_score_method(df, variable_name):\n",
    "    #Takes two parameters: dataframe & variable of interest as string\n",
    "    columns = df.columns\n",
    "\n",
    "    z = np.abs(stats.zscore(df))\n",
    "     \n",
    "    threshold = 3\n",
    "    outlier = []\n",
    "    index=0\n",
    "    for item in range(len(columns)):\n",
    "        if columns[item] == variable_name:\n",
    "            index = item\n",
    "    for i, v in enumerate(z[:, index]):\n",
    "        if v > threshold:\n",
    "            outlier.append(i)\n",
    "        else:\n",
    "            continue\n",
    "    return outlier"
   ]
  },
  {
   "cell_type": "code",
   "execution_count": 9,
   "metadata": {},
   "outputs": [
    {
     "name": "stdout",
     "output_type": "stream",
     "text": [
      "36458\n",
      "1983201\n",
      "1946743\n"
     ]
    }
   ],
   "source": [
    "copytest = valid_df.copy()\n",
    "# copytest[\"식전혈당(공복혈당)\"] = round(copytest[\"식전혈당(공복혈당)\"])\n",
    "outlier_z = z_score_method(copytest, \"식전혈당(공복혈당)\")\n",
    "print(len(outlier_z))\n",
    "print(len(copytest))\n",
    "valid_df = copytest.drop(copytest.index[outlier_z])\n",
    "print(len(valid_df))"
   ]
  },
  {
   "cell_type": "code",
   "execution_count": 10,
   "metadata": {},
   "outputs": [],
   "source": [
    "def cramers_V(var1,var2) :\n",
    "  crosstab = np.array(pd.crosstab(var1,var2, rownames=None, colnames=None)) # Cross table building\n",
    "  stat = chi2_contingency(crosstab)[0] # Keeping of the test statistic of the Chi2 test\n",
    "  obs = np.sum(crosstab) # Number of observations\n",
    "  mini = min(crosstab.shape)-1 # Take the minimum value between the columns and the rows of the cross table\n",
    "  return np.sqrt(stat/(obs*mini))"
   ]
  },
  {
   "cell_type": "code",
   "execution_count": 11,
   "metadata": {},
   "outputs": [
    {
     "name": "stdout",
     "output_type": "stream",
     "text": [
      "0.06\n"
     ]
    }
   ],
   "source": [
    "cramers = cramers_V(valid_df[\"당뇨여부\"], valid_df[\"흡연상태\"]) \n",
    "print(round(cramers, 2))"
   ]
  },
  {
   "cell_type": "code",
   "execution_count": 12,
   "metadata": {},
   "outputs": [
    {
     "name": "stdout",
     "output_type": "stream",
     "text": [
      "0.07\n"
     ]
    }
   ],
   "source": [
    "cramers_yo = cramers_V(valid_df[\"당뇨여부\"], valid_df[\"요단백\"])\n",
    "print(round(cramers_yo, 2))"
   ]
  },
  {
   "cell_type": "code",
   "execution_count": 13,
   "metadata": {},
   "outputs": [
    {
     "name": "stdout",
     "output_type": "stream",
     "text": [
      "[ 8  7  9 11 10 12 14  6 13  5 15 16 17 18]\n",
      "0.16\n"
     ]
    }
   ],
   "source": [
    "cramers_age = cramers_V(valid_df[\"당뇨여부\"], valid_df[\"연령대코드(5세단위)\"])\n",
    "print(round(cramers_age, 2))"
   ]
  }
 ],
 "metadata": {
  "kernelspec": {
   "display_name": "Python 3",
   "language": "python",
   "name": "python3"
  },
  "language_info": {
   "codemirror_mode": {
    "name": "ipython",
    "version": 3
   },
   "file_extension": ".py",
   "mimetype": "text/x-python",
   "name": "python",
   "nbconvert_exporter": "python",
   "pygments_lexer": "ipython3",
   "version": "3.8.5"
  }
 },
 "nbformat": 4,
 "nbformat_minor": 4
}
