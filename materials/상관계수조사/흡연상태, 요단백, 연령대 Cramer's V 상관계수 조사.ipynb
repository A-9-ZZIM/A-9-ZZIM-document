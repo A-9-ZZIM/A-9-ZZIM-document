{
 "cells": [
  {
   "cell_type": "code",
   "execution_count": 68,
   "metadata": {},
   "outputs": [],
   "source": [
    "import pandas as pd\n",
    "import numpy as np\n",
    "import matplotlib.pyplot as plt\n",
    "from sklearn.preprocessing import RobustScaler\n",
    "from sklearn.model_selection import train_test_split\n",
    "from scipy.stats import chi2_contingency\n",
    "from scipy import stats \n",
    "plot_list = []"
   ]
  },
  {
   "cell_type": "code",
   "execution_count": 69,
   "metadata": {},
   "outputs": [],
   "source": [
    "def get_col_num(df):\n",
    "    return df.columns.size"
   ]
  },
  {
   "cell_type": "code",
   "execution_count": 70,
   "metadata": {},
   "outputs": [],
   "source": [
    "def get_row_num(df):\n",
    "    return df.size / get_col_num(df)"
   ]
  },
  {
   "cell_type": "code",
   "execution_count": 71,
   "metadata": {},
   "outputs": [],
   "source": [
    "def get_entropy(px):\n",
    "    if px == 0:\n",
    "        return 0;\n",
    "    return px * np.log2(px)"
   ]
  },
  {
   "cell_type": "code",
   "execution_count": 72,
   "metadata": {},
   "outputs": [],
   "source": [
    "def getParentEntropy(dataFrame) :\n",
    "    row_num = get_row_num(dataFrame)\n",
    "    col_num = get_col_num(dataFrame)\n",
    "    idx = pd.RangeIndex(start=0, stop=row_num)\n",
    "    dataFrame.index=idx\n",
    "    confirmed_person = dataFrame.loc[dataFrame[\"식전혈당(공복혈당)\"] >= 126]\n",
    "    confirmed_mask = dataFrame[\"식전혈당(공복혈당)\"] >= 126\n",
    "    confirmed_size = confirmed_person.size / col_num\n",
    "    unconfirmed_person = dataFrame.loc[dataFrame[\"식전혈당(공복혈당)\"] < 126]\n",
    "    unconfirmed_size = row_num - confirmed_size\n",
    "    confirmed_px_root = confirmed_size / row_num\n",
    "    unconfirmed_px_root = 1 - confirmed_px_root\n",
    "    entropy_root = -1 * (get_entropy(confirmed_px_root) + get_entropy(unconfirmed_px_root))\n",
    "    return entropy_root"
   ]
  },
  {
   "cell_type": "code",
   "execution_count": 73,
   "metadata": {},
   "outputs": [],
   "source": [
    "def getIG(dataFrame, col_name, value_list):\n",
    "    sum_entropy = 0\n",
    "    col_num = get_col_num(dataFrame)\n",
    "    row_num = get_row_num(dataFrame)\n",
    "    for val in value_list:\n",
    "        df = dataFrame.loc[dataFrame[col_name] == val]\n",
    "        df_size = df.size / col_num\n",
    "        \n",
    "        Y_df = df.loc[df[\"식전혈당(공복혈당)\"] >= 126]\n",
    "        \n",
    "        Y_df_size = Y_df.size / col_num\n",
    "        \n",
    "        Y_px = Y_df_size / df_size\n",
    "        N_px = 1 - Y_px\n",
    "        rtn = -1 * (get_entropy(Y_px) + get_entropy(N_px))\n",
    "        sum_entropy += rtn * (df_size / row_num)\n",
    "    print(\"H(%s):\"%(col_name), sum_entropy)\n",
    "    return getParentEntropy(dataFrame) - sum_entropy"
   ]
  },
  {
   "cell_type": "code",
   "execution_count": 74,
   "metadata": {},
   "outputs": [],
   "source": [
    "def getRangeIG(dataFrame, col_name, range_list):\n",
    "    global plot_list\n",
    "    sum_entropy = 0\n",
    "    prev_ran = 0\n",
    "    col_num = get_col_num(dataFrame)\n",
    "    row_num = get_row_num(dataFrame)\n",
    "    for ran in range_list:\n",
    "        df = dataFrame.loc[dataFrame[col_name] > prev_ran]\n",
    "        df = df.loc[df[col_name] <= ran] \n",
    "        plot_list.append(len(df))\n",
    "        df_size = df.size / col_num\n",
    "        \n",
    "        Y_df = df.loc[df[\"식전혈당(공복혈당)\"] >= 126]\n",
    "        \n",
    "        Y_df_size = Y_df.size / col_num\n",
    "        \n",
    "        Y_px = Y_df_size / df_size\n",
    "        N_px = 1 - Y_px\n",
    "        \n",
    "        rtn = -1 * (get_entropy(Y_px) + get_entropy(N_px))\n",
    "        sum_entropy += rtn * (df_size / row_num)\n",
    "        prev_ran = ran\n",
    "    print(\"H(%s): \"%(col_name), sum_entropy)\n",
    "    return getParentEntropy(dataFrame) - sum_entropy"
   ]
  },
  {
   "cell_type": "code",
   "execution_count": 75,
   "metadata": {},
   "outputs": [],
   "source": [
    "df_17 = pd.read_csv('../PBL/dataset/NHIS_2017_2018_100m/NHIS_OPEN_GJ_2017_100.csv', encoding='euc-kr')\n",
    "df_18 = pd.read_csv('../PBL/dataset/NHIS_2017_2018_100m/NHIS_OPEN_GJ_2018_100.csv')"
   ]
  },
  {
   "cell_type": "code",
   "execution_count": 124,
   "metadata": {},
   "outputs": [],
   "source": [
    "valid_17 = df_17.copy()\n",
    "valid_18 = df_18.copy()"
   ]
  },
  {
   "cell_type": "code",
   "execution_count": 125,
   "metadata": {},
   "outputs": [],
   "source": [
    "valid_18[\"음주여부\"].fillna(0, inplace=True)"
   ]
  },
  {
   "cell_type": "code",
   "execution_count": 126,
   "metadata": {},
   "outputs": [],
   "source": [
    "drop_list = ['기준년도', '가입자일련번호', '시도코드', '청력(좌)', '청력(우)', '시력(좌)', '시력(우)', '구강검진수검여부', '치아우식증유무', '결손치유무', '치아마모증유무', '제3대구치(사랑니)이상', '치석', '데이터공개일자', '총콜레스테롤', 'LDL콜레스테롤', 'HDL콜레스테롤', '트리글리세라이드']"
   ]
  },
  {
   "cell_type": "code",
   "execution_count": 127,
   "metadata": {},
   "outputs": [],
   "source": [
    "valid_df = pd.concat([valid_17, valid_18])\n",
    "valid_df.drop(columns=drop_list, inplace=True)\n",
    "valid_df.dropna(inplace=True)\n",
    "valid_df.reset_index(drop=True, inplace=True)"
   ]
  },
  {
   "cell_type": "code",
   "execution_count": 128,
   "metadata": {},
   "outputs": [],
   "source": [
    "add_col = valid_df['식전혈당(공복혈당)'].copy()\n",
    "add_col[add_col < 126] = 0\n",
    "add_col[add_col >= 126] = 1\n",
    "valid_df['당뇨여부'] = add_col"
   ]
  },
  {
   "cell_type": "code",
   "execution_count": 129,
   "metadata": {},
   "outputs": [],
   "source": [
    "def z_score_method(df, variable_name):\n",
    "    #Takes two parameters: dataframe & variable of interest as string\n",
    "    columns = df.columns\n",
    "\n",
    "    z = np.abs(stats.zscore(df))\n",
    "     \n",
    "    threshold = 3\n",
    "    outlier = []\n",
    "    index=0\n",
    "    for item in range(len(columns)):\n",
    "        if columns[item] == variable_name:\n",
    "            index = item\n",
    "    for i, v in enumerate(z[:, index]):\n",
    "        if v > threshold:\n",
    "            outlier.append(i)\n",
    "        else:\n",
    "            continue\n",
    "    return outlier"
   ]
  },
  {
   "cell_type": "code",
   "execution_count": 131,
   "metadata": {},
   "outputs": [
    {
     "name": "stdout",
     "output_type": "stream",
     "text": [
      "36458\n",
      "1983201\n",
      "1946743\n"
     ]
    }
   ],
   "source": [
    "copytest = valid_df.copy()\n",
    "# copytest[\"식전혈당(공복혈당)\"] = round(copytest[\"식전혈당(공복혈당)\"])\n",
    "outlier_z = z_score_method(copytest, \"식전혈당(공복혈당)\")\n",
    "print(len(outlier_z))\n",
    "print(len(copytest))\n",
    "valid_df = copytest.drop(copytest.index[outlier_z])\n",
    "print(len(valid_df))"
   ]
  },
  {
   "cell_type": "code",
   "execution_count": 11,
   "metadata": {},
   "outputs": [
    {
     "name": "stdout",
     "output_type": "stream",
     "text": [
      "H(성별코드): 0.3103623922991349\n",
      "정보획득량:  0.021873448000680418\n"
     ]
    }
   ],
   "source": [
    "# print(valid_df[\"성별코드\"].unique())\n",
    "print(\"정보획득량: \" , getIG(valid_df, \"성별코드\", valid_df[\"성별코드\"].unique()))"
   ]
  },
  {
   "cell_type": "code",
   "execution_count": 12,
   "metadata": {},
   "outputs": [
    {
     "name": "stdout",
     "output_type": "stream",
     "text": [
      "H(연령대코드(5세단위)): 0.29425177111545964\n",
      "정보획득량:  0.03798406918435571\n"
     ]
    }
   ],
   "source": [
    "# print(valid_df[\"연령대코드(5세단위)\"].unique())\n",
    "print(\"정보획득량: \", getIG(valid_df, \"연령대코드(5세단위)\", valid_df[\"연령대코드(5세단위)\"].unique()))"
   ]
  },
  {
   "cell_type": "code",
   "execution_count": 13,
   "metadata": {},
   "outputs": [
    {
     "name": "stdout",
     "output_type": "stream",
     "text": [
      "H(신장(5Cm단위)): 0.3134086768038382\n",
      "정보획득량:  0.01882716349597713\n"
     ]
    }
   ],
   "source": [
    "# print(valid_df[\"신장(5Cm단위)\"].unique())\n",
    "print(\"정보획득량: \", getIG(valid_df, \"신장(5Cm단위)\", valid_df[\"신장(5Cm단위)\"].unique()))"
   ]
  },
  {
   "cell_type": "code",
   "execution_count": 14,
   "metadata": {},
   "outputs": [
    {
     "name": "stdout",
     "output_type": "stream",
     "text": [
      "H(체중(5Kg단위)): 0.3092669199110947\n",
      "정보획득량:  0.02296892038872067\n"
     ]
    }
   ],
   "source": [
    "print(\"정보획득량: \", getIG(valid_df, \"체중(5Kg단위)\", valid_df[\"체중(5Kg단위)\"].unique()))"
   ]
  },
  {
   "cell_type": "code",
   "execution_count": 20,
   "metadata": {},
   "outputs": [
    {
     "name": "stdout",
     "output_type": "stream",
     "text": [
      "H(BMI):  0.38371518024797446\n",
      "정보획득량:  0.012028642959530267\n",
      "[1231087, 666204, 82503]\n"
     ]
    },
    {
     "data": {
      "image/png": "[encoded data removed]",
      "text/plain": [
       "<Figure size 432x288 with 1 Axes>"
      ]
     },
     "metadata": {
      "needs_background": "light"
     },
     "output_type": "display_data"
    }
   ],
   "source": [
    "bmi_ref = valid_df.loc[:,[\"체중(5Kg단위)\", \"신장(5Cm단위)\"]]\n",
    "bmi_df = (bmi_ref[\"체중(5Kg단위)\"] / ((bmi_ref[\"신장(5Cm단위)\"]/100)**2))\n",
    "bmi_df = round(bmi_df)\n",
    "\n",
    "copy_df_bmi = valid_df.copy()\n",
    "copy_df_bmi.insert(get_col_num(copy_df_bmi), 'BMI', bmi_df)\n",
    "\n",
    "bmi_list = [24.9, 29.9, 34.9]\n",
    "\n",
    "plot_list = []\n",
    "print(\"정보획득량: \", getRangeIG(copy_df_bmi, \"BMI\", bmi_list))\n",
    "print(plot_list)\n",
    "plt.bar(range(len(np.array(plot_list))), np.array(plot_list))\n",
    "plt.show()\n",
    "\n"
   ]
  },
  {
   "cell_type": "code",
   "execution_count": 16,
   "metadata": {},
   "outputs": [
    {
     "name": "stdout",
     "output_type": "stream",
     "text": [
      "H(허리둘레):  0.3623876276400057\n",
      "정보획득량:  0.018175843898836974\n"
     ]
    }
   ],
   "source": [
    "copy_df_waist = valid_df.copy()\n",
    "copy_df_waist.dropna(subset=[\"허리둘레\"], inplace=True)\n",
    "copy_df_waist = copy_df_waist.loc[copy_df_waist[\"허리둘레\"] >= 35]\n",
    "copy_df_waist = copy_df_waist.loc[copy_df_waist[\"허리둘레\"] <= 111.76]\n",
    "\n",
    "waist_list = [66.04, 71.12, 78.74, 83.82, 104.14, 106.68, 111.76]\n",
    "\n",
    "print(\"정보획득량: \", getRangeIG(copy_df_waist, \"허리둘레\", waist_list))\n",
    "\n",
    "\n"
   ]
  },
  {
   "cell_type": "code",
   "execution_count": 58,
   "metadata": {},
   "outputs": [
    {
     "name": "stdout",
     "output_type": "stream",
     "text": [
      "H(감마지티피):  0.4501248726610595\n",
      "0.008593671213988463\n",
      "H(감마지티피):  0.30491334204977044\n",
      "0.010109432912926652\n"
     ]
    }
   ],
   "source": [
    "man_df = valid_df.loc[valid_df[\"성별코드\"] == 1].copy()\n",
    "woman_df = valid_df.loc[valid_df[\"성별코드\"] == 2].copy()\n",
    "\n",
    "man_df.dropna(subset=[\"감마지티피\"], inplace=True)\n",
    "woman_df.dropna(subset=[\"감마지티피\"], inplace=True)\n",
    "\n",
    "man_range= [10, 63, 99, 199, 599, 1000]\n",
    "woman_range = [7, 35, 99, 199, 599, 1000]\n",
    "\n",
    "print(getRangeIG(man_df, \"감마지티피\", man_range))\n",
    "print(getRangeIG(woman_df, \"감마지티피\", woman_range))\n"
   ]
  },
  {
   "cell_type": "code",
   "execution_count": 17,
   "metadata": {},
   "outputs": [
    {
     "name": "stdout",
     "output_type": "stream",
     "text": [
      "H(총콜레스테롤):  0.4030832962946979\n",
      "0.0012850740699248409\n"
     ]
    }
   ],
   "source": [
    "copy_df_total_chol = valid_df.copy()\n",
    "copy_df_total_chol.dropna(subset=[\"총콜레스테롤\"], inplace=True)\n",
    "copy_df_total_chol.loc[copy_df_total_chol[\"총콜레스테롤\"] <= 550]\n",
    "\n",
    "chol_list = [200, 240, copy_df_total_chol[\"총콜레스테롤\"].max()]\n",
    "\n",
    "print(getRangeIG(copy_df_total_chol, \"총콜레스테롤\", chol_list))"
   ]
  },
  {
   "cell_type": "code",
   "execution_count": 18,
   "metadata": {},
   "outputs": [
    {
     "name": "stdout",
     "output_type": "stream",
     "text": [
      "H(LDL콜레스테롤):  0.3968655506517192\n",
      "0.004514650684808608\n"
     ]
    }
   ],
   "source": [
    "copy_ldl = valid_df.copy()\n",
    "copy_ldl.dropna(subset=['LDL콜레스테롤'] ,inplace=True)\n",
    "copy_ldl.loc[copy_ldl[\"LDL콜레스테롤\"] <= 550]\n",
    "\n",
    "ldl_list = [100, 130, 160, 190, copy_ldl[\"LDL콜레스테롤\"].max()]\n",
    "\n",
    "print(getRangeIG(copy_ldl, \"LDL콜레스테롤\", ldl_list))"
   ]
  },
  {
   "cell_type": "code",
   "execution_count": 132,
   "metadata": {},
   "outputs": [],
   "source": [
    "def cramers_V(var1,var2) :\n",
    "  crosstab = np.array(pd.crosstab(var1,var2, rownames=None, colnames=None)) # Cross table building\n",
    "  stat = chi2_contingency(crosstab)[0] # Keeping of the test statistic of the Chi2 test\n",
    "  obs = np.sum(crosstab) # Number of observations\n",
    "  mini = min(crosstab.shape)-1 # Take the minimum value between the columns and the rows of the cross table\n",
    "  return np.sqrt(stat/(obs*mini))"
   ]
  },
  {
   "cell_type": "code",
   "execution_count": 133,
   "metadata": {},
   "outputs": [
    {
     "name": "stdout",
     "output_type": "stream",
     "text": [
      "0.06\n"
     ]
    }
   ],
   "source": [
    "cramers = cramers_V(valid_df[\"당뇨여부\"], valid_df[\"흡연상태\"]) \n",
    "print(round(cramers, 2))"
   ]
  },
  {
   "cell_type": "code",
   "execution_count": 135,
   "metadata": {},
   "outputs": [
    {
     "name": "stdout",
     "output_type": "stream",
     "text": [
      "0.07\n"
     ]
    }
   ],
   "source": [
    "cramers_yo = cramers_V(valid_df[\"당뇨여부\"], valid_df[\"요단백\"])\n",
    "print(round(cramers_yo, 2))"
   ]
  },
  {
   "cell_type": "code",
   "execution_count": 140,
   "metadata": {},
   "outputs": [
    {
     "name": "stdout",
     "output_type": "stream",
     "text": [
      "[ 8  7  9 11 10 12 14  6 13  5 15 16 17 18]\n",
      "0.16\n"
     ]
    }
   ],
   "source": [
    "print(valid_df[\"연령대코드(5세단위)\"].unique())\n",
    "cramers_age = cramers_V(valid_df[\"당뇨여부\"], valid_df[\"연령대코드(5세단위)\"])\n",
    "print(round(cramers_age, 2))"
   ]
  }
 ],
 "metadata": {
  "kernelspec": {
   "display_name": "Python 3",
   "language": "python",
   "name": "python3"
  },
  "language_info": {
   "codemirror_mode": {
    "name": "ipython",
    "version": 3
   },
   "file_extension": ".py",
   "mimetype": "text/x-python",
   "name": "python",
   "nbconvert_exporter": "python",
   "pygments_lexer": "ipython3",
   "version": "3.8.5"
  }
 },
 "nbformat": 4,
 "nbformat_minor": 4
}
