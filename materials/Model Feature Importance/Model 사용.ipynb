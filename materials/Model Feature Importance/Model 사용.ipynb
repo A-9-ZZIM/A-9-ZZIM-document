{
 "cells": [
  {
   "cell_type": "code",
   "execution_count": 1,
   "id": "a5551420",
   "metadata": {},
   "outputs": [],
   "source": [
    "import pandas as pd\n",
    "import numpy as np\n",
    "from scipy import stats\n",
    "# featuretools for automated feature engineering\n",
    "import featuretools as ft\n",
    "import math\n",
    "\n",
    "# matplotlit and seaborn for visualizations\n",
    "import matplotlib.pyplot as plt\n",
    "# plt.rcParams['font.size'] = 22\n",
    "import seaborn as sns\n",
    "\n",
    "# Suppress warnings from pandas\n",
    "import warnings\n",
    "warnings.filterwarnings('ignore')\n",
    "\n",
    "# modeling \n",
    "import lightgbm as lgb\n",
    "\n",
    "# utilities\n",
    "from sklearn.model_selection import train_test_split\n",
    "from sklearn.model_selection import KFold\n",
    "from sklearn.metrics import roc_auc_score\n",
    "from sklearn.preprocessing import LabelEncoder\n",
    "sns.set_style(\"darkgrid\")\n",
    "# memory management\n",
    "import gc"
   ]
  },
  {
   "cell_type": "code",
   "execution_count": 2,
   "id": "924546f5",
   "metadata": {},
   "outputs": [],
   "source": [
    "import os\n",
    "# 운영체제별 한글 폰트 설정\n",
    "if os.name == 'posix': # Mac 환경 폰트 설정\n",
    "    plt.rc('font', family='AppleGothic')\n",
    "elif os.name == 'nt': # Windows 환경 폰트 설정\n",
    "    plt.rc('font', family='Malgun Gothic')\n",
    "\n",
    "plt.rc('axes', unicode_minus=False) # 마이너스 폰트 설정\n",
    "\n",
    "\n",
    "# 글씨 선명하게 출력하는 설정\n",
    "%config InlineBackend.figure_format = 'retina'"
   ]
  },
  {
   "cell_type": "code",
   "execution_count": 3,
   "id": "1cc52824",
   "metadata": {},
   "outputs": [],
   "source": [
    "data1 = pd.read_csv(\"NHIS_OPEN_GJ_2017_100.csv\", encoding='euc-kr')\n",
    "data2 = pd.read_csv(\"NHIS_OPEN_GJ_2018_100.csv\")"
   ]
  },
  {
   "cell_type": "markdown",
   "id": "132fd5e1",
   "metadata": {},
   "source": [
    "## 2017음주여부 날리고 2018음주여부 0으로 채우기"
   ]
  },
  {
   "cell_type": "code",
   "execution_count": 4,
   "id": "9d0ef3ae",
   "metadata": {},
   "outputs": [],
   "source": [
    "data1 = data1.dropna(axis=0, subset=['음주여부'])\n",
    "data2 = data2.fillna({'음주여부':0})"
   ]
  },
  {
   "cell_type": "markdown",
   "id": "19cb662d",
   "metadata": {},
   "source": [
    "## 데이터 합치고 필요한 속성만 저장"
   ]
  },
  {
   "cell_type": "code",
   "execution_count": 18,
   "id": "7b44b2cb",
   "metadata": {},
   "outputs": [],
   "source": [
    "df = pd.concat([data1,data2]).reset_index(drop=True, inplace=False)"
   ]
  },
  {
   "cell_type": "code",
   "execution_count": 19,
   "id": "8698d793",
   "metadata": {},
   "outputs": [],
   "source": [
    "df = df.loc[:,['성별코드','연령대코드(5세단위)','신장(5Cm단위)','체중(5Kg단위)','허리둘레','수축기혈압',\n",
    "       '이완기혈압', '식전혈당(공복혈당)','요단백', '혈청크레아티닌', '(혈청지오티)AST', '(혈청지오티)ALT', '감마지티피', '흡연상태',\n",
    "       '음주여부']]"
   ]
  },
  {
   "cell_type": "markdown",
   "id": "25db6322",
   "metadata": {},
   "source": [
    "## 혈당 Null값 제거"
   ]
  },
  {
   "cell_type": "code",
   "execution_count": 20,
   "id": "c0a289ba",
   "metadata": {},
   "outputs": [],
   "source": [
    "df = df.dropna(axis=0, subset=['식전혈당(공복혈당)'])"
   ]
  },
  {
   "cell_type": "markdown",
   "id": "96134768",
   "metadata": {},
   "source": [
    "## BMI 추가"
   ]
  },
  {
   "cell_type": "code",
   "execution_count": 21,
   "id": "02459c4d",
   "metadata": {},
   "outputs": [],
   "source": [
    "BMI = round((df[\"체중(5Kg단위)\"] / ((df[\"신장(5Cm단위)\"]/100)**2)),2)\n",
    "df['BMI'] = BMI"
   ]
  },
  {
   "cell_type": "code",
   "execution_count": 22,
   "id": "ed709a18",
   "metadata": {},
   "outputs": [
    {
     "data": {
      "text/html": [
       "<div>\n",
       "<style scoped>\n",
       "    .dataframe tbody tr th:only-of-type {\n",
       "        vertical-align: middle;\n",
       "    }\n",
       "\n",
       "    .dataframe tbody tr th {\n",
       "        vertical-align: top;\n",
       "    }\n",
       "\n",
       "    .dataframe thead th {\n",
       "        text-align: right;\n",
       "    }\n",
       "</style>\n",
       "<table border=\"1\" class=\"dataframe\">\n",
       "  <thead>\n",
       "    <tr style=\"text-align: right;\">\n",
       "      <th></th>\n",
       "      <th>성별코드</th>\n",
       "      <th>연령대코드(5세단위)</th>\n",
       "      <th>신장(5Cm단위)</th>\n",
       "      <th>체중(5Kg단위)</th>\n",
       "      <th>허리둘레</th>\n",
       "      <th>수축기혈압</th>\n",
       "      <th>이완기혈압</th>\n",
       "      <th>식전혈당(공복혈당)</th>\n",
       "      <th>요단백</th>\n",
       "      <th>혈청크레아티닌</th>\n",
       "      <th>(혈청지오티)AST</th>\n",
       "      <th>(혈청지오티)ALT</th>\n",
       "      <th>감마지티피</th>\n",
       "      <th>흡연상태</th>\n",
       "      <th>음주여부</th>\n",
       "      <th>BMI</th>\n",
       "    </tr>\n",
       "  </thead>\n",
       "  <tbody>\n",
       "    <tr>\n",
       "      <th>0</th>\n",
       "      <td>1</td>\n",
       "      <td>8</td>\n",
       "      <td>170</td>\n",
       "      <td>75</td>\n",
       "      <td>90.0</td>\n",
       "      <td>120.0</td>\n",
       "      <td>80.0</td>\n",
       "      <td>99.0</td>\n",
       "      <td>1.0</td>\n",
       "      <td>1.0</td>\n",
       "      <td>21.0</td>\n",
       "      <td>35.0</td>\n",
       "      <td>40.0</td>\n",
       "      <td>1.0</td>\n",
       "      <td>1.0</td>\n",
       "      <td>25.95</td>\n",
       "    </tr>\n",
       "    <tr>\n",
       "      <th>1</th>\n",
       "      <td>1</td>\n",
       "      <td>7</td>\n",
       "      <td>180</td>\n",
       "      <td>80</td>\n",
       "      <td>89.0</td>\n",
       "      <td>130.0</td>\n",
       "      <td>82.0</td>\n",
       "      <td>106.0</td>\n",
       "      <td>1.0</td>\n",
       "      <td>0.9</td>\n",
       "      <td>20.0</td>\n",
       "      <td>36.0</td>\n",
       "      <td>27.0</td>\n",
       "      <td>3.0</td>\n",
       "      <td>0.0</td>\n",
       "      <td>24.69</td>\n",
       "    </tr>\n",
       "    <tr>\n",
       "      <th>2</th>\n",
       "      <td>1</td>\n",
       "      <td>9</td>\n",
       "      <td>165</td>\n",
       "      <td>75</td>\n",
       "      <td>91.0</td>\n",
       "      <td>120.0</td>\n",
       "      <td>70.0</td>\n",
       "      <td>98.0</td>\n",
       "      <td>1.0</td>\n",
       "      <td>0.9</td>\n",
       "      <td>47.0</td>\n",
       "      <td>32.0</td>\n",
       "      <td>68.0</td>\n",
       "      <td>1.0</td>\n",
       "      <td>0.0</td>\n",
       "      <td>27.55</td>\n",
       "    </tr>\n",
       "    <tr>\n",
       "      <th>3</th>\n",
       "      <td>1</td>\n",
       "      <td>11</td>\n",
       "      <td>175</td>\n",
       "      <td>80</td>\n",
       "      <td>91.0</td>\n",
       "      <td>145.0</td>\n",
       "      <td>87.0</td>\n",
       "      <td>95.0</td>\n",
       "      <td>1.0</td>\n",
       "      <td>1.1</td>\n",
       "      <td>29.0</td>\n",
       "      <td>34.0</td>\n",
       "      <td>18.0</td>\n",
       "      <td>1.0</td>\n",
       "      <td>0.0</td>\n",
       "      <td>26.12</td>\n",
       "    </tr>\n",
       "    <tr>\n",
       "      <th>4</th>\n",
       "      <td>1</td>\n",
       "      <td>11</td>\n",
       "      <td>165</td>\n",
       "      <td>60</td>\n",
       "      <td>80.0</td>\n",
       "      <td>138.0</td>\n",
       "      <td>82.0</td>\n",
       "      <td>101.0</td>\n",
       "      <td>1.0</td>\n",
       "      <td>0.8</td>\n",
       "      <td>19.0</td>\n",
       "      <td>12.0</td>\n",
       "      <td>25.0</td>\n",
       "      <td>1.0</td>\n",
       "      <td>0.0</td>\n",
       "      <td>22.04</td>\n",
       "    </tr>\n",
       "    <tr>\n",
       "      <th>...</th>\n",
       "      <td>...</td>\n",
       "      <td>...</td>\n",
       "      <td>...</td>\n",
       "      <td>...</td>\n",
       "      <td>...</td>\n",
       "      <td>...</td>\n",
       "      <td>...</td>\n",
       "      <td>...</td>\n",
       "      <td>...</td>\n",
       "      <td>...</td>\n",
       "      <td>...</td>\n",
       "      <td>...</td>\n",
       "      <td>...</td>\n",
       "      <td>...</td>\n",
       "      <td>...</td>\n",
       "      <td>...</td>\n",
       "    </tr>\n",
       "    <tr>\n",
       "      <th>1999459</th>\n",
       "      <td>2</td>\n",
       "      <td>11</td>\n",
       "      <td>165</td>\n",
       "      <td>75</td>\n",
       "      <td>84.0</td>\n",
       "      <td>110.0</td>\n",
       "      <td>70.0</td>\n",
       "      <td>107.0</td>\n",
       "      <td>1.0</td>\n",
       "      <td>0.7</td>\n",
       "      <td>18.0</td>\n",
       "      <td>15.0</td>\n",
       "      <td>19.0</td>\n",
       "      <td>1.0</td>\n",
       "      <td>0.0</td>\n",
       "      <td>27.55</td>\n",
       "    </tr>\n",
       "    <tr>\n",
       "      <th>1999460</th>\n",
       "      <td>1</td>\n",
       "      <td>7</td>\n",
       "      <td>170</td>\n",
       "      <td>75</td>\n",
       "      <td>88.0</td>\n",
       "      <td>136.0</td>\n",
       "      <td>88.0</td>\n",
       "      <td>114.0</td>\n",
       "      <td>1.0</td>\n",
       "      <td>1.0</td>\n",
       "      <td>25.0</td>\n",
       "      <td>36.0</td>\n",
       "      <td>90.0</td>\n",
       "      <td>1.0</td>\n",
       "      <td>1.0</td>\n",
       "      <td>25.95</td>\n",
       "    </tr>\n",
       "    <tr>\n",
       "      <th>1999461</th>\n",
       "      <td>1</td>\n",
       "      <td>8</td>\n",
       "      <td>175</td>\n",
       "      <td>80</td>\n",
       "      <td>87.0</td>\n",
       "      <td>162.0</td>\n",
       "      <td>90.0</td>\n",
       "      <td>98.0</td>\n",
       "      <td>1.0</td>\n",
       "      <td>0.9</td>\n",
       "      <td>21.0</td>\n",
       "      <td>15.0</td>\n",
       "      <td>36.0</td>\n",
       "      <td>2.0</td>\n",
       "      <td>1.0</td>\n",
       "      <td>26.12</td>\n",
       "    </tr>\n",
       "    <tr>\n",
       "      <th>1999462</th>\n",
       "      <td>1</td>\n",
       "      <td>11</td>\n",
       "      <td>165</td>\n",
       "      <td>70</td>\n",
       "      <td>80.2</td>\n",
       "      <td>140.0</td>\n",
       "      <td>98.0</td>\n",
       "      <td>94.0</td>\n",
       "      <td>1.0</td>\n",
       "      <td>1.2</td>\n",
       "      <td>20.0</td>\n",
       "      <td>18.0</td>\n",
       "      <td>14.0</td>\n",
       "      <td>2.0</td>\n",
       "      <td>0.0</td>\n",
       "      <td>25.71</td>\n",
       "    </tr>\n",
       "    <tr>\n",
       "      <th>1999463</th>\n",
       "      <td>1</td>\n",
       "      <td>5</td>\n",
       "      <td>165</td>\n",
       "      <td>60</td>\n",
       "      <td>70.0</td>\n",
       "      <td>120.0</td>\n",
       "      <td>80.0</td>\n",
       "      <td>85.0</td>\n",
       "      <td>1.0</td>\n",
       "      <td>1.0</td>\n",
       "      <td>17.0</td>\n",
       "      <td>12.0</td>\n",
       "      <td>11.0</td>\n",
       "      <td>1.0</td>\n",
       "      <td>1.0</td>\n",
       "      <td>22.04</td>\n",
       "    </tr>\n",
       "  </tbody>\n",
       "</table>\n",
       "<p>1993507 rows × 16 columns</p>\n",
       "</div>"
      ],
      "text/plain": [
       "         성별코드  연령대코드(5세단위)  신장(5Cm단위)  체중(5Kg단위)  허리둘레  수축기혈압  이완기혈압  \\\n",
       "0           1            8        170         75  90.0  120.0   80.0   \n",
       "1           1            7        180         80  89.0  130.0   82.0   \n",
       "2           1            9        165         75  91.0  120.0   70.0   \n",
       "3           1           11        175         80  91.0  145.0   87.0   \n",
       "4           1           11        165         60  80.0  138.0   82.0   \n",
       "...       ...          ...        ...        ...   ...    ...    ...   \n",
       "1999459     2           11        165         75  84.0  110.0   70.0   \n",
       "1999460     1            7        170         75  88.0  136.0   88.0   \n",
       "1999461     1            8        175         80  87.0  162.0   90.0   \n",
       "1999462     1           11        165         70  80.2  140.0   98.0   \n",
       "1999463     1            5        165         60  70.0  120.0   80.0   \n",
       "\n",
       "         식전혈당(공복혈당)  요단백  혈청크레아티닌  (혈청지오티)AST  (혈청지오티)ALT  감마지티피  흡연상태  음주여부  \\\n",
       "0              99.0  1.0      1.0        21.0        35.0   40.0   1.0   1.0   \n",
       "1             106.0  1.0      0.9        20.0        36.0   27.0   3.0   0.0   \n",
       "2              98.0  1.0      0.9        47.0        32.0   68.0   1.0   0.0   \n",
       "3              95.0  1.0      1.1        29.0        34.0   18.0   1.0   0.0   \n",
       "4             101.0  1.0      0.8        19.0        12.0   25.0   1.0   0.0   \n",
       "...             ...  ...      ...         ...         ...    ...   ...   ...   \n",
       "1999459       107.0  1.0      0.7        18.0        15.0   19.0   1.0   0.0   \n",
       "1999460       114.0  1.0      1.0        25.0        36.0   90.0   1.0   1.0   \n",
       "1999461        98.0  1.0      0.9        21.0        15.0   36.0   2.0   1.0   \n",
       "1999462        94.0  1.0      1.2        20.0        18.0   14.0   2.0   0.0   \n",
       "1999463        85.0  1.0      1.0        17.0        12.0   11.0   1.0   1.0   \n",
       "\n",
       "           BMI  \n",
       "0        25.95  \n",
       "1        24.69  \n",
       "2        27.55  \n",
       "3        26.12  \n",
       "4        22.04  \n",
       "...        ...  \n",
       "1999459  27.55  \n",
       "1999460  25.95  \n",
       "1999461  26.12  \n",
       "1999462  25.71  \n",
       "1999463  22.04  \n",
       "\n",
       "[1993507 rows x 16 columns]"
      ]
     },
     "execution_count": 22,
     "metadata": {},
     "output_type": "execute_result"
    }
   ],
   "source": [
    "df"
   ]
  },
  {
   "cell_type": "code",
   "execution_count": 23,
   "id": "c3107a0a",
   "metadata": {},
   "outputs": [
    {
     "data": {
      "text/plain": [
       "성별코드              0\n",
       "연령대코드(5세단위)       0\n",
       "신장(5Cm단위)         0\n",
       "체중(5Kg단위)         0\n",
       "허리둘레            671\n",
       "수축기혈압            39\n",
       "이완기혈압            39\n",
       "식전혈당(공복혈당)        0\n",
       "요단백            9271\n",
       "혈청크레아티닌           4\n",
       "(혈청지오티)AST        2\n",
       "(혈청지오티)ALT        3\n",
       "감마지티피             6\n",
       "흡연상태            329\n",
       "음주여부              0\n",
       "BMI               0\n",
       "dtype: int64"
      ]
     },
     "execution_count": 23,
     "metadata": {},
     "output_type": "execute_result"
    }
   ],
   "source": [
    "df.isnull().sum()"
   ]
  },
  {
   "cell_type": "markdown",
   "id": "3f7f29f1",
   "metadata": {},
   "source": [
    "## null값 제거"
   ]
  },
  {
   "cell_type": "code",
   "execution_count": 24,
   "id": "4fff564f",
   "metadata": {},
   "outputs": [
    {
     "data": {
      "text/html": [
       "<div>\n",
       "<style scoped>\n",
       "    .dataframe tbody tr th:only-of-type {\n",
       "        vertical-align: middle;\n",
       "    }\n",
       "\n",
       "    .dataframe tbody tr th {\n",
       "        vertical-align: top;\n",
       "    }\n",
       "\n",
       "    .dataframe thead th {\n",
       "        text-align: right;\n",
       "    }\n",
       "</style>\n",
       "<table border=\"1\" class=\"dataframe\">\n",
       "  <thead>\n",
       "    <tr style=\"text-align: right;\">\n",
       "      <th></th>\n",
       "      <th>성별코드</th>\n",
       "      <th>연령대코드(5세단위)</th>\n",
       "      <th>신장(5Cm단위)</th>\n",
       "      <th>체중(5Kg단위)</th>\n",
       "      <th>허리둘레</th>\n",
       "      <th>수축기혈압</th>\n",
       "      <th>이완기혈압</th>\n",
       "      <th>식전혈당(공복혈당)</th>\n",
       "      <th>요단백</th>\n",
       "      <th>혈청크레아티닌</th>\n",
       "      <th>(혈청지오티)AST</th>\n",
       "      <th>(혈청지오티)ALT</th>\n",
       "      <th>감마지티피</th>\n",
       "      <th>흡연상태</th>\n",
       "      <th>음주여부</th>\n",
       "      <th>BMI</th>\n",
       "    </tr>\n",
       "  </thead>\n",
       "  <tbody>\n",
       "    <tr>\n",
       "      <th>0</th>\n",
       "      <td>1</td>\n",
       "      <td>8</td>\n",
       "      <td>170</td>\n",
       "      <td>75</td>\n",
       "      <td>90.0</td>\n",
       "      <td>120.0</td>\n",
       "      <td>80.0</td>\n",
       "      <td>99.0</td>\n",
       "      <td>1.0</td>\n",
       "      <td>1.0</td>\n",
       "      <td>21.0</td>\n",
       "      <td>35.0</td>\n",
       "      <td>40.0</td>\n",
       "      <td>1.0</td>\n",
       "      <td>1.0</td>\n",
       "      <td>25.95</td>\n",
       "    </tr>\n",
       "    <tr>\n",
       "      <th>1</th>\n",
       "      <td>1</td>\n",
       "      <td>7</td>\n",
       "      <td>180</td>\n",
       "      <td>80</td>\n",
       "      <td>89.0</td>\n",
       "      <td>130.0</td>\n",
       "      <td>82.0</td>\n",
       "      <td>106.0</td>\n",
       "      <td>1.0</td>\n",
       "      <td>0.9</td>\n",
       "      <td>20.0</td>\n",
       "      <td>36.0</td>\n",
       "      <td>27.0</td>\n",
       "      <td>3.0</td>\n",
       "      <td>0.0</td>\n",
       "      <td>24.69</td>\n",
       "    </tr>\n",
       "    <tr>\n",
       "      <th>2</th>\n",
       "      <td>1</td>\n",
       "      <td>9</td>\n",
       "      <td>165</td>\n",
       "      <td>75</td>\n",
       "      <td>91.0</td>\n",
       "      <td>120.0</td>\n",
       "      <td>70.0</td>\n",
       "      <td>98.0</td>\n",
       "      <td>1.0</td>\n",
       "      <td>0.9</td>\n",
       "      <td>47.0</td>\n",
       "      <td>32.0</td>\n",
       "      <td>68.0</td>\n",
       "      <td>1.0</td>\n",
       "      <td>0.0</td>\n",
       "      <td>27.55</td>\n",
       "    </tr>\n",
       "    <tr>\n",
       "      <th>3</th>\n",
       "      <td>1</td>\n",
       "      <td>11</td>\n",
       "      <td>175</td>\n",
       "      <td>80</td>\n",
       "      <td>91.0</td>\n",
       "      <td>145.0</td>\n",
       "      <td>87.0</td>\n",
       "      <td>95.0</td>\n",
       "      <td>1.0</td>\n",
       "      <td>1.1</td>\n",
       "      <td>29.0</td>\n",
       "      <td>34.0</td>\n",
       "      <td>18.0</td>\n",
       "      <td>1.0</td>\n",
       "      <td>0.0</td>\n",
       "      <td>26.12</td>\n",
       "    </tr>\n",
       "    <tr>\n",
       "      <th>4</th>\n",
       "      <td>1</td>\n",
       "      <td>11</td>\n",
       "      <td>165</td>\n",
       "      <td>60</td>\n",
       "      <td>80.0</td>\n",
       "      <td>138.0</td>\n",
       "      <td>82.0</td>\n",
       "      <td>101.0</td>\n",
       "      <td>1.0</td>\n",
       "      <td>0.8</td>\n",
       "      <td>19.0</td>\n",
       "      <td>12.0</td>\n",
       "      <td>25.0</td>\n",
       "      <td>1.0</td>\n",
       "      <td>0.0</td>\n",
       "      <td>22.04</td>\n",
       "    </tr>\n",
       "    <tr>\n",
       "      <th>...</th>\n",
       "      <td>...</td>\n",
       "      <td>...</td>\n",
       "      <td>...</td>\n",
       "      <td>...</td>\n",
       "      <td>...</td>\n",
       "      <td>...</td>\n",
       "      <td>...</td>\n",
       "      <td>...</td>\n",
       "      <td>...</td>\n",
       "      <td>...</td>\n",
       "      <td>...</td>\n",
       "      <td>...</td>\n",
       "      <td>...</td>\n",
       "      <td>...</td>\n",
       "      <td>...</td>\n",
       "      <td>...</td>\n",
       "    </tr>\n",
       "    <tr>\n",
       "      <th>1999459</th>\n",
       "      <td>2</td>\n",
       "      <td>11</td>\n",
       "      <td>165</td>\n",
       "      <td>75</td>\n",
       "      <td>84.0</td>\n",
       "      <td>110.0</td>\n",
       "      <td>70.0</td>\n",
       "      <td>107.0</td>\n",
       "      <td>1.0</td>\n",
       "      <td>0.7</td>\n",
       "      <td>18.0</td>\n",
       "      <td>15.0</td>\n",
       "      <td>19.0</td>\n",
       "      <td>1.0</td>\n",
       "      <td>0.0</td>\n",
       "      <td>27.55</td>\n",
       "    </tr>\n",
       "    <tr>\n",
       "      <th>1999460</th>\n",
       "      <td>1</td>\n",
       "      <td>7</td>\n",
       "      <td>170</td>\n",
       "      <td>75</td>\n",
       "      <td>88.0</td>\n",
       "      <td>136.0</td>\n",
       "      <td>88.0</td>\n",
       "      <td>114.0</td>\n",
       "      <td>1.0</td>\n",
       "      <td>1.0</td>\n",
       "      <td>25.0</td>\n",
       "      <td>36.0</td>\n",
       "      <td>90.0</td>\n",
       "      <td>1.0</td>\n",
       "      <td>1.0</td>\n",
       "      <td>25.95</td>\n",
       "    </tr>\n",
       "    <tr>\n",
       "      <th>1999461</th>\n",
       "      <td>1</td>\n",
       "      <td>8</td>\n",
       "      <td>175</td>\n",
       "      <td>80</td>\n",
       "      <td>87.0</td>\n",
       "      <td>162.0</td>\n",
       "      <td>90.0</td>\n",
       "      <td>98.0</td>\n",
       "      <td>1.0</td>\n",
       "      <td>0.9</td>\n",
       "      <td>21.0</td>\n",
       "      <td>15.0</td>\n",
       "      <td>36.0</td>\n",
       "      <td>2.0</td>\n",
       "      <td>1.0</td>\n",
       "      <td>26.12</td>\n",
       "    </tr>\n",
       "    <tr>\n",
       "      <th>1999462</th>\n",
       "      <td>1</td>\n",
       "      <td>11</td>\n",
       "      <td>165</td>\n",
       "      <td>70</td>\n",
       "      <td>80.2</td>\n",
       "      <td>140.0</td>\n",
       "      <td>98.0</td>\n",
       "      <td>94.0</td>\n",
       "      <td>1.0</td>\n",
       "      <td>1.2</td>\n",
       "      <td>20.0</td>\n",
       "      <td>18.0</td>\n",
       "      <td>14.0</td>\n",
       "      <td>2.0</td>\n",
       "      <td>0.0</td>\n",
       "      <td>25.71</td>\n",
       "    </tr>\n",
       "    <tr>\n",
       "      <th>1999463</th>\n",
       "      <td>1</td>\n",
       "      <td>5</td>\n",
       "      <td>165</td>\n",
       "      <td>60</td>\n",
       "      <td>70.0</td>\n",
       "      <td>120.0</td>\n",
       "      <td>80.0</td>\n",
       "      <td>85.0</td>\n",
       "      <td>1.0</td>\n",
       "      <td>1.0</td>\n",
       "      <td>17.0</td>\n",
       "      <td>12.0</td>\n",
       "      <td>11.0</td>\n",
       "      <td>1.0</td>\n",
       "      <td>1.0</td>\n",
       "      <td>22.04</td>\n",
       "    </tr>\n",
       "  </tbody>\n",
       "</table>\n",
       "<p>1983226 rows × 16 columns</p>\n",
       "</div>"
      ],
      "text/plain": [
       "         성별코드  연령대코드(5세단위)  신장(5Cm단위)  체중(5Kg단위)  허리둘레  수축기혈압  이완기혈압  \\\n",
       "0           1            8        170         75  90.0  120.0   80.0   \n",
       "1           1            7        180         80  89.0  130.0   82.0   \n",
       "2           1            9        165         75  91.0  120.0   70.0   \n",
       "3           1           11        175         80  91.0  145.0   87.0   \n",
       "4           1           11        165         60  80.0  138.0   82.0   \n",
       "...       ...          ...        ...        ...   ...    ...    ...   \n",
       "1999459     2           11        165         75  84.0  110.0   70.0   \n",
       "1999460     1            7        170         75  88.0  136.0   88.0   \n",
       "1999461     1            8        175         80  87.0  162.0   90.0   \n",
       "1999462     1           11        165         70  80.2  140.0   98.0   \n",
       "1999463     1            5        165         60  70.0  120.0   80.0   \n",
       "\n",
       "         식전혈당(공복혈당)  요단백  혈청크레아티닌  (혈청지오티)AST  (혈청지오티)ALT  감마지티피  흡연상태  음주여부  \\\n",
       "0              99.0  1.0      1.0        21.0        35.0   40.0   1.0   1.0   \n",
       "1             106.0  1.0      0.9        20.0        36.0   27.0   3.0   0.0   \n",
       "2              98.0  1.0      0.9        47.0        32.0   68.0   1.0   0.0   \n",
       "3              95.0  1.0      1.1        29.0        34.0   18.0   1.0   0.0   \n",
       "4             101.0  1.0      0.8        19.0        12.0   25.0   1.0   0.0   \n",
       "...             ...  ...      ...         ...         ...    ...   ...   ...   \n",
       "1999459       107.0  1.0      0.7        18.0        15.0   19.0   1.0   0.0   \n",
       "1999460       114.0  1.0      1.0        25.0        36.0   90.0   1.0   1.0   \n",
       "1999461        98.0  1.0      0.9        21.0        15.0   36.0   2.0   1.0   \n",
       "1999462        94.0  1.0      1.2        20.0        18.0   14.0   2.0   0.0   \n",
       "1999463        85.0  1.0      1.0        17.0        12.0   11.0   1.0   1.0   \n",
       "\n",
       "           BMI  \n",
       "0        25.95  \n",
       "1        24.69  \n",
       "2        27.55  \n",
       "3        26.12  \n",
       "4        22.04  \n",
       "...        ...  \n",
       "1999459  27.55  \n",
       "1999460  25.95  \n",
       "1999461  26.12  \n",
       "1999462  25.71  \n",
       "1999463  22.04  \n",
       "\n",
       "[1983226 rows x 16 columns]"
      ]
     },
     "execution_count": 24,
     "metadata": {},
     "output_type": "execute_result"
    }
   ],
   "source": [
    "df = df.dropna(axis = 0)\n",
    "df"
   ]
  },
  {
   "cell_type": "markdown",
   "id": "35d929d7",
   "metadata": {},
   "source": [
    "## z-score 적용"
   ]
  },
  {
   "cell_type": "markdown",
   "id": "2568bb1a",
   "metadata": {},
   "source": [
    "이상치 제거 : 허리둘레, 수축기혈압, 이완기혈압, (혈청지오티)AST, (혈청지오티)ALT, 감마지티피, 혈청크레아티닌, 식전혈당(공복혈당)"
   ]
  },
  {
   "cell_type": "code",
   "execution_count": 25,
   "id": "f1e6085c",
   "metadata": {},
   "outputs": [],
   "source": [
    "def z_score_method(df, variable_name):\n",
    "    columns = df.columns\n",
    "    z = np.abs(stats.zscore(df))\n",
    "    threshold = 3\n",
    "    outlier = []\n",
    "    index=0\n",
    "    for item in range(len(columns)):\n",
    "        if columns[item] == variable_name:\n",
    "            index = item\n",
    "    for i, v in enumerate(z[:, index]):\n",
    "        if v > threshold:\n",
    "            outlier.append(i)\n",
    "        else:\n",
    "            continue\n",
    "    return outlier"
   ]
  },
  {
   "cell_type": "code",
   "execution_count": 26,
   "id": "357ebfad",
   "metadata": {},
   "outputs": [],
   "source": [
    "WAIST = set(z_score_method(df, '허리둘레'))\n",
    "suchugi = set(z_score_method(df, '수축기혈압'))\n",
    "ewangi = set(z_score_method(df, '이완기혈압'))\n",
    "AST = set(z_score_method(df, '(혈청지오티)AST'))\n",
    "ALT = set(z_score_method(df, '(혈청지오티)ALT'))\n",
    "gamma = set(z_score_method(df, '감마지티피'))\n",
    "creatinine = set(z_score_method(df, '혈청크레아티닌'))\n",
    "bmi = set(z_score_method(df, 'BMI'))\n",
    "diabetes = set(z_score_method(df,'식전혈당(공복혈당)'))"
   ]
  },
  {
   "cell_type": "code",
   "execution_count": 27,
   "id": "2de173f9",
   "metadata": {},
   "outputs": [
    {
     "data": {
      "text/plain": [
       "116617"
      ]
     },
     "execution_count": 27,
     "metadata": {},
     "output_type": "execute_result"
    }
   ],
   "source": [
    "outlier = WAIST | suchugi | ewangi | AST | ALT | gamma | creatinine | bmi | diabetes\n",
    "outlier = list(outlier)\n",
    "len(outlier)"
   ]
  },
  {
   "cell_type": "markdown",
   "id": "ef53b277",
   "metadata": {},
   "source": [
    "### 날리기 전"
   ]
  },
  {
   "cell_type": "code",
   "execution_count": 28,
   "id": "05d66974",
   "metadata": {},
   "outputs": [
    {
     "data": {
      "text/plain": [
       "성별코드              2.00\n",
       "연령대코드(5세단위)      18.00\n",
       "신장(5Cm단위)       190.00\n",
       "체중(5Kg단위)       140.00\n",
       "허리둘레            999.00\n",
       "수축기혈압           273.00\n",
       "이완기혈압           185.00\n",
       "식전혈당(공복혈당)      872.00\n",
       "요단백               6.00\n",
       "혈청크레아티닌          98.00\n",
       "(혈청지오티)AST     9999.00\n",
       "(혈청지오티)ALT     7210.00\n",
       "감마지티피           999.00\n",
       "흡연상태              3.00\n",
       "음주여부              1.00\n",
       "BMI              45.71\n",
       "dtype: float64"
      ]
     },
     "execution_count": 28,
     "metadata": {},
     "output_type": "execute_result"
    }
   ],
   "source": [
    "df.max()"
   ]
  },
  {
   "cell_type": "code",
   "execution_count": 29,
   "id": "e5ddf0c0",
   "metadata": {},
   "outputs": [
    {
     "data": {
      "text/plain": [
       "성별코드             1.00\n",
       "연령대코드(5세단위)      5.00\n",
       "신장(5Cm단위)      125.00\n",
       "체중(5Kg단위)       25.00\n",
       "허리둘레             1.00\n",
       "수축기혈압           63.00\n",
       "이완기혈압           27.00\n",
       "식전혈당(공복혈당)      23.00\n",
       "요단백              1.00\n",
       "혈청크레아티닌          0.10\n",
       "(혈청지오티)AST       1.00\n",
       "(혈청지오티)ALT       1.00\n",
       "감마지티피            1.00\n",
       "흡연상태             1.00\n",
       "음주여부             0.00\n",
       "BMI             12.49\n",
       "dtype: float64"
      ]
     },
     "execution_count": 29,
     "metadata": {},
     "output_type": "execute_result"
    }
   ],
   "source": [
    "df.min()"
   ]
  },
  {
   "cell_type": "markdown",
   "id": "2b518455",
   "metadata": {},
   "source": [
    "### outlier 날리기"
   ]
  },
  {
   "cell_type": "code",
   "execution_count": 30,
   "id": "b5174c3c",
   "metadata": {},
   "outputs": [
    {
     "data": {
      "text/plain": [
       "1866609"
      ]
     },
     "execution_count": 30,
     "metadata": {},
     "output_type": "execute_result"
    }
   ],
   "source": [
    "df = df.drop(df.index[outlier])\n",
    "len(df)"
   ]
  },
  {
   "cell_type": "markdown",
   "id": "a6a814fe",
   "metadata": {},
   "source": [
    "### 날린 후"
   ]
  },
  {
   "cell_type": "code",
   "execution_count": 31,
   "id": "383a322a",
   "metadata": {},
   "outputs": [
    {
     "data": {
      "text/plain": [
       "성별코드             2.00\n",
       "연령대코드(5세단위)     18.00\n",
       "신장(5Cm단위)      190.00\n",
       "체중(5Kg단위)      120.00\n",
       "허리둘레           114.50\n",
       "수축기혈압          166.00\n",
       "이완기혈압          105.00\n",
       "식전혈당(공복혈당)     173.00\n",
       "요단백              6.00\n",
       "혈청크레아티닌          2.30\n",
       "(혈청지오티)AST     101.00\n",
       "(혈청지오티)ALT     106.00\n",
       "감마지티피          189.00\n",
       "흡연상태             3.00\n",
       "음주여부             1.00\n",
       "BMI             34.29\n",
       "dtype: float64"
      ]
     },
     "execution_count": 31,
     "metadata": {},
     "output_type": "execute_result"
    }
   ],
   "source": [
    "df.max()"
   ]
  },
  {
   "cell_type": "code",
   "execution_count": 32,
   "id": "af7dea14",
   "metadata": {},
   "outputs": [
    {
     "data": {
      "text/plain": [
       "성별코드             1.00\n",
       "연령대코드(5세단위)      5.00\n",
       "신장(5Cm단위)      125.00\n",
       "체중(5Kg단위)       25.00\n",
       "허리둘레            49.00\n",
       "수축기혈압           79.00\n",
       "이완기혈압           47.00\n",
       "식전혈당(공복혈당)      29.00\n",
       "요단백              1.00\n",
       "혈청크레아티닌          0.10\n",
       "(혈청지오티)AST       1.00\n",
       "(혈청지오티)ALT       1.00\n",
       "감마지티피            1.00\n",
       "흡연상태             1.00\n",
       "음주여부             0.00\n",
       "BMI             13.67\n",
       "dtype: float64"
      ]
     },
     "execution_count": 32,
     "metadata": {},
     "output_type": "execute_result"
    }
   ],
   "source": [
    "df.min()"
   ]
  },
  {
   "cell_type": "markdown",
   "id": "77868b47",
   "metadata": {},
   "source": [
    "## 당뇨여부 추가( 1: 당뇨 , 0: 정상)"
   ]
  },
  {
   "cell_type": "code",
   "execution_count": 33,
   "id": "886495a2",
   "metadata": {},
   "outputs": [],
   "source": [
    "df[\"당뇨여부\"] = df[\"식전혈당(공복혈당)\"].apply(lambda x: 1 if x>=126 else 0)"
   ]
  },
  {
   "cell_type": "code",
   "execution_count": 34,
   "id": "0ff75cde",
   "metadata": {},
   "outputs": [
    {
     "data": {
      "text/plain": [
       "107166"
      ]
     },
     "execution_count": 34,
     "metadata": {},
     "output_type": "execute_result"
    }
   ],
   "source": [
    "df['당뇨여부'].sum()"
   ]
  },
  {
   "cell_type": "code",
   "execution_count": 35,
   "id": "b5af51a9",
   "metadata": {},
   "outputs": [
    {
     "data": {
      "text/html": [
       "<div>\n",
       "<style scoped>\n",
       "    .dataframe tbody tr th:only-of-type {\n",
       "        vertical-align: middle;\n",
       "    }\n",
       "\n",
       "    .dataframe tbody tr th {\n",
       "        vertical-align: top;\n",
       "    }\n",
       "\n",
       "    .dataframe thead th {\n",
       "        text-align: right;\n",
       "    }\n",
       "</style>\n",
       "<table border=\"1\" class=\"dataframe\">\n",
       "  <thead>\n",
       "    <tr style=\"text-align: right;\">\n",
       "      <th></th>\n",
       "      <th>성별코드</th>\n",
       "      <th>연령대코드(5세단위)</th>\n",
       "      <th>신장(5Cm단위)</th>\n",
       "      <th>체중(5Kg단위)</th>\n",
       "      <th>허리둘레</th>\n",
       "      <th>수축기혈압</th>\n",
       "      <th>이완기혈압</th>\n",
       "      <th>식전혈당(공복혈당)</th>\n",
       "      <th>요단백</th>\n",
       "      <th>혈청크레아티닌</th>\n",
       "      <th>(혈청지오티)AST</th>\n",
       "      <th>(혈청지오티)ALT</th>\n",
       "      <th>감마지티피</th>\n",
       "      <th>흡연상태</th>\n",
       "      <th>음주여부</th>\n",
       "      <th>BMI</th>\n",
       "      <th>당뇨여부</th>\n",
       "    </tr>\n",
       "  </thead>\n",
       "  <tbody>\n",
       "    <tr>\n",
       "      <th>0</th>\n",
       "      <td>1</td>\n",
       "      <td>8</td>\n",
       "      <td>170</td>\n",
       "      <td>75</td>\n",
       "      <td>90.0</td>\n",
       "      <td>120.0</td>\n",
       "      <td>80.0</td>\n",
       "      <td>99.0</td>\n",
       "      <td>1.0</td>\n",
       "      <td>1.0</td>\n",
       "      <td>21.0</td>\n",
       "      <td>35.0</td>\n",
       "      <td>40.0</td>\n",
       "      <td>1.0</td>\n",
       "      <td>1.0</td>\n",
       "      <td>25.95</td>\n",
       "      <td>0</td>\n",
       "    </tr>\n",
       "    <tr>\n",
       "      <th>1</th>\n",
       "      <td>1</td>\n",
       "      <td>7</td>\n",
       "      <td>180</td>\n",
       "      <td>80</td>\n",
       "      <td>89.0</td>\n",
       "      <td>130.0</td>\n",
       "      <td>82.0</td>\n",
       "      <td>106.0</td>\n",
       "      <td>1.0</td>\n",
       "      <td>0.9</td>\n",
       "      <td>20.0</td>\n",
       "      <td>36.0</td>\n",
       "      <td>27.0</td>\n",
       "      <td>3.0</td>\n",
       "      <td>0.0</td>\n",
       "      <td>24.69</td>\n",
       "      <td>0</td>\n",
       "    </tr>\n",
       "    <tr>\n",
       "      <th>2</th>\n",
       "      <td>1</td>\n",
       "      <td>9</td>\n",
       "      <td>165</td>\n",
       "      <td>75</td>\n",
       "      <td>91.0</td>\n",
       "      <td>120.0</td>\n",
       "      <td>70.0</td>\n",
       "      <td>98.0</td>\n",
       "      <td>1.0</td>\n",
       "      <td>0.9</td>\n",
       "      <td>47.0</td>\n",
       "      <td>32.0</td>\n",
       "      <td>68.0</td>\n",
       "      <td>1.0</td>\n",
       "      <td>0.0</td>\n",
       "      <td>27.55</td>\n",
       "      <td>0</td>\n",
       "    </tr>\n",
       "    <tr>\n",
       "      <th>3</th>\n",
       "      <td>1</td>\n",
       "      <td>11</td>\n",
       "      <td>175</td>\n",
       "      <td>80</td>\n",
       "      <td>91.0</td>\n",
       "      <td>145.0</td>\n",
       "      <td>87.0</td>\n",
       "      <td>95.0</td>\n",
       "      <td>1.0</td>\n",
       "      <td>1.1</td>\n",
       "      <td>29.0</td>\n",
       "      <td>34.0</td>\n",
       "      <td>18.0</td>\n",
       "      <td>1.0</td>\n",
       "      <td>0.0</td>\n",
       "      <td>26.12</td>\n",
       "      <td>0</td>\n",
       "    </tr>\n",
       "    <tr>\n",
       "      <th>4</th>\n",
       "      <td>1</td>\n",
       "      <td>11</td>\n",
       "      <td>165</td>\n",
       "      <td>60</td>\n",
       "      <td>80.0</td>\n",
       "      <td>138.0</td>\n",
       "      <td>82.0</td>\n",
       "      <td>101.0</td>\n",
       "      <td>1.0</td>\n",
       "      <td>0.8</td>\n",
       "      <td>19.0</td>\n",
       "      <td>12.0</td>\n",
       "      <td>25.0</td>\n",
       "      <td>1.0</td>\n",
       "      <td>0.0</td>\n",
       "      <td>22.04</td>\n",
       "      <td>0</td>\n",
       "    </tr>\n",
       "    <tr>\n",
       "      <th>...</th>\n",
       "      <td>...</td>\n",
       "      <td>...</td>\n",
       "      <td>...</td>\n",
       "      <td>...</td>\n",
       "      <td>...</td>\n",
       "      <td>...</td>\n",
       "      <td>...</td>\n",
       "      <td>...</td>\n",
       "      <td>...</td>\n",
       "      <td>...</td>\n",
       "      <td>...</td>\n",
       "      <td>...</td>\n",
       "      <td>...</td>\n",
       "      <td>...</td>\n",
       "      <td>...</td>\n",
       "      <td>...</td>\n",
       "      <td>...</td>\n",
       "    </tr>\n",
       "    <tr>\n",
       "      <th>1999459</th>\n",
       "      <td>2</td>\n",
       "      <td>11</td>\n",
       "      <td>165</td>\n",
       "      <td>75</td>\n",
       "      <td>84.0</td>\n",
       "      <td>110.0</td>\n",
       "      <td>70.0</td>\n",
       "      <td>107.0</td>\n",
       "      <td>1.0</td>\n",
       "      <td>0.7</td>\n",
       "      <td>18.0</td>\n",
       "      <td>15.0</td>\n",
       "      <td>19.0</td>\n",
       "      <td>1.0</td>\n",
       "      <td>0.0</td>\n",
       "      <td>27.55</td>\n",
       "      <td>0</td>\n",
       "    </tr>\n",
       "    <tr>\n",
       "      <th>1999460</th>\n",
       "      <td>1</td>\n",
       "      <td>7</td>\n",
       "      <td>170</td>\n",
       "      <td>75</td>\n",
       "      <td>88.0</td>\n",
       "      <td>136.0</td>\n",
       "      <td>88.0</td>\n",
       "      <td>114.0</td>\n",
       "      <td>1.0</td>\n",
       "      <td>1.0</td>\n",
       "      <td>25.0</td>\n",
       "      <td>36.0</td>\n",
       "      <td>90.0</td>\n",
       "      <td>1.0</td>\n",
       "      <td>1.0</td>\n",
       "      <td>25.95</td>\n",
       "      <td>0</td>\n",
       "    </tr>\n",
       "    <tr>\n",
       "      <th>1999461</th>\n",
       "      <td>1</td>\n",
       "      <td>8</td>\n",
       "      <td>175</td>\n",
       "      <td>80</td>\n",
       "      <td>87.0</td>\n",
       "      <td>162.0</td>\n",
       "      <td>90.0</td>\n",
       "      <td>98.0</td>\n",
       "      <td>1.0</td>\n",
       "      <td>0.9</td>\n",
       "      <td>21.0</td>\n",
       "      <td>15.0</td>\n",
       "      <td>36.0</td>\n",
       "      <td>2.0</td>\n",
       "      <td>1.0</td>\n",
       "      <td>26.12</td>\n",
       "      <td>0</td>\n",
       "    </tr>\n",
       "    <tr>\n",
       "      <th>1999462</th>\n",
       "      <td>1</td>\n",
       "      <td>11</td>\n",
       "      <td>165</td>\n",
       "      <td>70</td>\n",
       "      <td>80.2</td>\n",
       "      <td>140.0</td>\n",
       "      <td>98.0</td>\n",
       "      <td>94.0</td>\n",
       "      <td>1.0</td>\n",
       "      <td>1.2</td>\n",
       "      <td>20.0</td>\n",
       "      <td>18.0</td>\n",
       "      <td>14.0</td>\n",
       "      <td>2.0</td>\n",
       "      <td>0.0</td>\n",
       "      <td>25.71</td>\n",
       "      <td>0</td>\n",
       "    </tr>\n",
       "    <tr>\n",
       "      <th>1999463</th>\n",
       "      <td>1</td>\n",
       "      <td>5</td>\n",
       "      <td>165</td>\n",
       "      <td>60</td>\n",
       "      <td>70.0</td>\n",
       "      <td>120.0</td>\n",
       "      <td>80.0</td>\n",
       "      <td>85.0</td>\n",
       "      <td>1.0</td>\n",
       "      <td>1.0</td>\n",
       "      <td>17.0</td>\n",
       "      <td>12.0</td>\n",
       "      <td>11.0</td>\n",
       "      <td>1.0</td>\n",
       "      <td>1.0</td>\n",
       "      <td>22.04</td>\n",
       "      <td>0</td>\n",
       "    </tr>\n",
       "  </tbody>\n",
       "</table>\n",
       "<p>1866609 rows × 17 columns</p>\n",
       "</div>"
      ],
      "text/plain": [
       "         성별코드  연령대코드(5세단위)  신장(5Cm단위)  체중(5Kg단위)  허리둘레  수축기혈압  이완기혈압  \\\n",
       "0           1            8        170         75  90.0  120.0   80.0   \n",
       "1           1            7        180         80  89.0  130.0   82.0   \n",
       "2           1            9        165         75  91.0  120.0   70.0   \n",
       "3           1           11        175         80  91.0  145.0   87.0   \n",
       "4           1           11        165         60  80.0  138.0   82.0   \n",
       "...       ...          ...        ...        ...   ...    ...    ...   \n",
       "1999459     2           11        165         75  84.0  110.0   70.0   \n",
       "1999460     1            7        170         75  88.0  136.0   88.0   \n",
       "1999461     1            8        175         80  87.0  162.0   90.0   \n",
       "1999462     1           11        165         70  80.2  140.0   98.0   \n",
       "1999463     1            5        165         60  70.0  120.0   80.0   \n",
       "\n",
       "         식전혈당(공복혈당)  요단백  혈청크레아티닌  (혈청지오티)AST  (혈청지오티)ALT  감마지티피  흡연상태  음주여부  \\\n",
       "0              99.0  1.0      1.0        21.0        35.0   40.0   1.0   1.0   \n",
       "1             106.0  1.0      0.9        20.0        36.0   27.0   3.0   0.0   \n",
       "2              98.0  1.0      0.9        47.0        32.0   68.0   1.0   0.0   \n",
       "3              95.0  1.0      1.1        29.0        34.0   18.0   1.0   0.0   \n",
       "4             101.0  1.0      0.8        19.0        12.0   25.0   1.0   0.0   \n",
       "...             ...  ...      ...         ...         ...    ...   ...   ...   \n",
       "1999459       107.0  1.0      0.7        18.0        15.0   19.0   1.0   0.0   \n",
       "1999460       114.0  1.0      1.0        25.0        36.0   90.0   1.0   1.0   \n",
       "1999461        98.0  1.0      0.9        21.0        15.0   36.0   2.0   1.0   \n",
       "1999462        94.0  1.0      1.2        20.0        18.0   14.0   2.0   0.0   \n",
       "1999463        85.0  1.0      1.0        17.0        12.0   11.0   1.0   1.0   \n",
       "\n",
       "           BMI  당뇨여부  \n",
       "0        25.95     0  \n",
       "1        24.69     0  \n",
       "2        27.55     0  \n",
       "3        26.12     0  \n",
       "4        22.04     0  \n",
       "...        ...   ...  \n",
       "1999459  27.55     0  \n",
       "1999460  25.95     0  \n",
       "1999461  26.12     0  \n",
       "1999462  25.71     0  \n",
       "1999463  22.04     0  \n",
       "\n",
       "[1866609 rows x 17 columns]"
      ]
     },
     "execution_count": 35,
     "metadata": {},
     "output_type": "execute_result"
    }
   ],
   "source": [
    "df"
   ]
  },
  {
   "cell_type": "code",
   "execution_count": 36,
   "id": "eea808d0",
   "metadata": {},
   "outputs": [],
   "source": [
    "# df.to_csv(\"dataset.csv\", encoding = \"UTF-8\")"
   ]
  },
  {
   "cell_type": "code",
   "execution_count": null,
   "id": "506ee5bb",
   "metadata": {},
   "outputs": [],
   "source": []
  },
  {
   "cell_type": "code",
   "execution_count": null,
   "id": "b26d80fd",
   "metadata": {},
   "outputs": [],
   "source": []
  },
  {
   "cell_type": "code",
   "execution_count": null,
   "id": "3ec9d777",
   "metadata": {},
   "outputs": [],
   "source": []
  },
  {
   "cell_type": "code",
   "execution_count": null,
   "id": "9bc2fbd7",
   "metadata": {},
   "outputs": [],
   "source": []
  },
  {
   "cell_type": "markdown",
   "id": "40db2c4e",
   "metadata": {},
   "source": [
    "# Model 적용"
   ]
  },
  {
   "cell_type": "markdown",
   "id": "af2931c3",
   "metadata": {},
   "source": [
    "당뇨 여부를 126 이상은 1, 미만은 0으로 이진분류로 나누었기 때문에 회귀 모델이 아닌 분류 모델을 사용했다."
   ]
  },
  {
   "cell_type": "markdown",
   "id": "a318c3d6",
   "metadata": {},
   "source": [
    "## random forest"
   ]
  },
  {
   "cell_type": "markdown",
   "id": "3f91ffd4",
   "metadata": {},
   "source": [
    "여러 결정트리의 묶음으로, 각 트리는 비교적 예측을 잘 할 수 있지만 데이터의 일부에 과대적합하는 경향을 가진다는데 기초한다. 즉 서로다른 방향으로 과대적합된 트리를 많이 만들고 그 결과를 평균냄으로써 과대적합된 양을 줄이는 것이다. 이렇게 하면 트리 모델의 예측 성능이 유지되면서 과대적합이 줄어들게 된다.   \n",
    "\n",
    "총 100개의 트리를 이용한 randomforest 구현"
   ]
  },
  {
   "cell_type": "code",
   "execution_count": 37,
   "id": "1f57a977",
   "metadata": {},
   "outputs": [],
   "source": [
    "from sklearn.model_selection import train_test_split\n",
    "from sklearn.ensemble import RandomForestClassifier\n",
    "import mglearn"
   ]
  },
  {
   "cell_type": "code",
   "execution_count": 38,
   "id": "135d12b6",
   "metadata": {},
   "outputs": [
    {
     "data": {
      "text/html": [
       "<div>\n",
       "<style scoped>\n",
       "    .dataframe tbody tr th:only-of-type {\n",
       "        vertical-align: middle;\n",
       "    }\n",
       "\n",
       "    .dataframe tbody tr th {\n",
       "        vertical-align: top;\n",
       "    }\n",
       "\n",
       "    .dataframe thead th {\n",
       "        text-align: right;\n",
       "    }\n",
       "</style>\n",
       "<table border=\"1\" class=\"dataframe\">\n",
       "  <thead>\n",
       "    <tr style=\"text-align: right;\">\n",
       "      <th></th>\n",
       "      <th>성별코드</th>\n",
       "      <th>연령대코드(5세단위)</th>\n",
       "      <th>신장(5Cm단위)</th>\n",
       "      <th>체중(5Kg단위)</th>\n",
       "      <th>허리둘레</th>\n",
       "      <th>수축기혈압</th>\n",
       "      <th>이완기혈압</th>\n",
       "      <th>요단백</th>\n",
       "      <th>혈청크레아티닌</th>\n",
       "      <th>(혈청지오티)AST</th>\n",
       "      <th>(혈청지오티)ALT</th>\n",
       "      <th>감마지티피</th>\n",
       "      <th>흡연상태</th>\n",
       "      <th>음주여부</th>\n",
       "      <th>BMI</th>\n",
       "    </tr>\n",
       "  </thead>\n",
       "  <tbody>\n",
       "    <tr>\n",
       "      <th>0</th>\n",
       "      <td>1</td>\n",
       "      <td>8</td>\n",
       "      <td>170</td>\n",
       "      <td>75</td>\n",
       "      <td>90.0</td>\n",
       "      <td>120.0</td>\n",
       "      <td>80.0</td>\n",
       "      <td>1.0</td>\n",
       "      <td>1.0</td>\n",
       "      <td>21.0</td>\n",
       "      <td>35.0</td>\n",
       "      <td>40.0</td>\n",
       "      <td>1.0</td>\n",
       "      <td>1.0</td>\n",
       "      <td>25.95</td>\n",
       "    </tr>\n",
       "    <tr>\n",
       "      <th>1</th>\n",
       "      <td>1</td>\n",
       "      <td>7</td>\n",
       "      <td>180</td>\n",
       "      <td>80</td>\n",
       "      <td>89.0</td>\n",
       "      <td>130.0</td>\n",
       "      <td>82.0</td>\n",
       "      <td>1.0</td>\n",
       "      <td>0.9</td>\n",
       "      <td>20.0</td>\n",
       "      <td>36.0</td>\n",
       "      <td>27.0</td>\n",
       "      <td>3.0</td>\n",
       "      <td>0.0</td>\n",
       "      <td>24.69</td>\n",
       "    </tr>\n",
       "    <tr>\n",
       "      <th>2</th>\n",
       "      <td>1</td>\n",
       "      <td>9</td>\n",
       "      <td>165</td>\n",
       "      <td>75</td>\n",
       "      <td>91.0</td>\n",
       "      <td>120.0</td>\n",
       "      <td>70.0</td>\n",
       "      <td>1.0</td>\n",
       "      <td>0.9</td>\n",
       "      <td>47.0</td>\n",
       "      <td>32.0</td>\n",
       "      <td>68.0</td>\n",
       "      <td>1.0</td>\n",
       "      <td>0.0</td>\n",
       "      <td>27.55</td>\n",
       "    </tr>\n",
       "    <tr>\n",
       "      <th>3</th>\n",
       "      <td>1</td>\n",
       "      <td>11</td>\n",
       "      <td>175</td>\n",
       "      <td>80</td>\n",
       "      <td>91.0</td>\n",
       "      <td>145.0</td>\n",
       "      <td>87.0</td>\n",
       "      <td>1.0</td>\n",
       "      <td>1.1</td>\n",
       "      <td>29.0</td>\n",
       "      <td>34.0</td>\n",
       "      <td>18.0</td>\n",
       "      <td>1.0</td>\n",
       "      <td>0.0</td>\n",
       "      <td>26.12</td>\n",
       "    </tr>\n",
       "    <tr>\n",
       "      <th>4</th>\n",
       "      <td>1</td>\n",
       "      <td>11</td>\n",
       "      <td>165</td>\n",
       "      <td>60</td>\n",
       "      <td>80.0</td>\n",
       "      <td>138.0</td>\n",
       "      <td>82.0</td>\n",
       "      <td>1.0</td>\n",
       "      <td>0.8</td>\n",
       "      <td>19.0</td>\n",
       "      <td>12.0</td>\n",
       "      <td>25.0</td>\n",
       "      <td>1.0</td>\n",
       "      <td>0.0</td>\n",
       "      <td>22.04</td>\n",
       "    </tr>\n",
       "    <tr>\n",
       "      <th>...</th>\n",
       "      <td>...</td>\n",
       "      <td>...</td>\n",
       "      <td>...</td>\n",
       "      <td>...</td>\n",
       "      <td>...</td>\n",
       "      <td>...</td>\n",
       "      <td>...</td>\n",
       "      <td>...</td>\n",
       "      <td>...</td>\n",
       "      <td>...</td>\n",
       "      <td>...</td>\n",
       "      <td>...</td>\n",
       "      <td>...</td>\n",
       "      <td>...</td>\n",
       "      <td>...</td>\n",
       "    </tr>\n",
       "    <tr>\n",
       "      <th>1999459</th>\n",
       "      <td>2</td>\n",
       "      <td>11</td>\n",
       "      <td>165</td>\n",
       "      <td>75</td>\n",
       "      <td>84.0</td>\n",
       "      <td>110.0</td>\n",
       "      <td>70.0</td>\n",
       "      <td>1.0</td>\n",
       "      <td>0.7</td>\n",
       "      <td>18.0</td>\n",
       "      <td>15.0</td>\n",
       "      <td>19.0</td>\n",
       "      <td>1.0</td>\n",
       "      <td>0.0</td>\n",
       "      <td>27.55</td>\n",
       "    </tr>\n",
       "    <tr>\n",
       "      <th>1999460</th>\n",
       "      <td>1</td>\n",
       "      <td>7</td>\n",
       "      <td>170</td>\n",
       "      <td>75</td>\n",
       "      <td>88.0</td>\n",
       "      <td>136.0</td>\n",
       "      <td>88.0</td>\n",
       "      <td>1.0</td>\n",
       "      <td>1.0</td>\n",
       "      <td>25.0</td>\n",
       "      <td>36.0</td>\n",
       "      <td>90.0</td>\n",
       "      <td>1.0</td>\n",
       "      <td>1.0</td>\n",
       "      <td>25.95</td>\n",
       "    </tr>\n",
       "    <tr>\n",
       "      <th>1999461</th>\n",
       "      <td>1</td>\n",
       "      <td>8</td>\n",
       "      <td>175</td>\n",
       "      <td>80</td>\n",
       "      <td>87.0</td>\n",
       "      <td>162.0</td>\n",
       "      <td>90.0</td>\n",
       "      <td>1.0</td>\n",
       "      <td>0.9</td>\n",
       "      <td>21.0</td>\n",
       "      <td>15.0</td>\n",
       "      <td>36.0</td>\n",
       "      <td>2.0</td>\n",
       "      <td>1.0</td>\n",
       "      <td>26.12</td>\n",
       "    </tr>\n",
       "    <tr>\n",
       "      <th>1999462</th>\n",
       "      <td>1</td>\n",
       "      <td>11</td>\n",
       "      <td>165</td>\n",
       "      <td>70</td>\n",
       "      <td>80.2</td>\n",
       "      <td>140.0</td>\n",
       "      <td>98.0</td>\n",
       "      <td>1.0</td>\n",
       "      <td>1.2</td>\n",
       "      <td>20.0</td>\n",
       "      <td>18.0</td>\n",
       "      <td>14.0</td>\n",
       "      <td>2.0</td>\n",
       "      <td>0.0</td>\n",
       "      <td>25.71</td>\n",
       "    </tr>\n",
       "    <tr>\n",
       "      <th>1999463</th>\n",
       "      <td>1</td>\n",
       "      <td>5</td>\n",
       "      <td>165</td>\n",
       "      <td>60</td>\n",
       "      <td>70.0</td>\n",
       "      <td>120.0</td>\n",
       "      <td>80.0</td>\n",
       "      <td>1.0</td>\n",
       "      <td>1.0</td>\n",
       "      <td>17.0</td>\n",
       "      <td>12.0</td>\n",
       "      <td>11.0</td>\n",
       "      <td>1.0</td>\n",
       "      <td>1.0</td>\n",
       "      <td>22.04</td>\n",
       "    </tr>\n",
       "  </tbody>\n",
       "</table>\n",
       "<p>1866609 rows × 15 columns</p>\n",
       "</div>"
      ],
      "text/plain": [
       "         성별코드  연령대코드(5세단위)  신장(5Cm단위)  체중(5Kg단위)  허리둘레  수축기혈압  이완기혈압  요단백  \\\n",
       "0           1            8        170         75  90.0  120.0   80.0  1.0   \n",
       "1           1            7        180         80  89.0  130.0   82.0  1.0   \n",
       "2           1            9        165         75  91.0  120.0   70.0  1.0   \n",
       "3           1           11        175         80  91.0  145.0   87.0  1.0   \n",
       "4           1           11        165         60  80.0  138.0   82.0  1.0   \n",
       "...       ...          ...        ...        ...   ...    ...    ...  ...   \n",
       "1999459     2           11        165         75  84.0  110.0   70.0  1.0   \n",
       "1999460     1            7        170         75  88.0  136.0   88.0  1.0   \n",
       "1999461     1            8        175         80  87.0  162.0   90.0  1.0   \n",
       "1999462     1           11        165         70  80.2  140.0   98.0  1.0   \n",
       "1999463     1            5        165         60  70.0  120.0   80.0  1.0   \n",
       "\n",
       "         혈청크레아티닌  (혈청지오티)AST  (혈청지오티)ALT  감마지티피  흡연상태  음주여부    BMI  \n",
       "0            1.0        21.0        35.0   40.0   1.0   1.0  25.95  \n",
       "1            0.9        20.0        36.0   27.0   3.0   0.0  24.69  \n",
       "2            0.9        47.0        32.0   68.0   1.0   0.0  27.55  \n",
       "3            1.1        29.0        34.0   18.0   1.0   0.0  26.12  \n",
       "4            0.8        19.0        12.0   25.0   1.0   0.0  22.04  \n",
       "...          ...         ...         ...    ...   ...   ...    ...  \n",
       "1999459      0.7        18.0        15.0   19.0   1.0   0.0  27.55  \n",
       "1999460      1.0        25.0        36.0   90.0   1.0   1.0  25.95  \n",
       "1999461      0.9        21.0        15.0   36.0   2.0   1.0  26.12  \n",
       "1999462      1.2        20.0        18.0   14.0   2.0   0.0  25.71  \n",
       "1999463      1.0        17.0        12.0   11.0   1.0   1.0  22.04  \n",
       "\n",
       "[1866609 rows x 15 columns]"
      ]
     },
     "execution_count": 38,
     "metadata": {},
     "output_type": "execute_result"
    }
   ],
   "source": [
    "X = df.drop(['당뇨여부','식전혈당(공복혈당)'], axis=1)\n",
    "X"
   ]
  },
  {
   "cell_type": "code",
   "execution_count": 39,
   "id": "c3dd5aa0",
   "metadata": {},
   "outputs": [
    {
     "data": {
      "text/html": [
       "<div>\n",
       "<style scoped>\n",
       "    .dataframe tbody tr th:only-of-type {\n",
       "        vertical-align: middle;\n",
       "    }\n",
       "\n",
       "    .dataframe tbody tr th {\n",
       "        vertical-align: top;\n",
       "    }\n",
       "\n",
       "    .dataframe thead th {\n",
       "        text-align: right;\n",
       "    }\n",
       "</style>\n",
       "<table border=\"1\" class=\"dataframe\">\n",
       "  <thead>\n",
       "    <tr style=\"text-align: right;\">\n",
       "      <th></th>\n",
       "      <th>당뇨여부</th>\n",
       "    </tr>\n",
       "  </thead>\n",
       "  <tbody>\n",
       "    <tr>\n",
       "      <th>0</th>\n",
       "      <td>0</td>\n",
       "    </tr>\n",
       "    <tr>\n",
       "      <th>1</th>\n",
       "      <td>0</td>\n",
       "    </tr>\n",
       "    <tr>\n",
       "      <th>2</th>\n",
       "      <td>0</td>\n",
       "    </tr>\n",
       "    <tr>\n",
       "      <th>3</th>\n",
       "      <td>0</td>\n",
       "    </tr>\n",
       "    <tr>\n",
       "      <th>4</th>\n",
       "      <td>0</td>\n",
       "    </tr>\n",
       "    <tr>\n",
       "      <th>...</th>\n",
       "      <td>...</td>\n",
       "    </tr>\n",
       "    <tr>\n",
       "      <th>1999459</th>\n",
       "      <td>0</td>\n",
       "    </tr>\n",
       "    <tr>\n",
       "      <th>1999460</th>\n",
       "      <td>0</td>\n",
       "    </tr>\n",
       "    <tr>\n",
       "      <th>1999461</th>\n",
       "      <td>0</td>\n",
       "    </tr>\n",
       "    <tr>\n",
       "      <th>1999462</th>\n",
       "      <td>0</td>\n",
       "    </tr>\n",
       "    <tr>\n",
       "      <th>1999463</th>\n",
       "      <td>0</td>\n",
       "    </tr>\n",
       "  </tbody>\n",
       "</table>\n",
       "<p>1866609 rows × 1 columns</p>\n",
       "</div>"
      ],
      "text/plain": [
       "         당뇨여부\n",
       "0           0\n",
       "1           0\n",
       "2           0\n",
       "3           0\n",
       "4           0\n",
       "...       ...\n",
       "1999459     0\n",
       "1999460     0\n",
       "1999461     0\n",
       "1999462     0\n",
       "1999463     0\n",
       "\n",
       "[1866609 rows x 1 columns]"
      ]
     },
     "execution_count": 39,
     "metadata": {},
     "output_type": "execute_result"
    }
   ],
   "source": [
    "y = df[['당뇨여부']]\n",
    "y"
   ]
  },
  {
   "cell_type": "code",
   "execution_count": 40,
   "id": "f39050e1",
   "metadata": {},
   "outputs": [
    {
     "data": {
      "text/plain": [
       "107166"
      ]
     },
     "execution_count": 40,
     "metadata": {},
     "output_type": "execute_result"
    }
   ],
   "source": [
    "sum(y['당뇨여부'])"
   ]
  },
  {
   "cell_type": "code",
   "execution_count": 41,
   "id": "f546fd3f",
   "metadata": {},
   "outputs": [
    {
     "data": {
      "text/plain": [
       "RandomForestClassifier(random_state=2)"
      ]
     },
     "execution_count": 41,
     "metadata": {},
     "output_type": "execute_result"
    }
   ],
   "source": [
    "X_train, X_test, y_train, y_test = train_test_split(X,y,stratify = y, random_state=42)\n",
    "\n",
    "forest = RandomForestClassifier(n_estimators=100, random_state=2)\n",
    "forest.fit(X_train, y_train)"
   ]
  },
  {
   "cell_type": "code",
   "execution_count": 42,
   "id": "20d21e7f",
   "metadata": {},
   "outputs": [
    {
     "name": "stdout",
     "output_type": "stream",
     "text": [
      "TrainSet accuarcy : 1.000\n",
      "TestSet accuarcy : 0.943\n"
     ]
    }
   ],
   "source": [
    "print(\"TrainSet accuarcy : {:.3f}\".format(forest.score(X_train, y_train)))\n",
    "print(\"TestSet accuarcy : {:.3f}\".format(forest.score(X_test, y_test)))"
   ]
  },
  {
   "cell_type": "code",
   "execution_count": 43,
   "id": "91c7efac",
   "metadata": {},
   "outputs": [
    {
     "name": "stdout",
     "output_type": "stream",
     "text": [
      "[0.00750326 0.06482825 0.04168742 0.03973506 0.11071461 0.10701877\n",
      " 0.10209562 0.01386979 0.07411425 0.10514933 0.10766832 0.11803776\n",
      " 0.02438169 0.01646282 0.06673305]\n"
     ]
    },
    {
     "data": {
      "text/plain": [
       "numpy.ndarray"
      ]
     },
     "execution_count": 43,
     "metadata": {},
     "output_type": "execute_result"
    }
   ],
   "source": [
    "print(forest.feature_importances_)\n",
    "\n",
    "type(forest.feature_importances_)"
   ]
  },
  {
   "cell_type": "code",
   "execution_count": 44,
   "id": "f65bf649",
   "metadata": {},
   "outputs": [],
   "source": [
    "def plot_model(model):\n",
    "    n_features = len(X.columns)\n",
    "    feature_names = X.columns\n",
    "    plt.barh(np.arange(n_features), model.feature_importances_, align=\"center\")\n",
    "    plt.yticks(np.arange(n_features), feature_names)\n",
    "    plt.xlabel(\"특성 중요도\")\n",
    "    plt.ylabel(\"특성\")\n",
    "    plt.ylim(-1, n_features)"
   ]
  },
  {
   "cell_type": "code",
   "execution_count": 45,
   "id": "15bf0d59",
   "metadata": {},
   "outputs": [
    {
     "data": {
      "image/png": "[encoded data removed]",
      "text/plain": [
       "<Figure size 432x288 with 1 Axes>"
      ]
     },
     "metadata": {
      "image/png": {
       "height": 261,
       "width": 467
      }
     },
     "output_type": "display_data"
    }
   ],
   "source": [
    "plot_model(forest)"
   ]
  },
  {
   "cell_type": "markdown",
   "id": "ed751bec",
   "metadata": {},
   "source": [
    "## Lasso"
   ]
  },
  {
   "cell_type": "code",
   "execution_count": 46,
   "id": "7e03f7d7",
   "metadata": {},
   "outputs": [
    {
     "name": "stdout",
     "output_type": "stream",
     "text": [
      "TrainSet accuarcy : 0.050\n",
      "TestSet accuarcy : 0.050\n"
     ]
    }
   ],
   "source": [
    "from sklearn.linear_model import Lasso\n",
    "\n",
    "lasso = Lasso(alpha=0.0001, max_iter=100000).fit(X_train, y_train)\n",
    "\n",
    "print(\"TrainSet accuarcy : {:.3f}\".format(lasso.score(X_train, y_train)))\n",
    "print(\"TestSet accuarcy : {:.3f}\".format(lasso.score(X_test, y_test)))"
   ]
  },
  {
   "cell_type": "code",
   "execution_count": 47,
   "id": "3cb85da3",
   "metadata": {},
   "outputs": [
    {
     "name": "stdout",
     "output_type": "stream",
     "text": [
      "[-0.0009785   0.01076697  0.00236628 -0.00360671  0.00180979  0.00097255\n",
      " -0.00091031  0.0305589   0.00115929 -0.00074855  0.00110487  0.00053375\n",
      "  0.00343108  0.          0.00882757]\n"
     ]
    }
   ],
   "source": [
    "print(lasso.coef_)"
   ]
  },
  {
   "cell_type": "markdown",
   "id": "8c3cb401",
   "metadata": {},
   "source": [
    "라소는 이진분류 모델이 아니다."
   ]
  },
  {
   "cell_type": "markdown",
   "id": "e1e9160a",
   "metadata": {},
   "source": [
    "## Logistic Regression"
   ]
  },
  {
   "cell_type": "markdown",
   "id": "89be8bf7",
   "metadata": {},
   "source": [
    "독립변수의 선형 결합을 이용하여 사건의 발생 가능성을 예측하는데 사용되는 통계 기법."
   ]
  },
  {
   "cell_type": "code",
   "execution_count": 48,
   "id": "0bc6317c",
   "metadata": {},
   "outputs": [],
   "source": [
    "from sklearn.linear_model import LogisticRegression"
   ]
  },
  {
   "cell_type": "code",
   "execution_count": 49,
   "id": "9e8df83f",
   "metadata": {},
   "outputs": [
    {
     "name": "stdout",
     "output_type": "stream",
     "text": [
      "TrainSet accuarcy : 0.94254\n",
      "TestSet accuarcy : 0.94244\n"
     ]
    }
   ],
   "source": [
    "X_train, X_test, y_train, y_test = train_test_split(X,y, random_state=42)\n",
    "\n",
    "logR = LogisticRegression().fit(X_train, y_train)\n",
    "\n",
    "print(\"TrainSet accuarcy : {:.5f}\".format(logR.score(X_train, y_train)))\n",
    "print(\"TestSet accuarcy : {:.5f}\".format(logR.score(X_test, y_test)))"
   ]
  },
  {
   "cell_type": "code",
   "execution_count": 50,
   "id": "f27b4f57",
   "metadata": {},
   "outputs": [],
   "source": [
    "def plot_model2(model):\n",
    "    n_features = len(X.columns)\n",
    "    feature_names = X.columns\n",
    "    coef = np.concatenate(model.coef_).tolist()\n",
    "    plt.barh(np.arange(n_features), coef, align=\"center\")\n",
    "    plt.yticks(np.arange(n_features), feature_names)\n",
    "    plt.xlabel(\"특성 중요도\")\n",
    "    plt.ylabel(\"특성\")\n",
    "    plt.ylim(-1, n_features)"
   ]
  },
  {
   "cell_type": "code",
   "execution_count": 51,
   "id": "62cba718",
   "metadata": {},
   "outputs": [
    {
     "data": {
      "image/png": "[encoded data removed]",
      "text/plain": [
       "<Figure size 432x288 with 1 Axes>"
      ]
     },
     "metadata": {
      "image/png": {
       "height": 261,
       "width": 466
      }
     },
     "output_type": "display_data"
    }
   ],
   "source": [
    "plot_model2(logR)"
   ]
  },
  {
   "cell_type": "code",
   "execution_count": 52,
   "id": "5d1845db",
   "metadata": {},
   "outputs": [
    {
     "name": "stdout",
     "output_type": "stream",
     "text": [
      "[[-0.07188588  0.25030507 -0.06601712  0.07705544  0.03726788  0.01354174\n",
      "  -0.00584952  0.07520789  0.01204356 -0.0131931   0.01971123  0.00740939\n",
      "   0.07870521  0.00481594 -0.19905292]]\n"
     ]
    }
   ],
   "source": [
    "print(logR.coef_)"
   ]
  },
  {
   "cell_type": "markdown",
   "id": "db4b69ac",
   "metadata": {},
   "source": [
    "## linearSVC (support vector classifier)"
   ]
  },
  {
   "cell_type": "markdown",
   "id": "d7fcd91b",
   "metadata": {},
   "source": [
    "선형 서포트 벡터 머신"
   ]
  },
  {
   "cell_type": "code",
   "execution_count": 53,
   "id": "17c6193c",
   "metadata": {},
   "outputs": [],
   "source": [
    "from sklearn.svm import LinearSVC"
   ]
  },
  {
   "cell_type": "code",
   "execution_count": 54,
   "id": "4b45c056",
   "metadata": {},
   "outputs": [
    {
     "name": "stdout",
     "output_type": "stream",
     "text": [
      "TrainSet accuarcy : 0.943\n",
      "TestSet accuarcy : 0.943\n"
     ]
    }
   ],
   "source": [
    "SVC = LinearSVC(max_iter = 5000).fit(X_train, y_train)\n",
    "\n",
    "print(\"TrainSet accuarcy : {:.3f}\".format(SVC.score(X_train, y_train)))\n",
    "print(\"TestSet accuarcy : {:.3f}\".format(SVC.score(X_test, y_test)))"
   ]
  },
  {
   "cell_type": "code",
   "execution_count": 55,
   "id": "b95f1ea3",
   "metadata": {},
   "outputs": [
    {
     "name": "stdout",
     "output_type": "stream",
     "text": [
      "[[-0.00608875  0.02515651  0.00517854 -0.0054089   0.00252468  0.00117039\n",
      "  -0.00048421  0.06375737  0.00647263 -0.00254705  0.00378747  0.00087674\n",
      "   0.01366068 -0.00129817  0.01906811]]\n"
     ]
    }
   ],
   "source": [
    "print(SVC.coef_)"
   ]
  },
  {
   "cell_type": "code",
   "execution_count": 56,
   "id": "198f1836",
   "metadata": {},
   "outputs": [
    {
     "data": {
      "image/png": "[encoded data removed]",
      "text/plain": [
       "<Figure size 432x288 with 1 Axes>"
      ]
     },
     "metadata": {
      "image/png": {
       "height": 261,
       "width": 466
      }
     },
     "output_type": "display_data"
    }
   ],
   "source": [
    "plot_model2(SVC)"
   ]
  },
  {
   "cell_type": "markdown",
   "id": "0f850014",
   "metadata": {},
   "source": [
    "## Lightgbm"
   ]
  },
  {
   "cell_type": "code",
   "execution_count": 57,
   "id": "501b1133",
   "metadata": {},
   "outputs": [],
   "source": [
    "from lightgbm import LGBMClassifier, plot_importance"
   ]
  },
  {
   "cell_type": "code",
   "execution_count": 58,
   "id": "e56fa254",
   "metadata": {},
   "outputs": [],
   "source": [
    "from sklearn.preprocessing import StandardScaler\n",
    "sc = StandardScaler()\n",
    "x_train = sc.fit_transform(X_train)\n",
    "x_test = sc.transform(X_test)"
   ]
  },
  {
   "cell_type": "code",
   "execution_count": 59,
   "id": "0071e86e",
   "metadata": {},
   "outputs": [
    {
     "name": "stdout",
     "output_type": "stream",
     "text": [
      "[1]\tvalid_0's binary_logloss: 0.214989\n",
      "Training until validation scores don't improve for 100 rounds\n",
      "[2]\tvalid_0's binary_logloss: 0.211266\n",
      "[3]\tvalid_0's binary_logloss: 0.208315\n",
      "[4]\tvalid_0's binary_logloss: 0.2059\n",
      "[5]\tvalid_0's binary_logloss: 0.203772\n",
      "[6]\tvalid_0's binary_logloss: 0.201965\n",
      "[7]\tvalid_0's binary_logloss: 0.200472\n",
      "[8]\tvalid_0's binary_logloss: 0.199187\n",
      "[9]\tvalid_0's binary_logloss: 0.198064\n",
      "[10]\tvalid_0's binary_logloss: 0.19705\n",
      "[11]\tvalid_0's binary_logloss: 0.196207\n",
      "[12]\tvalid_0's binary_logloss: 0.195467\n",
      "[13]\tvalid_0's binary_logloss: 0.194784\n",
      "[14]\tvalid_0's binary_logloss: 0.19418\n",
      "[15]\tvalid_0's binary_logloss: 0.193613\n",
      "[16]\tvalid_0's binary_logloss: 0.193124\n",
      "[17]\tvalid_0's binary_logloss: 0.1927\n",
      "[18]\tvalid_0's binary_logloss: 0.192308\n",
      "[19]\tvalid_0's binary_logloss: 0.191952\n",
      "[20]\tvalid_0's binary_logloss: 0.191635\n",
      "[21]\tvalid_0's binary_logloss: 0.191355\n",
      "[22]\tvalid_0's binary_logloss: 0.191086\n",
      "[23]\tvalid_0's binary_logloss: 0.190857\n",
      "[24]\tvalid_0's binary_logloss: 0.190653\n",
      "[25]\tvalid_0's binary_logloss: 0.190466\n",
      "[26]\tvalid_0's binary_logloss: 0.190296\n",
      "[27]\tvalid_0's binary_logloss: 0.190131\n",
      "[28]\tvalid_0's binary_logloss: 0.189991\n",
      "[29]\tvalid_0's binary_logloss: 0.189849\n",
      "[30]\tvalid_0's binary_logloss: 0.189736\n",
      "[31]\tvalid_0's binary_logloss: 0.18962\n",
      "[32]\tvalid_0's binary_logloss: 0.189527\n",
      "[33]\tvalid_0's binary_logloss: 0.18944\n",
      "[34]\tvalid_0's binary_logloss: 0.189345\n",
      "[35]\tvalid_0's binary_logloss: 0.189254\n",
      "[36]\tvalid_0's binary_logloss: 0.189184\n",
      "[37]\tvalid_0's binary_logloss: 0.189108\n",
      "[38]\tvalid_0's binary_logloss: 0.189035\n",
      "[39]\tvalid_0's binary_logloss: 0.188977\n",
      "[40]\tvalid_0's binary_logloss: 0.188903\n",
      "[41]\tvalid_0's binary_logloss: 0.188855\n",
      "[42]\tvalid_0's binary_logloss: 0.188803\n",
      "[43]\tvalid_0's binary_logloss: 0.188744\n",
      "[44]\tvalid_0's binary_logloss: 0.188697\n",
      "[45]\tvalid_0's binary_logloss: 0.188649\n",
      "[46]\tvalid_0's binary_logloss: 0.188611\n",
      "[47]\tvalid_0's binary_logloss: 0.188574\n",
      "[48]\tvalid_0's binary_logloss: 0.188542\n",
      "[49]\tvalid_0's binary_logloss: 0.188505\n",
      "[50]\tvalid_0's binary_logloss: 0.188481\n",
      "[51]\tvalid_0's binary_logloss: 0.188458\n",
      "[52]\tvalid_0's binary_logloss: 0.188426\n",
      "[53]\tvalid_0's binary_logloss: 0.188398\n",
      "[54]\tvalid_0's binary_logloss: 0.188369\n",
      "[55]\tvalid_0's binary_logloss: 0.188348\n",
      "[56]\tvalid_0's binary_logloss: 0.188322\n",
      "[57]\tvalid_0's binary_logloss: 0.188296\n",
      "[58]\tvalid_0's binary_logloss: 0.188271\n",
      "[59]\tvalid_0's binary_logloss: 0.188252\n",
      "[60]\tvalid_0's binary_logloss: 0.188234\n",
      "[61]\tvalid_0's binary_logloss: 0.188217\n",
      "[62]\tvalid_0's binary_logloss: 0.188197\n",
      "[63]\tvalid_0's binary_logloss: 0.188182\n",
      "[64]\tvalid_0's binary_logloss: 0.188167\n",
      "[65]\tvalid_0's binary_logloss: 0.188157\n",
      "[66]\tvalid_0's binary_logloss: 0.188146\n",
      "[67]\tvalid_0's binary_logloss: 0.188132\n",
      "[68]\tvalid_0's binary_logloss: 0.188123\n",
      "[69]\tvalid_0's binary_logloss: 0.188115\n",
      "[70]\tvalid_0's binary_logloss: 0.188108\n",
      "[71]\tvalid_0's binary_logloss: 0.188103\n",
      "[72]\tvalid_0's binary_logloss: 0.188101\n",
      "[73]\tvalid_0's binary_logloss: 0.188093\n",
      "[74]\tvalid_0's binary_logloss: 0.188069\n",
      "[75]\tvalid_0's binary_logloss: 0.188057\n",
      "[76]\tvalid_0's binary_logloss: 0.188051\n",
      "[77]\tvalid_0's binary_logloss: 0.188045\n",
      "[78]\tvalid_0's binary_logloss: 0.188041\n",
      "[79]\tvalid_0's binary_logloss: 0.188037\n",
      "[80]\tvalid_0's binary_logloss: 0.188037\n",
      "[81]\tvalid_0's binary_logloss: 0.188035\n",
      "[82]\tvalid_0's binary_logloss: 0.188017\n",
      "[83]\tvalid_0's binary_logloss: 0.188013\n",
      "[84]\tvalid_0's binary_logloss: 0.188006\n",
      "[85]\tvalid_0's binary_logloss: 0.188003\n",
      "[86]\tvalid_0's binary_logloss: 0.187988\n",
      "[87]\tvalid_0's binary_logloss: 0.187987\n",
      "[88]\tvalid_0's binary_logloss: 0.187977\n",
      "[89]\tvalid_0's binary_logloss: 0.187975\n",
      "[90]\tvalid_0's binary_logloss: 0.187968\n",
      "[91]\tvalid_0's binary_logloss: 0.187959\n",
      "[92]\tvalid_0's binary_logloss: 0.187956\n",
      "[93]\tvalid_0's binary_logloss: 0.187957\n",
      "[94]\tvalid_0's binary_logloss: 0.187953\n",
      "[95]\tvalid_0's binary_logloss: 0.187952\n",
      "[96]\tvalid_0's binary_logloss: 0.18795\n",
      "[97]\tvalid_0's binary_logloss: 0.187948\n",
      "[98]\tvalid_0's binary_logloss: 0.187951\n",
      "[99]\tvalid_0's binary_logloss: 0.187951\n",
      "[100]\tvalid_0's binary_logloss: 0.187947\n",
      "[101]\tvalid_0's binary_logloss: 0.18794\n",
      "[102]\tvalid_0's binary_logloss: 0.187934\n",
      "[103]\tvalid_0's binary_logloss: 0.187941\n",
      "[104]\tvalid_0's binary_logloss: 0.187941\n",
      "[105]\tvalid_0's binary_logloss: 0.187944\n",
      "[106]\tvalid_0's binary_logloss: 0.18794\n",
      "[107]\tvalid_0's binary_logloss: 0.18794\n",
      "[108]\tvalid_0's binary_logloss: 0.187939\n",
      "[109]\tvalid_0's binary_logloss: 0.187931\n",
      "[110]\tvalid_0's binary_logloss: 0.187927\n",
      "[111]\tvalid_0's binary_logloss: 0.187923\n",
      "[112]\tvalid_0's binary_logloss: 0.187926\n",
      "[113]\tvalid_0's binary_logloss: 0.187925\n",
      "[114]\tvalid_0's binary_logloss: 0.187927\n",
      "[115]\tvalid_0's binary_logloss: 0.187925\n",
      "[116]\tvalid_0's binary_logloss: 0.187925\n",
      "[117]\tvalid_0's binary_logloss: 0.187926\n",
      "[118]\tvalid_0's binary_logloss: 0.187931\n",
      "[119]\tvalid_0's binary_logloss: 0.187926\n",
      "[120]\tvalid_0's binary_logloss: 0.187923\n",
      "[121]\tvalid_0's binary_logloss: 0.187923\n",
      "[122]\tvalid_0's binary_logloss: 0.18792\n",
      "[123]\tvalid_0's binary_logloss: 0.187922\n",
      "[124]\tvalid_0's binary_logloss: 0.187924\n",
      "[125]\tvalid_0's binary_logloss: 0.187916\n",
      "[126]\tvalid_0's binary_logloss: 0.187912\n",
      "[127]\tvalid_0's binary_logloss: 0.187909\n",
      "[128]\tvalid_0's binary_logloss: 0.18791\n",
      "[129]\tvalid_0's binary_logloss: 0.18791\n",
      "[130]\tvalid_0's binary_logloss: 0.187914\n",
      "[131]\tvalid_0's binary_logloss: 0.187916\n",
      "[132]\tvalid_0's binary_logloss: 0.187914\n",
      "[133]\tvalid_0's binary_logloss: 0.187913\n",
      "[134]\tvalid_0's binary_logloss: 0.187911\n",
      "[135]\tvalid_0's binary_logloss: 0.187912\n",
      "[136]\tvalid_0's binary_logloss: 0.18791\n",
      "[137]\tvalid_0's binary_logloss: 0.187906\n",
      "[138]\tvalid_0's binary_logloss: 0.187903\n",
      "[139]\tvalid_0's binary_logloss: 0.187903\n",
      "[140]\tvalid_0's binary_logloss: 0.187902\n",
      "[141]\tvalid_0's binary_logloss: 0.1879\n",
      "[142]\tvalid_0's binary_logloss: 0.187899\n",
      "[143]\tvalid_0's binary_logloss: 0.187896\n",
      "[144]\tvalid_0's binary_logloss: 0.187898\n",
      "[145]\tvalid_0's binary_logloss: 0.187898\n",
      "[146]\tvalid_0's binary_logloss: 0.187898\n",
      "[147]\tvalid_0's binary_logloss: 0.187899\n",
      "[148]\tvalid_0's binary_logloss: 0.187901\n",
      "[149]\tvalid_0's binary_logloss: 0.1879\n",
      "[150]\tvalid_0's binary_logloss: 0.187902\n",
      "[151]\tvalid_0's binary_logloss: 0.1879\n",
      "[152]\tvalid_0's binary_logloss: 0.187901\n",
      "[153]\tvalid_0's binary_logloss: 0.187896\n",
      "[154]\tvalid_0's binary_logloss: 0.187894\n",
      "[155]\tvalid_0's binary_logloss: 0.187888\n",
      "[156]\tvalid_0's binary_logloss: 0.18789\n",
      "[157]\tvalid_0's binary_logloss: 0.187895\n",
      "[158]\tvalid_0's binary_logloss: 0.187899\n",
      "[159]\tvalid_0's binary_logloss: 0.1879\n",
      "[160]\tvalid_0's binary_logloss: 0.1879\n",
      "[161]\tvalid_0's binary_logloss: 0.187899\n",
      "[162]\tvalid_0's binary_logloss: 0.187898\n",
      "[163]\tvalid_0's binary_logloss: 0.187898\n",
      "[164]\tvalid_0's binary_logloss: 0.187894\n",
      "[165]\tvalid_0's binary_logloss: 0.187893\n",
      "[166]\tvalid_0's binary_logloss: 0.187889\n",
      "[167]\tvalid_0's binary_logloss: 0.187891\n",
      "[168]\tvalid_0's binary_logloss: 0.18789\n",
      "[169]\tvalid_0's binary_logloss: 0.187892\n",
      "[170]\tvalid_0's binary_logloss: 0.187894\n",
      "[171]\tvalid_0's binary_logloss: 0.187895\n",
      "[172]\tvalid_0's binary_logloss: 0.187896\n",
      "[173]\tvalid_0's binary_logloss: 0.187897\n",
      "[174]\tvalid_0's binary_logloss: 0.187899\n",
      "[175]\tvalid_0's binary_logloss: 0.187896\n",
      "[176]\tvalid_0's binary_logloss: 0.187908\n",
      "[177]\tvalid_0's binary_logloss: 0.187908\n",
      "[178]\tvalid_0's binary_logloss: 0.187907\n",
      "[179]\tvalid_0's binary_logloss: 0.187909\n",
      "[180]\tvalid_0's binary_logloss: 0.187914\n",
      "[181]\tvalid_0's binary_logloss: 0.187922\n",
      "[182]\tvalid_0's binary_logloss: 0.187925\n",
      "[183]\tvalid_0's binary_logloss: 0.187936\n",
      "[184]\tvalid_0's binary_logloss: 0.187936\n",
      "[185]\tvalid_0's binary_logloss: 0.187939\n",
      "[186]\tvalid_0's binary_logloss: 0.187936\n",
      "[187]\tvalid_0's binary_logloss: 0.187936\n",
      "[188]\tvalid_0's binary_logloss: 0.187937\n",
      "[189]\tvalid_0's binary_logloss: 0.18794\n",
      "[190]\tvalid_0's binary_logloss: 0.187941\n",
      "[191]\tvalid_0's binary_logloss: 0.187941\n",
      "[192]\tvalid_0's binary_logloss: 0.187943\n",
      "[193]\tvalid_0's binary_logloss: 0.187944\n",
      "[194]\tvalid_0's binary_logloss: 0.187944\n",
      "[195]\tvalid_0's binary_logloss: 0.187946\n",
      "[196]\tvalid_0's binary_logloss: 0.187948\n",
      "[197]\tvalid_0's binary_logloss: 0.187964\n",
      "[198]\tvalid_0's binary_logloss: 0.187966\n",
      "[199]\tvalid_0's binary_logloss: 0.187968\n",
      "[200]\tvalid_0's binary_logloss: 0.187972\n",
      "[201]\tvalid_0's binary_logloss: 0.18797\n",
      "[202]\tvalid_0's binary_logloss: 0.187973\n",
      "[203]\tvalid_0's binary_logloss: 0.187971\n",
      "[204]\tvalid_0's binary_logloss: 0.187971\n",
      "[205]\tvalid_0's binary_logloss: 0.187977\n",
      "[206]\tvalid_0's binary_logloss: 0.187978\n",
      "[207]\tvalid_0's binary_logloss: 0.18798\n"
     ]
    },
    {
     "name": "stdout",
     "output_type": "stream",
     "text": [
      "[208]\tvalid_0's binary_logloss: 0.187979\n",
      "[209]\tvalid_0's binary_logloss: 0.187979\n",
      "[210]\tvalid_0's binary_logloss: 0.18798\n",
      "[211]\tvalid_0's binary_logloss: 0.187978\n",
      "[212]\tvalid_0's binary_logloss: 0.187976\n",
      "[213]\tvalid_0's binary_logloss: 0.187974\n",
      "[214]\tvalid_0's binary_logloss: 0.187976\n",
      "[215]\tvalid_0's binary_logloss: 0.187974\n",
      "[216]\tvalid_0's binary_logloss: 0.187973\n",
      "[217]\tvalid_0's binary_logloss: 0.187976\n",
      "[218]\tvalid_0's binary_logloss: 0.187972\n",
      "[219]\tvalid_0's binary_logloss: 0.187969\n",
      "[220]\tvalid_0's binary_logloss: 0.187967\n",
      "[221]\tvalid_0's binary_logloss: 0.187969\n",
      "[222]\tvalid_0's binary_logloss: 0.187969\n",
      "[223]\tvalid_0's binary_logloss: 0.187973\n",
      "[224]\tvalid_0's binary_logloss: 0.187973\n",
      "[225]\tvalid_0's binary_logloss: 0.187976\n",
      "[226]\tvalid_0's binary_logloss: 0.187976\n",
      "[227]\tvalid_0's binary_logloss: 0.187973\n",
      "[228]\tvalid_0's binary_logloss: 0.187973\n",
      "[229]\tvalid_0's binary_logloss: 0.187975\n",
      "[230]\tvalid_0's binary_logloss: 0.187975\n",
      "[231]\tvalid_0's binary_logloss: 0.187979\n",
      "[232]\tvalid_0's binary_logloss: 0.187978\n",
      "[233]\tvalid_0's binary_logloss: 0.187981\n",
      "[234]\tvalid_0's binary_logloss: 0.187984\n",
      "[235]\tvalid_0's binary_logloss: 0.187984\n",
      "[236]\tvalid_0's binary_logloss: 0.187984\n",
      "[237]\tvalid_0's binary_logloss: 0.187984\n",
      "[238]\tvalid_0's binary_logloss: 0.18798\n",
      "[239]\tvalid_0's binary_logloss: 0.187977\n",
      "[240]\tvalid_0's binary_logloss: 0.187977\n",
      "[241]\tvalid_0's binary_logloss: 0.187977\n",
      "[242]\tvalid_0's binary_logloss: 0.187978\n",
      "[243]\tvalid_0's binary_logloss: 0.187984\n",
      "[244]\tvalid_0's binary_logloss: 0.187986\n",
      "[245]\tvalid_0's binary_logloss: 0.187987\n",
      "[246]\tvalid_0's binary_logloss: 0.187988\n",
      "[247]\tvalid_0's binary_logloss: 0.18799\n",
      "[248]\tvalid_0's binary_logloss: 0.187993\n",
      "[249]\tvalid_0's binary_logloss: 0.187995\n",
      "[250]\tvalid_0's binary_logloss: 0.187994\n",
      "[251]\tvalid_0's binary_logloss: 0.187993\n",
      "[252]\tvalid_0's binary_logloss: 0.187992\n",
      "[253]\tvalid_0's binary_logloss: 0.187989\n",
      "[254]\tvalid_0's binary_logloss: 0.187987\n",
      "[255]\tvalid_0's binary_logloss: 0.187991\n",
      "Early stopping, best iteration is:\n",
      "[155]\tvalid_0's binary_logloss: 0.187888\n"
     ]
    },
    {
     "data": {
      "text/plain": [
       "LGBMClassifier(n_estimators=400)"
      ]
     },
     "execution_count": 59,
     "metadata": {},
     "output_type": "execute_result"
    }
   ],
   "source": [
    "lgb = LGBMClassifier(n_estimators=400)\n",
    "evals = [(x_test, y_test)]\n",
    "lgb.fit(x_train, y_train, early_stopping_rounds=100, eval_metric=\"logloss\",eval_set=evals, verbose=True)"
   ]
  },
  {
   "cell_type": "code",
   "execution_count": 60,
   "id": "1a20b321",
   "metadata": {},
   "outputs": [
    {
     "data": {
      "text/plain": [
       "<AxesSubplot:title={'center':'Feature importance'}, xlabel='Feature importance', ylabel='Features'>"
      ]
     },
     "execution_count": 60,
     "metadata": {},
     "output_type": "execute_result"
    },
    {
     "data": {
      "image/png": "[encoded data removed]",
      "text/plain": [
       "<Figure size 432x288 with 1 Axes>"
      ]
     },
     "metadata": {
      "image/png": {
       "height": 277,
       "width": 422
      }
     },
     "output_type": "display_data"
    }
   ],
   "source": [
    "plot_importance(lgb)"
   ]
  },
  {
   "cell_type": "code",
   "execution_count": 61,
   "id": "e360fe32",
   "metadata": {},
   "outputs": [
    {
     "name": "stdout",
     "output_type": "stream",
     "text": [
      "TrainSet accuarcy : 0.94261\n",
      "TestSet accuarcy : 0.94252\n"
     ]
    }
   ],
   "source": [
    "print(\"TrainSet accuarcy : {:.5f}\".format(lgb.score(X_train, y_train)))\n",
    "print(\"TestSet accuarcy : {:.5f}\".format(lgb.score(X_test, y_test)))"
   ]
  },
  {
   "cell_type": "code",
   "execution_count": null,
   "id": "1bdc0b51",
   "metadata": {},
   "outputs": [],
   "source": []
  }
 ],
 "metadata": {
  "kernelspec": {
   "display_name": "Python 3",
   "language": "python",
   "name": "python3"
  },
  "language_info": {
   "codemirror_mode": {
    "name": "ipython",
    "version": 3
   },
   "file_extension": ".py",
   "mimetype": "text/x-python",
   "name": "python",
   "nbconvert_exporter": "python",
   "pygments_lexer": "ipython3",
   "version": "3.8.8"
  }
 },
 "nbformat": 4,
 "nbformat_minor": 5
}
