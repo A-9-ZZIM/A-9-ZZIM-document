{
 "cells": [
  {
   "cell_type": "code",
   "execution_count": 1,
   "metadata": {},
   "outputs": [],
   "source": [
    "import pandas as pd\n",
    "import numpy as np\n",
    "from scipy import stats\n",
    "import math\n",
    "\n",
    "# matplotlit and seaborn for visualizations\n",
    "import seaborn as sns\n",
    "import matplotlib.pyplot as plt\n",
    "plt.rcParams['font.size'] = 12\n",
    "\n",
    "# Suppress warnings from pandas\n",
    "import warnings\n",
    "warnings.filterwarnings('ignore')\n",
    "\n",
    "# modeling \n",
    "import lightgbm as lgb\n",
    "\n",
    "# utilities\n",
    "from sklearn.model_selection import train_test_split\n",
    "from sklearn.metrics import roc_auc_score\n",
    "\n",
    "sns.set_style(\"darkgrid\")\n",
    "# memory management\n",
    "import gc\n",
    "import os\n",
    "# 운영체제별 한글 폰트 설정\n",
    "if os.name == 'posix': # Mac 환경 폰트 설정\n",
    "    plt.rc('font', family='AppleGothic')\n",
    "elif os.name == 'nt': # Windows 환경 폰트 설정\n",
    "    plt.rc('font', family='Malgun Gothic')\n",
    "\n",
    "plt.rc('axes', unicode_minus=False) # 마이너스 폰트 설정\n",
    "\n",
    "# 글씨 선명하게 출력하는 설정\n",
    "%config InlineBackend.figure_format = 'retina'\n",
    "\n",
    "df = pd.read_csv(\"dataset2.csv\")\n",
    "# import mglearn\n",
    "# from sklearn.model_selection import KFold\n",
    "# from sklearn.preprocessing import LabelEncoder"
   ]
  },
  {
   "cell_type": "code",
   "execution_count": 2,
   "metadata": {},
   "outputs": [
    {
     "data": {
      "text/html": [
       "<div>\n",
       "<style scoped>\n",
       "    .dataframe tbody tr th:only-of-type {\n",
       "        vertical-align: middle;\n",
       "    }\n",
       "\n",
       "    .dataframe tbody tr th {\n",
       "        vertical-align: top;\n",
       "    }\n",
       "\n",
       "    .dataframe thead th {\n",
       "        text-align: right;\n",
       "    }\n",
       "</style>\n",
       "<table border=\"1\" class=\"dataframe\">\n",
       "  <thead>\n",
       "    <tr style=\"text-align: right;\">\n",
       "      <th></th>\n",
       "      <th>허리둘레</th>\n",
       "      <th>연령대코드(5세단위)</th>\n",
       "      <th>감마지티피</th>\n",
       "      <th>트리글리세라이드</th>\n",
       "    </tr>\n",
       "  </thead>\n",
       "  <tbody>\n",
       "    <tr>\n",
       "      <th>0</th>\n",
       "      <td>90.0</td>\n",
       "      <td>8</td>\n",
       "      <td>40.0</td>\n",
       "      <td>92.0</td>\n",
       "    </tr>\n",
       "    <tr>\n",
       "      <th>1</th>\n",
       "      <td>89.0</td>\n",
       "      <td>7</td>\n",
       "      <td>27.0</td>\n",
       "      <td>121.0</td>\n",
       "    </tr>\n",
       "    <tr>\n",
       "      <th>2</th>\n",
       "      <td>91.0</td>\n",
       "      <td>9</td>\n",
       "      <td>68.0</td>\n",
       "      <td>104.0</td>\n",
       "    </tr>\n",
       "    <tr>\n",
       "      <th>3</th>\n",
       "      <td>91.0</td>\n",
       "      <td>11</td>\n",
       "      <td>18.0</td>\n",
       "      <td>106.0</td>\n",
       "    </tr>\n",
       "    <tr>\n",
       "      <th>4</th>\n",
       "      <td>80.0</td>\n",
       "      <td>11</td>\n",
       "      <td>25.0</td>\n",
       "      <td>104.0</td>\n",
       "    </tr>\n",
       "    <tr>\n",
       "      <th>...</th>\n",
       "      <td>...</td>\n",
       "      <td>...</td>\n",
       "      <td>...</td>\n",
       "      <td>...</td>\n",
       "    </tr>\n",
       "    <tr>\n",
       "      <th>1180115</th>\n",
       "      <td>84.0</td>\n",
       "      <td>13</td>\n",
       "      <td>78.0</td>\n",
       "      <td>85.0</td>\n",
       "    </tr>\n",
       "    <tr>\n",
       "      <th>1180116</th>\n",
       "      <td>77.0</td>\n",
       "      <td>8</td>\n",
       "      <td>15.0</td>\n",
       "      <td>139.0</td>\n",
       "    </tr>\n",
       "    <tr>\n",
       "      <th>1180117</th>\n",
       "      <td>83.0</td>\n",
       "      <td>14</td>\n",
       "      <td>23.0</td>\n",
       "      <td>122.0</td>\n",
       "    </tr>\n",
       "    <tr>\n",
       "      <th>1180118</th>\n",
       "      <td>84.0</td>\n",
       "      <td>14</td>\n",
       "      <td>19.0</td>\n",
       "      <td>173.0</td>\n",
       "    </tr>\n",
       "    <tr>\n",
       "      <th>1180119</th>\n",
       "      <td>88.5</td>\n",
       "      <td>13</td>\n",
       "      <td>53.0</td>\n",
       "      <td>214.0</td>\n",
       "    </tr>\n",
       "  </tbody>\n",
       "</table>\n",
       "<p>1180120 rows × 4 columns</p>\n",
       "</div>"
      ],
      "text/plain": [
       "         허리둘레  연령대코드(5세단위)  감마지티피  트리글리세라이드\n",
       "0        90.0            8   40.0      92.0\n",
       "1        89.0            7   27.0     121.0\n",
       "2        91.0            9   68.0     104.0\n",
       "3        91.0           11   18.0     106.0\n",
       "4        80.0           11   25.0     104.0\n",
       "...       ...          ...    ...       ...\n",
       "1180115  84.0           13   78.0      85.0\n",
       "1180116  77.0            8   15.0     139.0\n",
       "1180117  83.0           14   23.0     122.0\n",
       "1180118  84.0           14   19.0     173.0\n",
       "1180119  88.5           13   53.0     214.0\n",
       "\n",
       "[1180120 rows x 4 columns]"
      ]
     },
     "execution_count": 2,
     "metadata": {},
     "output_type": "execute_result"
    }
   ],
   "source": [
    "X = df[['허리둘레', '연령대코드(5세단위)', '감마지티피', '트리글리세라이드']].copy()\n",
    "y = df[['당뇨여부']].copy()\n",
    "X"
   ]
  },
  {
   "cell_type": "markdown",
   "metadata": {},
   "source": [
    "## 비당뇨 : 당뇨 = 10 : 8"
   ]
  },
  {
   "cell_type": "code",
   "execution_count": 3,
   "metadata": {},
   "outputs": [],
   "source": [
    "from imblearn.under_sampling import RandomUnderSampler\n",
    "\n",
    "rus = RandomUnderSampler(random_state=42, sampling_strategy=0.8)\n",
    "X_rus, y_rus = rus.fit_resample(X, y)\n"
   ]
  },
  {
   "cell_type": "code",
   "execution_count": 4,
   "metadata": {},
   "outputs": [
    {
     "name": "stdout",
     "output_type": "stream",
     "text": [
      "104802\n",
      "104802\n",
      "당뇨여부    46579.0\n",
      "dtype: float64\n"
     ]
    }
   ],
   "source": [
    "print(len(X_rus))\n",
    "print(len(y_rus))\n",
    "print(np.sum(y_rus))"
   ]
  },
  {
   "cell_type": "code",
   "execution_count": 5,
   "metadata": {},
   "outputs": [],
   "source": [
    "# X_train, X_test, y_train, y_test = train_test_split(X_rus,y_rus.values,stratify = y_rus, random_state=3, test_size=0.2)\n",
    "from lightgbm import LGBMClassifier, plot_importance\n",
    "from sklearn.preprocessing import StandardScaler, RobustScaler\n",
    "# sc = RobustScaler()\n",
    "# x_train = sc.fit_transform(X_train)\n",
    "# x_test = sc.transform(X_test)\n",
    "# lgb = LGBMClassifier(n_estimators=400)\n",
    "# evals = [(x_test, y_test)]"
   ]
  },
  {
   "cell_type": "code",
   "execution_count": 6,
   "metadata": {},
   "outputs": [],
   "source": [
    "# lgb.fit(x_train, y_train, early_stopping_rounds=100, eval_metric=\"logloss\",eval_set=evals, verbose=True)\n",
    "# lgb.fit(x_train, y_train, eval_metric=\"logloss\",eval_set=evals, verbose=False)"
   ]
  },
  {
   "cell_type": "code",
   "execution_count": 7,
   "metadata": {},
   "outputs": [],
   "source": [
    "# y_pred = lgb.predict(x_test)"
   ]
  },
  {
   "cell_type": "markdown",
   "metadata": {},
   "source": [
    "## 정확도"
   ]
  },
  {
   "cell_type": "code",
   "execution_count": 8,
   "metadata": {},
   "outputs": [],
   "source": [
    "# lgb.score(x_test, y_test)"
   ]
  },
  {
   "cell_type": "markdown",
   "metadata": {},
   "source": [
    "## 예측 결과"
   ]
  },
  {
   "cell_type": "code",
   "execution_count": 9,
   "metadata": {},
   "outputs": [],
   "source": [
    "# print(\"당뇨로 예측한 데이터 수 :\", np.sum(y_pred))\n",
    "# print(\"실제 당뇨 데이터 수 :\", np.sum(y_test))\n",
    "# print(\"전체 데이터 수 :\", len(y_test))"
   ]
  },
  {
   "cell_type": "markdown",
   "metadata": {},
   "source": [
    "## TN, FP, FN, TP"
   ]
  },
  {
   "cell_type": "code",
   "execution_count": 10,
   "metadata": {},
   "outputs": [],
   "source": [
    "from sklearn import metrics\n",
    "# TFPN = metrics.confusion_matrix(y_test, y_pred)\n",
    "\n",
    "# print(TFPN[0][0], TFPN[0][1])\n",
    "# print(TFPN[1][0], TFPN[1][1])\n",
    "# [[TN,FP], \n",
    "#  [FN,TP]]"
   ]
  },
  {
   "cell_type": "markdown",
   "metadata": {},
   "source": [
    "## TN, FP, FN, TP 검토"
   ]
  },
  {
   "cell_type": "code",
   "execution_count": 11,
   "metadata": {},
   "outputs": [],
   "source": [
    "# y_test = y_test.reshape(-1)"
   ]
  },
  {
   "cell_type": "code",
   "execution_count": 12,
   "metadata": {},
   "outputs": [],
   "source": [
    "# P = sum(y_test)\n",
    "# TP = sum((y_test==1) & (y_pred==1))\n",
    "# TPR = TP/P\n",
    "# FN = sum((y_test==1) & (y_pred==0))\n",
    "# FNR = FN/P\n",
    "# N = sum(y_test==0)\n",
    "# TN = sum((y_test==0) & (y_pred==0))\n",
    "# TNR = TN/N\n",
    "# FP = sum((y_test==0) & (y_pred==1))\n",
    "# FPR = FP/N\n",
    "# print(TN, FP, FN, TP)\n",
    "# print(TPR, FPR)"
   ]
  },
  {
   "cell_type": "markdown",
   "metadata": {},
   "source": [
    "## 데이터 별 당뇨 분류 확률"
   ]
  },
  {
   "cell_type": "code",
   "execution_count": 13,
   "metadata": {},
   "outputs": [],
   "source": [
    "# y_pred_proba = lgb.predict_proba(x_test)\n",
    "# y_pred_proba"
   ]
  },
  {
   "cell_type": "markdown",
   "metadata": {},
   "source": [
    "**[당뇨X 확률, 당뇨 확률]**"
   ]
  },
  {
   "cell_type": "code",
   "execution_count": 14,
   "metadata": {},
   "outputs": [],
   "source": [
    "# pos_proba = y_pred_proba[:,1]"
   ]
  },
  {
   "cell_type": "markdown",
   "metadata": {},
   "source": [
    "## 데이터 별 당뇨로 예측할 확률"
   ]
  },
  {
   "cell_type": "code",
   "execution_count": 15,
   "metadata": {},
   "outputs": [],
   "source": [
    "# print(\"pos_proba 최솟값 :\", min(pos_proba))\n",
    "# print(\"pos_proba 최댓값 :\", max(pos_proba))"
   ]
  },
  {
   "cell_type": "code",
   "execution_count": 16,
   "metadata": {},
   "outputs": [],
   "source": [
    "# plt.hist(pos_proba, range=(min(pos_proba),max(pos_proba)), bins=20)"
   ]
  },
  {
   "cell_type": "markdown",
   "metadata": {},
   "source": [
    "## 당뇨 예측 확률과 실제 데이터"
   ]
  },
  {
   "cell_type": "code",
   "execution_count": 17,
   "metadata": {},
   "outputs": [],
   "source": [
    "# pos_sample_pos_proba = pos_proba[y_test==1]\n",
    "# neg_sample_pos_proba = pos_proba[y_test==0]"
   ]
  },
  {
   "cell_type": "code",
   "execution_count": 18,
   "metadata": {},
   "outputs": [],
   "source": [
    "# plt.hist([pos_sample_pos_proba, neg_sample_pos_proba], histtype=\"barstacked\")\n",
    "# plt.legend([\"Positive samples\", \"Negative samples\"])\n",
    "# plt.xlabel(\"Predicted probability of positive class\")\n",
    "# plt.ylabel(\"Number of samples\")"
   ]
  },
  {
   "cell_type": "markdown",
   "metadata": {},
   "source": [
    "## ROC Curve"
   ]
  },
  {
   "cell_type": "code",
   "execution_count": 19,
   "metadata": {},
   "outputs": [],
   "source": [
    "# fpr, tpr, thresholds = metrics.roc_curve(y_test, pos_proba)"
   ]
  },
  {
   "cell_type": "code",
   "execution_count": 20,
   "metadata": {},
   "outputs": [],
   "source": [
    "# plt.plot(fpr, tpr, '*-')\n",
    "# plt.plot([0,1], [0,1], 'r--')\n",
    "# plt.legend(['Logistic regression', 'Random Classifier'])\n",
    "# plt.xlabel('FPR')\n",
    "# plt.ylabel('TPR')\n",
    "# plt.title('ROC curve')"
   ]
  },
  {
   "cell_type": "markdown",
   "metadata": {},
   "source": [
    "## AUC Score"
   ]
  },
  {
   "cell_type": "code",
   "execution_count": 21,
   "metadata": {},
   "outputs": [],
   "source": [
    "# metrics.roc_auc_score(y_test, pos_proba)"
   ]
  },
  {
   "cell_type": "markdown",
   "metadata": {},
   "source": [
    "## Precision, Recall, Accuracy"
   ]
  },
  {
   "cell_type": "code",
   "execution_count": 22,
   "metadata": {},
   "outputs": [],
   "source": [
    "# precision = TP/(TP+FP)\n",
    "# recall = TP/(TP+FN)\n",
    "# accuracy = (TP+TN)/(TP+FP+TN+FN)\n",
    "# print(\"precision :\",precision)\n",
    "# print(\"recall :\", recall)\n",
    "# print(\"accuracy :\", accuracy)"
   ]
  },
  {
   "cell_type": "code",
   "execution_count": 23,
   "metadata": {},
   "outputs": [],
   "source": [
    "# precision2, recall2, thresholds2 = metrics.precision_recall_curve(y_test, pos_proba)"
   ]
  },
  {
   "cell_type": "code",
   "execution_count": 24,
   "metadata": {},
   "outputs": [],
   "source": [
    "# plt.plot(recall2, precision2, '-x')\n",
    "# plt.xlabel('Recall')\n",
    "# plt.ylabel('Precision')\n",
    "# plt.title('Precision and recall for the LightGBM')\n",
    "# plt.xlim([0,1])\n",
    "# plt.ylim([0,1])"
   ]
  },
  {
   "cell_type": "code",
   "execution_count": 25,
   "metadata": {},
   "outputs": [],
   "source": [
    "# metrics.auc(recall2, precision2)"
   ]
  },
  {
   "cell_type": "code",
   "execution_count": 26,
   "metadata": {},
   "outputs": [],
   "source": [
    "# f1 = (precision*recall*2)/(precision+recall)\n",
    "# print(f1)"
   ]
  },
  {
   "cell_type": "code",
   "execution_count": 29,
   "metadata": {},
   "outputs": [],
   "source": [
    "max_precision = 0\n",
    "max_recall = 0\n",
    "max_f1 = 0\n",
    "max_accuracy = 0\n",
    "precision_state, recall_state, f1_state, accuracy_state = 0,0,0,0"
   ]
  },
  {
   "cell_type": "code",
   "execution_count": 30,
   "metadata": {},
   "outputs": [],
   "source": [
    "for i in range(1,11):\n",
    "    rus = RandomUnderSampler(random_state=i, sampling_strategy=0.8)\n",
    "    X_rus, y_rus = rus.fit_resample(X, y)\n",
    "    for j in range(1,11):\n",
    "        X_train, X_test, y_train, y_test = train_test_split(X_rus,y_rus.values,stratify = y_rus, random_state=j, test_size=0.2)\n",
    "        sc = RobustScaler()\n",
    "        x_train = sc.fit_transform(X_train)\n",
    "        x_test = sc.transform(X_test)\n",
    "        lgb = LGBMClassifier(n_estimators=400)\n",
    "        evals = [(x_test, y_test)]\n",
    "        lgb.fit(x_train, y_train, eval_metric=\"logloss\",eval_set=evals, verbose=False)\n",
    "        y_pred = lgb.predict(x_test)\n",
    "        TFPN = metrics.confusion_matrix(y_test, y_pred)\n",
    "        TN = TFPN[0][0]\n",
    "        FP = TFPN[0][1]\n",
    "        FN = TFPN[1][0]\n",
    "        TP = TFPN[1][1]\n",
    "        precision = TP/(TP+FP)\n",
    "        recall = TP/(TP+FN)\n",
    "        accuracy = (TP+TN)/(TP+FP+TN+FN)\n",
    "        f1 = (precision*recall*2)/(precision+recall)\n",
    "        # [[TN,FP], \n",
    "        #  [FN,TP]]\n",
    "        if(precision > max_precision):\n",
    "            max_precision = precision\n",
    "            precision_state = (i,j)\n",
    "        if(recall > max_recall):\n",
    "            max_recall = recall\n",
    "            recall_state = (i,j)\n",
    "        if(accuracy > max_accuracy):\n",
    "            max_accuracy = accuracy\n",
    "            accuracy_state = (i,j)\n",
    "        if(f1 > max_f1):\n",
    "            max_f1 = f1\n",
    "            f1_state = (i,j)\n"
   ]
  },
  {
   "cell_type": "code",
   "execution_count": 31,
   "metadata": {},
   "outputs": [
    {
     "name": "stdout",
     "output_type": "stream",
     "text": [
      "precision 최댓값 : 0.6428571428571429 [ (10, 1) ]\n",
      "recall 최댓값 : 0.7026620867325032 [ (9, 1) ]\n",
      "accuracy 최댓값 : 0.6933352416392348 [ (10, 1) ]\n",
      "f1 최댓값 : 0.6690691927512356 [ (10, 1) ]\n"
     ]
    }
   ],
   "source": [
    "print(\"precision 최댓값 :\", max_precision, \"[\",precision_state,\"]\")\n",
    "print(\"recall 최댓값 :\", max_recall, \"[\",recall_state,\"]\")\n",
    "print(\"accuracy 최댓값 :\", max_accuracy, \"[\",accuracy_state,\"]\")\n",
    "print(\"f1 최댓값 :\", max_f1, \"[\",f1_state,\"]\")"
   ]
  },
  {
   "cell_type": "code",
   "execution_count": null,
   "metadata": {},
   "outputs": [],
   "source": []
  }
 ],
 "metadata": {
  "kernelspec": {
   "display_name": "Python 3",
   "language": "python",
   "name": "python3"
  },
  "language_info": {
   "codemirror_mode": {
    "name": "ipython",
    "version": 3
   },
   "file_extension": ".py",
   "mimetype": "text/x-python",
   "name": "python",
   "nbconvert_exporter": "python",
   "pygments_lexer": "ipython3",
   "version": "3.7.9"
  }
 },
 "nbformat": 4,
 "nbformat_minor": 4
}
