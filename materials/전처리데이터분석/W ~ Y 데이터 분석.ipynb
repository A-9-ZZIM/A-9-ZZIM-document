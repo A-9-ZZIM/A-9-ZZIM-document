{
 "cells": [
  {
   "cell_type": "markdown",
   "metadata": {},
   "source": [
    "# W ~ Y 데이터 분석"
   ]
  },
  {
   "cell_type": "code",
   "execution_count": 88,
   "metadata": {},
   "outputs": [],
   "source": [
    "import numpy as np\n",
    "import pandas as pd\n",
    "import matplotlib.pyplot as plt\n",
    "import seaborn as sns\n",
    "plt.style.use('fivethirtyeight')\n",
    "import warnings\n",
    "warnings.filterwarnings('ignore')\n",
    "%matplotlib inline"
   ]
  },
  {
   "cell_type": "code",
   "execution_count": 91,
   "metadata": {},
   "outputs": [],
   "source": [
    "import os\n",
    "# 운영체제별 한글 폰트 설정\n",
    "if os.name == 'posix': # Mac 환경 폰트 설정\n",
    "    plt.rc('font', family='AppleGothic')\n",
    "elif os.name == 'nt': # Windows 환경 폰트 설정\n",
    "    plt.rc('font', family='Malgun Gothic')\n",
    "\n",
    "plt.rc('axes', unicode_minus=False) # 마이너스 폰트 설정\n",
    "\n",
    "\n",
    "# 글씨 선명하게 출력하는 설정\n",
    "%config InlineBackend.figure_format = 'retina'"
   ]
  },
  {
   "cell_type": "code",
   "execution_count": 12,
   "metadata": {},
   "outputs": [],
   "source": [
    "data2017 = pd.read_csv('NHIS_OPEN_GJ_2017_100.csv',encoding='euc-kr')\n",
    "data2018 = pd.read_csv('NHIS_OPEN_GJ_2018_100.csv')"
   ]
  },
  {
   "cell_type": "code",
   "execution_count": 15,
   "metadata": {
    "scrolled": true
   },
   "outputs": [
    {
     "data": {
      "text/plain": [
       "Index(['기준년도', '가입자일련번호', '성별코드', '연령대코드(5세단위)', '시도코드', '신장(5Cm단위)',\n",
       "       '체중(5Kg단위)', '허리둘레', '시력(좌)', '시력(우)', '청력(좌)', '청력(우)', '수축기혈압',\n",
       "       '이완기혈압', '식전혈당(공복혈당)', '총콜레스테롤', '트리글리세라이드', 'HDL콜레스테롤', 'LDL콜레스테롤',\n",
       "       '혈색소', '요단백', '혈청크레아티닌', '(혈청지오티)AST', '(혈청지오티)ALT', '감마지티피', '흡연상태',\n",
       "       '음주여부', '구강검진수검여부', '치아우식증유무', '결손치유무', '치아마모증유무', '제3대구치(사랑니)이상', '치석',\n",
       "       '데이터공개일자'],\n",
       "      dtype='object')"
      ]
     },
     "execution_count": 15,
     "metadata": {},
     "output_type": "execute_result"
    }
   ],
   "source": [
    "data2017.columns"
   ]
  },
  {
   "cell_type": "code",
   "execution_count": 5,
   "metadata": {},
   "outputs": [
    {
     "data": {
      "text/html": [
       "<div>\n",
       "<style scoped>\n",
       "    .dataframe tbody tr th:only-of-type {\n",
       "        vertical-align: middle;\n",
       "    }\n",
       "\n",
       "    .dataframe tbody tr th {\n",
       "        vertical-align: top;\n",
       "    }\n",
       "\n",
       "    .dataframe thead th {\n",
       "        text-align: right;\n",
       "    }\n",
       "</style>\n",
       "<table border=\"1\" class=\"dataframe\">\n",
       "  <thead>\n",
       "    <tr style=\"text-align: right;\">\n",
       "      <th></th>\n",
       "      <th>기준년도</th>\n",
       "      <th>가입자일련번호</th>\n",
       "      <th>성별코드</th>\n",
       "      <th>연령대코드(5세단위)</th>\n",
       "      <th>시도코드</th>\n",
       "      <th>신장(5Cm단위)</th>\n",
       "      <th>체중(5Kg단위)</th>\n",
       "      <th>허리둘레</th>\n",
       "      <th>시력(좌)</th>\n",
       "      <th>시력(우)</th>\n",
       "      <th>...</th>\n",
       "      <th>감마지티피</th>\n",
       "      <th>흡연상태</th>\n",
       "      <th>음주여부</th>\n",
       "      <th>구강검진수검여부</th>\n",
       "      <th>치아우식증유무</th>\n",
       "      <th>결손치유무</th>\n",
       "      <th>치아마모증유무</th>\n",
       "      <th>제3대구치(사랑니)이상</th>\n",
       "      <th>치석</th>\n",
       "      <th>데이터공개일자</th>\n",
       "    </tr>\n",
       "  </thead>\n",
       "  <tbody>\n",
       "    <tr>\n",
       "      <th>0</th>\n",
       "      <td>2017</td>\n",
       "      <td>1</td>\n",
       "      <td>1</td>\n",
       "      <td>8</td>\n",
       "      <td>43</td>\n",
       "      <td>170</td>\n",
       "      <td>75</td>\n",
       "      <td>90.0</td>\n",
       "      <td>1.0</td>\n",
       "      <td>1.0</td>\n",
       "      <td>...</td>\n",
       "      <td>40.0</td>\n",
       "      <td>1.0</td>\n",
       "      <td>1.0</td>\n",
       "      <td>1</td>\n",
       "      <td>NaN</td>\n",
       "      <td>NaN</td>\n",
       "      <td>NaN</td>\n",
       "      <td>NaN</td>\n",
       "      <td>1.0</td>\n",
       "      <td>20181126</td>\n",
       "    </tr>\n",
       "    <tr>\n",
       "      <th>1</th>\n",
       "      <td>2017</td>\n",
       "      <td>2</td>\n",
       "      <td>1</td>\n",
       "      <td>7</td>\n",
       "      <td>11</td>\n",
       "      <td>180</td>\n",
       "      <td>80</td>\n",
       "      <td>89.0</td>\n",
       "      <td>0.9</td>\n",
       "      <td>1.2</td>\n",
       "      <td>...</td>\n",
       "      <td>27.0</td>\n",
       "      <td>3.0</td>\n",
       "      <td>0.0</td>\n",
       "      <td>1</td>\n",
       "      <td>NaN</td>\n",
       "      <td>NaN</td>\n",
       "      <td>NaN</td>\n",
       "      <td>NaN</td>\n",
       "      <td>2.0</td>\n",
       "      <td>20181126</td>\n",
       "    </tr>\n",
       "    <tr>\n",
       "      <th>2</th>\n",
       "      <td>2017</td>\n",
       "      <td>3</td>\n",
       "      <td>1</td>\n",
       "      <td>9</td>\n",
       "      <td>41</td>\n",
       "      <td>165</td>\n",
       "      <td>75</td>\n",
       "      <td>91.0</td>\n",
       "      <td>1.2</td>\n",
       "      <td>1.5</td>\n",
       "      <td>...</td>\n",
       "      <td>68.0</td>\n",
       "      <td>1.0</td>\n",
       "      <td>0.0</td>\n",
       "      <td>0</td>\n",
       "      <td>NaN</td>\n",
       "      <td>NaN</td>\n",
       "      <td>NaN</td>\n",
       "      <td>NaN</td>\n",
       "      <td>NaN</td>\n",
       "      <td>20181126</td>\n",
       "    </tr>\n",
       "    <tr>\n",
       "      <th>3</th>\n",
       "      <td>2017</td>\n",
       "      <td>4</td>\n",
       "      <td>1</td>\n",
       "      <td>11</td>\n",
       "      <td>48</td>\n",
       "      <td>175</td>\n",
       "      <td>80</td>\n",
       "      <td>91.0</td>\n",
       "      <td>1.5</td>\n",
       "      <td>1.2</td>\n",
       "      <td>...</td>\n",
       "      <td>18.0</td>\n",
       "      <td>1.0</td>\n",
       "      <td>0.0</td>\n",
       "      <td>1</td>\n",
       "      <td>NaN</td>\n",
       "      <td>NaN</td>\n",
       "      <td>NaN</td>\n",
       "      <td>NaN</td>\n",
       "      <td>0.0</td>\n",
       "      <td>20181126</td>\n",
       "    </tr>\n",
       "    <tr>\n",
       "      <th>4</th>\n",
       "      <td>2017</td>\n",
       "      <td>5</td>\n",
       "      <td>1</td>\n",
       "      <td>11</td>\n",
       "      <td>30</td>\n",
       "      <td>165</td>\n",
       "      <td>60</td>\n",
       "      <td>80.0</td>\n",
       "      <td>1.0</td>\n",
       "      <td>1.2</td>\n",
       "      <td>...</td>\n",
       "      <td>25.0</td>\n",
       "      <td>1.0</td>\n",
       "      <td>0.0</td>\n",
       "      <td>1</td>\n",
       "      <td>NaN</td>\n",
       "      <td>NaN</td>\n",
       "      <td>NaN</td>\n",
       "      <td>NaN</td>\n",
       "      <td>0.0</td>\n",
       "      <td>20181126</td>\n",
       "    </tr>\n",
       "  </tbody>\n",
       "</table>\n",
       "<p>5 rows × 34 columns</p>\n",
       "</div>"
      ],
      "text/plain": [
       "   기준년도  가입자일련번호  성별코드  연령대코드(5세단위)  시도코드  신장(5Cm단위)  체중(5Kg단위)  허리둘레  시력(좌)  \\\n",
       "0  2017        1     1            8    43        170         75  90.0    1.0   \n",
       "1  2017        2     1            7    11        180         80  89.0    0.9   \n",
       "2  2017        3     1            9    41        165         75  91.0    1.2   \n",
       "3  2017        4     1           11    48        175         80  91.0    1.5   \n",
       "4  2017        5     1           11    30        165         60  80.0    1.0   \n",
       "\n",
       "   시력(우)  ...  감마지티피  흡연상태  음주여부  구강검진수검여부  치아우식증유무  결손치유무  치아마모증유무  \\\n",
       "0    1.0  ...   40.0   1.0   1.0         1      NaN    NaN      NaN   \n",
       "1    1.2  ...   27.0   3.0   0.0         1      NaN    NaN      NaN   \n",
       "2    1.5  ...   68.0   1.0   0.0         0      NaN    NaN      NaN   \n",
       "3    1.2  ...   18.0   1.0   0.0         1      NaN    NaN      NaN   \n",
       "4    1.2  ...   25.0   1.0   0.0         1      NaN    NaN      NaN   \n",
       "\n",
       "   제3대구치(사랑니)이상   치석   데이터공개일자  \n",
       "0           NaN  1.0  20181126  \n",
       "1           NaN  2.0  20181126  \n",
       "2           NaN  NaN  20181126  \n",
       "3           NaN  0.0  20181126  \n",
       "4           NaN  0.0  20181126  \n",
       "\n",
       "[5 rows x 34 columns]"
      ]
     },
     "execution_count": 5,
     "metadata": {},
     "output_type": "execute_result"
    }
   ],
   "source": [
    "data2017.head()"
   ]
  },
  {
   "cell_type": "code",
   "execution_count": 7,
   "metadata": {},
   "outputs": [
    {
     "data": {
      "text/html": [
       "<div>\n",
       "<style scoped>\n",
       "    .dataframe tbody tr th:only-of-type {\n",
       "        vertical-align: middle;\n",
       "    }\n",
       "\n",
       "    .dataframe tbody tr th {\n",
       "        vertical-align: top;\n",
       "    }\n",
       "\n",
       "    .dataframe thead th {\n",
       "        text-align: right;\n",
       "    }\n",
       "</style>\n",
       "<table border=\"1\" class=\"dataframe\">\n",
       "  <thead>\n",
       "    <tr style=\"text-align: right;\">\n",
       "      <th></th>\n",
       "      <th>기준년도</th>\n",
       "      <th>가입자일련번호</th>\n",
       "      <th>성별코드</th>\n",
       "      <th>연령대코드(5세단위)</th>\n",
       "      <th>시도코드</th>\n",
       "      <th>신장(5Cm단위)</th>\n",
       "      <th>체중(5Kg단위)</th>\n",
       "      <th>허리둘레</th>\n",
       "      <th>시력(좌)</th>\n",
       "      <th>시력(우)</th>\n",
       "      <th>...</th>\n",
       "      <th>감마지티피</th>\n",
       "      <th>흡연상태</th>\n",
       "      <th>음주여부</th>\n",
       "      <th>구강검진수검여부</th>\n",
       "      <th>치아우식증유무</th>\n",
       "      <th>결손치유무</th>\n",
       "      <th>치아마모증유무</th>\n",
       "      <th>제3대구치(사랑니)이상</th>\n",
       "      <th>치석</th>\n",
       "      <th>데이터공개일자</th>\n",
       "    </tr>\n",
       "  </thead>\n",
       "  <tbody>\n",
       "    <tr>\n",
       "      <th>0</th>\n",
       "      <td>2018</td>\n",
       "      <td>1</td>\n",
       "      <td>2</td>\n",
       "      <td>7</td>\n",
       "      <td>48</td>\n",
       "      <td>160</td>\n",
       "      <td>60</td>\n",
       "      <td>79.5</td>\n",
       "      <td>1.5</td>\n",
       "      <td>1.5</td>\n",
       "      <td>...</td>\n",
       "      <td>12.0</td>\n",
       "      <td>1.0</td>\n",
       "      <td>NaN</td>\n",
       "      <td>0</td>\n",
       "      <td>NaN</td>\n",
       "      <td>NaN</td>\n",
       "      <td>NaN</td>\n",
       "      <td>NaN</td>\n",
       "      <td>NaN</td>\n",
       "      <td>20191219</td>\n",
       "    </tr>\n",
       "    <tr>\n",
       "      <th>1</th>\n",
       "      <td>2018</td>\n",
       "      <td>2</td>\n",
       "      <td>1</td>\n",
       "      <td>6</td>\n",
       "      <td>26</td>\n",
       "      <td>170</td>\n",
       "      <td>55</td>\n",
       "      <td>69.3</td>\n",
       "      <td>1.2</td>\n",
       "      <td>0.8</td>\n",
       "      <td>...</td>\n",
       "      <td>47.0</td>\n",
       "      <td>1.0</td>\n",
       "      <td>1.0</td>\n",
       "      <td>1</td>\n",
       "      <td>0.0</td>\n",
       "      <td>NaN</td>\n",
       "      <td>NaN</td>\n",
       "      <td>NaN</td>\n",
       "      <td>0.0</td>\n",
       "      <td>20191219</td>\n",
       "    </tr>\n",
       "    <tr>\n",
       "      <th>2</th>\n",
       "      <td>2018</td>\n",
       "      <td>3</td>\n",
       "      <td>1</td>\n",
       "      <td>12</td>\n",
       "      <td>28</td>\n",
       "      <td>165</td>\n",
       "      <td>70</td>\n",
       "      <td>85.0</td>\n",
       "      <td>0.8</td>\n",
       "      <td>0.8</td>\n",
       "      <td>...</td>\n",
       "      <td>21.0</td>\n",
       "      <td>2.0</td>\n",
       "      <td>1.0</td>\n",
       "      <td>1</td>\n",
       "      <td>0.0</td>\n",
       "      <td>NaN</td>\n",
       "      <td>NaN</td>\n",
       "      <td>NaN</td>\n",
       "      <td>0.0</td>\n",
       "      <td>20191219</td>\n",
       "    </tr>\n",
       "    <tr>\n",
       "      <th>3</th>\n",
       "      <td>2018</td>\n",
       "      <td>4</td>\n",
       "      <td>2</td>\n",
       "      <td>15</td>\n",
       "      <td>27</td>\n",
       "      <td>150</td>\n",
       "      <td>45</td>\n",
       "      <td>71.5</td>\n",
       "      <td>0.4</td>\n",
       "      <td>0.3</td>\n",
       "      <td>...</td>\n",
       "      <td>13.0</td>\n",
       "      <td>1.0</td>\n",
       "      <td>NaN</td>\n",
       "      <td>1</td>\n",
       "      <td>0.0</td>\n",
       "      <td>NaN</td>\n",
       "      <td>NaN</td>\n",
       "      <td>NaN</td>\n",
       "      <td>0.0</td>\n",
       "      <td>20191219</td>\n",
       "    </tr>\n",
       "    <tr>\n",
       "      <th>4</th>\n",
       "      <td>2018</td>\n",
       "      <td>5</td>\n",
       "      <td>2</td>\n",
       "      <td>14</td>\n",
       "      <td>41</td>\n",
       "      <td>145</td>\n",
       "      <td>50</td>\n",
       "      <td>77.0</td>\n",
       "      <td>0.7</td>\n",
       "      <td>0.6</td>\n",
       "      <td>...</td>\n",
       "      <td>12.0</td>\n",
       "      <td>1.0</td>\n",
       "      <td>1.0</td>\n",
       "      <td>0</td>\n",
       "      <td>NaN</td>\n",
       "      <td>NaN</td>\n",
       "      <td>NaN</td>\n",
       "      <td>NaN</td>\n",
       "      <td>NaN</td>\n",
       "      <td>20191219</td>\n",
       "    </tr>\n",
       "  </tbody>\n",
       "</table>\n",
       "<p>5 rows × 34 columns</p>\n",
       "</div>"
      ],
      "text/plain": [
       "   기준년도  가입자일련번호  성별코드  연령대코드(5세단위)  시도코드  신장(5Cm단위)  체중(5Kg단위)  허리둘레  시력(좌)  \\\n",
       "0  2018        1     2            7    48        160         60  79.5    1.5   \n",
       "1  2018        2     1            6    26        170         55  69.3    1.2   \n",
       "2  2018        3     1           12    28        165         70  85.0    0.8   \n",
       "3  2018        4     2           15    27        150         45  71.5    0.4   \n",
       "4  2018        5     2           14    41        145         50  77.0    0.7   \n",
       "\n",
       "   시력(우)  ...  감마지티피  흡연상태  음주여부  구강검진수검여부  치아우식증유무  결손치유무  치아마모증유무  \\\n",
       "0    1.5  ...   12.0   1.0   NaN         0      NaN    NaN      NaN   \n",
       "1    0.8  ...   47.0   1.0   1.0         1      0.0    NaN      NaN   \n",
       "2    0.8  ...   21.0   2.0   1.0         1      0.0    NaN      NaN   \n",
       "3    0.3  ...   13.0   1.0   NaN         1      0.0    NaN      NaN   \n",
       "4    0.6  ...   12.0   1.0   1.0         0      NaN    NaN      NaN   \n",
       "\n",
       "   제3대구치(사랑니)이상   치석   데이터공개일자  \n",
       "0           NaN  NaN  20191219  \n",
       "1           NaN  0.0  20191219  \n",
       "2           NaN  0.0  20191219  \n",
       "3           NaN  0.0  20191219  \n",
       "4           NaN  NaN  20191219  \n",
       "\n",
       "[5 rows x 34 columns]"
      ]
     },
     "execution_count": 7,
     "metadata": {},
     "output_type": "execute_result"
    }
   ],
   "source": [
    "data2018.head()"
   ]
  },
  {
   "cell_type": "code",
   "execution_count": 8,
   "metadata": {},
   "outputs": [
    {
     "data": {
      "text/plain": [
       "1000000"
      ]
     },
     "execution_count": 8,
     "metadata": {},
     "output_type": "execute_result"
    }
   ],
   "source": [
    "len(data2017)"
   ]
  },
  {
   "cell_type": "code",
   "execution_count": 18,
   "metadata": {},
   "outputs": [
    {
     "data": {
      "text/plain": [
       "1000000"
      ]
     },
     "execution_count": 18,
     "metadata": {},
     "output_type": "execute_result"
    }
   ],
   "source": [
    "len(data2018)"
   ]
  },
  {
   "cell_type": "code",
   "execution_count": 44,
   "metadata": {},
   "outputs": [],
   "source": [
    "data2017 = data2017[['(혈청지오티)AST','(혈청지오티)ALT', '감마지티피']]\n",
    "data2018 = data2018[['(혈청지오티)AST','(혈청지오티)ALT', '감마지티피']]"
   ]
  },
  {
   "cell_type": "code",
   "execution_count": 21,
   "metadata": {},
   "outputs": [
    {
     "data": {
      "text/html": [
       "<div>\n",
       "<style scoped>\n",
       "    .dataframe tbody tr th:only-of-type {\n",
       "        vertical-align: middle;\n",
       "    }\n",
       "\n",
       "    .dataframe tbody tr th {\n",
       "        vertical-align: top;\n",
       "    }\n",
       "\n",
       "    .dataframe thead th {\n",
       "        text-align: right;\n",
       "    }\n",
       "</style>\n",
       "<table border=\"1\" class=\"dataframe\">\n",
       "  <thead>\n",
       "    <tr style=\"text-align: right;\">\n",
       "      <th></th>\n",
       "      <th>(혈청지오티)AST</th>\n",
       "      <th>(혈청지오티)ALT</th>\n",
       "      <th>감마지티피</th>\n",
       "    </tr>\n",
       "  </thead>\n",
       "  <tbody>\n",
       "    <tr>\n",
       "      <th>0</th>\n",
       "      <td>21.0</td>\n",
       "      <td>35.0</td>\n",
       "      <td>40.0</td>\n",
       "    </tr>\n",
       "    <tr>\n",
       "      <th>1</th>\n",
       "      <td>20.0</td>\n",
       "      <td>36.0</td>\n",
       "      <td>27.0</td>\n",
       "    </tr>\n",
       "    <tr>\n",
       "      <th>2</th>\n",
       "      <td>47.0</td>\n",
       "      <td>32.0</td>\n",
       "      <td>68.0</td>\n",
       "    </tr>\n",
       "    <tr>\n",
       "      <th>3</th>\n",
       "      <td>29.0</td>\n",
       "      <td>34.0</td>\n",
       "      <td>18.0</td>\n",
       "    </tr>\n",
       "    <tr>\n",
       "      <th>4</th>\n",
       "      <td>19.0</td>\n",
       "      <td>12.0</td>\n",
       "      <td>25.0</td>\n",
       "    </tr>\n",
       "  </tbody>\n",
       "</table>\n",
       "</div>"
      ],
      "text/plain": [
       "   (혈청지오티)AST  (혈청지오티)ALT  감마지티피\n",
       "0        21.0        35.0   40.0\n",
       "1        20.0        36.0   27.0\n",
       "2        47.0        32.0   68.0\n",
       "3        29.0        34.0   18.0\n",
       "4        19.0        12.0   25.0"
      ]
     },
     "execution_count": 21,
     "metadata": {},
     "output_type": "execute_result"
    }
   ],
   "source": [
    "data2017.head()"
   ]
  },
  {
   "cell_type": "code",
   "execution_count": 22,
   "metadata": {
    "scrolled": true
   },
   "outputs": [
    {
     "data": {
      "text/html": [
       "<div>\n",
       "<style scoped>\n",
       "    .dataframe tbody tr th:only-of-type {\n",
       "        vertical-align: middle;\n",
       "    }\n",
       "\n",
       "    .dataframe tbody tr th {\n",
       "        vertical-align: top;\n",
       "    }\n",
       "\n",
       "    .dataframe thead th {\n",
       "        text-align: right;\n",
       "    }\n",
       "</style>\n",
       "<table border=\"1\" class=\"dataframe\">\n",
       "  <thead>\n",
       "    <tr style=\"text-align: right;\">\n",
       "      <th></th>\n",
       "      <th>(혈청지오티)AST</th>\n",
       "      <th>(혈청지오티)ALT</th>\n",
       "      <th>감마지티피</th>\n",
       "    </tr>\n",
       "  </thead>\n",
       "  <tbody>\n",
       "    <tr>\n",
       "      <th>0</th>\n",
       "      <td>21.0</td>\n",
       "      <td>8.0</td>\n",
       "      <td>12.0</td>\n",
       "    </tr>\n",
       "    <tr>\n",
       "      <th>1</th>\n",
       "      <td>35.0</td>\n",
       "      <td>45.0</td>\n",
       "      <td>47.0</td>\n",
       "    </tr>\n",
       "    <tr>\n",
       "      <th>2</th>\n",
       "      <td>77.0</td>\n",
       "      <td>47.0</td>\n",
       "      <td>21.0</td>\n",
       "    </tr>\n",
       "    <tr>\n",
       "      <th>3</th>\n",
       "      <td>19.0</td>\n",
       "      <td>10.0</td>\n",
       "      <td>13.0</td>\n",
       "    </tr>\n",
       "    <tr>\n",
       "      <th>4</th>\n",
       "      <td>26.0</td>\n",
       "      <td>26.0</td>\n",
       "      <td>12.0</td>\n",
       "    </tr>\n",
       "  </tbody>\n",
       "</table>\n",
       "</div>"
      ],
      "text/plain": [
       "   (혈청지오티)AST  (혈청지오티)ALT  감마지티피\n",
       "0        21.0         8.0   12.0\n",
       "1        35.0        45.0   47.0\n",
       "2        77.0        47.0   21.0\n",
       "3        19.0        10.0   13.0\n",
       "4        26.0        26.0   12.0"
      ]
     },
     "execution_count": 22,
     "metadata": {},
     "output_type": "execute_result"
    }
   ],
   "source": [
    "data2018.head()"
   ]
  },
  {
   "cell_type": "markdown",
   "metadata": {},
   "source": [
    "## Null값 개수 확인"
   ]
  },
  {
   "cell_type": "code",
   "execution_count": 23,
   "metadata": {},
   "outputs": [
    {
     "data": {
      "text/plain": [
       "(혈청지오티)AST    41\n",
       "(혈청지오티)ALT    42\n",
       "감마지티피         42\n",
       "dtype: int64"
      ]
     },
     "execution_count": 23,
     "metadata": {},
     "output_type": "execute_result"
    }
   ],
   "source": [
    "data2017.isnull().sum()"
   ]
  },
  {
   "cell_type": "code",
   "execution_count": 24,
   "metadata": {},
   "outputs": [
    {
     "data": {
      "text/plain": [
       "(혈청지오티)AST    5906\n",
       "(혈청지오티)ALT    5906\n",
       "감마지티피         5909\n",
       "dtype: int64"
      ]
     },
     "execution_count": 24,
     "metadata": {},
     "output_type": "execute_result"
    }
   ],
   "source": [
    "data2018.isnull().sum()"
   ]
  },
  {
   "cell_type": "markdown",
   "metadata": {},
   "source": [
    "2017년 데이터에 비해 2018년 데이터가 더 많은 null 값을 가지는 것으로 나타남."
   ]
  },
  {
   "cell_type": "markdown",
   "metadata": {},
   "source": [
    "## 각 항목별 최대, 최소, 평균값"
   ]
  },
  {
   "cell_type": "markdown",
   "metadata": {},
   "source": [
    "### (혈청지오티)AST"
   ]
  },
  {
   "cell_type": "code",
   "execution_count": 33,
   "metadata": {},
   "outputs": [
    {
     "name": "stdout",
     "output_type": "stream",
     "text": [
      "2017년 (혈청지오티)AST 최댓값 : 9999.0\n",
      "2017년 (혈청지오티)AST 최솟값 : 1.0\n",
      "2017년 (혈청지오티)AST 평균값 : 25.99467078150204\n"
     ]
    }
   ],
   "source": [
    "print(\"2017년 (혈청지오티)AST 최댓값 :\",data2017['(혈청지오티)AST'].max())\n",
    "print(\"2017년 (혈청지오티)AST 최솟값 :\",data2017['(혈청지오티)AST'].min())\n",
    "print(\"2017년 (혈청지오티)AST 평균값 :\",data2017['(혈청지오티)AST'].mean())"
   ]
  },
  {
   "cell_type": "code",
   "execution_count": 29,
   "metadata": {},
   "outputs": [
    {
     "name": "stdout",
     "output_type": "stream",
     "text": [
      "2018년 (혈청지오티)AST 최댓값 : 9999.0\n",
      "2018년 (혈청지오티)AST 최솟값 : 1.0\n",
      "2018년 (혈청지오티)AST 평균값 : 26.301625399610096\n"
     ]
    }
   ],
   "source": [
    "print(\"2018년 (혈청지오티)AST 최댓값 :\",data2018['(혈청지오티)AST'].max())\n",
    "print(\"2018년 (혈청지오티)AST 최솟값 :\",data2018['(혈청지오티)AST'].min())\n",
    "print(\"2018년 (혈청지오티)AST 평균값 :\",data2018['(혈청지오티)AST'].mean())"
   ]
  },
  {
   "cell_type": "markdown",
   "metadata": {},
   "source": [
    "(혈청지오티)AST 의 정상치는 0~40IU/L 이다. 따라서 평균값은 적당한 값이 나왔음을 알 수 있다.\n"
   ]
  },
  {
   "cell_type": "markdown",
   "metadata": {},
   "source": [
    "하지만 최댓값과 9999.0와 같이 평균값과 많은 차이를 가진 것은 매우 비정상적이다. 이와 같은 비정상 수치들을 잘 걸러낼 필요가 있어 보임. (급성 간염에 걸리더라도 2000정도까지만 상승한다고 한다.)"
   ]
  },
  {
   "cell_type": "code",
   "execution_count": 80,
   "metadata": {
    "scrolled": false
   },
   "outputs": [
    {
     "name": "stdout",
     "output_type": "stream",
     "text": [
      "        (혈청지오티)AST  (혈청지오티)ALT  감마지티피\n",
      "265579      2318.0         NaN   15.0\n",
      "518025      3742.0      2088.0  378.0\n",
      "529305      3440.0      3517.0  404.0\n",
      "541757      9999.0       380.0  419.0\n",
      "648479      7000.0      3307.0  280.0\n",
      "666812      3235.0         4.0   74.0\n",
      "811481      7000.0      3807.0  429.0\n",
      "888190      2670.0      1522.0  213.0\n",
      "\n",
      "        (혈청지오티)AST  (혈청지오티)ALT  감마지티피\n",
      "60027       3854.0      1184.0  377.0\n",
      "88025       5757.0        52.0  235.0\n",
      "253089      3382.0      1968.0  510.0\n",
      "367490      7931.0      5896.0  408.0\n",
      "500790      2454.0      1163.0  188.0\n",
      "516382      2820.0      1276.0  211.0\n",
      "550385      6680.0      3560.0  186.0\n",
      "605705      9999.0        15.0  232.0\n",
      "716765      3271.0      1514.0  258.0\n",
      "718178      5952.0      3832.0  258.0\n",
      "796653      3085.0      2330.0  730.0\n",
      "822998      2996.0      3160.0  392.0\n",
      "893532      3260.0      3150.0  179.0\n"
     ]
    }
   ],
   "source": [
    "print(data2017[data2017['(혈청지오티)AST'] > 2000], end=\"\\n\\n\")\n",
    "\n",
    "print(data2018[data2018['(혈청지오티)AST'] > 2000])"
   ]
  },
  {
   "cell_type": "markdown",
   "metadata": {},
   "source": [
    "생각보다 2000을 넘는 수치가 많지 않다... 2017년 2018년 각각 8개, 13개 정도..?"
   ]
  },
  {
   "cell_type": "code",
   "execution_count": 115,
   "metadata": {},
   "outputs": [
    {
     "name": "stdout",
     "output_type": "stream",
     "text": [
      "        (혈청지오티)AST  (혈청지오티)ALT  감마지티피\n",
      "2             47.0        32.0   68.0\n",
      "11            48.0        51.0   42.0\n",
      "18            41.0        51.0   60.0\n",
      "29            43.0        45.0   12.0\n",
      "62            41.0        45.0   25.0\n",
      "...            ...         ...    ...\n",
      "999914        43.0        73.0   50.0\n",
      "999927        45.0        95.0   75.0\n",
      "999939       185.0        68.0  667.0\n",
      "999959        51.0        55.0   32.0\n",
      "999982        50.0        63.0   31.0\n",
      "\n",
      "[73498 rows x 3 columns]\n",
      "\n",
      "        (혈청지오티)AST  (혈청지오티)ALT  감마지티피\n",
      "2             77.0        47.0   21.0\n",
      "6            101.0        26.0  446.0\n",
      "37            78.0        63.0  386.0\n",
      "44            52.0        77.0   31.0\n",
      "57            42.0       119.0   22.0\n",
      "...            ...         ...    ...\n",
      "999908        49.0        50.0   86.0\n",
      "999918        62.0        71.0   91.0\n",
      "999938        43.0        36.0   20.0\n",
      "999971        51.0       101.0   80.0\n",
      "999979        65.0       127.0   64.0\n",
      "\n",
      "[77226 rows x 3 columns]\n"
     ]
    }
   ],
   "source": [
    "print(data2017[data2017['(혈청지오티)AST'] > 40], end=\"\\n\\n\")\n",
    "\n",
    "print(data2018[data2018['(혈청지오티)AST'] > 40])"
   ]
  },
  {
   "cell_type": "markdown",
   "metadata": {},
   "source": [
    "정상치 0~40IU/L 의 기준으로 파악해 보았을 때, 정상치보다 높은 수치를 가진 사람은 각각 70000명 정도로 파악된다."
   ]
  },
  {
   "cell_type": "code",
   "execution_count": 92,
   "metadata": {},
   "outputs": [
    {
     "data": {
      "image/png": "[encoded data removed]",
      "text/plain": [
       "<Figure size 1440x720 with 2 Axes>"
      ]
     },
     "metadata": {
      "image/png": {
       "height": 604,
       "width": 1267
      },
      "needs_background": "light"
     },
     "output_type": "display_data"
    }
   ],
   "source": [
    "f, ax = plt.subplots(1,2, figsize=(20,10))\n",
    "sns.boxplot(x=\"(혈청지오티)AST\", data=data2017, ax=ax[0])\n",
    "ax[0].set_title('2017 혈청지오티_AST 수치')\n",
    "sns.boxplot(x=\"(혈청지오티)AST\", data=data2018, ax=ax[1])\n",
    "ax[1].set_title('2018 혈청지오티_AST 수치')\n",
    "plt.show()"
   ]
  },
  {
   "cell_type": "markdown",
   "metadata": {},
   "source": [
    "### (혈청지오티)AST 와 지방간, 당뇨"
   ]
  },
  {
   "cell_type": "markdown",
   "metadata": {},
   "source": [
    "수치가 정상치보다 2~3배 높으면 지방간을 의심, 지방간을 가진 환자의 30%가 당뇨병 발생 확률을 갖는다.\n",
    "\n",
    "*일단 정상치보다 3배 높은 120 IU/L 수치로 지방간인지 아닌지 판단해보긴 했음*"
   ]
  },
  {
   "cell_type": "code",
   "execution_count": 154,
   "metadata": {
    "scrolled": true
   },
   "outputs": [
    {
     "name": "stdout",
     "output_type": "stream",
     "text": [
      "2017 지방간 인원:  3364\n",
      "2017 당뇨병 발병률 0.10092000000000001 %\n",
      "2018 지방간 인원:  3537\n",
      "2018 당뇨병 발병률 0.10611 %\n"
     ]
    }
   ],
   "source": [
    "print(\"2017 지방간 인원: \" ,len(data2017[data2017['(혈청지오티)AST'] > 120]))\n",
    "print(\"2017 당뇨병 발병률\", len(data2017[data2017['(혈청지오티)AST'] > 120]) * 0.3 / len(data2017) * 100,\"%\")\n",
    "print(\"2018 지방간 인원: \" ,len(data2018[data2018['(혈청지오티)AST'] > 120]))\n",
    "print(\"2018 당뇨병 발병률\", len(data2018[data2018['(혈청지오티)AST'] > 120]) * 0.3 / len(data2018) * 100,\"%\")"
   ]
  },
  {
   "cell_type": "markdown",
   "metadata": {},
   "source": [
    "### (혈청지오티)ALT"
   ]
  },
  {
   "cell_type": "code",
   "execution_count": 35,
   "metadata": {},
   "outputs": [
    {
     "name": "stdout",
     "output_type": "stream",
     "text": [
      "2017년 (혈청지오티)ALT 최댓값 : 7210.0\n",
      "2017년 (혈청지오티)ALT 최솟값 : 1.0\n",
      "2017년 (혈청지오티)ALT 평균값 : 25.749509479398135\n"
     ]
    }
   ],
   "source": [
    "print(\"2017년 (혈청지오티)ALT 최댓값 :\",data2017['(혈청지오티)ALT'].max())\n",
    "print(\"2017년 (혈청지오티)ALT 최솟값 :\",data2017['(혈청지오티)ALT'].min())\n",
    "print(\"2017년 (혈청지오티)ALT 평균값 :\",data2017['(혈청지오티)ALT'].mean())"
   ]
  },
  {
   "cell_type": "code",
   "execution_count": 36,
   "metadata": {},
   "outputs": [
    {
     "name": "stdout",
     "output_type": "stream",
     "text": [
      "2018년 (혈청지오티)ALT 최댓값 : 5896.0\n",
      "2018년 (혈청지오티)ALT 최솟값 : 1.0\n",
      "2018년 (혈청지오티)ALT 평균값 : 26.287882232464938\n"
     ]
    }
   ],
   "source": [
    "print(\"2018년 (혈청지오티)ALT 최댓값 :\",data2018['(혈청지오티)ALT'].max())\n",
    "print(\"2018년 (혈청지오티)ALT 최솟값 :\",data2018['(혈청지오티)ALT'].min())\n",
    "print(\"2018년 (혈청지오티)ALT 평균값 :\",data2018['(혈청지오티)ALT'].mean())"
   ]
  },
  {
   "cell_type": "markdown",
   "metadata": {},
   "source": [
    "(혈청지오티)ALT 또한 평균값은 적당하지만 최댓값 수치가 비정상적으로 높다. "
   ]
  },
  {
   "cell_type": "code",
   "execution_count": 81,
   "metadata": {},
   "outputs": [
    {
     "name": "stdout",
     "output_type": "stream",
     "text": [
      "        (혈청지오티)AST  (혈청지오티)ALT  감마지티피\n",
      "26464        924.0      2309.0  169.0\n",
      "48706       1870.0      2080.0  889.0\n",
      "323341        21.0      2535.0   35.0\n",
      "402198        82.0      2030.0  358.0\n",
      "518025      3742.0      2088.0  378.0\n",
      "529305      3440.0      3517.0  404.0\n",
      "614490      1052.0      7210.0  270.0\n",
      "648479      7000.0      3307.0  280.0\n",
      "721071      1377.0      2273.0  345.0\n",
      "728925       860.0      2530.0  290.0\n",
      "811481      7000.0      3807.0  429.0\n",
      "815679        43.0      4633.0    9.0\n",
      "857290        40.0      2981.0   38.0\n",
      "929832       827.0      2277.0  937.0\n",
      "937956      1962.0      2698.0  953.0\n",
      "995323       753.0      2059.0  174.0\n",
      "\n",
      "        (혈청지오티)AST  (혈청지오티)ALT  감마지티피\n",
      "306          314.0      2850.0  207.0\n",
      "69227       1311.0      2062.0  103.0\n",
      "181523      1244.0      2014.0  185.0\n",
      "315329      1193.0      2683.0  127.0\n",
      "334084      1984.0      2004.0  161.0\n",
      "367490      7931.0      5896.0  408.0\n",
      "372097      1458.0      2129.0  241.0\n",
      "550385      6680.0      3560.0  186.0\n",
      "583762      1278.0      2436.0  290.0\n",
      "666646       820.0      2185.0  259.0\n",
      "707151        29.0      3975.0   75.0\n",
      "709560        31.0      2914.0    2.0\n",
      "718178      5952.0      3832.0  258.0\n",
      "795992        37.0      3720.0   14.0\n",
      "796653      3085.0      2330.0  730.0\n",
      "822998      2996.0      3160.0  392.0\n",
      "893532      3260.0      3150.0  179.0\n",
      "900180        18.0      2030.0   30.0\n"
     ]
    }
   ],
   "source": [
    "print(data2017[data2017['(혈청지오티)ALT'] > 2000], end=\"\\n\\n\")\n",
    "\n",
    "print(data2018[data2018['(혈청지오티)ALT'] > 2000])"
   ]
  },
  {
   "cell_type": "markdown",
   "metadata": {},
   "source": [
    "(혈청지오티)ALT 수치도 2000을 넘는 수치가 많지 않다. "
   ]
  },
  {
   "cell_type": "code",
   "execution_count": 96,
   "metadata": {},
   "outputs": [
    {
     "name": "stdout",
     "output_type": "stream",
     "text": [
      "        (혈청지오티)AST  (혈청지오티)ALT  감마지티피\n",
      "11            48.0        51.0   42.0\n",
      "18            41.0        51.0   60.0\n",
      "26            39.0        43.0   29.0\n",
      "29            43.0        45.0   12.0\n",
      "30            25.0        46.0   53.0\n",
      "...            ...         ...    ...\n",
      "999977        30.0        56.0   37.0\n",
      "999978        17.0        62.0   23.0\n",
      "999982        50.0        63.0   31.0\n",
      "999985        36.0        43.0   18.0\n",
      "999999        24.0        43.0   36.0\n",
      "\n",
      "[124569 rows x 3 columns]\n",
      "\n",
      "        (혈청지오티)AST  (혈청지오티)ALT  감마지티피\n",
      "1             35.0        45.0   47.0\n",
      "2             77.0        47.0   21.0\n",
      "13            34.0        81.0   76.0\n",
      "25            19.0        53.0  149.0\n",
      "26            35.0        65.0  158.0\n",
      "...            ...         ...    ...\n",
      "999959        31.0        63.0   45.0\n",
      "999971        51.0       101.0   80.0\n",
      "999977        36.0        44.0   55.0\n",
      "999979        65.0       127.0   64.0\n",
      "999989        35.0        59.0   28.0\n",
      "\n",
      "[130842 rows x 3 columns]\n"
     ]
    }
   ],
   "source": [
    "print(data2017[data2017['(혈청지오티)ALT'] > 40], end=\"\\n\\n\")\n",
    "\n",
    "print(data2018[data2018['(혈청지오티)ALT'] > 40])"
   ]
  },
  {
   "cell_type": "markdown",
   "metadata": {},
   "source": [
    "마찬가지로 정상치 0 ~ 40 IU/L 의 기준으로 파악해 보았을 때, 정상치보다 높은 수치를 가진 사람은 각각 120000~130000명 정도로 2017년도 데이터 보다 더 많다."
   ]
  },
  {
   "cell_type": "code",
   "execution_count": 93,
   "metadata": {},
   "outputs": [
    {
     "data": {
      "image/png": "[encoded data removed]",
      "text/plain": [
       "<Figure size 1440x720 with 2 Axes>"
      ]
     },
     "metadata": {
      "image/png": {
       "height": 604,
       "width": 1267
      },
      "needs_background": "light"
     },
     "output_type": "display_data"
    }
   ],
   "source": [
    "f, ax = plt.subplots(1,2, figsize=(20,10))\n",
    "sns.boxplot(x=\"(혈청지오티)ALT\", data=data2017, ax=ax[0])\n",
    "ax[0].set_title('2017 혈청지오티_ALT 수치')\n",
    "sns.boxplot(x=\"(혈청지오티)ALT\", data=data2018, ax=ax[1])\n",
    "ax[1].set_title('2018 혈청지오티_ALT 수치')\n",
    "plt.show()"
   ]
  },
  {
   "cell_type": "markdown",
   "metadata": {},
   "source": [
    "### (혈청지오티)ALT 와 지방간, 당뇨"
   ]
  },
  {
   "cell_type": "markdown",
   "metadata": {},
   "source": [
    "수치가 정상치보다 2~3배 높으면 지방간을 의심, 지방간을 가진 환자의 30%가 당뇨병 발생 확률을 갖는다.\n",
    "\n",
    "AST와 마찬가지로 120 IU/L 수치로 지방간인지 아닌지 판단"
   ]
  },
  {
   "cell_type": "code",
   "execution_count": 155,
   "metadata": {
    "scrolled": true
   },
   "outputs": [
    {
     "name": "stdout",
     "output_type": "stream",
     "text": [
      "2017 지방간 인원:  6810\n",
      "2017 당뇨병 발병률 0.2043 %\n",
      "2018 지방간 인원:  7199\n",
      "2018 당뇨병 발병률 0.21596999999999997 %\n"
     ]
    }
   ],
   "source": [
    "print(\"2017 지방간 인원: \" ,len(data2017[data2017['(혈청지오티)ALT'] > 120]))\n",
    "print(\"2017 당뇨병 발병률\", len(data2017[data2017['(혈청지오티)ALT'] > 120]) * 0.3 / len(data2017) * 100, \"%\")\n",
    "print(\"2018 지방간 인원: \" ,len(data2018[data2018['(혈청지오티)ALT'] > 120]))\n",
    "print(\"2018 당뇨병 발병률\", len(data2018[data2018['(혈청지오티)ALT'] > 120]) * 0.3 / len(data2018) * 100, \"%\")"
   ]
  },
  {
   "cell_type": "markdown",
   "metadata": {},
   "source": [
    "### 감마지티피"
   ]
  },
  {
   "cell_type": "code",
   "execution_count": 37,
   "metadata": {},
   "outputs": [
    {
     "name": "stdout",
     "output_type": "stream",
     "text": [
      "2017년 감마지티피 최댓값 : 999.0\n",
      "2017년 감마지티피 최솟값 : 1.0\n",
      "2017년 감마지티피 평균값 : 37.184272739455054\n"
     ]
    }
   ],
   "source": [
    "print(\"2017년 감마지티피 최댓값 :\",data2017['감마지티피'].max())\n",
    "print(\"2017년 감마지티피 최솟값 :\",data2017['감마지티피'].min())\n",
    "print(\"2017년 감마지티피 평균값 :\",data2017['감마지티피'].mean())"
   ]
  },
  {
   "cell_type": "code",
   "execution_count": 38,
   "metadata": {},
   "outputs": [
    {
     "name": "stdout",
     "output_type": "stream",
     "text": [
      "2018년 감마지티피 최댓값 : 999.0\n",
      "2018년 감마지티피 최솟값 : 1.0\n",
      "2018년 감마지티피 평균값 : 37.607043017188566\n"
     ]
    }
   ],
   "source": [
    "print(\"2018년 감마지티피 최댓값 :\",data2018['감마지티피'].max())\n",
    "print(\"2018년 감마지티피 최솟값 :\",data2018['감마지티피'].min())\n",
    "print(\"2018년 감마지티피 평균값 :\",data2018['감마지티피'].mean())"
   ]
  },
  {
   "cell_type": "markdown",
   "metadata": {},
   "source": [
    "감마지티피의 정상치는 남성이 11 ~ 63IU/L, 여성이 8 ~ 35IU/L 이다.\n",
    "\n",
    "수치가 600 이상일 경우 알코올성 간장애, 황달, 간암 등과 같은 심각한 질병이 발병한다고 한다. 999 정도로 큰 수치는 처리해야할 것 같음."
   ]
  },
  {
   "cell_type": "code",
   "execution_count": 118,
   "metadata": {},
   "outputs": [
    {
     "name": "stdout",
     "output_type": "stream",
     "text": [
      "감마지티피 2017 남자 통계\n",
      "count    530391.000000\n",
      "mean         49.445130\n",
      "std          61.292601\n",
      "min           1.000000\n",
      "25%          21.000000\n",
      "50%          32.000000\n",
      "75%          54.000000\n",
      "max         999.000000\n",
      "Name: 감마지티피, dtype: float64\n",
      "\n",
      "감마지티피 2017 여자 통계\n",
      "count    469567.000000\n",
      "mean         23.335241\n",
      "std          29.199560\n",
      "min           1.000000\n",
      "25%          13.000000\n",
      "50%          17.000000\n",
      "75%          24.000000\n",
      "max         999.000000\n",
      "Name: 감마지티피, dtype: float64\n",
      "\n"
     ]
    }
   ],
   "source": [
    "gtp2017 = pd.read_csv('NHIS_OPEN_GJ_2017_100.csv',encoding='euc-kr')\n",
    "gtp2017 = gtp2017[['성별코드','(혈청지오티)AST','(혈청지오티)ALT', '감마지티피']]\n",
    "man2017 = gtp2017[gtp2017['성별코드'] == 1]['감마지티피']\n",
    "woman2017 = gtp2017[gtp2017['성별코드'] == 2]['감마지티피']\n",
    "\n",
    "print(\"감마지티피 2017 남자 통계\")\n",
    "print(man2017.describe(), end=\"\\n\\n\")\n",
    "\n",
    "print(\"감마지티피 2017 여자 통계\")\n",
    "print(woman2017.describe(), end=\"\\n\\n\")\n"
   ]
  },
  {
   "cell_type": "code",
   "execution_count": 119,
   "metadata": {},
   "outputs": [
    {
     "name": "stdout",
     "output_type": "stream",
     "text": [
      "감마지티피 2018 남자 통계\n",
      "count    533597.000000\n",
      "mean         49.691372\n",
      "std          61.235152\n",
      "min           1.000000\n",
      "25%          22.000000\n",
      "50%          32.000000\n",
      "75%          54.000000\n",
      "max         999.000000\n",
      "Name: 감마지티피, dtype: float64\n",
      "\n",
      "감마지티피 2018 여자 통계\n",
      "count    460494.000000\n",
      "mean         23.604338\n",
      "std          28.606503\n",
      "min           1.000000\n",
      "25%          13.000000\n",
      "50%          17.000000\n",
      "75%          25.000000\n",
      "max         999.000000\n",
      "Name: 감마지티피, dtype: float64\n",
      "\n"
     ]
    }
   ],
   "source": [
    "gtp2018 = pd.read_csv('NHIS_OPEN_GJ_2018_100.csv')\n",
    "gtp2018 = gtp2018[['성별코드','(혈청지오티)AST','(혈청지오티)ALT', '감마지티피']]\n",
    "\n",
    "man2018 = gtp2018[gtp2018['성별코드'] == 1]['감마지티피']\n",
    "woman2018 = gtp2018[gtp2018['성별코드'] == 2]['감마지티피']\n",
    "\n",
    "print(\"감마지티피 2018 남자 통계\")\n",
    "print(man2018.describe(), end=\"\\n\\n\")\n",
    "\n",
    "print(\"감마지티피 2018 여자 통계\")\n",
    "print(woman2018.describe(), end=\"\\n\\n\")\n",
    "\n"
   ]
  },
  {
   "cell_type": "markdown",
   "metadata": {},
   "source": [
    "남자, 여자 별 통계를 간단히 살펴보았다. 평균값은 적당하지만 최댓값 수치가 높다."
   ]
  },
  {
   "cell_type": "code",
   "execution_count": 94,
   "metadata": {},
   "outputs": [
    {
     "data": {
      "image/png": "[encoded data removed]",
      "text/plain": [
       "<Figure size 1440x720 with 2 Axes>"
      ]
     },
     "metadata": {
      "image/png": {
       "height": 604,
       "width": 1267
      },
      "needs_background": "light"
     },
     "output_type": "display_data"
    }
   ],
   "source": [
    "f, ax = plt.subplots(1,2, figsize=(20,10))\n",
    "sns.boxplot(x=\"감마지티피\", data=data2017, ax=ax[0])\n",
    "ax[0].set_title('2017 감마지티피 수치')\n",
    "sns.boxplot(x=\"감마지티피\", data=data2018, ax=ax[1])\n",
    "ax[1].set_title('2018 감마지티피 수치')\n",
    "plt.show()"
   ]
  },
  {
   "cell_type": "code",
   "execution_count": null,
   "metadata": {},
   "outputs": [],
   "source": []
  }
 ],
 "metadata": {
  "kernelspec": {
   "display_name": "Python 3",
   "language": "python",
   "name": "python3"
  },
  "language_info": {
   "codemirror_mode": {
    "name": "ipython",
    "version": 3
   },
   "file_extension": ".py",
   "mimetype": "text/x-python",
   "name": "python",
   "nbconvert_exporter": "python",
   "pygments_lexer": "ipython3",
   "version": "3.8.5"
  }
 },
 "nbformat": 4,
 "nbformat_minor": 4
}
